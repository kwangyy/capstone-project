{
 "cells": [
  {
   "cell_type": "code",
   "execution_count": 2,
   "metadata": {},
   "outputs": [],
   "source": [
    "import numpy as np \n",
    "import pandas as pd \n",
    "import matplotlib.pyplot as plt \n",
    "import seaborn as sns \n",
    "\n",
    "%matplotlib inline"
   ]
  },
  {
   "cell_type": "markdown",
   "metadata": {},
   "source": [
    "This is a project on predicting whether or not customers will subscribe to a bank term deposit.\n",
    "\n",
    "This notebook contains the preprocessing and the training part of the project.\n",
    "\n",
    "The problem and the data is specified on the README.md! "
   ]
  },
  {
   "cell_type": "code",
   "execution_count": 3,
   "metadata": {},
   "outputs": [
    {
     "data": {
      "text/html": [
       "<div>\n",
       "<style scoped>\n",
       "    .dataframe tbody tr th:only-of-type {\n",
       "        vertical-align: middle;\n",
       "    }\n",
       "\n",
       "    .dataframe tbody tr th {\n",
       "        vertical-align: top;\n",
       "    }\n",
       "\n",
       "    .dataframe thead th {\n",
       "        text-align: right;\n",
       "    }\n",
       "</style>\n",
       "<table border=\"1\" class=\"dataframe\">\n",
       "  <thead>\n",
       "    <tr style=\"text-align: right;\">\n",
       "      <th></th>\n",
       "      <th>age</th>\n",
       "      <th>job</th>\n",
       "      <th>marital</th>\n",
       "      <th>education</th>\n",
       "      <th>default</th>\n",
       "      <th>housing</th>\n",
       "      <th>loan</th>\n",
       "      <th>contact</th>\n",
       "      <th>month</th>\n",
       "      <th>day_of_week</th>\n",
       "      <th>...</th>\n",
       "      <th>campaign</th>\n",
       "      <th>pdays</th>\n",
       "      <th>previous</th>\n",
       "      <th>poutcome</th>\n",
       "      <th>emp.var.rate</th>\n",
       "      <th>cons.price.idx</th>\n",
       "      <th>cons.conf.idx</th>\n",
       "      <th>euribor3m</th>\n",
       "      <th>nr.employed</th>\n",
       "      <th>y</th>\n",
       "    </tr>\n",
       "  </thead>\n",
       "  <tbody>\n",
       "    <tr>\n",
       "      <th>0</th>\n",
       "      <td>56</td>\n",
       "      <td>housemaid</td>\n",
       "      <td>married</td>\n",
       "      <td>basic.4y</td>\n",
       "      <td>no</td>\n",
       "      <td>no</td>\n",
       "      <td>no</td>\n",
       "      <td>telephone</td>\n",
       "      <td>may</td>\n",
       "      <td>mon</td>\n",
       "      <td>...</td>\n",
       "      <td>1</td>\n",
       "      <td>999</td>\n",
       "      <td>0</td>\n",
       "      <td>nonexistent</td>\n",
       "      <td>1.1</td>\n",
       "      <td>93.994</td>\n",
       "      <td>-36.4</td>\n",
       "      <td>4.857</td>\n",
       "      <td>5191.0</td>\n",
       "      <td>no</td>\n",
       "    </tr>\n",
       "    <tr>\n",
       "      <th>1</th>\n",
       "      <td>57</td>\n",
       "      <td>services</td>\n",
       "      <td>married</td>\n",
       "      <td>high.school</td>\n",
       "      <td>unknown</td>\n",
       "      <td>no</td>\n",
       "      <td>no</td>\n",
       "      <td>telephone</td>\n",
       "      <td>may</td>\n",
       "      <td>mon</td>\n",
       "      <td>...</td>\n",
       "      <td>1</td>\n",
       "      <td>999</td>\n",
       "      <td>0</td>\n",
       "      <td>nonexistent</td>\n",
       "      <td>1.1</td>\n",
       "      <td>93.994</td>\n",
       "      <td>-36.4</td>\n",
       "      <td>4.857</td>\n",
       "      <td>5191.0</td>\n",
       "      <td>no</td>\n",
       "    </tr>\n",
       "    <tr>\n",
       "      <th>2</th>\n",
       "      <td>37</td>\n",
       "      <td>services</td>\n",
       "      <td>married</td>\n",
       "      <td>high.school</td>\n",
       "      <td>no</td>\n",
       "      <td>yes</td>\n",
       "      <td>no</td>\n",
       "      <td>telephone</td>\n",
       "      <td>may</td>\n",
       "      <td>mon</td>\n",
       "      <td>...</td>\n",
       "      <td>1</td>\n",
       "      <td>999</td>\n",
       "      <td>0</td>\n",
       "      <td>nonexistent</td>\n",
       "      <td>1.1</td>\n",
       "      <td>93.994</td>\n",
       "      <td>-36.4</td>\n",
       "      <td>4.857</td>\n",
       "      <td>5191.0</td>\n",
       "      <td>no</td>\n",
       "    </tr>\n",
       "    <tr>\n",
       "      <th>3</th>\n",
       "      <td>40</td>\n",
       "      <td>admin.</td>\n",
       "      <td>married</td>\n",
       "      <td>basic.6y</td>\n",
       "      <td>no</td>\n",
       "      <td>no</td>\n",
       "      <td>no</td>\n",
       "      <td>telephone</td>\n",
       "      <td>may</td>\n",
       "      <td>mon</td>\n",
       "      <td>...</td>\n",
       "      <td>1</td>\n",
       "      <td>999</td>\n",
       "      <td>0</td>\n",
       "      <td>nonexistent</td>\n",
       "      <td>1.1</td>\n",
       "      <td>93.994</td>\n",
       "      <td>-36.4</td>\n",
       "      <td>4.857</td>\n",
       "      <td>5191.0</td>\n",
       "      <td>no</td>\n",
       "    </tr>\n",
       "    <tr>\n",
       "      <th>4</th>\n",
       "      <td>56</td>\n",
       "      <td>services</td>\n",
       "      <td>married</td>\n",
       "      <td>high.school</td>\n",
       "      <td>no</td>\n",
       "      <td>no</td>\n",
       "      <td>yes</td>\n",
       "      <td>telephone</td>\n",
       "      <td>may</td>\n",
       "      <td>mon</td>\n",
       "      <td>...</td>\n",
       "      <td>1</td>\n",
       "      <td>999</td>\n",
       "      <td>0</td>\n",
       "      <td>nonexistent</td>\n",
       "      <td>1.1</td>\n",
       "      <td>93.994</td>\n",
       "      <td>-36.4</td>\n",
       "      <td>4.857</td>\n",
       "      <td>5191.0</td>\n",
       "      <td>no</td>\n",
       "    </tr>\n",
       "  </tbody>\n",
       "</table>\n",
       "<p>5 rows × 21 columns</p>\n",
       "</div>"
      ],
      "text/plain": [
       "   age        job  marital    education  default housing loan    contact  \\\n",
       "0   56  housemaid  married     basic.4y       no      no   no  telephone   \n",
       "1   57   services  married  high.school  unknown      no   no  telephone   \n",
       "2   37   services  married  high.school       no     yes   no  telephone   \n",
       "3   40     admin.  married     basic.6y       no      no   no  telephone   \n",
       "4   56   services  married  high.school       no      no  yes  telephone   \n",
       "\n",
       "  month day_of_week  ...  campaign  pdays  previous     poutcome emp.var.rate  \\\n",
       "0   may         mon  ...         1    999         0  nonexistent          1.1   \n",
       "1   may         mon  ...         1    999         0  nonexistent          1.1   \n",
       "2   may         mon  ...         1    999         0  nonexistent          1.1   \n",
       "3   may         mon  ...         1    999         0  nonexistent          1.1   \n",
       "4   may         mon  ...         1    999         0  nonexistent          1.1   \n",
       "\n",
       "   cons.price.idx  cons.conf.idx  euribor3m  nr.employed   y  \n",
       "0          93.994          -36.4      4.857       5191.0  no  \n",
       "1          93.994          -36.4      4.857       5191.0  no  \n",
       "2          93.994          -36.4      4.857       5191.0  no  \n",
       "3          93.994          -36.4      4.857       5191.0  no  \n",
       "4          93.994          -36.4      4.857       5191.0  no  \n",
       "\n",
       "[5 rows x 21 columns]"
      ]
     },
     "execution_count": 3,
     "metadata": {},
     "output_type": "execute_result"
    }
   ],
   "source": [
    "# Reading the data \n",
    "# We need the separator (sep) because of how the data is presented - it is not clean \n",
    "df = pd.read_csv(r'C:\\Users\\User\\Desktop\\capstone-project\\Data\\bank-additional-full.csv', sep = ';')\n",
    "data = df.copy()\n",
    "data.head()"
   ]
  },
  {
   "cell_type": "code",
   "execution_count": 6,
   "metadata": {},
   "outputs": [
    {
     "data": {
      "text/plain": [
       "age                 int64\n",
       "job                object\n",
       "marital            object\n",
       "education          object\n",
       "default            object\n",
       "housing            object\n",
       "loan               object\n",
       "contact            object\n",
       "month              object\n",
       "day_of_week        object\n",
       "duration            int64\n",
       "campaign            int64\n",
       "pdays               int64\n",
       "previous            int64\n",
       "poutcome           object\n",
       "emp.var.rate      float64\n",
       "cons.price.idx    float64\n",
       "cons.conf.idx     float64\n",
       "euribor3m         float64\n",
       "nr.employed       float64\n",
       "y                  object\n",
       "dtype: object"
      ]
     },
     "execution_count": 6,
     "metadata": {},
     "output_type": "execute_result"
    }
   ],
   "source": [
    "# Datatypes of Variables \n",
    "data.dtypes"
   ]
  },
  {
   "cell_type": "markdown",
   "metadata": {},
   "source": [
    "## Converting y into numerical\n",
    "We need to convert our target variable into a numerical column before anything."
   ]
  },
  {
   "cell_type": "code",
   "execution_count": 4,
   "metadata": {},
   "outputs": [],
   "source": [
    "data['target'] = (data.y == 'yes').astype(int)\n",
    "del data['y'] "
   ]
  },
  {
   "cell_type": "code",
   "execution_count": 5,
   "metadata": {},
   "outputs": [],
   "source": [
    "# Sorting of variables into numerical and categorical variables\n",
    "categorical = []\n",
    "numerical = []\n",
    "\n",
    "for column in data.columns:\n",
    "    if data[column].dtype == 'object':\n",
    "        categorical.append(column)\n",
    "    else:\n",
    "        numerical.append(column)"
   ]
  },
  {
   "cell_type": "markdown",
   "metadata": {},
   "source": [
    "## Correlation with 'target' \n",
    "\n",
    "Our target denotes whether or not the client will subscribe to a term deposit at a bank."
   ]
  },
  {
   "cell_type": "code",
   "execution_count": 9,
   "metadata": {},
   "outputs": [
    {
     "data": {
      "text/html": [
       "<div>\n",
       "<style scoped>\n",
       "    .dataframe tbody tr th:only-of-type {\n",
       "        vertical-align: middle;\n",
       "    }\n",
       "\n",
       "    .dataframe tbody tr th {\n",
       "        vertical-align: top;\n",
       "    }\n",
       "\n",
       "    .dataframe thead th {\n",
       "        text-align: right;\n",
       "    }\n",
       "</style>\n",
       "<table border=\"1\" class=\"dataframe\">\n",
       "  <thead>\n",
       "    <tr style=\"text-align: right;\">\n",
       "      <th></th>\n",
       "      <th>values</th>\n",
       "    </tr>\n",
       "  </thead>\n",
       "  <tbody>\n",
       "    <tr>\n",
       "      <th>nr.employed</th>\n",
       "      <td>-0.354678</td>\n",
       "    </tr>\n",
       "    <tr>\n",
       "      <th>pdays</th>\n",
       "      <td>-0.324914</td>\n",
       "    </tr>\n",
       "    <tr>\n",
       "      <th>euribor3m</th>\n",
       "      <td>-0.307771</td>\n",
       "    </tr>\n",
       "    <tr>\n",
       "      <th>emp.var.rate</th>\n",
       "      <td>-0.298334</td>\n",
       "    </tr>\n",
       "    <tr>\n",
       "      <th>cons.price.idx</th>\n",
       "      <td>-0.136211</td>\n",
       "    </tr>\n",
       "    <tr>\n",
       "      <th>campaign</th>\n",
       "      <td>-0.066357</td>\n",
       "    </tr>\n",
       "    <tr>\n",
       "      <th>age</th>\n",
       "      <td>0.030399</td>\n",
       "    </tr>\n",
       "    <tr>\n",
       "      <th>cons.conf.idx</th>\n",
       "      <td>0.054878</td>\n",
       "    </tr>\n",
       "    <tr>\n",
       "      <th>previous</th>\n",
       "      <td>0.230181</td>\n",
       "    </tr>\n",
       "    <tr>\n",
       "      <th>duration</th>\n",
       "      <td>0.405274</td>\n",
       "    </tr>\n",
       "    <tr>\n",
       "      <th>target</th>\n",
       "      <td>1.000000</td>\n",
       "    </tr>\n",
       "  </tbody>\n",
       "</table>\n",
       "</div>"
      ],
      "text/plain": [
       "                  values\n",
       "nr.employed    -0.354678\n",
       "pdays          -0.324914\n",
       "euribor3m      -0.307771\n",
       "emp.var.rate   -0.298334\n",
       "cons.price.idx -0.136211\n",
       "campaign       -0.066357\n",
       "age             0.030399\n",
       "cons.conf.idx   0.054878\n",
       "previous        0.230181\n",
       "duration        0.405274\n",
       "target          1.000000"
      ]
     },
     "execution_count": 9,
     "metadata": {},
     "output_type": "execute_result"
    }
   ],
   "source": [
    "correlation = pd.DataFrame(data[numerical].corrwith(data['target']), columns = ['values'])\n",
    "correlation = correlation.sort_values(by = 'values', ascending = True)\n",
    "correlation"
   ]
  },
  {
   "cell_type": "markdown",
   "metadata": {},
   "source": [
    "Interesting enough, there are quite a few numerical columns with a pretty high correlation, whether it be negative or positive.\n",
    "\n",
    "The values with the lowest correlation coefficients are campaign, age and cons.conf.idx. Let us just add these values into a list."
   ]
  },
  {
   "cell_type": "code",
   "execution_count": 10,
   "metadata": {},
   "outputs": [],
   "source": [
    "lowest_corr_columns = ['campaign', 'age', 'cons.conf.idx']"
   ]
  },
  {
   "cell_type": "markdown",
   "metadata": {},
   "source": [
    "## Mutual information with 'target' \n",
    "\n",
    "Since correlation scores are only with respect to numerical variables, we have to use mutual information for our categorical variables to see the relationship between these categorical variables and the target. \n"
   ]
  },
  {
   "cell_type": "code",
   "execution_count": 11,
   "metadata": {},
   "outputs": [],
   "source": [
    "from sklearn.metrics import mutual_info_score\n",
    "\n",
    "# Return mutual info score between categorical data and target \n",
    "def mutual_info_target_score(series):\n",
    "    return mutual_info_score(series, data.target)"
   ]
  },
  {
   "cell_type": "code",
   "execution_count": 12,
   "metadata": {},
   "outputs": [
    {
     "data": {
      "text/plain": [
       "poutcome       0.030384\n",
       "month          0.026407\n",
       "contact        0.011646\n",
       "job            0.009859\n",
       "default        0.005774\n",
       "education      0.002390\n",
       "marital        0.001434\n",
       "day_of_week    0.000322\n",
       "housing        0.000069\n",
       "loan           0.000013\n",
       "dtype: float64"
      ]
     },
     "execution_count": 12,
     "metadata": {},
     "output_type": "execute_result"
    }
   ],
   "source": [
    "mi = data[categorical].apply(mutual_info_target_score)\n",
    "\n",
    "mi.sort_values(ascending=False)"
   ]
  },
  {
   "cell_type": "markdown",
   "metadata": {},
   "source": [
    "It would seem that most of our categorical variables are not super related to our target values, but the columns with the lowest number MI scores are day of week, housing, and loan. Let us add these values onto the list we have already made.\n"
   ]
  },
  {
   "cell_type": "code",
   "execution_count": 13,
   "metadata": {},
   "outputs": [],
   "source": [
    "lowest_corr_columns.append('day_of_week')\n",
    "lowest_corr_columns.append('housing')\n",
    "lowest_corr_columns.append('loan')"
   ]
  },
  {
   "cell_type": "markdown",
   "metadata": {},
   "source": [
    "## Missing Data\n",
    "\n",
    "A very essential part of data preprocessing is how many values are missing, and deciding what to do with the missing values themselves. Let's take a look!"
   ]
  },
  {
   "cell_type": "code",
   "execution_count": 14,
   "metadata": {},
   "outputs": [
    {
     "data": {
      "text/plain": [
       "age               0\n",
       "job               0\n",
       "marital           0\n",
       "education         0\n",
       "default           0\n",
       "housing           0\n",
       "loan              0\n",
       "contact           0\n",
       "month             0\n",
       "day_of_week       0\n",
       "duration          0\n",
       "campaign          0\n",
       "pdays             0\n",
       "previous          0\n",
       "poutcome          0\n",
       "emp.var.rate      0\n",
       "cons.price.idx    0\n",
       "cons.conf.idx     0\n",
       "euribor3m         0\n",
       "nr.employed       0\n",
       "target            0\n",
       "dtype: int64"
      ]
     },
     "execution_count": 14,
     "metadata": {},
     "output_type": "execute_result"
    }
   ],
   "source": [
    "data.isna().sum()"
   ]
  },
  {
   "cell_type": "markdown",
   "metadata": {},
   "source": [
    "Clean dataset! Honestly, we don't find this a lot in the real world, but this is still pretty cool :) "
   ]
  },
  {
   "cell_type": "markdown",
   "metadata": {},
   "source": [
    "## Duration\n",
    "Before we continue, we will be deleting \"duration\". Why? \n",
    "\n",
    "To quote from the UCI repository:\n",
    "'This attribute highly affects the output target (e.g., if duration=0 then y='no'). Yet, the duration is not known before a call is performed. Also, after the end of the call y is obviously known. Thus, this input should only be included for benchmark purposes and should be discarded if the intention is to have a realistic predictive model.'\n",
    "\n",
    "We want to have a realistic predictive model, and therefore there we will be deleting this column."
   ]
  },
  {
   "cell_type": "code",
   "execution_count": 6,
   "metadata": {},
   "outputs": [],
   "source": [
    "del data['duration']"
   ]
  },
  {
   "cell_type": "code",
   "execution_count": 7,
   "metadata": {},
   "outputs": [],
   "source": [
    "numerical.remove('duration')"
   ]
  },
  {
   "cell_type": "markdown",
   "metadata": {},
   "source": [
    "## Categorical columns\n",
    "\n",
    "Let's take a closer look at our categorical values! "
   ]
  },
  {
   "cell_type": "code",
   "execution_count": 17,
   "metadata": {
    "scrolled": true
   },
   "outputs": [
    {
     "data": {
      "text/plain": [
       "['job',\n",
       " 'marital',\n",
       " 'education',\n",
       " 'default',\n",
       " 'housing',\n",
       " 'loan',\n",
       " 'contact',\n",
       " 'month',\n",
       " 'day_of_week',\n",
       " 'poutcome']"
      ]
     },
     "execution_count": 17,
     "metadata": {},
     "output_type": "execute_result"
    }
   ],
   "source": [
    "categorical"
   ]
  },
  {
   "cell_type": "markdown",
   "metadata": {},
   "source": [
    "If we refer back to the UCI repository, there are columns that already have values associated to them, and therefore we can use those values! There really isn't much that we can feature engineer from these categorical columns, and therefore we will leave it be.\n",
    "\n",
    "However, let's see whether we should be encoding these values with a Label Encoderor with a One-Hot Encoder. "
   ]
  },
  {
   "cell_type": "markdown",
   "metadata": {},
   "source": [
    "## Difference between a Label Encoder and a One-Hot Encoder\n",
    "\n",
    "A label encoder associates one value to a number and is suitable for some variables that have more than a number of unique values. This is compares to a One Hot Encoder instead, whereby new variables are created based on whether they have that value or not. This will only change the values of the categorical data, and not the whole dataset.\n",
    "\n",
    "We will be using the dict vectorizer once we have split the data.\n",
    "\n",
    "e.g. If we have datapoints ['Amsterdam', 'Paris', 'Amsterdam', 'Berlin'], we will be converting that to [0,1,0,2] using a label encoder. This is compared to a OneHotEncoder where there will be columns \"Amsterdam\", \"Paris\" and \"Berlin\" with either 0/1.\n",
    "\n",
    "For more information, do read the [Label Encoder documentation](https://scikit-learn.org/stable/modules/generated/sklearn.preprocessing.LabelEncoder.html) for details!\n",
    "\n",
    "Source: [midterm project](https://github.com/kwangyy/midterm-project/blob/main/code/Midterm%20Project%20for%20MLE%20-%20Training%20Models%20and%20Hyperparameter%20Tuning%20(outputless).ipynb)"
   ]
  },
  {
   "cell_type": "code",
   "execution_count": 18,
   "metadata": {},
   "outputs": [
    {
     "name": "stdout",
     "output_type": "stream",
     "text": [
      "job 12\n",
      "marital 4\n",
      "education 8\n",
      "default 3\n",
      "housing 3\n",
      "loan 3\n",
      "contact 2\n",
      "month 10\n",
      "day_of_week 5\n",
      "poutcome 3\n"
     ]
    }
   ],
   "source": [
    "for column in categorical:\n",
    "    print(column, data[column].nunique())"
   ]
  },
  {
   "cell_type": "markdown",
   "metadata": {},
   "source": [
    "Personally, I will use One-Hot Encoder if there are less than 15 values. \n",
    "Since the categorical columns have less than 15 unique columns, we can just do normal one hot encoding on these categorical columns. We will be using a Dict Vectorizer to do One Hot Encoding. "
   ]
  },
  {
   "cell_type": "markdown",
   "metadata": {},
   "source": [
    "## Visualising Numerical Data\n",
    "\n",
    "Let us start with visualising numerical data!\n"
   ]
  },
  {
   "cell_type": "code",
   "execution_count": 19,
   "metadata": {},
   "outputs": [
    {
     "data": {
      "text/plain": [
       "['age',\n",
       " 'campaign',\n",
       " 'pdays',\n",
       " 'previous',\n",
       " 'emp.var.rate',\n",
       " 'cons.price.idx',\n",
       " 'cons.conf.idx',\n",
       " 'euribor3m',\n",
       " 'nr.employed',\n",
       " 'target']"
      ]
     },
     "execution_count": 19,
     "metadata": {},
     "output_type": "execute_result"
    }
   ],
   "source": [
    "numerical"
   ]
  },
  {
   "cell_type": "code",
   "execution_count": 20,
   "metadata": {
    "scrolled": true
   },
   "outputs": [
    {
     "name": "stdout",
     "output_type": "stream",
     "text": [
      "age 10.421249980934048\n",
      "campaign 2.7700135429023276\n",
      "pdays 186.9109073447418\n",
      "previous 0.4949010798392897\n",
      "emp.var.rate 1.5709597405170255\n",
      "cons.price.idx 0.5788400489541262\n",
      "cons.conf.idx 4.628197856174544\n",
      "euribor3m 1.734447404851267\n",
      "nr.employed 72.25152766826108\n",
      "target 0.3161734269429649\n"
     ]
    }
   ],
   "source": [
    "for column in numerical:\n",
    "    print(column, data[column].std())"
   ]
  },
  {
   "cell_type": "markdown",
   "metadata": {},
   "source": [
    "There are two columns with a rather high standard deviation, namely nr.employed and age (although cons.conf.idx is pretty high as well).\n",
    "\n",
    "Let's take a deeper look at the visualisations for each numerical data!"
   ]
  },
  {
   "cell_type": "code",
   "execution_count": 21,
   "metadata": {
    "scrolled": false
   },
   "outputs": [
    {
     "data": {
      "image/png": "[encoded data removed]",
      "text/plain": [
       "<Figure size 1080x360 with 10 Axes>"
      ]
     },
     "metadata": {
      "needs_background": "light"
     },
     "output_type": "display_data"
    }
   ],
   "source": [
    "fig, axes = plt.subplots(2, 5, figsize = (15, 5))\n",
    "plt.tight_layout()\n",
    "\n",
    "for number, column in enumerate(numerical):\n",
    "    if number < 5:\n",
    "        # First 5 columns\n",
    "        plot = sns.kdeplot(x=column, data=data, ax = axes[0][number])\n",
    "        # We set label as blank\n",
    "        plot.set(ylabel = '')\n",
    "    else:\n",
    "        # We can't reset the count if we use this approach, therefore we minus 5 off\n",
    "        plot = sns.kdeplot(x=column, data=data, ax = axes[1][number-5])\n",
    "        plot.set(ylabel = '')"
   ]
  },
  {
   "cell_type": "markdown",
   "metadata": {},
   "source": [
    "There are a few things that we can tell from this data:\n",
    "1. Campaign has a very long tail, and therefore we should transform it with transformations\n",
    "2. Some of the data have multiple peaks - let's see if we should do anything to them. \n"
   ]
  },
  {
   "cell_type": "markdown",
   "metadata": {},
   "source": [
    "## Visualising Categorical Data\n",
    "\n",
    "Let us continue with visualising categorical data."
   ]
  },
  {
   "cell_type": "code",
   "execution_count": 22,
   "metadata": {},
   "outputs": [],
   "source": [
    "categorical_plot = categorical.copy()\n",
    "categorical_plot.remove('job')\n",
    "categorical_plot.remove ('education')\n",
    "\n",
    "big_plots = ['job', 'education']"
   ]
  },
  {
   "cell_type": "code",
   "execution_count": 23,
   "metadata": {},
   "outputs": [
    {
     "data": {
      "image/png": "[encoded data removed]",
      "text/plain": [
       "<Figure size 1728x1080 with 2 Axes>"
      ]
     },
     "metadata": {
      "needs_background": "light"
     },
     "output_type": "display_data"
    }
   ],
   "source": [
    "fig, axes = plt.subplots(2, 1, figsize = (24,15))\n",
    "plt.tight_layout()\n",
    "\n",
    "for number, column in enumerate(big_plots):\n",
    "    plot = sns.histplot(x=column, data=data, ax = axes[number])\n",
    "    plot.set(ylabel = '')\n"
   ]
  },
  {
   "cell_type": "code",
   "execution_count": 24,
   "metadata": {
    "scrolled": false
   },
   "outputs": [
    {
     "data": {
      "image/png": "[encoded data removed]",
      "text/plain": [
       "<Figure size 1224x504 with 8 Axes>"
      ]
     },
     "metadata": {
      "needs_background": "light"
     },
     "output_type": "display_data"
    }
   ],
   "source": [
    "fig, axes = plt.subplots(2, 4, figsize = (17,7))\n",
    "plt.tight_layout()\n",
    "\n",
    "for number, column in enumerate(categorical_plot):\n",
    "    if number < 4:\n",
    "        plot = sns.histplot(x=column, data=data, ax = axes[0][number])\n",
    "        plot.set(ylabel = '')\n",
    "    else:\n",
    "        plot = sns.histplot(x=column, data=data, ax = axes[1][number- 4])\n",
    "        plot.set(ylabel = '')"
   ]
  },
  {
   "cell_type": "markdown",
   "metadata": {},
   "source": [
    "## A deeper look into our target variable \n",
    "\n",
    "It seems that our target variable is rather imbalanced, let's take a closer look at it!"
   ]
  },
  {
   "cell_type": "code",
   "execution_count": 25,
   "metadata": {
    "scrolled": false
   },
   "outputs": [
    {
     "data": {
      "text/plain": [
       "0    0.887346\n",
       "1    0.112654\n",
       "Name: target, dtype: float64"
      ]
     },
     "execution_count": 25,
     "metadata": {},
     "output_type": "execute_result"
    }
   ],
   "source": [
    "data['target'].value_counts(normalize = True)"
   ]
  },
  {
   "cell_type": "markdown",
   "metadata": {},
   "source": [
    "We can tell that our target variable is very imbalanced - 88.7% of our target is no, while 11.3% of our target is yes. Therefore, accuracy will probably be a very bad metric to use. \n",
    "\n",
    "Instead, we will have to use the ROC AUC score, whereby it considers both the precision and the recall of the model itself for a better gauge. "
   ]
  },
  {
   "cell_type": "code",
   "execution_count": 26,
   "metadata": {},
   "outputs": [
    {
     "data": {
      "text/plain": [
       "<AxesSubplot:>"
      ]
     },
     "execution_count": 26,
     "metadata": {},
     "output_type": "execute_result"
    },
    {
     "data": {
      "image/png": "[encoded data removed]",
      "text/plain": [
       "<Figure size 1440x1080 with 2 Axes>"
      ]
     },
     "metadata": {
      "needs_background": "light"
     },
     "output_type": "display_data"
    }
   ],
   "source": [
    "fig = plt.figure(figsize = (20,15))\n",
    "sns.heatmap(data[numerical].corr(), annot = True)"
   ]
  },
  {
   "cell_type": "code",
   "execution_count": 27,
   "metadata": {},
   "outputs": [],
   "source": [
    "import warnings\n",
    "warnings.filterwarnings('ignore')"
   ]
  },
  {
   "cell_type": "markdown",
   "metadata": {},
   "source": [
    "## Train Test Split of the Data\n",
    "\n",
    "I will be splitting the dataset into 60% / 20% / 20% in terms of the training dataset, the validation dataset, and the test dataset. \n",
    "\n",
    "There is 'stratify' parameter in the data itself, which ensures that the data follows the proportion of 0s and 1s."
   ]
  },
  {
   "cell_type": "code",
   "execution_count": 8,
   "metadata": {},
   "outputs": [],
   "source": [
    "from sklearn.model_selection import train_test_split\n",
    "data_full_train, data_test = train_test_split(data, random_state = 40, test_size = 0.2, shuffle = True, stratify = data['target'])\n",
    "data_train, data_val = train_test_split(data_full_train, random_state = 40, test_size = 0.25, shuffle = True, stratify = data_full_train['target'])"
   ]
  },
  {
   "cell_type": "code",
   "execution_count": 29,
   "metadata": {
    "scrolled": true
   },
   "outputs": [
    {
     "data": {
      "text/plain": [
       "0    0.887342\n",
       "1    0.112658\n",
       "Name: target, dtype: float64"
      ]
     },
     "execution_count": 29,
     "metadata": {},
     "output_type": "execute_result"
    }
   ],
   "source": [
    "data_train['target'].value_counts(normalize = True)"
   ]
  },
  {
   "cell_type": "code",
   "execution_count": 30,
   "metadata": {
    "scrolled": true
   },
   "outputs": [
    {
     "data": {
      "text/plain": [
       "0    0.887351\n",
       "1    0.112649\n",
       "Name: target, dtype: float64"
      ]
     },
     "execution_count": 30,
     "metadata": {},
     "output_type": "execute_result"
    }
   ],
   "source": [
    "data_val['target'].value_counts(normalize = True)"
   ]
  },
  {
   "cell_type": "code",
   "execution_count": 31,
   "metadata": {
    "scrolled": true
   },
   "outputs": [
    {
     "data": {
      "text/plain": [
       "0    0.887351\n",
       "1    0.112649\n",
       "Name: target, dtype: float64"
      ]
     },
     "execution_count": 31,
     "metadata": {},
     "output_type": "execute_result"
    }
   ],
   "source": [
    "data_test['target'].value_counts(normalize = True)"
   ]
  },
  {
   "cell_type": "markdown",
   "metadata": {},
   "source": [
    "We can tell that the proportion of data remains the same here! "
   ]
  },
  {
   "cell_type": "code",
   "execution_count": 32,
   "metadata": {},
   "outputs": [],
   "source": [
    "data_train = data_train.reset_index(drop = True)\n",
    "data_val = data_val.reset_index(drop = True)\n",
    "data_test = data_test.reset_index(drop = True)"
   ]
  },
  {
   "cell_type": "code",
   "execution_count": 33,
   "metadata": {},
   "outputs": [],
   "source": [
    "y_train = data_train['target']\n",
    "y_val = data_val['target']\n",
    "y_test = data_test['target']\n",
    "\n",
    "del data_train['target']\n",
    "del data_val['target']\n",
    "del data_test['target']"
   ]
  },
  {
   "cell_type": "markdown",
   "metadata": {},
   "source": [
    "## Training the models - without scalers\n",
    "We will be training the data on a few different regression models and judging the models based on the ROC AUC score.\n",
    "\n",
    "We will be looking for the best regression model without any form of hyperparameter tuning, and using cross-validation to better judge the results. "
   ]
  },
  {
   "cell_type": "code",
   "execution_count": 21,
   "metadata": {},
   "outputs": [],
   "source": [
    "from sklearn.feature_extraction import DictVectorizer\n",
    "from sklearn.preprocessing import StandardScaler"
   ]
  },
  {
   "cell_type": "code",
   "execution_count": 35,
   "metadata": {},
   "outputs": [],
   "source": [
    "# Training function\n",
    "def train(data_train, y_train, model): \n",
    "    dicts = data_train.to_dict(orient = 'records')\n",
    "    \n",
    "    dv = DictVectorizer(sparse = False)\n",
    "    X_train = dv.fit_transform(dicts)\n",
    "    \n",
    "    model.fit(X_train, y_train)\n",
    "    return dv, model\n"
   ]
  },
  {
   "cell_type": "code",
   "execution_count": 36,
   "metadata": {},
   "outputs": [],
   "source": [
    "def predict(data_val, y_val, model):\n",
    "    dicts = data_val.to_dict(orient = 'records')\n",
    "    \n",
    "    X_val = dv.transform(dicts)\n",
    "    \n",
    "    y_pred = model.predict_proba(X_val)[:,1]\n",
    "    return y_pred"
   ]
  },
  {
   "cell_type": "markdown",
   "metadata": {},
   "source": [
    "## Logistic Regression \n",
    "\n",
    "This will be out baseline model for our predictions, in order to see how our other models go against this baseline model."
   ]
  },
  {
   "cell_type": "code",
   "execution_count": 37,
   "metadata": {},
   "outputs": [],
   "source": [
    "models = ['Logistic Regression', 'Random Forest', 'XGBoost', 'CatBoost']\n",
    "mean_scores = []\n",
    "std_scores = []"
   ]
  },
  {
   "cell_type": "code",
   "execution_count": 38,
   "metadata": {},
   "outputs": [],
   "source": [
    "from sklearn.linear_model import LogisticRegression\n",
    "\n",
    "logreg = LogisticRegression()"
   ]
  },
  {
   "cell_type": "code",
   "execution_count": 39,
   "metadata": {
    "scrolled": true
   },
   "outputs": [
    {
     "name": "stdout",
     "output_type": "stream",
     "text": [
      "ROC AUC score for model LogisticRegression(): 0.76936 +- 0.01973\n"
     ]
    }
   ],
   "source": [
    "from sklearn.model_selection import KFold \n",
    "from sklearn.metrics import roc_auc_score \n",
    "n_splits = 5\n",
    "scores = []\n",
    "\n",
    "kfold = KFold(n_splits=n_splits, shuffle=True, random_state=1)\n",
    "    \n",
    "for train_idx, val_idx in kfold.split(data_full_train):\n",
    "    # data splitting\n",
    "    data_train = data_full_train.iloc[train_idx]\n",
    "    data_val = data_full_train.iloc[val_idx]\n",
    "        \n",
    "    # y values\n",
    "    y_train = data_train['target']\n",
    "    y_val = data_val['target']\n",
    "    \n",
    "    del data_train['target']\n",
    "    del data_val['target']\n",
    "        \n",
    "    # training and predicting\n",
    "    dv, model = train(data_train, y_train, logreg)\n",
    "    y_pred = predict(data_val, dv, model)\n",
    "    \n",
    "    score = roc_auc_score(y_val, y_pred)\n",
    "    scores.append(score)\n",
    "\n",
    "mean_scores.append(np.mean(scores))\n",
    "std_scores.append(np.std(scores))\n",
    "    \n",
    "print('ROC AUC score for model %s: %.5f +- %.5f' % (model, np.mean(scores), np.std(scores)))"
   ]
  },
  {
   "cell_type": "markdown",
   "metadata": {},
   "source": [
    "## Random Forest Classifier\n",
    "\n",
    "We have learnt about Random Forests back in Lesson 6 of the Machine Learning Zoomcamp!"
   ]
  },
  {
   "cell_type": "code",
   "execution_count": 40,
   "metadata": {},
   "outputs": [],
   "source": [
    "from sklearn.ensemble import RandomForestClassifier\n",
    "\n",
    "rfc = RandomForestClassifier()"
   ]
  },
  {
   "cell_type": "code",
   "execution_count": 41,
   "metadata": {},
   "outputs": [
    {
     "name": "stdout",
     "output_type": "stream",
     "text": [
      "ROC AUC score for model RandomForestClassifier(): 0.76955 +- 0.00757\n"
     ]
    }
   ],
   "source": [
    "n_splits = 5\n",
    "scores = []\n",
    "\n",
    "kfold = KFold(n_splits=n_splits, shuffle=True, random_state=1)\n",
    "    \n",
    "for train_idx, val_idx in kfold.split(data_full_train):\n",
    "    # data splitting\n",
    "    data_train = data_full_train.iloc[train_idx]\n",
    "    data_val = data_full_train.iloc[val_idx]\n",
    "        \n",
    "    # y values\n",
    "    y_train = data_train['target']\n",
    "    y_val = data_val['target']\n",
    "    \n",
    "    del data_train['target']\n",
    "    del data_val['target']\n",
    "        \n",
    "    # training and predicting\n",
    "    dv, model = train(data_train, y_train, rfc)\n",
    "    y_pred = predict(data_val, dv, model)\n",
    "    \n",
    "    score = roc_auc_score(y_val, y_pred)\n",
    "    scores.append(score)\n",
    "\n",
    "mean_scores.append(np.mean(scores))\n",
    "std_scores.append(np.std(scores))\n",
    "\n",
    "print('ROC AUC score for model %s: %.5f +- %.5f' % (model, np.mean(scores), np.std(scores)))"
   ]
  },
  {
   "cell_type": "markdown",
   "metadata": {},
   "source": [
    "## XGBoost Classifier\n",
    "\n",
    "We have learnt this Classifier back in Lesson 6 of the Machine Learning Zoomcamp!"
   ]
  },
  {
   "cell_type": "code",
   "execution_count": 15,
   "metadata": {},
   "outputs": [],
   "source": [
    "from xgboost import XGBClassifier\n",
    "\n",
    "xgb = XGBClassifier(verbosity = 0)"
   ]
  },
  {
   "cell_type": "code",
   "execution_count": 43,
   "metadata": {
    "scrolled": true
   },
   "outputs": [
    {
     "name": "stdout",
     "output_type": "stream",
     "text": [
      "ROC AUC score for model XGBClassifier: 0.78539 +- 0.00721\n"
     ]
    }
   ],
   "source": [
    "n_splits = 5\n",
    "scores = []\n",
    "\n",
    "kfold = KFold(n_splits=n_splits, shuffle=True, random_state=1)\n",
    "    \n",
    "for train_idx, val_idx in kfold.split(data_full_train):\n",
    "    # data splitting\n",
    "    data_train = data_full_train.iloc[train_idx]\n",
    "    data_val = data_full_train.iloc[val_idx]\n",
    "        \n",
    "    # y values\n",
    "    y_train = data_train['target']\n",
    "    y_val = data_val['target']\n",
    "    \n",
    "    del data_train['target']\n",
    "    del data_val['target']\n",
    "        \n",
    "    # training and predicting\n",
    "    dv, model = train(data_train, y_train, xgb)\n",
    "    y_pred = predict(data_val, dv, model)\n",
    "    \n",
    "    score = roc_auc_score(y_val, y_pred)\n",
    "    scores.append(score)\n",
    "\n",
    "mean_scores.append(np.mean(scores))\n",
    "std_scores.append(np.std(scores))\n",
    "\n",
    "print('ROC AUC score for model %s: %.5f +- %.5f' % ('XGBClassifier' , np.mean(scores), np.std(scores)))"
   ]
  },
  {
   "cell_type": "markdown",
   "metadata": {},
   "source": [
    "## CatBoost Classifier\n",
    "\n",
    "CatBoost is another gradient boosting tool that we can use for classification. It is faster and better performing than other gradient boosting algorithms. "
   ]
  },
  {
   "cell_type": "code",
   "execution_count": 44,
   "metadata": {},
   "outputs": [],
   "source": [
    "from catboost import CatBoostClassifier\n",
    "\n",
    "cbc = CatBoostClassifier(logging_level ='Silent')"
   ]
  },
  {
   "cell_type": "code",
   "execution_count": 45,
   "metadata": {},
   "outputs": [
    {
     "name": "stdout",
     "output_type": "stream",
     "text": [
      "ROC AUC score for model CatBoostClassifier: 0.79739 +- 0.00769\n"
     ]
    }
   ],
   "source": [
    "n_splits = 5\n",
    "scores = []\n",
    "\n",
    "kfold = KFold(n_splits=n_splits, shuffle=True, random_state=1)\n",
    "    \n",
    "for train_idx, val_idx in kfold.split(data_full_train):\n",
    "    # data splitting\n",
    "    data_train = data_full_train.iloc[train_idx]\n",
    "    data_val = data_full_train.iloc[val_idx]\n",
    "        \n",
    "    # y values\n",
    "    y_train = data_train['target']\n",
    "    y_val = data_val['target']\n",
    "    \n",
    "    del data_train['target']\n",
    "    del data_val['target']\n",
    "        \n",
    "    # training and predicting\n",
    "    dv, model = train(data_train, y_train, cbc)\n",
    "    y_pred = predict(data_val, dv, model)\n",
    "    \n",
    "    score = roc_auc_score(y_val, y_pred)\n",
    "    scores.append(score)\n",
    "    \n",
    "mean_scores.append(np.mean(scores))\n",
    "std_scores.append(np.std(scores))\n",
    "\n",
    "print('ROC AUC score for model %s: %.5f +- %.5f' % ('CatBoostClassifier' , np.mean(scores), np.std(scores)))"
   ]
  },
  {
   "cell_type": "code",
   "execution_count": 46,
   "metadata": {},
   "outputs": [],
   "source": [
    "d = {'models': models, 'mean': mean_scores, 'std':std_scores}\n",
    "df = pd.DataFrame(data = d)"
   ]
  },
  {
   "cell_type": "code",
   "execution_count": 47,
   "metadata": {
    "scrolled": true
   },
   "outputs": [
    {
     "data": {
      "text/html": [
       "<div>\n",
       "<style scoped>\n",
       "    .dataframe tbody tr th:only-of-type {\n",
       "        vertical-align: middle;\n",
       "    }\n",
       "\n",
       "    .dataframe tbody tr th {\n",
       "        vertical-align: top;\n",
       "    }\n",
       "\n",
       "    .dataframe thead th {\n",
       "        text-align: right;\n",
       "    }\n",
       "</style>\n",
       "<table border=\"1\" class=\"dataframe\">\n",
       "  <thead>\n",
       "    <tr style=\"text-align: right;\">\n",
       "      <th></th>\n",
       "      <th>models</th>\n",
       "      <th>mean</th>\n",
       "      <th>std</th>\n",
       "    </tr>\n",
       "  </thead>\n",
       "  <tbody>\n",
       "    <tr>\n",
       "      <th>0</th>\n",
       "      <td>Logistic Regression</td>\n",
       "      <td>0.769356</td>\n",
       "      <td>0.019732</td>\n",
       "    </tr>\n",
       "    <tr>\n",
       "      <th>1</th>\n",
       "      <td>Random Forest</td>\n",
       "      <td>0.769548</td>\n",
       "      <td>0.007565</td>\n",
       "    </tr>\n",
       "    <tr>\n",
       "      <th>2</th>\n",
       "      <td>XGBoost</td>\n",
       "      <td>0.785389</td>\n",
       "      <td>0.007205</td>\n",
       "    </tr>\n",
       "    <tr>\n",
       "      <th>3</th>\n",
       "      <td>CatBoost</td>\n",
       "      <td>0.797391</td>\n",
       "      <td>0.007694</td>\n",
       "    </tr>\n",
       "  </tbody>\n",
       "</table>\n",
       "</div>"
      ],
      "text/plain": [
       "                models      mean       std\n",
       "0  Logistic Regression  0.769356  0.019732\n",
       "1        Random Forest  0.769548  0.007565\n",
       "2              XGBoost  0.785389  0.007205\n",
       "3             CatBoost  0.797391  0.007694"
      ]
     },
     "execution_count": 47,
     "metadata": {},
     "output_type": "execute_result"
    }
   ],
   "source": [
    "df"
   ]
  },
  {
   "cell_type": "markdown",
   "metadata": {},
   "source": [
    "# Training models - with scalers \n",
    "Let us use scalers on the dataset!\n",
    "\n",
    "There are two scalers that we can use: \n",
    "1. StandardScaler\n",
    "2. MinMaxScaler\n",
    "\n",
    "Let us start with the Standard Scaler and see how the results differ from there!"
   ]
  },
  {
   "cell_type": "code",
   "execution_count": 48,
   "metadata": {},
   "outputs": [],
   "source": [
    "from sklearn.preprocessing import StandardScaler"
   ]
  },
  {
   "cell_type": "code",
   "execution_count": 49,
   "metadata": {},
   "outputs": [],
   "source": [
    "# For any scores later\n",
    "models = ['Logistic Regression', 'Random Forest', 'XGBoost', 'CatBoost']\n",
    "mean_scores = []\n",
    "std_scores = []"
   ]
  },
  {
   "cell_type": "markdown",
   "metadata": {},
   "source": [
    "## Logistic Regression (with scaling) "
   ]
  },
  {
   "cell_type": "code",
   "execution_count": 50,
   "metadata": {},
   "outputs": [],
   "source": [
    "model = LogisticRegression()"
   ]
  },
  {
   "cell_type": "code",
   "execution_count": 51,
   "metadata": {},
   "outputs": [
    {
     "name": "stdout",
     "output_type": "stream",
     "text": [
      "ROC AUC score for model Logistic Regression: 0.78994 +- 0.01139\n"
     ]
    }
   ],
   "source": [
    "n_splits = 5\n",
    "scores = []\n",
    "\n",
    "kfold = KFold(n_splits=n_splits, shuffle=True, random_state=1)\n",
    "    \n",
    "for train_idx, val_idx in kfold.split(data_full_train):\n",
    "    # data splitting\n",
    "    data_train = data_full_train.iloc[train_idx]\n",
    "    data_val = data_full_train.iloc[val_idx]\n",
    "        \n",
    "    # y values\n",
    "    y_train = data_train['target']\n",
    "    y_val = data_val['target']\n",
    "    \n",
    "    del data_train['target']\n",
    "    del data_val['target']\n",
    "        \n",
    "    # training and predicting\n",
    "    dicts = data_train.to_dict(orient = 'records')\n",
    "    \n",
    "    dv = DictVectorizer(sparse = False)\n",
    "    inter_train = dv.fit_transform(dicts)\n",
    "    \n",
    "    scaler = StandardScaler()\n",
    "    X_train = scaler.fit_transform(inter_train)\n",
    "    \n",
    "    model.fit(X_train, y_train)\n",
    "    \n",
    "    dicts = data_val.to_dict(orient = 'records')\n",
    "    \n",
    "    inter_val = dv.transform(dicts)\n",
    "    X_val = scaler.transform(inter_val)\n",
    "    \n",
    "    y_pred = model.predict_proba(X_val)[:,1]\n",
    "    \n",
    "    score = roc_auc_score(y_val, y_pred)\n",
    "    scores.append(score)\n",
    "    \n",
    "mean_scores.append(np.mean(scores))\n",
    "std_scores.append(np.std(scores))\n",
    "\n",
    "print('ROC AUC score for model %s: %.5f +- %.5f' % ('Logistic Regression' , np.mean(scores), np.std(scores)))"
   ]
  },
  {
   "cell_type": "markdown",
   "metadata": {},
   "source": [
    "## Random Forest Classifier - with scaling "
   ]
  },
  {
   "cell_type": "code",
   "execution_count": 52,
   "metadata": {},
   "outputs": [],
   "source": [
    "model = RandomForestClassifier()"
   ]
  },
  {
   "cell_type": "code",
   "execution_count": 53,
   "metadata": {},
   "outputs": [
    {
     "name": "stdout",
     "output_type": "stream",
     "text": [
      "ROC AUC score for model Random Forest Classifier: 0.77071 +- 0.00877\n"
     ]
    }
   ],
   "source": [
    "n_splits = 5\n",
    "scores = []\n",
    "\n",
    "kfold = KFold(n_splits=n_splits, shuffle=True, random_state=1)\n",
    "    \n",
    "for train_idx, val_idx in kfold.split(data_full_train):\n",
    "    # data splitting\n",
    "    data_train = data_full_train.iloc[train_idx]\n",
    "    data_val = data_full_train.iloc[val_idx]\n",
    "        \n",
    "    # y values\n",
    "    y_train = data_train['target']\n",
    "    y_val = data_val['target']\n",
    "    \n",
    "    del data_train['target']\n",
    "    del data_val['target']\n",
    "        \n",
    "    # training and predicting\n",
    "    dicts = data_train.to_dict(orient = 'records')\n",
    "    \n",
    "    dv = DictVectorizer(sparse = False)\n",
    "    inter_train = dv.fit_transform(dicts)\n",
    "    \n",
    "    scaler = StandardScaler()\n",
    "    X_train = scaler.fit_transform(inter_train)\n",
    "    \n",
    "    model.fit(X_train, y_train)\n",
    "    \n",
    "    dicts = data_val.to_dict(orient = 'records')\n",
    "    \n",
    "    inter_val = dv.transform(dicts)\n",
    "    X_val = scaler.transform(inter_val)\n",
    "    \n",
    "    y_pred = model.predict_proba(X_val)[:,1]\n",
    "    \n",
    "    score = roc_auc_score(y_val, y_pred)\n",
    "    scores.append(score)\n",
    "    \n",
    "mean_scores.append(np.mean(scores))\n",
    "std_scores.append(np.std(scores))\n",
    "\n",
    "print('ROC AUC score for model %s: %.5f +- %.5f' % ('Random Forest Classifier' , np.mean(scores), np.std(scores)))"
   ]
  },
  {
   "cell_type": "markdown",
   "metadata": {},
   "source": [
    "## XGB Classifier - with scaling"
   ]
  },
  {
   "cell_type": "code",
   "execution_count": 54,
   "metadata": {},
   "outputs": [],
   "source": [
    "model = XGBClassifier()"
   ]
  },
  {
   "cell_type": "code",
   "execution_count": 55,
   "metadata": {},
   "outputs": [
    {
     "name": "stdout",
     "output_type": "stream",
     "text": [
      "ROC AUC score for model XGB Classifier: 0.78539 +- 0.00722\n"
     ]
    }
   ],
   "source": [
    "n_splits = 5\n",
    "scores = []\n",
    "\n",
    "kfold = KFold(n_splits=n_splits, shuffle=True, random_state=1)\n",
    "    \n",
    "for train_idx, val_idx in kfold.split(data_full_train):\n",
    "    # data splitting\n",
    "    data_train = data_full_train.iloc[train_idx]\n",
    "    data_val = data_full_train.iloc[val_idx]\n",
    "        \n",
    "    # y values\n",
    "    y_train = data_train['target']\n",
    "    y_val = data_val['target']\n",
    "    \n",
    "    del data_train['target']\n",
    "    del data_val['target']\n",
    "        \n",
    "    # training and predicting\n",
    "    dicts = data_train.to_dict(orient = 'records')\n",
    "    \n",
    "    dv = DictVectorizer(sparse = False)\n",
    "    inter_train = dv.fit_transform(dicts)\n",
    "    \n",
    "    scaler = StandardScaler()\n",
    "    X_train = scaler.fit_transform(inter_train)\n",
    "    \n",
    "    model.fit(X_train, y_train)\n",
    "    \n",
    "    dicts = data_val.to_dict(orient = 'records')\n",
    "    \n",
    "    inter_val = dv.transform(dicts)\n",
    "    X_val = scaler.transform(inter_val)\n",
    "    \n",
    "    y_pred = model.predict_proba(X_val)[:,1]\n",
    "    \n",
    "    score = roc_auc_score(y_val, y_pred)\n",
    "    scores.append(score)\n",
    "    \n",
    "mean_scores.append(np.mean(scores))\n",
    "std_scores.append(np.std(scores))\n",
    "\n",
    "print('ROC AUC score for model %s: %.5f +- %.5f' % ('XGB Classifier' , np.mean(scores), np.std(scores)))"
   ]
  },
  {
   "cell_type": "markdown",
   "metadata": {},
   "source": [
    "## CatBoost Classifier - with scaling"
   ]
  },
  {
   "cell_type": "code",
   "execution_count": 56,
   "metadata": {},
   "outputs": [],
   "source": [
    "model = CatBoostClassifier(logging_level ='Silent')"
   ]
  },
  {
   "cell_type": "code",
   "execution_count": 57,
   "metadata": {},
   "outputs": [
    {
     "name": "stdout",
     "output_type": "stream",
     "text": [
      "ROC AUC score for model Cat Boost Classifier: 0.79739 +- 0.00769\n"
     ]
    }
   ],
   "source": [
    "n_splits = 5\n",
    "scores = []\n",
    "\n",
    "kfold = KFold(n_splits=n_splits, shuffle=True, random_state=1)\n",
    "    \n",
    "for train_idx, val_idx in kfold.split(data_full_train):\n",
    "    # data splitting\n",
    "    data_train = data_full_train.iloc[train_idx]\n",
    "    data_val = data_full_train.iloc[val_idx]\n",
    "        \n",
    "    # y values\n",
    "    y_train = data_train['target']\n",
    "    y_val = data_val['target']\n",
    "    \n",
    "    del data_train['target']\n",
    "    del data_val['target']\n",
    "        \n",
    "    # training and predicting\n",
    "    dicts = data_train.to_dict(orient = 'records')\n",
    "    \n",
    "    dv = DictVectorizer(sparse = False)\n",
    "    inter_train = dv.fit_transform(dicts)\n",
    "    \n",
    "    scaler = StandardScaler()\n",
    "    X_train = scaler.fit_transform(inter_train)\n",
    "    \n",
    "    model.fit(X_train, y_train)\n",
    "    \n",
    "    dicts = data_val.to_dict(orient = 'records')\n",
    "    \n",
    "    inter_val = dv.transform(dicts)\n",
    "    X_val = scaler.transform(inter_val)\n",
    "    \n",
    "    y_pred = model.predict_proba(X_val)[:,1]\n",
    "    \n",
    "    score = roc_auc_score(y_val, y_pred)\n",
    "    scores.append(score)\n",
    "    \n",
    "mean_scores.append(np.mean(scores))\n",
    "std_scores.append(np.std(scores))\n",
    "\n",
    "print('ROC AUC score for model %s: %.5f +- %.5f' % ('Cat Boost Classifier' , np.mean(scores), np.std(scores)))"
   ]
  },
  {
   "cell_type": "code",
   "execution_count": 58,
   "metadata": {},
   "outputs": [],
   "source": [
    "d = {'models': models, 'mean': mean_scores, 'std':std_scores}\n",
    "df_2 = pd.DataFrame(data = d)"
   ]
  },
  {
   "cell_type": "code",
   "execution_count": 59,
   "metadata": {
    "scrolled": true
   },
   "outputs": [
    {
     "data": {
      "text/html": [
       "<div>\n",
       "<style scoped>\n",
       "    .dataframe tbody tr th:only-of-type {\n",
       "        vertical-align: middle;\n",
       "    }\n",
       "\n",
       "    .dataframe tbody tr th {\n",
       "        vertical-align: top;\n",
       "    }\n",
       "\n",
       "    .dataframe thead th {\n",
       "        text-align: right;\n",
       "    }\n",
       "</style>\n",
       "<table border=\"1\" class=\"dataframe\">\n",
       "  <thead>\n",
       "    <tr style=\"text-align: right;\">\n",
       "      <th></th>\n",
       "      <th>models</th>\n",
       "      <th>mean</th>\n",
       "      <th>std</th>\n",
       "    </tr>\n",
       "  </thead>\n",
       "  <tbody>\n",
       "    <tr>\n",
       "      <th>0</th>\n",
       "      <td>Logistic Regression</td>\n",
       "      <td>0.769356</td>\n",
       "      <td>0.019732</td>\n",
       "    </tr>\n",
       "    <tr>\n",
       "      <th>1</th>\n",
       "      <td>Random Forest</td>\n",
       "      <td>0.769548</td>\n",
       "      <td>0.007565</td>\n",
       "    </tr>\n",
       "    <tr>\n",
       "      <th>2</th>\n",
       "      <td>XGBoost</td>\n",
       "      <td>0.785389</td>\n",
       "      <td>0.007205</td>\n",
       "    </tr>\n",
       "    <tr>\n",
       "      <th>3</th>\n",
       "      <td>CatBoost</td>\n",
       "      <td>0.797391</td>\n",
       "      <td>0.007694</td>\n",
       "    </tr>\n",
       "  </tbody>\n",
       "</table>\n",
       "</div>"
      ],
      "text/plain": [
       "                models      mean       std\n",
       "0  Logistic Regression  0.769356  0.019732\n",
       "1        Random Forest  0.769548  0.007565\n",
       "2              XGBoost  0.785389  0.007205\n",
       "3             CatBoost  0.797391  0.007694"
      ]
     },
     "execution_count": 59,
     "metadata": {},
     "output_type": "execute_result"
    }
   ],
   "source": [
    "df"
   ]
  },
  {
   "cell_type": "markdown",
   "metadata": {},
   "source": [
    "We can tell that Catboost, yet again, provides us with the best ROC AUC score out of all of them. It should be noted that the Random Forest algorithm and the XGBoost algorithm actually does worse than the logistic regression model as well, which is surprising!"
   ]
  },
  {
   "cell_type": "markdown",
   "metadata": {},
   "source": [
    "## Training models - with minmax scaling\n",
    "\n",
    "Now, let's use minmax scaling to train our models."
   ]
  },
  {
   "cell_type": "code",
   "execution_count": 60,
   "metadata": {},
   "outputs": [],
   "source": [
    "from sklearn.preprocessing import MinMaxScaler"
   ]
  },
  {
   "cell_type": "code",
   "execution_count": 61,
   "metadata": {},
   "outputs": [],
   "source": [
    "models = ['Logistic Regression', 'Random Forest', 'XGBoost', 'CatBoost']\n",
    "mean_scores = []\n",
    "std_scores = []"
   ]
  },
  {
   "cell_type": "markdown",
   "metadata": {},
   "source": [
    "## Logistic Regression - with minmax scaling "
   ]
  },
  {
   "cell_type": "code",
   "execution_count": 62,
   "metadata": {},
   "outputs": [],
   "source": [
    "model = LogisticRegression()"
   ]
  },
  {
   "cell_type": "code",
   "execution_count": 63,
   "metadata": {},
   "outputs": [
    {
     "name": "stdout",
     "output_type": "stream",
     "text": [
      "ROC AUC score for model Logistic Regression: 0.79005 +- 0.01127\n"
     ]
    }
   ],
   "source": [
    "n_splits = 5\n",
    "scores = []\n",
    "\n",
    "kfold = KFold(n_splits=n_splits, shuffle=True, random_state=1)\n",
    "    \n",
    "for train_idx, val_idx in kfold.split(data_full_train):\n",
    "    # data splitting\n",
    "    data_train = data_full_train.iloc[train_idx]\n",
    "    data_val = data_full_train.iloc[val_idx]\n",
    "        \n",
    "    # y values\n",
    "    y_train = data_train['target']\n",
    "    y_val = data_val['target']\n",
    "    \n",
    "    del data_train['target']\n",
    "    del data_val['target']\n",
    "        \n",
    "    # training and predicting\n",
    "    dicts = data_train.to_dict(orient = 'records')\n",
    "    \n",
    "    dv = DictVectorizer(sparse = False)\n",
    "    inter_train = dv.fit_transform(dicts)\n",
    "    \n",
    "    scaler = MinMaxScaler()\n",
    "    X_train = scaler.fit_transform(inter_train)\n",
    "    \n",
    "    model.fit(X_train, y_train)\n",
    "    \n",
    "    dicts = data_val.to_dict(orient = 'records')\n",
    "    \n",
    "    inter_val = dv.transform(dicts)\n",
    "    X_val = scaler.transform(inter_val)\n",
    "    \n",
    "    y_pred = model.predict_proba(X_val)[:,1]\n",
    "    \n",
    "    score = roc_auc_score(y_val, y_pred)\n",
    "    scores.append(score)\n",
    "    \n",
    "mean_scores.append(np.mean(scores))\n",
    "std_scores.append(np.std(scores))\n",
    "\n",
    "print('ROC AUC score for model %s: %.5f +- %.5f' % ('Logistic Regression' , np.mean(scores), np.std(scores)))"
   ]
  },
  {
   "cell_type": "markdown",
   "metadata": {},
   "source": [
    "## Random Forest Classifier - with minmax scaling  "
   ]
  },
  {
   "cell_type": "code",
   "execution_count": 64,
   "metadata": {},
   "outputs": [],
   "source": [
    "model = RandomForestClassifier()"
   ]
  },
  {
   "cell_type": "code",
   "execution_count": 65,
   "metadata": {},
   "outputs": [
    {
     "name": "stdout",
     "output_type": "stream",
     "text": [
      "ROC AUC score for model Random Forest Classifier: 0.77101 +- 0.00732\n"
     ]
    }
   ],
   "source": [
    "n_splits = 5\n",
    "scores = []\n",
    "\n",
    "kfold = KFold(n_splits=n_splits, shuffle=True, random_state=1)\n",
    "    \n",
    "for train_idx, val_idx in kfold.split(data_full_train):\n",
    "    # data splitting\n",
    "    data_train = data_full_train.iloc[train_idx]\n",
    "    data_val = data_full_train.iloc[val_idx]\n",
    "        \n",
    "    # y values\n",
    "    y_train = data_train['target']\n",
    "    y_val = data_val['target']\n",
    "    \n",
    "    del data_train['target']\n",
    "    del data_val['target']\n",
    "        \n",
    "    # training and predicting\n",
    "    dicts = data_train.to_dict(orient = 'records')\n",
    "    \n",
    "    dv = DictVectorizer(sparse = False)\n",
    "    inter_train = dv.fit_transform(dicts)\n",
    "    \n",
    "    scaler = MinMaxScaler()\n",
    "    X_train = scaler.fit_transform(inter_train)\n",
    "    \n",
    "    model.fit(X_train, y_train)\n",
    "    \n",
    "    dicts = data_val.to_dict(orient = 'records')\n",
    "    \n",
    "    inter_val = dv.transform(dicts)\n",
    "    X_val = scaler.transform(inter_val)\n",
    "    \n",
    "    y_pred = model.predict_proba(X_val)[:,1]\n",
    "    \n",
    "    score = roc_auc_score(y_val, y_pred)\n",
    "    scores.append(score)\n",
    "    \n",
    "mean_scores.append(np.mean(scores))\n",
    "std_scores.append(np.std(scores))\n",
    "\n",
    "print('ROC AUC score for model %s: %.5f +- %.5f' % ('Random Forest Classifier' , np.mean(scores), np.std(scores)))"
   ]
  },
  {
   "cell_type": "markdown",
   "metadata": {},
   "source": [
    "## XGB Classifier - with minmax scaling  "
   ]
  },
  {
   "cell_type": "code",
   "execution_count": 66,
   "metadata": {},
   "outputs": [],
   "source": [
    "model = XGBClassifier()"
   ]
  },
  {
   "cell_type": "code",
   "execution_count": 67,
   "metadata": {},
   "outputs": [
    {
     "name": "stdout",
     "output_type": "stream",
     "text": [
      "ROC AUC score for model XGB Classifier: 0.78540 +- 0.00721\n"
     ]
    }
   ],
   "source": [
    "n_splits = 5\n",
    "scores = []\n",
    "\n",
    "kfold = KFold(n_splits=n_splits, shuffle=True, random_state=1)\n",
    "    \n",
    "for train_idx, val_idx in kfold.split(data_full_train):\n",
    "    # data splitting\n",
    "    data_train = data_full_train.iloc[train_idx]\n",
    "    data_val = data_full_train.iloc[val_idx]\n",
    "        \n",
    "    # y values\n",
    "    y_train = data_train['target']\n",
    "    y_val = data_val['target']\n",
    "    \n",
    "    del data_train['target']\n",
    "    del data_val['target']\n",
    "        \n",
    "    # training and predicting\n",
    "    dicts = data_train.to_dict(orient = 'records')\n",
    "    \n",
    "    dv = DictVectorizer(sparse = False)\n",
    "    inter_train = dv.fit_transform(dicts)\n",
    "    \n",
    "    scaler = MinMaxScaler()\n",
    "    X_train = scaler.fit_transform(inter_train)\n",
    "    \n",
    "    model.fit(X_train, y_train)\n",
    "    \n",
    "    dicts = data_val.to_dict(orient = 'records')\n",
    "    \n",
    "    inter_val = dv.transform(dicts)\n",
    "    X_val = scaler.transform(inter_val)\n",
    "    \n",
    "    y_pred = model.predict_proba(X_val)[:,1]\n",
    "    \n",
    "    score = roc_auc_score(y_val, y_pred)\n",
    "    scores.append(score)\n",
    "    \n",
    "mean_scores.append(np.mean(scores))\n",
    "std_scores.append(np.std(scores))\n",
    "\n",
    "print('ROC AUC score for model %s: %.5f +- %.5f' % ('XGB Classifier' , np.mean(scores), np.std(scores)))"
   ]
  },
  {
   "cell_type": "markdown",
   "metadata": {},
   "source": [
    "## CatBoost Classifier - with minmax scaling "
   ]
  },
  {
   "cell_type": "code",
   "execution_count": 68,
   "metadata": {},
   "outputs": [],
   "source": [
    "model = CatBoostClassifier(logging_level ='Silent')"
   ]
  },
  {
   "cell_type": "code",
   "execution_count": 69,
   "metadata": {},
   "outputs": [
    {
     "name": "stdout",
     "output_type": "stream",
     "text": [
      "ROC AUC score for model CatBoost Classifier: 0.79739 +- 0.00769\n"
     ]
    }
   ],
   "source": [
    "n_splits = 5\n",
    "scores = []\n",
    "\n",
    "kfold = KFold(n_splits=n_splits, shuffle=True, random_state=1)\n",
    "    \n",
    "for train_idx, val_idx in kfold.split(data_full_train):\n",
    "    # data splitting\n",
    "    data_train = data_full_train.iloc[train_idx]\n",
    "    data_val = data_full_train.iloc[val_idx]\n",
    "        \n",
    "    # y values\n",
    "    y_train = data_train['target']\n",
    "    y_val = data_val['target']\n",
    "    \n",
    "    del data_train['target']\n",
    "    del data_val['target']\n",
    "        \n",
    "    # training and predicting\n",
    "    dicts = data_train.to_dict(orient = 'records')\n",
    "    \n",
    "    dv = DictVectorizer(sparse = False)\n",
    "    inter_train = dv.fit_transform(dicts)\n",
    "    \n",
    "    scaler = MinMaxScaler()\n",
    "    X_train = scaler.fit_transform(inter_train)\n",
    "    \n",
    "    model.fit(X_train, y_train)\n",
    "    \n",
    "    dicts = data_val.to_dict(orient = 'records')\n",
    "    \n",
    "    inter_val = dv.transform(dicts)\n",
    "    X_val = scaler.transform(inter_val)\n",
    "    \n",
    "    y_pred = model.predict_proba(X_val)[:,1]\n",
    "    \n",
    "    score = roc_auc_score(y_val, y_pred)\n",
    "    scores.append(score)\n",
    "    \n",
    "mean_scores.append(np.mean(scores))\n",
    "std_scores.append(np.std(scores))\n",
    "\n",
    "print('ROC AUC score for model %s: %.5f +- %.5f' % ('CatBoost Classifier' , np.mean(scores), np.std(scores)))"
   ]
  },
  {
   "cell_type": "code",
   "execution_count": 70,
   "metadata": {},
   "outputs": [],
   "source": [
    "d = {'models': models, 'mean': mean_scores, 'std':std_scores}\n",
    "df_3 = pd.DataFrame(data = d)"
   ]
  },
  {
   "cell_type": "code",
   "execution_count": 71,
   "metadata": {
    "scrolled": true
   },
   "outputs": [
    {
     "data": {
      "text/html": [
       "<div>\n",
       "<style scoped>\n",
       "    .dataframe tbody tr th:only-of-type {\n",
       "        vertical-align: middle;\n",
       "    }\n",
       "\n",
       "    .dataframe tbody tr th {\n",
       "        vertical-align: top;\n",
       "    }\n",
       "\n",
       "    .dataframe thead th {\n",
       "        text-align: right;\n",
       "    }\n",
       "</style>\n",
       "<table border=\"1\" class=\"dataframe\">\n",
       "  <thead>\n",
       "    <tr style=\"text-align: right;\">\n",
       "      <th></th>\n",
       "      <th>models</th>\n",
       "      <th>mean</th>\n",
       "      <th>std</th>\n",
       "    </tr>\n",
       "  </thead>\n",
       "  <tbody>\n",
       "    <tr>\n",
       "      <th>0</th>\n",
       "      <td>Logistic Regression</td>\n",
       "      <td>0.769356</td>\n",
       "      <td>0.019732</td>\n",
       "    </tr>\n",
       "    <tr>\n",
       "      <th>1</th>\n",
       "      <td>Random Forest</td>\n",
       "      <td>0.769548</td>\n",
       "      <td>0.007565</td>\n",
       "    </tr>\n",
       "    <tr>\n",
       "      <th>2</th>\n",
       "      <td>XGBoost</td>\n",
       "      <td>0.785389</td>\n",
       "      <td>0.007205</td>\n",
       "    </tr>\n",
       "    <tr>\n",
       "      <th>3</th>\n",
       "      <td>CatBoost</td>\n",
       "      <td>0.797391</td>\n",
       "      <td>0.007694</td>\n",
       "    </tr>\n",
       "  </tbody>\n",
       "</table>\n",
       "</div>"
      ],
      "text/plain": [
       "                models      mean       std\n",
       "0  Logistic Regression  0.769356  0.019732\n",
       "1        Random Forest  0.769548  0.007565\n",
       "2              XGBoost  0.785389  0.007205\n",
       "3             CatBoost  0.797391  0.007694"
      ]
     },
     "execution_count": 71,
     "metadata": {},
     "output_type": "execute_result"
    }
   ],
   "source": [
    "df"
   ]
  },
  {
   "cell_type": "code",
   "execution_count": 72,
   "metadata": {},
   "outputs": [],
   "source": [
    "for column in df_2.columns:\n",
    "    df_2[str(column + \"_2\")] = df_2[column]\n",
    "    del df_2[column]\n"
   ]
  },
  {
   "cell_type": "code",
   "execution_count": 73,
   "metadata": {},
   "outputs": [],
   "source": [
    "df_2['models'] = df_2['models_2']\n",
    "del df_2['models_2']"
   ]
  },
  {
   "cell_type": "code",
   "execution_count": 74,
   "metadata": {},
   "outputs": [],
   "source": [
    "for column in df_3.columns:\n",
    "    df_3[str(column + \"_3\")] = df_3[column]\n",
    "    del df_3[column]"
   ]
  },
  {
   "cell_type": "code",
   "execution_count": 75,
   "metadata": {},
   "outputs": [],
   "source": [
    "df_3['models'] = df_3['models_3']\n",
    "del df_3['models_3']"
   ]
  },
  {
   "cell_type": "code",
   "execution_count": 76,
   "metadata": {
    "scrolled": true
   },
   "outputs": [],
   "source": [
    "df_full = df.merge(df_2, how = 'left').merge(df_3, how = 'left')"
   ]
  },
  {
   "cell_type": "code",
   "execution_count": 77,
   "metadata": {},
   "outputs": [],
   "source": [
    "df_full['standard_mean_change'] = ((df_full['mean_2'] - df_full['mean'])/df_full['mean']) * 100\n",
    "df_full['minmax_mean_change'] = ((df_full['mean_3'] - df_full['mean'])/df_full['mean']) * 100\n",
    "\n",
    "df_full['standard_std_change']= -((df_full['std_2'] - df_full['std'])/df_full['std']) * 100\n",
    "df_full['minmax_std_change']= -((df_full['std_3'] - df_full['std'])/df_full['std']) * 100"
   ]
  },
  {
   "cell_type": "code",
   "execution_count": 78,
   "metadata": {
    "scrolled": false
   },
   "outputs": [
    {
     "data": {
      "text/html": [
       "<div>\n",
       "<style scoped>\n",
       "    .dataframe tbody tr th:only-of-type {\n",
       "        vertical-align: middle;\n",
       "    }\n",
       "\n",
       "    .dataframe tbody tr th {\n",
       "        vertical-align: top;\n",
       "    }\n",
       "\n",
       "    .dataframe thead th {\n",
       "        text-align: right;\n",
       "    }\n",
       "</style>\n",
       "<table border=\"1\" class=\"dataframe\">\n",
       "  <thead>\n",
       "    <tr style=\"text-align: right;\">\n",
       "      <th></th>\n",
       "      <th>models</th>\n",
       "      <th>mean</th>\n",
       "      <th>std</th>\n",
       "      <th>mean_2</th>\n",
       "      <th>std_2</th>\n",
       "      <th>mean_3</th>\n",
       "      <th>std_3</th>\n",
       "      <th>standard_mean_change</th>\n",
       "      <th>minmax_mean_change</th>\n",
       "      <th>standard_std_change</th>\n",
       "      <th>minmax_std_change</th>\n",
       "    </tr>\n",
       "  </thead>\n",
       "  <tbody>\n",
       "    <tr>\n",
       "      <th>0</th>\n",
       "      <td>Logistic Regression</td>\n",
       "      <td>0.769356</td>\n",
       "      <td>0.019732</td>\n",
       "      <td>0.789944</td>\n",
       "      <td>0.011390</td>\n",
       "      <td>0.790054</td>\n",
       "      <td>0.011273</td>\n",
       "      <td>2.675957</td>\n",
       "      <td>2.690306</td>\n",
       "      <td>42.277641</td>\n",
       "      <td>42.868649</td>\n",
       "    </tr>\n",
       "    <tr>\n",
       "      <th>1</th>\n",
       "      <td>Random Forest</td>\n",
       "      <td>0.769548</td>\n",
       "      <td>0.007565</td>\n",
       "      <td>0.770709</td>\n",
       "      <td>0.008770</td>\n",
       "      <td>0.771010</td>\n",
       "      <td>0.007317</td>\n",
       "      <td>0.150854</td>\n",
       "      <td>0.190025</td>\n",
       "      <td>-15.927614</td>\n",
       "      <td>3.280079</td>\n",
       "    </tr>\n",
       "    <tr>\n",
       "      <th>2</th>\n",
       "      <td>XGBoost</td>\n",
       "      <td>0.785389</td>\n",
       "      <td>0.007205</td>\n",
       "      <td>0.785387</td>\n",
       "      <td>0.007222</td>\n",
       "      <td>0.785396</td>\n",
       "      <td>0.007208</td>\n",
       "      <td>-0.000289</td>\n",
       "      <td>0.000797</td>\n",
       "      <td>-0.229369</td>\n",
       "      <td>-0.030310</td>\n",
       "    </tr>\n",
       "    <tr>\n",
       "      <th>3</th>\n",
       "      <td>CatBoost</td>\n",
       "      <td>0.797391</td>\n",
       "      <td>0.007694</td>\n",
       "      <td>0.797391</td>\n",
       "      <td>0.007694</td>\n",
       "      <td>0.797391</td>\n",
       "      <td>0.007694</td>\n",
       "      <td>-0.000011</td>\n",
       "      <td>-0.000011</td>\n",
       "      <td>0.001065</td>\n",
       "      <td>0.001065</td>\n",
       "    </tr>\n",
       "  </tbody>\n",
       "</table>\n",
       "</div>"
      ],
      "text/plain": [
       "                models      mean       std    mean_2     std_2    mean_3  \\\n",
       "0  Logistic Regression  0.769356  0.019732  0.789944  0.011390  0.790054   \n",
       "1        Random Forest  0.769548  0.007565  0.770709  0.008770  0.771010   \n",
       "2              XGBoost  0.785389  0.007205  0.785387  0.007222  0.785396   \n",
       "3             CatBoost  0.797391  0.007694  0.797391  0.007694  0.797391   \n",
       "\n",
       "      std_3  standard_mean_change  minmax_mean_change  standard_std_change  \\\n",
       "0  0.011273              2.675957            2.690306            42.277641   \n",
       "1  0.007317              0.150854            0.190025           -15.927614   \n",
       "2  0.007208             -0.000289            0.000797            -0.229369   \n",
       "3  0.007694             -0.000011           -0.000011             0.001065   \n",
       "\n",
       "   minmax_std_change  \n",
       "0          42.868649  \n",
       "1           3.280079  \n",
       "2          -0.030310  \n",
       "3           0.001065  "
      ]
     },
     "execution_count": 78,
     "metadata": {},
     "output_type": "execute_result"
    }
   ],
   "source": [
    "df_full"
   ]
  },
  {
   "cell_type": "code",
   "execution_count": 79,
   "metadata": {},
   "outputs": [],
   "source": [
    "df_mean = df_full[['mean', 'mean_2', 'mean_3']]"
   ]
  },
  {
   "cell_type": "code",
   "execution_count": 80,
   "metadata": {},
   "outputs": [
    {
     "data": {
      "text/plain": [
       "mean      0.797391\n",
       "mean_2    0.797391\n",
       "mean_3    0.797391\n",
       "dtype: float64"
      ]
     },
     "execution_count": 80,
     "metadata": {},
     "output_type": "execute_result"
    }
   ],
   "source": [
    "df_mean.max()"
   ]
  },
  {
   "cell_type": "markdown",
   "metadata": {},
   "source": [
    "## Analysis of ROC score \n",
    "\n",
    "Some things to clarify:\n",
    "- All of these changes are in terms of percentage.\n",
    "- Positive changes denote an improvement, and negative changes denote a deterioration of results\n",
    "\n",
    "Generally, CatBoost has the highest score out of the four models that are measured.\n",
    "\n",
    "Some interesting observations:\n",
    "- The ROC score for the Logistic Regression increases with both the Standard Scaler and the MinMax Scaler, and decreases for the CatBoost Classifier.\n",
    "- The ROC score for both the Random Forest Classifier and the XGBoost Classifier will increase or decrease, depending on the Scaler. \n",
    "- There is a big improvement in the standard deviation of the Logistic Regression model when the scalers are used. There is a huge deterioration, however, with the Random Forest model especially with the MinMax scaler.\n",
    "- CatBoost Classifier has a pretty constant mean ROC AUC score, so we can say that it is pretty constant even with the scalers"
   ]
  },
  {
   "cell_type": "markdown",
   "metadata": {},
   "source": [
    "## Trying a smaller model\n",
    "\n",
    "What if we use a smaller model to train our model instead? If you recall, we had a 'lowest_corr_columns' list of columns. What if we remove these variables from our dataset? \n",
    "\n",
    "Let's try training with the smaller dataset!"
   ]
  },
  {
   "cell_type": "code",
   "execution_count": 81,
   "metadata": {},
   "outputs": [],
   "source": [
    "data_columns = []\n",
    "for column in data.columns:\n",
    "    data_columns.append(column)\n",
    "for column in lowest_corr_columns:\n",
    "    data_columns.remove(column)"
   ]
  },
  {
   "cell_type": "code",
   "execution_count": 82,
   "metadata": {},
   "outputs": [
    {
     "data": {
      "text/plain": [
       "['job',\n",
       " 'marital',\n",
       " 'education',\n",
       " 'default',\n",
       " 'contact',\n",
       " 'month',\n",
       " 'pdays',\n",
       " 'previous',\n",
       " 'poutcome',\n",
       " 'emp.var.rate',\n",
       " 'cons.price.idx',\n",
       " 'euribor3m',\n",
       " 'nr.employed',\n",
       " 'target']"
      ]
     },
     "execution_count": 82,
     "metadata": {},
     "output_type": "execute_result"
    }
   ],
   "source": [
    "data_columns"
   ]
  },
  {
   "cell_type": "code",
   "execution_count": 83,
   "metadata": {},
   "outputs": [],
   "source": [
    "data_full_train, data_test = train_test_split(data, random_state = 40, test_size = 0.2, shuffle = True, stratify = data['target'])\n",
    "data_train, data_val = train_test_split(data_full_train, random_state = 40, test_size = 0.25, shuffle = True, stratify = data_full_train['target'])"
   ]
  },
  {
   "cell_type": "code",
   "execution_count": 84,
   "metadata": {},
   "outputs": [
    {
     "data": {
      "text/html": [
       "<div>\n",
       "<style scoped>\n",
       "    .dataframe tbody tr th:only-of-type {\n",
       "        vertical-align: middle;\n",
       "    }\n",
       "\n",
       "    .dataframe tbody tr th {\n",
       "        vertical-align: top;\n",
       "    }\n",
       "\n",
       "    .dataframe thead th {\n",
       "        text-align: right;\n",
       "    }\n",
       "</style>\n",
       "<table border=\"1\" class=\"dataframe\">\n",
       "  <thead>\n",
       "    <tr style=\"text-align: right;\">\n",
       "      <th></th>\n",
       "      <th>index</th>\n",
       "      <th>job</th>\n",
       "      <th>marital</th>\n",
       "      <th>education</th>\n",
       "      <th>default</th>\n",
       "      <th>contact</th>\n",
       "      <th>month</th>\n",
       "      <th>pdays</th>\n",
       "      <th>previous</th>\n",
       "      <th>poutcome</th>\n",
       "      <th>emp.var.rate</th>\n",
       "      <th>cons.price.idx</th>\n",
       "      <th>euribor3m</th>\n",
       "      <th>nr.employed</th>\n",
       "      <th>target</th>\n",
       "    </tr>\n",
       "  </thead>\n",
       "  <tbody>\n",
       "    <tr>\n",
       "      <th>0</th>\n",
       "      <td>17194</td>\n",
       "      <td>admin.</td>\n",
       "      <td>single</td>\n",
       "      <td>high.school</td>\n",
       "      <td>no</td>\n",
       "      <td>telephone</td>\n",
       "      <td>jul</td>\n",
       "      <td>999</td>\n",
       "      <td>0</td>\n",
       "      <td>nonexistent</td>\n",
       "      <td>1.4</td>\n",
       "      <td>93.918</td>\n",
       "      <td>4.962</td>\n",
       "      <td>5228.1</td>\n",
       "      <td>0</td>\n",
       "    </tr>\n",
       "    <tr>\n",
       "      <th>1</th>\n",
       "      <td>3239</td>\n",
       "      <td>admin.</td>\n",
       "      <td>married</td>\n",
       "      <td>university.degree</td>\n",
       "      <td>no</td>\n",
       "      <td>telephone</td>\n",
       "      <td>may</td>\n",
       "      <td>999</td>\n",
       "      <td>0</td>\n",
       "      <td>nonexistent</td>\n",
       "      <td>1.1</td>\n",
       "      <td>93.994</td>\n",
       "      <td>4.860</td>\n",
       "      <td>5191.0</td>\n",
       "      <td>0</td>\n",
       "    </tr>\n",
       "    <tr>\n",
       "      <th>2</th>\n",
       "      <td>30931</td>\n",
       "      <td>blue-collar</td>\n",
       "      <td>married</td>\n",
       "      <td>basic.9y</td>\n",
       "      <td>no</td>\n",
       "      <td>cellular</td>\n",
       "      <td>may</td>\n",
       "      <td>999</td>\n",
       "      <td>0</td>\n",
       "      <td>nonexistent</td>\n",
       "      <td>-1.8</td>\n",
       "      <td>92.893</td>\n",
       "      <td>1.344</td>\n",
       "      <td>5099.1</td>\n",
       "      <td>0</td>\n",
       "    </tr>\n",
       "    <tr>\n",
       "      <th>3</th>\n",
       "      <td>25274</td>\n",
       "      <td>services</td>\n",
       "      <td>married</td>\n",
       "      <td>basic.9y</td>\n",
       "      <td>no</td>\n",
       "      <td>cellular</td>\n",
       "      <td>nov</td>\n",
       "      <td>4</td>\n",
       "      <td>1</td>\n",
       "      <td>success</td>\n",
       "      <td>-0.1</td>\n",
       "      <td>93.200</td>\n",
       "      <td>4.153</td>\n",
       "      <td>5195.8</td>\n",
       "      <td>0</td>\n",
       "    </tr>\n",
       "    <tr>\n",
       "      <th>4</th>\n",
       "      <td>38400</td>\n",
       "      <td>housemaid</td>\n",
       "      <td>married</td>\n",
       "      <td>basic.4y</td>\n",
       "      <td>no</td>\n",
       "      <td>cellular</td>\n",
       "      <td>oct</td>\n",
       "      <td>6</td>\n",
       "      <td>1</td>\n",
       "      <td>success</td>\n",
       "      <td>-3.4</td>\n",
       "      <td>92.431</td>\n",
       "      <td>0.737</td>\n",
       "      <td>5017.5</td>\n",
       "      <td>1</td>\n",
       "    </tr>\n",
       "    <tr>\n",
       "      <th>...</th>\n",
       "      <td>...</td>\n",
       "      <td>...</td>\n",
       "      <td>...</td>\n",
       "      <td>...</td>\n",
       "      <td>...</td>\n",
       "      <td>...</td>\n",
       "      <td>...</td>\n",
       "      <td>...</td>\n",
       "      <td>...</td>\n",
       "      <td>...</td>\n",
       "      <td>...</td>\n",
       "      <td>...</td>\n",
       "      <td>...</td>\n",
       "      <td>...</td>\n",
       "      <td>...</td>\n",
       "    </tr>\n",
       "    <tr>\n",
       "      <th>32945</th>\n",
       "      <td>28809</td>\n",
       "      <td>technician</td>\n",
       "      <td>single</td>\n",
       "      <td>high.school</td>\n",
       "      <td>no</td>\n",
       "      <td>telephone</td>\n",
       "      <td>apr</td>\n",
       "      <td>999</td>\n",
       "      <td>2</td>\n",
       "      <td>failure</td>\n",
       "      <td>-1.8</td>\n",
       "      <td>93.075</td>\n",
       "      <td>1.410</td>\n",
       "      <td>5099.1</td>\n",
       "      <td>0</td>\n",
       "    </tr>\n",
       "    <tr>\n",
       "      <th>32946</th>\n",
       "      <td>7807</td>\n",
       "      <td>entrepreneur</td>\n",
       "      <td>married</td>\n",
       "      <td>basic.4y</td>\n",
       "      <td>no</td>\n",
       "      <td>telephone</td>\n",
       "      <td>jun</td>\n",
       "      <td>999</td>\n",
       "      <td>0</td>\n",
       "      <td>nonexistent</td>\n",
       "      <td>1.4</td>\n",
       "      <td>94.465</td>\n",
       "      <td>4.865</td>\n",
       "      <td>5228.1</td>\n",
       "      <td>0</td>\n",
       "    </tr>\n",
       "    <tr>\n",
       "      <th>32947</th>\n",
       "      <td>29220</td>\n",
       "      <td>housemaid</td>\n",
       "      <td>divorced</td>\n",
       "      <td>high.school</td>\n",
       "      <td>unknown</td>\n",
       "      <td>cellular</td>\n",
       "      <td>apr</td>\n",
       "      <td>999</td>\n",
       "      <td>0</td>\n",
       "      <td>nonexistent</td>\n",
       "      <td>-1.8</td>\n",
       "      <td>93.075</td>\n",
       "      <td>1.405</td>\n",
       "      <td>5099.1</td>\n",
       "      <td>0</td>\n",
       "    </tr>\n",
       "    <tr>\n",
       "      <th>32948</th>\n",
       "      <td>30527</td>\n",
       "      <td>admin.</td>\n",
       "      <td>married</td>\n",
       "      <td>professional.course</td>\n",
       "      <td>no</td>\n",
       "      <td>cellular</td>\n",
       "      <td>may</td>\n",
       "      <td>999</td>\n",
       "      <td>0</td>\n",
       "      <td>nonexistent</td>\n",
       "      <td>-1.8</td>\n",
       "      <td>92.893</td>\n",
       "      <td>1.354</td>\n",
       "      <td>5099.1</td>\n",
       "      <td>0</td>\n",
       "    </tr>\n",
       "    <tr>\n",
       "      <th>32949</th>\n",
       "      <td>18860</td>\n",
       "      <td>blue-collar</td>\n",
       "      <td>married</td>\n",
       "      <td>basic.4y</td>\n",
       "      <td>no</td>\n",
       "      <td>telephone</td>\n",
       "      <td>aug</td>\n",
       "      <td>999</td>\n",
       "      <td>0</td>\n",
       "      <td>nonexistent</td>\n",
       "      <td>1.4</td>\n",
       "      <td>93.444</td>\n",
       "      <td>4.970</td>\n",
       "      <td>5228.1</td>\n",
       "      <td>0</td>\n",
       "    </tr>\n",
       "  </tbody>\n",
       "</table>\n",
       "<p>32950 rows × 15 columns</p>\n",
       "</div>"
      ],
      "text/plain": [
       "       index           job   marital            education  default    contact  \\\n",
       "0      17194        admin.    single          high.school       no  telephone   \n",
       "1       3239        admin.   married    university.degree       no  telephone   \n",
       "2      30931   blue-collar   married             basic.9y       no   cellular   \n",
       "3      25274      services   married             basic.9y       no   cellular   \n",
       "4      38400     housemaid   married             basic.4y       no   cellular   \n",
       "...      ...           ...       ...                  ...      ...        ...   \n",
       "32945  28809    technician    single          high.school       no  telephone   \n",
       "32946   7807  entrepreneur   married             basic.4y       no  telephone   \n",
       "32947  29220     housemaid  divorced          high.school  unknown   cellular   \n",
       "32948  30527        admin.   married  professional.course       no   cellular   \n",
       "32949  18860   blue-collar   married             basic.4y       no  telephone   \n",
       "\n",
       "      month  pdays  previous     poutcome  emp.var.rate  cons.price.idx  \\\n",
       "0       jul    999         0  nonexistent           1.4          93.918   \n",
       "1       may    999         0  nonexistent           1.1          93.994   \n",
       "2       may    999         0  nonexistent          -1.8          92.893   \n",
       "3       nov      4         1      success          -0.1          93.200   \n",
       "4       oct      6         1      success          -3.4          92.431   \n",
       "...     ...    ...       ...          ...           ...             ...   \n",
       "32945   apr    999         2      failure          -1.8          93.075   \n",
       "32946   jun    999         0  nonexistent           1.4          94.465   \n",
       "32947   apr    999         0  nonexistent          -1.8          93.075   \n",
       "32948   may    999         0  nonexistent          -1.8          92.893   \n",
       "32949   aug    999         0  nonexistent           1.4          93.444   \n",
       "\n",
       "       euribor3m  nr.employed  target  \n",
       "0          4.962       5228.1       0  \n",
       "1          4.860       5191.0       0  \n",
       "2          1.344       5099.1       0  \n",
       "3          4.153       5195.8       0  \n",
       "4          0.737       5017.5       1  \n",
       "...          ...          ...     ...  \n",
       "32945      1.410       5099.1       0  \n",
       "32946      4.865       5228.1       0  \n",
       "32947      1.405       5099.1       0  \n",
       "32948      1.354       5099.1       0  \n",
       "32949      4.970       5228.1       0  \n",
       "\n",
       "[32950 rows x 15 columns]"
      ]
     },
     "execution_count": 84,
     "metadata": {},
     "output_type": "execute_result"
    }
   ],
   "source": [
    "data_small_full_train = data_full_train[data_columns]\n",
    "data_small_full_train.reset_index()"
   ]
  },
  {
   "cell_type": "code",
   "execution_count": 85,
   "metadata": {},
   "outputs": [],
   "source": [
    "data_small_train = data_train[data_columns]\n",
    "data_small_train.reset_index()\n",
    "\n",
    "y_small_train = data_small_train['target']\n",
    "del data_small_train['target']"
   ]
  },
  {
   "cell_type": "code",
   "execution_count": 86,
   "metadata": {},
   "outputs": [],
   "source": [
    "data_small_val = data_val[data_columns]\n",
    "data_small_val.reset_index()\n",
    "\n",
    "y_small_val = data_small_val['target']\n",
    "del data_small_val['target']"
   ]
  },
  {
   "cell_type": "markdown",
   "metadata": {},
   "source": [
    "## Using smaller dataset"
   ]
  },
  {
   "cell_type": "code",
   "execution_count": 87,
   "metadata": {},
   "outputs": [],
   "source": [
    "def train(data_train, y_train, model): \n",
    "    dicts = data_train.to_dict(orient = 'records')\n",
    "    \n",
    "    dv = DictVectorizer(sparse = False)\n",
    "    X_train = dv.fit_transform(dicts)\n",
    "    \n",
    "    model.fit(X_train, y_train)\n",
    "    return dv, model\n"
   ]
  },
  {
   "cell_type": "code",
   "execution_count": 88,
   "metadata": {},
   "outputs": [],
   "source": [
    "def predict(data_val, y_val, model):\n",
    "    dicts = data_val.to_dict(orient = 'records')\n",
    "    \n",
    "    X_val = dv.transform(dicts)\n",
    "    \n",
    "    y_pred = model.predict_proba(X_val)[:,1]\n",
    "    return y_pred"
   ]
  },
  {
   "cell_type": "code",
   "execution_count": 89,
   "metadata": {},
   "outputs": [],
   "source": [
    "models = ['Logistic Regression', 'Random Forest', 'XGBoost', 'CatBoost']\n",
    "mean_scores = []\n",
    "std_scores = []"
   ]
  },
  {
   "cell_type": "markdown",
   "metadata": {},
   "source": [
    "## Logistic Regression - with smaller dataset"
   ]
  },
  {
   "cell_type": "code",
   "execution_count": 90,
   "metadata": {},
   "outputs": [],
   "source": [
    "logreg = LogisticRegression()"
   ]
  },
  {
   "cell_type": "code",
   "execution_count": 91,
   "metadata": {
    "scrolled": true
   },
   "outputs": [
    {
     "name": "stdout",
     "output_type": "stream",
     "text": [
      "ROC AUC score for model Logistic Regression: 0.78670 +- 0.01076\n"
     ]
    }
   ],
   "source": [
    "n_splits = 5\n",
    "scores = []\n",
    "\n",
    "kfold = KFold(n_splits=n_splits, shuffle=True, random_state=1)\n",
    "    \n",
    "for train_idx, val_idx in kfold.split(data_full_train):\n",
    "    # data splitting\n",
    "    data_train = data_small_full_train.iloc[train_idx]\n",
    "    data_val = data_small_full_train.iloc[val_idx]\n",
    "        \n",
    "    # y values\n",
    "    y_train = data_train['target']\n",
    "    y_val = data_val['target']\n",
    "    \n",
    "    del data_train['target']\n",
    "    del data_val['target']\n",
    "        \n",
    "    # training and predicting\n",
    "    dv, model = train(data_train, y_train, logreg)\n",
    "    y_pred = predict(data_val, dv, model)\n",
    "    \n",
    "    score = roc_auc_score(y_val, y_pred)\n",
    "    scores.append(score)\n",
    "\n",
    "mean_scores.append(np.mean(scores))\n",
    "std_scores.append(np.std(scores))\n",
    "\n",
    "print('ROC AUC score for model %s: %.5f +- %.5f' % ('Logistic Regression' , np.mean(scores), np.std(scores)))"
   ]
  },
  {
   "cell_type": "markdown",
   "metadata": {},
   "source": [
    "## Random Forest Classifier - with smaller dataset "
   ]
  },
  {
   "cell_type": "code",
   "execution_count": 92,
   "metadata": {},
   "outputs": [],
   "source": [
    "rfc = RandomForestClassifier()"
   ]
  },
  {
   "cell_type": "code",
   "execution_count": 93,
   "metadata": {},
   "outputs": [
    {
     "name": "stdout",
     "output_type": "stream",
     "text": [
      "ROC AUC score for model Random Forest Classifier: 0.74819 +- 0.00976\n"
     ]
    }
   ],
   "source": [
    "n_splits = 5\n",
    "scores = []\n",
    "\n",
    "kfold = KFold(n_splits=n_splits, shuffle=True, random_state=1)\n",
    "    \n",
    "for train_idx, val_idx in kfold.split(data_full_train):\n",
    "    # data splitting\n",
    "    data_train = data_small_full_train.iloc[train_idx]\n",
    "    data_val = data_small_full_train.iloc[val_idx]\n",
    "        \n",
    "    # y values\n",
    "    y_train = data_train['target']\n",
    "    y_val = data_val['target']\n",
    "    \n",
    "    del data_train['target']\n",
    "    del data_val['target']\n",
    "        \n",
    "    # training and predicting\n",
    "    dv, model = train(data_train, y_train, rfc)\n",
    "    y_pred = predict(data_val, dv, model)\n",
    "    \n",
    "    score = roc_auc_score(y_val, y_pred)\n",
    "    scores.append(score)\n",
    "\n",
    "mean_scores.append(np.mean(scores))\n",
    "std_scores.append(np.std(scores))\n",
    "\n",
    "print('ROC AUC score for model %s: %.5f +- %.5f' % ('Random Forest Classifier' , np.mean(scores), np.std(scores)))"
   ]
  },
  {
   "cell_type": "markdown",
   "metadata": {},
   "source": [
    "## XGB Classifier - with smaller dataset"
   ]
  },
  {
   "cell_type": "code",
   "execution_count": 94,
   "metadata": {},
   "outputs": [],
   "source": [
    "xgb = XGBClassifier()"
   ]
  },
  {
   "cell_type": "code",
   "execution_count": 95,
   "metadata": {},
   "outputs": [
    {
     "name": "stdout",
     "output_type": "stream",
     "text": [
      "ROC AUC score for model XGB Classifier: 0.78812 +- 0.00636\n"
     ]
    }
   ],
   "source": [
    "n_splits = 5\n",
    "scores = []\n",
    "\n",
    "kfold = KFold(n_splits=n_splits, shuffle=True, random_state=1)\n",
    "    \n",
    "for train_idx, val_idx in kfold.split(data_full_train):\n",
    "    # data splitting\n",
    "    data_train = data_small_full_train.iloc[train_idx]\n",
    "    data_val = data_small_full_train.iloc[val_idx]\n",
    "        \n",
    "    # y values\n",
    "    y_train = data_train['target']\n",
    "    y_val = data_val['target']\n",
    "    \n",
    "    del data_train['target']\n",
    "    del data_val['target']\n",
    "        \n",
    "    # training and predicting\n",
    "    dv, model = train(data_train, y_train, xgb)\n",
    "    y_pred = predict(data_val, dv, model)\n",
    "    \n",
    "    score = roc_auc_score(y_val, y_pred)\n",
    "    scores.append(score)\n",
    "\n",
    "mean_scores.append(np.mean(scores))\n",
    "std_scores.append(np.std(scores))\n",
    "\n",
    "print('ROC AUC score for model %s: %.5f +- %.5f' % ('XGB Classifier' , np.mean(scores), np.std(scores)))"
   ]
  },
  {
   "cell_type": "markdown",
   "metadata": {},
   "source": [
    "## CatBoost Classifier - with smaller dataset "
   ]
  },
  {
   "cell_type": "code",
   "execution_count": 96,
   "metadata": {},
   "outputs": [],
   "source": [
    "cbc = CatBoostClassifier(logging_level ='Silent')"
   ]
  },
  {
   "cell_type": "code",
   "execution_count": 97,
   "metadata": {},
   "outputs": [
    {
     "name": "stdout",
     "output_type": "stream",
     "text": [
      "ROC AUC score for model CatBoost Classifier: 0.79523 +- 0.01040\n"
     ]
    }
   ],
   "source": [
    "n_splits = 5\n",
    "scores = []\n",
    "\n",
    "kfold = KFold(n_splits=n_splits, shuffle=True, random_state=1)\n",
    "    \n",
    "for train_idx, val_idx in kfold.split(data_full_train):\n",
    "    # data splitting\n",
    "    data_train = data_small_full_train.iloc[train_idx]\n",
    "    data_val = data_small_full_train.iloc[val_idx]\n",
    "        \n",
    "    # y values\n",
    "    y_train = data_train['target']\n",
    "    y_val = data_val['target']\n",
    "    \n",
    "    del data_train['target']\n",
    "    del data_val['target']\n",
    "        \n",
    "    # training and predicting\n",
    "    dv, model = train(data_train, y_train, cbc)\n",
    "    y_pred = predict(data_val, dv, model)\n",
    "    \n",
    "    score = roc_auc_score(y_val, y_pred)\n",
    "    scores.append(score)\n",
    "\n",
    "mean_scores.append(np.mean(scores))\n",
    "std_scores.append(np.std(scores))\n",
    "\n",
    "print('ROC AUC score for model %s: %.5f +- %.5f' % ('CatBoost Classifier' , np.mean(scores), np.std(scores)))"
   ]
  },
  {
   "cell_type": "code",
   "execution_count": 98,
   "metadata": {},
   "outputs": [],
   "source": [
    "d = {'models': models, 'mean_small': mean_scores, 'std_small':std_scores}\n",
    "df_small = pd.DataFrame(data = d)"
   ]
  },
  {
   "cell_type": "code",
   "execution_count": 99,
   "metadata": {},
   "outputs": [
    {
     "data": {
      "text/html": [
       "<div>\n",
       "<style scoped>\n",
       "    .dataframe tbody tr th:only-of-type {\n",
       "        vertical-align: middle;\n",
       "    }\n",
       "\n",
       "    .dataframe tbody tr th {\n",
       "        vertical-align: top;\n",
       "    }\n",
       "\n",
       "    .dataframe thead th {\n",
       "        text-align: right;\n",
       "    }\n",
       "</style>\n",
       "<table border=\"1\" class=\"dataframe\">\n",
       "  <thead>\n",
       "    <tr style=\"text-align: right;\">\n",
       "      <th></th>\n",
       "      <th>models</th>\n",
       "      <th>mean_small</th>\n",
       "      <th>std_small</th>\n",
       "    </tr>\n",
       "  </thead>\n",
       "  <tbody>\n",
       "    <tr>\n",
       "      <th>0</th>\n",
       "      <td>Logistic Regression</td>\n",
       "      <td>0.786700</td>\n",
       "      <td>0.010758</td>\n",
       "    </tr>\n",
       "    <tr>\n",
       "      <th>1</th>\n",
       "      <td>Random Forest</td>\n",
       "      <td>0.748187</td>\n",
       "      <td>0.009758</td>\n",
       "    </tr>\n",
       "    <tr>\n",
       "      <th>2</th>\n",
       "      <td>XGBoost</td>\n",
       "      <td>0.788116</td>\n",
       "      <td>0.006355</td>\n",
       "    </tr>\n",
       "    <tr>\n",
       "      <th>3</th>\n",
       "      <td>CatBoost</td>\n",
       "      <td>0.795235</td>\n",
       "      <td>0.010404</td>\n",
       "    </tr>\n",
       "  </tbody>\n",
       "</table>\n",
       "</div>"
      ],
      "text/plain": [
       "                models  mean_small  std_small\n",
       "0  Logistic Regression    0.786700   0.010758\n",
       "1        Random Forest    0.748187   0.009758\n",
       "2              XGBoost    0.788116   0.006355\n",
       "3             CatBoost    0.795235   0.010404"
      ]
     },
     "execution_count": 99,
     "metadata": {},
     "output_type": "execute_result"
    }
   ],
   "source": [
    "df_small"
   ]
  },
  {
   "cell_type": "code",
   "execution_count": 100,
   "metadata": {},
   "outputs": [],
   "source": [
    "df_small_comparison = df.merge(df_small, how = 'left')"
   ]
  },
  {
   "cell_type": "code",
   "execution_count": 101,
   "metadata": {},
   "outputs": [
    {
     "data": {
      "text/html": [
       "<div>\n",
       "<style scoped>\n",
       "    .dataframe tbody tr th:only-of-type {\n",
       "        vertical-align: middle;\n",
       "    }\n",
       "\n",
       "    .dataframe tbody tr th {\n",
       "        vertical-align: top;\n",
       "    }\n",
       "\n",
       "    .dataframe thead th {\n",
       "        text-align: right;\n",
       "    }\n",
       "</style>\n",
       "<table border=\"1\" class=\"dataframe\">\n",
       "  <thead>\n",
       "    <tr style=\"text-align: right;\">\n",
       "      <th></th>\n",
       "      <th>models</th>\n",
       "      <th>mean</th>\n",
       "      <th>std</th>\n",
       "      <th>mean_small</th>\n",
       "      <th>std_small</th>\n",
       "    </tr>\n",
       "  </thead>\n",
       "  <tbody>\n",
       "    <tr>\n",
       "      <th>0</th>\n",
       "      <td>Logistic Regression</td>\n",
       "      <td>0.769356</td>\n",
       "      <td>0.019732</td>\n",
       "      <td>0.786700</td>\n",
       "      <td>0.010758</td>\n",
       "    </tr>\n",
       "    <tr>\n",
       "      <th>1</th>\n",
       "      <td>Random Forest</td>\n",
       "      <td>0.769548</td>\n",
       "      <td>0.007565</td>\n",
       "      <td>0.748187</td>\n",
       "      <td>0.009758</td>\n",
       "    </tr>\n",
       "    <tr>\n",
       "      <th>2</th>\n",
       "      <td>XGBoost</td>\n",
       "      <td>0.785389</td>\n",
       "      <td>0.007205</td>\n",
       "      <td>0.788116</td>\n",
       "      <td>0.006355</td>\n",
       "    </tr>\n",
       "    <tr>\n",
       "      <th>3</th>\n",
       "      <td>CatBoost</td>\n",
       "      <td>0.797391</td>\n",
       "      <td>0.007694</td>\n",
       "      <td>0.795235</td>\n",
       "      <td>0.010404</td>\n",
       "    </tr>\n",
       "  </tbody>\n",
       "</table>\n",
       "</div>"
      ],
      "text/plain": [
       "                models      mean       std  mean_small  std_small\n",
       "0  Logistic Regression  0.769356  0.019732    0.786700   0.010758\n",
       "1        Random Forest  0.769548  0.007565    0.748187   0.009758\n",
       "2              XGBoost  0.785389  0.007205    0.788116   0.006355\n",
       "3             CatBoost  0.797391  0.007694    0.795235   0.010404"
      ]
     },
     "execution_count": 101,
     "metadata": {},
     "output_type": "execute_result"
    }
   ],
   "source": [
    "df_small_comparison"
   ]
  },
  {
   "cell_type": "code",
   "execution_count": 102,
   "metadata": {},
   "outputs": [],
   "source": [
    "df_small_comparison['mean_change'] = (df_small_comparison['mean_small'] - df_small_comparison['mean'])/df_small_comparison['mean'] * 100\n",
    "\n",
    "df_small_comparison['std_change'] = -(df_small_comparison['std_small'] - df_small_comparison['std'])/df_small_comparison['std'] * 100"
   ]
  },
  {
   "cell_type": "code",
   "execution_count": 103,
   "metadata": {},
   "outputs": [
    {
     "data": {
      "text/html": [
       "<div>\n",
       "<style scoped>\n",
       "    .dataframe tbody tr th:only-of-type {\n",
       "        vertical-align: middle;\n",
       "    }\n",
       "\n",
       "    .dataframe tbody tr th {\n",
       "        vertical-align: top;\n",
       "    }\n",
       "\n",
       "    .dataframe thead th {\n",
       "        text-align: right;\n",
       "    }\n",
       "</style>\n",
       "<table border=\"1\" class=\"dataframe\">\n",
       "  <thead>\n",
       "    <tr style=\"text-align: right;\">\n",
       "      <th></th>\n",
       "      <th>models</th>\n",
       "      <th>mean</th>\n",
       "      <th>std</th>\n",
       "      <th>mean_small</th>\n",
       "      <th>std_small</th>\n",
       "      <th>mean_change</th>\n",
       "      <th>std_change</th>\n",
       "    </tr>\n",
       "  </thead>\n",
       "  <tbody>\n",
       "    <tr>\n",
       "      <th>0</th>\n",
       "      <td>Logistic Regression</td>\n",
       "      <td>0.769356</td>\n",
       "      <td>0.019732</td>\n",
       "      <td>0.786700</td>\n",
       "      <td>0.010758</td>\n",
       "      <td>2.254307</td>\n",
       "      <td>45.476529</td>\n",
       "    </tr>\n",
       "    <tr>\n",
       "      <th>1</th>\n",
       "      <td>Random Forest</td>\n",
       "      <td>0.769548</td>\n",
       "      <td>0.007565</td>\n",
       "      <td>0.748187</td>\n",
       "      <td>0.009758</td>\n",
       "      <td>-2.775810</td>\n",
       "      <td>-28.985071</td>\n",
       "    </tr>\n",
       "    <tr>\n",
       "      <th>2</th>\n",
       "      <td>XGBoost</td>\n",
       "      <td>0.785389</td>\n",
       "      <td>0.007205</td>\n",
       "      <td>0.788116</td>\n",
       "      <td>0.006355</td>\n",
       "      <td>0.347116</td>\n",
       "      <td>11.797092</td>\n",
       "    </tr>\n",
       "    <tr>\n",
       "      <th>3</th>\n",
       "      <td>CatBoost</td>\n",
       "      <td>0.797391</td>\n",
       "      <td>0.007694</td>\n",
       "      <td>0.795235</td>\n",
       "      <td>0.010404</td>\n",
       "      <td>-0.270369</td>\n",
       "      <td>-35.220620</td>\n",
       "    </tr>\n",
       "  </tbody>\n",
       "</table>\n",
       "</div>"
      ],
      "text/plain": [
       "                models      mean       std  mean_small  std_small  \\\n",
       "0  Logistic Regression  0.769356  0.019732    0.786700   0.010758   \n",
       "1        Random Forest  0.769548  0.007565    0.748187   0.009758   \n",
       "2              XGBoost  0.785389  0.007205    0.788116   0.006355   \n",
       "3             CatBoost  0.797391  0.007694    0.795235   0.010404   \n",
       "\n",
       "   mean_change  std_change  \n",
       "0     2.254307   45.476529  \n",
       "1    -2.775810  -28.985071  \n",
       "2     0.347116   11.797092  \n",
       "3    -0.270369  -35.220620  "
      ]
     },
     "execution_count": 103,
     "metadata": {},
     "output_type": "execute_result"
    }
   ],
   "source": [
    "df_small_comparison"
   ]
  },
  {
   "cell_type": "markdown",
   "metadata": {},
   "source": [
    "## Analysis of ROC score \n",
    "\n",
    "Some things to clarify:\n",
    "- All of these changes are in terms of percentage.\n",
    "- Positive changes denote an improvement, and negative changes denote a deterioration of results\n",
    "\n",
    "Generally, the CatBoost still does the best out of all the models, and the ROC AUC score actually deteriorates with the change in the size of the dataset. \n",
    "\n",
    "Some interesting observations:\n",
    "- Logistic Regression and XGBoost has improved ROC AUC performance with the smaller dataset, while Random Forest and CatBoost has decreased performance. \n",
    "- There is a pretty big change in the standard deviation with the smaller dataset. Logistic Regression and XGBoost decreases the standard deviation, while RandomForest and CatBoost increases the standard deviation."
   ]
  },
  {
   "cell_type": "markdown",
   "metadata": {},
   "source": [
    "## Models + Smaller Dataset + Standard Scaler\n",
    "\n",
    "We will be combining the both the smaller dataset and the scalers together to see the changes with the ROC AUC score."
   ]
  },
  {
   "cell_type": "code",
   "execution_count": 104,
   "metadata": {},
   "outputs": [],
   "source": [
    "models = ['Logistic Regression', 'Random Forest', 'XGBoost', 'CatBoost']\n",
    "mean_scores = []\n",
    "std_scores = []"
   ]
  },
  {
   "cell_type": "markdown",
   "metadata": {},
   "source": [
    "## Logistic Regression - smaller dataset + standard scaler "
   ]
  },
  {
   "cell_type": "code",
   "execution_count": 105,
   "metadata": {},
   "outputs": [],
   "source": [
    "model = LogisticRegression()"
   ]
  },
  {
   "cell_type": "code",
   "execution_count": 106,
   "metadata": {},
   "outputs": [
    {
     "name": "stdout",
     "output_type": "stream",
     "text": [
      "ROC AUC score for model Logistic Regression: 0.78865 +- 0.01065\n"
     ]
    }
   ],
   "source": [
    "n_splits = 5\n",
    "scores = []\n",
    "\n",
    "kfold = KFold(n_splits=n_splits, shuffle=True, random_state=1)\n",
    "    \n",
    "for train_idx, val_idx in kfold.split(data_full_train):\n",
    "    # data splitting\n",
    "    data_train = data_small_full_train.iloc[train_idx]\n",
    "    data_val = data_small_full_train.iloc[val_idx]\n",
    "        \n",
    "    # y values\n",
    "    y_train = data_train['target']\n",
    "    y_val = data_val['target']\n",
    "    \n",
    "    del data_train['target']\n",
    "    del data_val['target']\n",
    "        \n",
    "    # training and predicting\n",
    "    dicts = data_train.to_dict(orient = 'records')\n",
    "    \n",
    "    dv = DictVectorizer(sparse = False)\n",
    "    inter_train = dv.fit_transform(dicts)\n",
    "    \n",
    "    scaler = StandardScaler()\n",
    "    X_train = scaler.fit_transform(inter_train)\n",
    "    \n",
    "    model.fit(X_train, y_train)\n",
    "    \n",
    "    dicts = data_val.to_dict(orient = 'records')\n",
    "    \n",
    "    inter_val = dv.transform(dicts)\n",
    "    X_val = scaler.transform(inter_val)\n",
    "    \n",
    "    y_pred = model.predict_proba(X_val)[:,1]\n",
    "    \n",
    "    score = roc_auc_score(y_val, y_pred)\n",
    "    scores.append(score)\n",
    "    \n",
    "mean_scores.append(np.mean(scores))\n",
    "std_scores.append(np.std(scores))\n",
    "\n",
    "print('ROC AUC score for model %s: %.5f +- %.5f' % ('Logistic Regression' , np.mean(scores), np.std(scores)))"
   ]
  },
  {
   "cell_type": "markdown",
   "metadata": {},
   "source": [
    "## Random Forest Classifier - smaller dataset + standard scaler "
   ]
  },
  {
   "cell_type": "code",
   "execution_count": 107,
   "metadata": {},
   "outputs": [],
   "source": [
    "model = RandomForestClassifier()"
   ]
  },
  {
   "cell_type": "code",
   "execution_count": 108,
   "metadata": {},
   "outputs": [
    {
     "name": "stdout",
     "output_type": "stream",
     "text": [
      "ROC AUC score for model Random Forest Classifier: 0.74901 +- 0.01152\n"
     ]
    }
   ],
   "source": [
    "n_splits = 5\n",
    "scores = []\n",
    "\n",
    "kfold = KFold(n_splits=n_splits, shuffle=True, random_state=1)\n",
    "    \n",
    "for train_idx, val_idx in kfold.split(data_full_train):\n",
    "    # data splitting\n",
    "    data_train = data_small_full_train.iloc[train_idx]\n",
    "    data_val = data_small_full_train.iloc[val_idx]\n",
    "        \n",
    "    # y values\n",
    "    y_train = data_train['target']\n",
    "    y_val = data_val['target']\n",
    "    \n",
    "    del data_train['target']\n",
    "    del data_val['target']\n",
    "        \n",
    "    # training and predicting\n",
    "    dicts = data_train.to_dict(orient = 'records')\n",
    "    \n",
    "    dv = DictVectorizer(sparse = False)\n",
    "    inter_train = dv.fit_transform(dicts)\n",
    "    \n",
    "    scaler = StandardScaler()\n",
    "    X_train = scaler.fit_transform(inter_train)\n",
    "    \n",
    "    model.fit(X_train, y_train)\n",
    "    \n",
    "    dicts = data_val.to_dict(orient = 'records')\n",
    "    \n",
    "    inter_val = dv.transform(dicts)\n",
    "    X_val = scaler.transform(inter_val)\n",
    "    \n",
    "    y_pred = model.predict_proba(X_val)[:,1]\n",
    "    \n",
    "    score = roc_auc_score(y_val, y_pred)\n",
    "    scores.append(score)\n",
    "    \n",
    "mean_scores.append(np.mean(scores))\n",
    "std_scores.append(np.std(scores))\n",
    "\n",
    "print('ROC AUC score for model %s: %.5f +- %.5f' % ('Random Forest Classifier' , np.mean(scores), np.std(scores)))"
   ]
  },
  {
   "cell_type": "markdown",
   "metadata": {},
   "source": [
    "## XGB Classifier - smaller dataset + standard scaler "
   ]
  },
  {
   "cell_type": "code",
   "execution_count": 109,
   "metadata": {},
   "outputs": [],
   "source": [
    "model = XGBClassifier()"
   ]
  },
  {
   "cell_type": "code",
   "execution_count": 110,
   "metadata": {},
   "outputs": [
    {
     "name": "stdout",
     "output_type": "stream",
     "text": [
      "ROC AUC score for model XGB Classifier: 0.78813 +- 0.00637\n"
     ]
    }
   ],
   "source": [
    "n_splits = 5\n",
    "scores = []\n",
    "\n",
    "kfold = KFold(n_splits=n_splits, shuffle=True, random_state=1)\n",
    "    \n",
    "for train_idx, val_idx in kfold.split(data_full_train):\n",
    "    # data splitting\n",
    "    data_train = data_small_full_train.iloc[train_idx]\n",
    "    data_val = data_small_full_train.iloc[val_idx]\n",
    "        \n",
    "    # y values\n",
    "    y_train = data_train['target']\n",
    "    y_val = data_val['target']\n",
    "    \n",
    "    del data_train['target']\n",
    "    del data_val['target']\n",
    "        \n",
    "    # training and predicting\n",
    "    dicts = data_train.to_dict(orient = 'records')\n",
    "    \n",
    "    dv = DictVectorizer(sparse = False)\n",
    "    inter_train = dv.fit_transform(dicts)\n",
    "    \n",
    "    scaler = StandardScaler()\n",
    "    X_train = scaler.fit_transform(inter_train)\n",
    "    \n",
    "    model.fit(X_train, y_train)\n",
    "    \n",
    "    dicts = data_val.to_dict(orient = 'records')\n",
    "    \n",
    "    inter_val = dv.transform(dicts)\n",
    "    X_val = scaler.transform(inter_val)\n",
    "    \n",
    "    y_pred = model.predict_proba(X_val)[:,1]\n",
    "    \n",
    "    score = roc_auc_score(y_val, y_pred)\n",
    "    scores.append(score)\n",
    "    \n",
    "mean_scores.append(np.mean(scores))\n",
    "std_scores.append(np.std(scores))\n",
    "\n",
    "print('ROC AUC score for model %s: %.5f +- %.5f' % ('XGB Classifier' , np.mean(scores), np.std(scores)))"
   ]
  },
  {
   "cell_type": "markdown",
   "metadata": {},
   "source": [
    "## CatBoost Classifier - smaller dataset + standard scaler "
   ]
  },
  {
   "cell_type": "code",
   "execution_count": 111,
   "metadata": {},
   "outputs": [],
   "source": [
    "model = CatBoostClassifier(logging_level = 'Silent')"
   ]
  },
  {
   "cell_type": "code",
   "execution_count": 112,
   "metadata": {},
   "outputs": [
    {
     "name": "stdout",
     "output_type": "stream",
     "text": [
      "ROC AUC score for model CatBoost Classifier: 0.79523 +- 0.01040\n"
     ]
    }
   ],
   "source": [
    "n_splits = 5\n",
    "scores = []\n",
    "\n",
    "kfold = KFold(n_splits=n_splits, shuffle=True, random_state=1)\n",
    "    \n",
    "for train_idx, val_idx in kfold.split(data_full_train):\n",
    "    # data splitting\n",
    "    data_train = data_small_full_train.iloc[train_idx]\n",
    "    data_val = data_small_full_train.iloc[val_idx]\n",
    "        \n",
    "    # y values\n",
    "    y_train = data_train['target']\n",
    "    y_val = data_val['target']\n",
    "    \n",
    "    del data_train['target']\n",
    "    del data_val['target']\n",
    "        \n",
    "    # training and predicting\n",
    "    dicts = data_train.to_dict(orient = 'records')\n",
    "    \n",
    "    dv = DictVectorizer(sparse = False)\n",
    "    inter_train = dv.fit_transform(dicts)\n",
    "    \n",
    "    scaler = StandardScaler()\n",
    "    X_train = scaler.fit_transform(inter_train)\n",
    "    \n",
    "    model.fit(X_train, y_train)\n",
    "    \n",
    "    dicts = data_val.to_dict(orient = 'records')\n",
    "    \n",
    "    inter_val = dv.transform(dicts)\n",
    "    X_val = scaler.transform(inter_val)\n",
    "    \n",
    "    y_pred = model.predict_proba(X_val)[:,1]\n",
    "    \n",
    "    score = roc_auc_score(y_val, y_pred)\n",
    "    scores.append(score)\n",
    "    \n",
    "mean_scores.append(np.mean(scores))\n",
    "std_scores.append(np.std(scores))\n",
    "\n",
    "print('ROC AUC score for model %s: %.5f +- %.5f' % ('CatBoost Classifier' , np.mean(scores), np.std(scores)))"
   ]
  },
  {
   "cell_type": "code",
   "execution_count": 113,
   "metadata": {},
   "outputs": [],
   "source": [
    "d = {'models': models, 'mean_small': mean_scores, 'std_small':std_scores}\n",
    "df_small_2 = pd.DataFrame(data = d)"
   ]
  },
  {
   "cell_type": "code",
   "execution_count": 114,
   "metadata": {},
   "outputs": [],
   "source": [
    "for column in df_small_2.columns:\n",
    "    df_small_2[str(column + \"_2\")] = df_small_2[column]\n",
    "    del df_small_2[column]"
   ]
  },
  {
   "cell_type": "code",
   "execution_count": 115,
   "metadata": {},
   "outputs": [],
   "source": [
    "df_small_2['models'] = df_small_2['models_2']\n",
    "del df_small_2['models_2']"
   ]
  },
  {
   "cell_type": "markdown",
   "metadata": {},
   "source": [
    "## Models + Smaller Dataset + Min Max Scaler"
   ]
  },
  {
   "cell_type": "code",
   "execution_count": 116,
   "metadata": {},
   "outputs": [],
   "source": [
    "models = ['Logistic Regression', 'Random Forest', 'XGBoost', 'CatBoost']\n",
    "mean_scores = []\n",
    "std_scores = []"
   ]
  },
  {
   "cell_type": "markdown",
   "metadata": {},
   "source": [
    "## Logistic Regression - smaller dataset + minmax scaler "
   ]
  },
  {
   "cell_type": "code",
   "execution_count": 117,
   "metadata": {},
   "outputs": [],
   "source": [
    "model = LogisticRegression()"
   ]
  },
  {
   "cell_type": "code",
   "execution_count": 118,
   "metadata": {},
   "outputs": [
    {
     "name": "stdout",
     "output_type": "stream",
     "text": [
      "ROC AUC score for model Logistic Regression: 0.78869 +- 0.01086\n"
     ]
    }
   ],
   "source": [
    "n_splits = 5\n",
    "scores = []\n",
    "\n",
    "kfold = KFold(n_splits=n_splits, shuffle=True, random_state=1)\n",
    "    \n",
    "for train_idx, val_idx in kfold.split(data_full_train):\n",
    "    # data splitting\n",
    "    data_train = data_small_full_train.iloc[train_idx]\n",
    "    data_val = data_small_full_train.iloc[val_idx]\n",
    "        \n",
    "    # y values\n",
    "    y_train = data_train['target']\n",
    "    y_val = data_val['target']\n",
    "    \n",
    "    del data_train['target']\n",
    "    del data_val['target']\n",
    "        \n",
    "    # training and predicting\n",
    "    dicts = data_train.to_dict(orient = 'records')\n",
    "    \n",
    "    dv = DictVectorizer(sparse = False)\n",
    "    inter_train = dv.fit_transform(dicts)\n",
    "    \n",
    "    scaler = MinMaxScaler()\n",
    "    X_train = scaler.fit_transform(inter_train)\n",
    "    \n",
    "    model.fit(X_train, y_train)\n",
    "    \n",
    "    dicts = data_val.to_dict(orient = 'records')\n",
    "    \n",
    "    inter_val = dv.transform(dicts)\n",
    "    X_val = scaler.transform(inter_val)\n",
    "    \n",
    "    y_pred = model.predict_proba(X_val)[:,1]\n",
    "    \n",
    "    score = roc_auc_score(y_val, y_pred)\n",
    "    scores.append(score)\n",
    "    \n",
    "mean_scores.append(np.mean(scores))\n",
    "std_scores.append(np.std(scores))\n",
    "\n",
    "print('ROC AUC score for model %s: %.5f +- %.5f' % ('Logistic Regression' , np.mean(scores), np.std(scores)))"
   ]
  },
  {
   "cell_type": "markdown",
   "metadata": {},
   "source": [
    "## Random Forest Classifier - smaller dataset + minmax scaler "
   ]
  },
  {
   "cell_type": "code",
   "execution_count": 119,
   "metadata": {},
   "outputs": [],
   "source": [
    "model = RandomForestClassifier()"
   ]
  },
  {
   "cell_type": "code",
   "execution_count": 120,
   "metadata": {},
   "outputs": [
    {
     "name": "stdout",
     "output_type": "stream",
     "text": [
      "ROC AUC score for model Random Forest Classifier: 0.74859 +- 0.01148\n"
     ]
    }
   ],
   "source": [
    "n_splits = 5\n",
    "scores = []\n",
    "\n",
    "kfold = KFold(n_splits=n_splits, shuffle=True, random_state=1)\n",
    "    \n",
    "for train_idx, val_idx in kfold.split(data_full_train):\n",
    "    # data splitting\n",
    "    data_train = data_small_full_train.iloc[train_idx]\n",
    "    data_val = data_small_full_train.iloc[val_idx]\n",
    "        \n",
    "    # y values\n",
    "    y_train = data_train['target']\n",
    "    y_val = data_val['target']\n",
    "    \n",
    "    del data_train['target']\n",
    "    del data_val['target']\n",
    "        \n",
    "    # training and predicting\n",
    "    dicts = data_train.to_dict(orient = 'records')\n",
    "    \n",
    "    dv = DictVectorizer(sparse = False)\n",
    "    inter_train = dv.fit_transform(dicts)\n",
    "    \n",
    "    scaler = MinMaxScaler()\n",
    "    X_train = scaler.fit_transform(inter_train)\n",
    "    \n",
    "    model.fit(X_train, y_train)\n",
    "    \n",
    "    dicts = data_val.to_dict(orient = 'records')\n",
    "    \n",
    "    inter_val = dv.transform(dicts)\n",
    "    X_val = scaler.transform(inter_val)\n",
    "    \n",
    "    y_pred = model.predict_proba(X_val)[:,1]\n",
    "    \n",
    "    score = roc_auc_score(y_val, y_pred)\n",
    "    scores.append(score)\n",
    "    \n",
    "mean_scores.append(np.mean(scores))\n",
    "std_scores.append(np.std(scores))\n",
    "\n",
    "print('ROC AUC score for model %s: %.5f +- %.5f' % ('Random Forest Classifier' , np.mean(scores), np.std(scores)))"
   ]
  },
  {
   "cell_type": "markdown",
   "metadata": {},
   "source": [
    "## XGB Classifier - smaller dataset + minmax scaler "
   ]
  },
  {
   "cell_type": "code",
   "execution_count": 121,
   "metadata": {},
   "outputs": [],
   "source": [
    "model = XGBClassifier()"
   ]
  },
  {
   "cell_type": "code",
   "execution_count": 122,
   "metadata": {},
   "outputs": [
    {
     "name": "stdout",
     "output_type": "stream",
     "text": [
      "ROC AUC score for model XGB Classifier: 0.78812 +- 0.00636\n"
     ]
    }
   ],
   "source": [
    "n_splits = 5\n",
    "scores = []\n",
    "\n",
    "kfold = KFold(n_splits=n_splits, shuffle=True, random_state=1)\n",
    "    \n",
    "for train_idx, val_idx in kfold.split(data_full_train):\n",
    "    # data splitting\n",
    "    data_train = data_small_full_train.iloc[train_idx]\n",
    "    data_val = data_small_full_train.iloc[val_idx]\n",
    "        \n",
    "    # y values\n",
    "    y_train = data_train['target']\n",
    "    y_val = data_val['target']\n",
    "    \n",
    "    del data_train['target']\n",
    "    del data_val['target']\n",
    "        \n",
    "    # training and predicting\n",
    "    dicts = data_train.to_dict(orient = 'records')\n",
    "    \n",
    "    dv = DictVectorizer(sparse = False)\n",
    "    inter_train = dv.fit_transform(dicts)\n",
    "    \n",
    "    scaler = MinMaxScaler()\n",
    "    X_train = scaler.fit_transform(inter_train)\n",
    "    \n",
    "    model.fit(X_train, y_train)\n",
    "    \n",
    "    dicts = data_val.to_dict(orient = 'records')\n",
    "    \n",
    "    inter_val = dv.transform(dicts)\n",
    "    X_val = scaler.transform(inter_val)\n",
    "    \n",
    "    y_pred = model.predict_proba(X_val)[:,1]\n",
    "    \n",
    "    score = roc_auc_score(y_val, y_pred)\n",
    "    scores.append(score)\n",
    "    \n",
    "mean_scores.append(np.mean(scores))\n",
    "std_scores.append(np.std(scores))\n",
    "\n",
    "print('ROC AUC score for model %s: %.5f +- %.5f' % ('XGB Classifier' , np.mean(scores), np.std(scores)))"
   ]
  },
  {
   "cell_type": "markdown",
   "metadata": {},
   "source": [
    "## CatBoost Classifier - smaller dataset + minmax scaler "
   ]
  },
  {
   "cell_type": "code",
   "execution_count": 123,
   "metadata": {},
   "outputs": [],
   "source": [
    "model = CatBoostClassifier(logging_level = 'Silent')"
   ]
  },
  {
   "cell_type": "code",
   "execution_count": 124,
   "metadata": {},
   "outputs": [
    {
     "name": "stdout",
     "output_type": "stream",
     "text": [
      "ROC AUC score for model CatBoost Classifier: 0.79523 +- 0.01040\n"
     ]
    }
   ],
   "source": [
    "n_splits = 5\n",
    "scores = []\n",
    "\n",
    "kfold = KFold(n_splits=n_splits, shuffle=True, random_state=1)\n",
    "    \n",
    "for train_idx, val_idx in kfold.split(data_full_train):\n",
    "    # data splitting\n",
    "    data_train = data_small_full_train.iloc[train_idx]\n",
    "    data_val = data_small_full_train.iloc[val_idx]\n",
    "        \n",
    "    # y values\n",
    "    y_train = data_train['target']\n",
    "    y_val = data_val['target']\n",
    "    \n",
    "    del data_train['target']\n",
    "    del data_val['target']\n",
    "        \n",
    "    # training and predicting\n",
    "    dicts = data_train.to_dict(orient = 'records')\n",
    "    \n",
    "    dv = DictVectorizer(sparse = False)\n",
    "    inter_train = dv.fit_transform(dicts)\n",
    "    \n",
    "    scaler = MinMaxScaler()\n",
    "    X_train = scaler.fit_transform(inter_train)\n",
    "    \n",
    "    model.fit(X_train, y_train)\n",
    "    \n",
    "    dicts = data_val.to_dict(orient = 'records')\n",
    "    \n",
    "    inter_val = dv.transform(dicts)\n",
    "    X_val = scaler.transform(inter_val)\n",
    "    \n",
    "    y_pred = model.predict_proba(X_val)[:,1]\n",
    "    \n",
    "    score = roc_auc_score(y_val, y_pred)\n",
    "    scores.append(score)\n",
    "    \n",
    "mean_scores.append(np.mean(scores))\n",
    "std_scores.append(np.std(scores))\n",
    "\n",
    "print('ROC AUC score for model %s: %.5f +- %.5f' % ('CatBoost Classifier' , np.mean(scores), np.std(scores)))"
   ]
  },
  {
   "cell_type": "code",
   "execution_count": 125,
   "metadata": {},
   "outputs": [],
   "source": [
    "d = {'models': models, 'mean_small': mean_scores, 'std_small':std_scores}\n",
    "df_small_3 = pd.DataFrame(data = d)"
   ]
  },
  {
   "cell_type": "code",
   "execution_count": 126,
   "metadata": {},
   "outputs": [],
   "source": [
    "for column in df_small_3.columns:\n",
    "    df_small_3[str(column + \"_3\")] = df_small_3[column]\n",
    "    del df_small_3[column]"
   ]
  },
  {
   "cell_type": "code",
   "execution_count": 127,
   "metadata": {},
   "outputs": [],
   "source": [
    "df_small_3['models'] = df_small_3['models_3']\n",
    "del df_small_3['models_3']"
   ]
  },
  {
   "cell_type": "code",
   "execution_count": 128,
   "metadata": {},
   "outputs": [],
   "source": [
    "df_small_full = df.merge(df_small_2, how = 'left').merge(df_small_3, how = 'left')"
   ]
  },
  {
   "cell_type": "code",
   "execution_count": 129,
   "metadata": {},
   "outputs": [],
   "source": [
    "df_small_full['standard_mean_change'] = ((df_small_full['mean_small_2'] - df_small_full['mean'])/df_small_full['mean']) * 100\n",
    "df_small_full['minmax_mean_change'] = ((df_small_full['mean_small_3'] - df_small_full['mean'])/df_small_full['mean']) * 100\n",
    "\n",
    "df_small_full['standard_std_change']= -((df_small_full['std_small_2'] - df_small_full['std'])/df_small_full['std']) * 100\n",
    "df_small_full['minmax_std_change']= -((df_small_full['std_small_3'] - df_small_full['std'])/df_small_full['std']) * 100"
   ]
  },
  {
   "cell_type": "code",
   "execution_count": 130,
   "metadata": {
    "scrolled": false
   },
   "outputs": [
    {
     "data": {
      "text/html": [
       "<div>\n",
       "<style scoped>\n",
       "    .dataframe tbody tr th:only-of-type {\n",
       "        vertical-align: middle;\n",
       "    }\n",
       "\n",
       "    .dataframe tbody tr th {\n",
       "        vertical-align: top;\n",
       "    }\n",
       "\n",
       "    .dataframe thead th {\n",
       "        text-align: right;\n",
       "    }\n",
       "</style>\n",
       "<table border=\"1\" class=\"dataframe\">\n",
       "  <thead>\n",
       "    <tr style=\"text-align: right;\">\n",
       "      <th></th>\n",
       "      <th>models</th>\n",
       "      <th>mean</th>\n",
       "      <th>std</th>\n",
       "      <th>mean_small_2</th>\n",
       "      <th>std_small_2</th>\n",
       "      <th>mean_small_3</th>\n",
       "      <th>std_small_3</th>\n",
       "      <th>standard_mean_change</th>\n",
       "      <th>minmax_mean_change</th>\n",
       "      <th>standard_std_change</th>\n",
       "      <th>minmax_std_change</th>\n",
       "    </tr>\n",
       "  </thead>\n",
       "  <tbody>\n",
       "    <tr>\n",
       "      <th>0</th>\n",
       "      <td>Logistic Regression</td>\n",
       "      <td>0.769356</td>\n",
       "      <td>0.019732</td>\n",
       "      <td>0.788651</td>\n",
       "      <td>0.010654</td>\n",
       "      <td>0.788685</td>\n",
       "      <td>0.010858</td>\n",
       "      <td>2.507958</td>\n",
       "      <td>2.512372</td>\n",
       "      <td>46.005491</td>\n",
       "      <td>44.970834</td>\n",
       "    </tr>\n",
       "    <tr>\n",
       "      <th>1</th>\n",
       "      <td>Random Forest</td>\n",
       "      <td>0.769548</td>\n",
       "      <td>0.007565</td>\n",
       "      <td>0.749005</td>\n",
       "      <td>0.011515</td>\n",
       "      <td>0.748592</td>\n",
       "      <td>0.011477</td>\n",
       "      <td>-2.669472</td>\n",
       "      <td>-2.723158</td>\n",
       "      <td>-52.211344</td>\n",
       "      <td>-51.710317</td>\n",
       "    </tr>\n",
       "    <tr>\n",
       "      <th>2</th>\n",
       "      <td>XGBoost</td>\n",
       "      <td>0.785389</td>\n",
       "      <td>0.007205</td>\n",
       "      <td>0.788129</td>\n",
       "      <td>0.006375</td>\n",
       "      <td>0.788123</td>\n",
       "      <td>0.006361</td>\n",
       "      <td>0.348765</td>\n",
       "      <td>0.348027</td>\n",
       "      <td>11.527175</td>\n",
       "      <td>11.715247</td>\n",
       "    </tr>\n",
       "    <tr>\n",
       "      <th>3</th>\n",
       "      <td>CatBoost</td>\n",
       "      <td>0.797391</td>\n",
       "      <td>0.007694</td>\n",
       "      <td>0.795234</td>\n",
       "      <td>0.010403</td>\n",
       "      <td>0.795234</td>\n",
       "      <td>0.010403</td>\n",
       "      <td>-0.270494</td>\n",
       "      <td>-0.270494</td>\n",
       "      <td>-35.207682</td>\n",
       "      <td>-35.207682</td>\n",
       "    </tr>\n",
       "  </tbody>\n",
       "</table>\n",
       "</div>"
      ],
      "text/plain": [
       "                models      mean       std  mean_small_2  std_small_2  \\\n",
       "0  Logistic Regression  0.769356  0.019732      0.788651     0.010654   \n",
       "1        Random Forest  0.769548  0.007565      0.749005     0.011515   \n",
       "2              XGBoost  0.785389  0.007205      0.788129     0.006375   \n",
       "3             CatBoost  0.797391  0.007694      0.795234     0.010403   \n",
       "\n",
       "   mean_small_3  std_small_3  standard_mean_change  minmax_mean_change  \\\n",
       "0      0.788685     0.010858              2.507958            2.512372   \n",
       "1      0.748592     0.011477             -2.669472           -2.723158   \n",
       "2      0.788123     0.006361              0.348765            0.348027   \n",
       "3      0.795234     0.010403             -0.270494           -0.270494   \n",
       "\n",
       "   standard_std_change  minmax_std_change  \n",
       "0            46.005491          44.970834  \n",
       "1           -52.211344         -51.710317  \n",
       "2            11.527175          11.715247  \n",
       "3           -35.207682         -35.207682  "
      ]
     },
     "execution_count": 130,
     "metadata": {},
     "output_type": "execute_result"
    }
   ],
   "source": [
    "df_small_full"
   ]
  },
  {
   "cell_type": "markdown",
   "metadata": {},
   "source": [
    "## Analysis of ROC score \n",
    "\n",
    "Some things to clarify:\n",
    "- All of these changes are in terms of percentage.\n",
    "- Positive changes denote an improvement, and negative changes denote a deterioration of results\n",
    "\n",
    "Generally, the CatBoost still does the best out of all the models, and the ROC AUC score actually deteriorates with the change in the size of the dataset as well as the addition of the scalers.\n",
    "\n",
    "Some interesting observations:\n",
    "- Logistic Regression and XGBoost have improved ROC AUC performances with the smaller dataset + scalers, while Random Forest and CatBoost have decreased performance. \n",
    "- There is a pretty big change in the standard deviation with the smaller dataset. Logistic Regression and XGBoost decreases the standard deviation, while RandomForest and CatBoost increases the standard deviation."
   ]
  },
  {
   "cell_type": "markdown",
   "metadata": {},
   "source": [
    "## First round of testing:\n",
    "- It would seem that CatBoost does the best throughout. \n",
    "- Random Forest Classifier seems to do rather well with the initial dataset, however with scalers or with a smaller dataset it does significantly worse than other models. \n"
   ]
  },
  {
   "cell_type": "markdown",
   "metadata": {},
   "source": [
    "## Hyperparameter Tuning - Optuna \n",
    "\n",
    "We have done hyperparamater tuning before manually, and we have done hyperparameter tuning using GridSearchCV and RandomizedSearchCV. Is there any other way whereby we are able to tune our hyperparameters? \n",
    "\n",
    "There is! There is a library called Optuna that allows for automated hyperparameter optimization that we can use for our hyperparameter tuning.\n",
    "\n",
    "To fully use optuna, this is what we we do: \n",
    "\n",
    "1. We have to define an 'objective' function\n",
    "2. We use the 'trial' model to define hyperparameters.\n",
    "3. Make the study and let Optuna optimize \n",
    "4. Check the best hyperparameters from there! \n",
    "\n",
    "This is the simplest way to use Optuna. There are other things that we can do with Optuna, such as pruning unpromising trials, but let's not complicate the hyperparameter tuning! "
   ]
  },
  {
   "cell_type": "code",
   "execution_count": 131,
   "metadata": {},
   "outputs": [],
   "source": [
    "import optuna\n",
    "import optuna.trial as trial"
   ]
  },
  {
   "cell_type": "code",
   "execution_count": 132,
   "metadata": {},
   "outputs": [],
   "source": [
    "from sklearn.metrics import roc_auc_score "
   ]
  },
  {
   "cell_type": "code",
   "execution_count": 133,
   "metadata": {},
   "outputs": [],
   "source": [
    "from sklearn.model_selection import train_test_split\n",
    "data_full_train, data_test = train_test_split(data, random_state = 40, test_size = 0.2, shuffle = True, stratify = data['target'])\n",
    "data_train, data_val = train_test_split(data_full_train, random_state = 40, test_size = 0.25, shuffle = True, stratify = data_full_train['target'])\n",
    "\n",
    "data_train = data_train.reset_index(drop = True)\n",
    "data_val = data_val.reset_index(drop = True)\n",
    "data_test = data_test.reset_index(drop = True)\n",
    "\n",
    "y_train = data_train['target']\n",
    "y_val = data_val['target']\n",
    "y_test = data_test['target']\n",
    "\n",
    "del data_train['target']\n",
    "del data_val['target']\n",
    "del data_test['target']"
   ]
  },
  {
   "cell_type": "code",
   "execution_count": 134,
   "metadata": {},
   "outputs": [],
   "source": [
    "dicts = data_train.to_dict(orient = 'records')\n",
    "    \n",
    "dv = DictVectorizer(sparse = False)\n",
    "X_train = dv.fit_transform(dicts)\n",
    "    \n",
    "dicts = data_val.to_dict(orient = 'records')\n",
    "    \n",
    "X_val = dv.transform(dicts)"
   ]
  },
  {
   "cell_type": "markdown",
   "metadata": {},
   "source": [
    "## Optuna Study for Logistic Regression"
   ]
  },
  {
   "cell_type": "code",
   "execution_count": 135,
   "metadata": {},
   "outputs": [],
   "source": [
    "# 1: defining objective.\n",
    "\n",
    "def objective_logreg(trial):\n",
    "    params = {\n",
    "    # 2: define hyper parameters:\n",
    "    'solver': trial.suggest_categorical('solver', ['newton-cg', 'lbfgs', 'liblinear', 'sag', 'saga']),\n",
    "    \n",
    "    'tol': trial.suggest_float('tol', 1e-4, 1),\n",
    "    \n",
    "    'C': trial.suggest_float(\"C\", 1e-10, 1e10, log=True),\n",
    "    \n",
    "    'fit_intercept': trial.suggest_categorical('fit_intercept', [True, False]),\n",
    "    \n",
    "    'max_iter': trial.suggest_float('max_iter', 10, 1e9),\n",
    "    }\n",
    "\n",
    "    model = LogisticRegression(**params)\n",
    "    \n",
    "    model.fit(X_train, y_train)\n",
    "    y_pred = model.predict_proba(X_val)[:,1]\n",
    "    \n",
    "    score = roc_auc_score(y_val, y_pred)\n",
    "    return score "
   ]
  },
  {
   "cell_type": "code",
   "execution_count": 136,
   "metadata": {},
   "outputs": [],
   "source": [
    "# 3 Make the study, and let Optuna optimize\n",
    "# Will be using function\n",
    "\n",
    "def study_model(function):\n",
    "    study = optuna.create_study(direction = 'maximize')\n",
    "    study.optimize(function, n_trials = 200)\n",
    "    print('Number of finished trials:', len(study.trials))\n",
    "    print('Best trial:', study.best_trial.params)\n",
    "    return study.best_trial.params"
   ]
  },
  {
   "cell_type": "code",
   "execution_count": 137,
   "metadata": {
    "scrolled": true
   },
   "outputs": [
    {
     "name": "stderr",
     "output_type": "stream",
     "text": [
      "\u001b[32m[I 2021-12-06 11:05:33,768]\u001b[0m A new study created in memory with name: no-name-4e54044c-41e4-48f8-a528-144975162eb6\u001b[0m\n",
      "\u001b[32m[I 2021-12-06 11:05:33,854]\u001b[0m Trial 0 finished with value: 0.621290508986273 and parameters: {'solver': 'lbfgs', 'tol': 0.559317696733038, 'C': 7.375304809780011e-07, 'fit_intercept': False, 'max_iter': 754798908.6376958}. Best is trial 0 with value: 0.621290508986273.\u001b[0m\n",
      "\u001b[32m[I 2021-12-06 11:05:33,894]\u001b[0m Trial 1 finished with value: 0.5652331772725128 and parameters: {'solver': 'saga', 'tol': 0.5608769922354468, 'C': 116286.95090122847, 'fit_intercept': False, 'max_iter': 139324671.6016759}. Best is trial 0 with value: 0.621290508986273.\u001b[0m\n",
      "\u001b[32m[I 2021-12-06 11:05:33,933]\u001b[0m Trial 2 finished with value: 0.5131761816595123 and parameters: {'solver': 'saga', 'tol': 0.5926498614344234, 'C': 1.0506190328135172, 'fit_intercept': True, 'max_iter': 402328661.6835141}. Best is trial 0 with value: 0.621290508986273.\u001b[0m\n",
      "\u001b[32m[I 2021-12-06 11:05:35,015]\u001b[0m Trial 3 finished with value: 0.7524404158215011 and parameters: {'solver': 'newton-cg', 'tol': 0.607030539322725, 'C': 3.297806609108184e-07, 'fit_intercept': True, 'max_iter': 737452674.9744419}. Best is trial 3 with value: 0.7524404158215011.\u001b[0m\n",
      "\u001b[32m[I 2021-12-06 11:05:35,051]\u001b[0m Trial 4 finished with value: 0.7594638898061229 and parameters: {'solver': 'sag', 'tol': 0.34611488946104013, 'C': 1.0822193493073509e-10, 'fit_intercept': True, 'max_iter': 553073930.6868783}. Best is trial 4 with value: 0.7594638898061229.\u001b[0m\n",
      "\u001b[32m[I 2021-12-06 11:05:35,089]\u001b[0m Trial 5 finished with value: 0.757849869097599 and parameters: {'solver': 'saga', 'tol': 0.8091787959839325, 'C': 4.2445310431288396e-10, 'fit_intercept': True, 'max_iter': 339698176.27222574}. Best is trial 4 with value: 0.7594638898061229.\u001b[0m\n",
      "\u001b[32m[I 2021-12-06 11:05:35,782]\u001b[0m Trial 6 finished with value: 0.7773675939902825 and parameters: {'solver': 'lbfgs', 'tol': 0.7762404331198562, 'C': 409330.7818936349, 'fit_intercept': False, 'max_iter': 769510000.2717228}. Best is trial 6 with value: 0.7773675939902825.\u001b[0m\n",
      "\u001b[32m[I 2021-12-06 11:05:35,831]\u001b[0m Trial 7 finished with value: 0.4380906823435068 and parameters: {'solver': 'sag', 'tol': 0.32062601792311257, 'C': 3715946.558100823, 'fit_intercept': False, 'max_iter': 262968565.6281609}. Best is trial 6 with value: 0.7773675939902825.\u001b[0m\n",
      "\u001b[32m[I 2021-12-06 11:05:35,858]\u001b[0m Trial 8 finished with value: 0.7596598011698664 and parameters: {'solver': 'liblinear', 'tol': 0.4584153547424612, 'C': 0.03585735907235876, 'fit_intercept': False, 'max_iter': 209246834.78117576}. Best is trial 6 with value: 0.7773675939902825.\u001b[0m\n",
      "\u001b[32m[I 2021-12-06 11:05:35,896]\u001b[0m Trial 9 finished with value: 0.7532312844945517 and parameters: {'solver': 'sag', 'tol': 0.22697588060494647, 'C': 85267303.47849979, 'fit_intercept': True, 'max_iter': 886680350.9710114}. Best is trial 6 with value: 0.7773675939902825.\u001b[0m\n",
      "\u001b[32m[I 2021-12-06 11:05:36,418]\u001b[0m Trial 10 finished with value: 0.7773415019576395 and parameters: {'solver': 'lbfgs', 'tol': 0.010463809800424884, 'C': 226.67544191686844, 'fit_intercept': False, 'max_iter': 998510060.2719939}. Best is trial 6 with value: 0.7773675939902825.\u001b[0m\n",
      "\u001b[32m[I 2021-12-06 11:05:38,269]\u001b[0m Trial 11 finished with value: 0.7778981319873579 and parameters: {'solver': 'lbfgs', 'tol': 0.0863043526569277, 'C': 582.5419539748676, 'fit_intercept': False, 'max_iter': 994002137.1281159}. Best is trial 11 with value: 0.7778981319873579.\u001b[0m\n",
      "\u001b[32m[I 2021-12-06 11:05:39,330]\u001b[0m Trial 12 finished with value: 0.7777667873484598 and parameters: {'solver': 'lbfgs', 'tol': 0.9940936742180082, 'C': 5913195742.352331, 'fit_intercept': False, 'max_iter': 653787551.0021893}. Best is trial 11 with value: 0.7778981319873579.\u001b[0m\n",
      "\u001b[32m[I 2021-12-06 11:05:41,055]\u001b[0m Trial 13 finished with value: 0.7780579272607198 and parameters: {'solver': 'lbfgs', 'tol': 0.9558982434931196, 'C': 5933605924.908252, 'fit_intercept': False, 'max_iter': 597064699.1422389}. Best is trial 13 with value: 0.7780579272607198.\u001b[0m\n",
      "\u001b[32m[I 2021-12-06 11:05:42,148]\u001b[0m Trial 14 finished with value: 0.7774651811406198 and parameters: {'solver': 'lbfgs', 'tol': 0.10576483142461532, 'C': 1472.6242563153376, 'fit_intercept': False, 'max_iter': 24283838.154620767}. Best is trial 13 with value: 0.7780579272607198.\u001b[0m\n",
      "\u001b[32m[I 2021-12-06 11:05:42,184]\u001b[0m Trial 15 finished with value: 0.7596598011698664 and parameters: {'solver': 'liblinear', 'tol': 0.9284132656594524, 'C': 0.021691351555677266, 'fit_intercept': False, 'max_iter': 512709441.79182875}. Best is trial 13 with value: 0.7780579272607198.\u001b[0m\n",
      "\u001b[32m[I 2021-12-06 11:05:44,218]\u001b[0m Trial 16 finished with value: 0.781300709939148 and parameters: {'solver': 'newton-cg', 'tol': 0.7352183739644148, 'C': 2869520731.5460887, 'fit_intercept': False, 'max_iter': 967078621.6408533}. Best is trial 16 with value: 0.781300709939148.\u001b[0m\n",
      "\u001b[32m[I 2021-12-06 11:05:45,860]\u001b[0m Trial 17 finished with value: 0.7812706377659323 and parameters: {'solver': 'newton-cg', 'tol': 0.7485753414885418, 'C': 7157476570.867818, 'fit_intercept': False, 'max_iter': 879564274.3745259}. Best is trial 16 with value: 0.781300709939148.\u001b[0m\n",
      "\u001b[32m[I 2021-12-06 11:05:47,747]\u001b[0m Trial 18 finished with value: 0.7812868531534506 and parameters: {'solver': 'newton-cg', 'tol': 0.7432962943973934, 'C': 59066643.20529942, 'fit_intercept': False, 'max_iter': 878366144.0887206}. Best is trial 16 with value: 0.781300709939148.\u001b[0m\n",
      "\u001b[32m[I 2021-12-06 11:05:50,134]\u001b[0m Trial 19 finished with value: 0.7816033480352846 and parameters: {'solver': 'newton-cg', 'tol': 0.6636901641715324, 'C': 52138583.486362934, 'fit_intercept': False, 'max_iter': 853432038.6579168}. Best is trial 19 with value: 0.7816033480352846.\u001b[0m\n",
      "\u001b[32m[I 2021-12-06 11:05:52,105]\u001b[0m Trial 20 finished with value: 0.7812815462993538 and parameters: {'solver': 'newton-cg', 'tol': 0.6711960043954308, 'C': 24790.698492069114, 'fit_intercept': False, 'max_iter': 820178949.3968095}. Best is trial 19 with value: 0.7816033480352846.\u001b[0m\n",
      "\u001b[32m[I 2021-12-06 11:05:53,958]\u001b[0m Trial 21 finished with value: 0.7812986461625548 and parameters: {'solver': 'newton-cg', 'tol': 0.8543060479823579, 'C': 30530370.05837458, 'fit_intercept': False, 'max_iter': 912073064.4433417}. Best is trial 19 with value: 0.7816033480352846.\u001b[0m\n",
      "\u001b[32m[I 2021-12-06 11:05:55,508]\u001b[0m Trial 22 finished with value: 0.7813385949808954 and parameters: {'solver': 'newton-cg', 'tol': 0.8632635279264071, 'C': 24662320.56200135, 'fit_intercept': False, 'max_iter': 935964088.5212647}. Best is trial 19 with value: 0.7816033480352846.\u001b[0m\n",
      "\u001b[32m[I 2021-12-06 11:05:57,946]\u001b[0m Trial 23 finished with value: 0.7812719644794566 and parameters: {'solver': 'newton-cg', 'tol': 0.6828668224537956, 'C': 65239739.51192124, 'fit_intercept': False, 'max_iter': 676973587.750994}. Best is trial 19 with value: 0.7816033480352846.\u001b[0m\n",
      "\u001b[32m[I 2021-12-06 11:05:59,576]\u001b[0m Trial 24 finished with value: 0.7813120607104109 and parameters: {'solver': 'newton-cg', 'tol': 0.8526371533005042, 'C': 23.08915004920392, 'fit_intercept': False, 'max_iter': 980058563.7132446}. Best is trial 19 with value: 0.7816033480352846.\u001b[0m\n",
      "\u001b[32m[I 2021-12-06 11:06:01,415]\u001b[0m Trial 25 finished with value: 0.7813026263031275 and parameters: {'solver': 'newton-cg', 'tol': 0.8762341956731518, 'C': 15.3976011989712, 'fit_intercept': False, 'max_iter': 816549036.2129085}. Best is trial 19 with value: 0.7816033480352846.\u001b[0m\n",
      "\u001b[32m[I 2021-12-06 11:06:02,751]\u001b[0m Trial 26 finished with value: 0.763651145101184 and parameters: {'solver': 'newton-cg', 'tol': 0.8741961308321139, 'C': 0.00015656474917486672, 'fit_intercept': True, 'max_iter': 943004167.0616441}. Best is trial 19 with value: 0.7816033480352846.\u001b[0m\n",
      "\u001b[32m[I 2021-12-06 11:06:04,631]\u001b[0m Trial 27 finished with value: 0.7812637093730836 and parameters: {'solver': 'newton-cg', 'tol': 0.44373080649615476, 'C': 1317559.4877824385, 'fit_intercept': False, 'max_iter': 651474305.6016682}. Best is trial 19 with value: 0.7816033480352846.\u001b[0m\n",
      "\u001b[32m[I 2021-12-06 11:06:06,923]\u001b[0m Trial 28 finished with value: 0.7818714915797915 and parameters: {'solver': 'newton-cg', 'tol': 0.6730121273718157, 'C': 5124.815611498451, 'fit_intercept': False, 'max_iter': 828467776.9303744}. Best is trial 28 with value: 0.7818714915797915.\u001b[0m\n"
     ]
    },
    {
     "name": "stderr",
     "output_type": "stream",
     "text": [
      "\u001b[32m[I 2021-12-06 11:06:06,959]\u001b[0m Trial 29 finished with value: 0.7596598011698664 and parameters: {'solver': 'liblinear', 'tol': 0.6547973428301568, 'C': 7418.16499164748, 'fit_intercept': False, 'max_iter': 733775521.4928569}. Best is trial 28 with value: 0.7818714915797915.\u001b[0m\n",
      "\u001b[32m[I 2021-12-06 11:06:09,129]\u001b[0m Trial 30 finished with value: 0.7812539801405727 and parameters: {'solver': 'newton-cg', 'tol': 0.521707522969499, 'C': 108471.49975956393, 'fit_intercept': False, 'max_iter': 435851286.37762165}. Best is trial 28 with value: 0.7818714915797915.\u001b[0m\n",
      "\u001b[32m[I 2021-12-06 11:06:11,268]\u001b[0m Trial 31 finished with value: 0.7812277406953158 and parameters: {'solver': 'newton-cg', 'tol': 0.8391320192903606, 'C': 24.613376923406946, 'fit_intercept': False, 'max_iter': 842747972.0488926}. Best is trial 28 with value: 0.7818714915797915.\u001b[0m\n",
      "\u001b[32m[I 2021-12-06 11:06:12,870]\u001b[0m Trial 32 finished with value: 0.7813966755507336 and parameters: {'solver': 'newton-cg', 'tol': 0.9205238936439443, 'C': 0.16300858448094238, 'fit_intercept': False, 'max_iter': 778083780.9121885}. Best is trial 28 with value: 0.7818714915797915.\u001b[0m\n",
      "\u001b[32m[I 2021-12-06 11:06:12,920]\u001b[0m Trial 33 finished with value: 0.6462614687013538 and parameters: {'solver': 'saga', 'tol': 0.9324244863135718, 'C': 0.022435125410535377, 'fit_intercept': False, 'max_iter': 763983815.4657694}. Best is trial 28 with value: 0.7818714915797915.\u001b[0m\n",
      "\u001b[32m[I 2021-12-06 11:06:14,498]\u001b[0m Trial 34 finished with value: 0.7813475871503373 and parameters: {'solver': 'newton-cg', 'tol': 0.6022667608686672, 'C': 0.4534007468474891, 'fit_intercept': False, 'max_iter': 805546624.9912161}. Best is trial 28 with value: 0.7818714915797915.\u001b[0m\n",
      "\u001b[32m[I 2021-12-06 11:06:15,838]\u001b[0m Trial 35 finished with value: 0.7677151634511061 and parameters: {'solver': 'newton-cg', 'tol': 0.5804344044980355, 'C': 0.0006025421953353164, 'fit_intercept': True, 'max_iter': 696071688.5089409}. Best is trial 28 with value: 0.7818714915797915.\u001b[0m\n",
      "\u001b[32m[I 2021-12-06 11:06:15,888]\u001b[0m Trial 36 finished with value: 0.4374450150950517 and parameters: {'solver': 'saga', 'tol': 0.6106608349972378, 'C': 2.329179056326888, 'fit_intercept': False, 'max_iter': 606550056.4683878}. Best is trial 28 with value: 0.7818714915797915.\u001b[0m\n",
      "\u001b[32m[I 2021-12-06 11:06:17,116]\u001b[0m Trial 37 finished with value: 0.7525384452096797 and parameters: {'solver': 'newton-cg', 'tol': 0.5117892543378936, 'C': 7.173554881520091e-07, 'fit_intercept': True, 'max_iter': 804630601.3159293}. Best is trial 28 with value: 0.7818714915797915.\u001b[0m\n",
      "\u001b[32m[I 2021-12-06 11:06:17,175]\u001b[0m Trial 38 finished with value: 0.4373652648709845 and parameters: {'solver': 'sag', 'tol': 0.3722701195948339, 'C': 3.69063704011578e-05, 'fit_intercept': False, 'max_iter': 743131820.6311582}. Best is trial 28 with value: 0.7818714915797915.\u001b[0m\n",
      "\u001b[32m[I 2021-12-06 11:06:18,952]\u001b[0m Trial 39 finished with value: 0.7813216425303081 and parameters: {'solver': 'newton-cg', 'tol': 0.6357044494053194, 'C': 0.529552311915125, 'fit_intercept': True, 'max_iter': 460715380.1165566}. Best is trial 28 with value: 0.7818714915797915.\u001b[0m\n",
      "\u001b[32m[I 2021-12-06 11:06:18,988]\u001b[0m Trial 40 finished with value: 0.7596598011698664 and parameters: {'solver': 'liblinear', 'tol': 0.7049852012610672, 'C': 9.541877273511661e-09, 'fit_intercept': False, 'max_iter': 581902875.0331717}. Best is trial 28 with value: 0.7818714915797915.\u001b[0m\n",
      "\u001b[32m[I 2021-12-06 11:06:21,915]\u001b[0m Trial 41 finished with value: 0.781598630831643 and parameters: {'solver': 'newton-cg', 'tol': 0.8084678129420066, 'C': 5098027.589134613, 'fit_intercept': False, 'max_iter': 926364817.5945712}. Best is trial 28 with value: 0.7818714915797915.\u001b[0m\n",
      "\u001b[32m[I 2021-12-06 11:06:23,092]\u001b[0m Trial 42 finished with value: 0.7769704644086985 and parameters: {'solver': 'newton-cg', 'tol': 0.7935066134571551, 'C': 0.002083875997763828, 'fit_intercept': False, 'max_iter': 851695069.2707282}. Best is trial 28 with value: 0.7818714915797915.\u001b[0m\n",
      "\u001b[32m[I 2021-12-06 11:06:24,991]\u001b[0m Trial 43 finished with value: 0.7813238537195151 and parameters: {'solver': 'newton-cg', 'tol': 0.5853419517664338, 'C': 0.6524144240887595, 'fit_intercept': False, 'max_iter': 803481997.355793}. Best is trial 28 with value: 0.7818714915797915.\u001b[0m\n",
      "\u001b[32m[I 2021-12-06 11:06:25,043]\u001b[0m Trial 44 finished with value: 0.7425250011793009 and parameters: {'solver': 'sag', 'tol': 0.7732516786347464, 'C': 483791883.2047527, 'fit_intercept': False, 'max_iter': 912214280.7985276}. Best is trial 28 with value: 0.7818714915797915.\u001b[0m\n",
      "\u001b[32m[I 2021-12-06 11:06:25,107]\u001b[0m Trial 45 finished with value: 0.5568418616444172 and parameters: {'solver': 'saga', 'tol': 0.548253933006201, 'C': 2660514.641772392, 'fit_intercept': False, 'max_iter': 769860752.2233436}. Best is trial 28 with value: 0.7818714915797915.\u001b[0m\n",
      "\u001b[32m[I 2021-12-06 11:06:27,271]\u001b[0m Trial 46 finished with value: 0.7812617930091044 and parameters: {'solver': 'newton-cg', 'tol': 0.7096439584874616, 'C': 92990.50760049705, 'fit_intercept': False, 'max_iter': 702220692.6328012}. Best is trial 28 with value: 0.7818714915797915.\u001b[0m\n",
      "\u001b[32m[I 2021-12-06 11:06:29,543]\u001b[0m Trial 47 finished with value: 0.7812837574885607 and parameters: {'solver': 'newton-cg', 'tol': 0.4632136591382156, 'C': 5267.309760321959, 'fit_intercept': False, 'max_iter': 856157035.6390437}. Best is trial 28 with value: 0.7818714915797915.\u001b[0m\n",
      "\u001b[32m[I 2021-12-06 11:06:32,050]\u001b[0m Trial 48 finished with value: 0.7813126503608661 and parameters: {'solver': 'newton-cg', 'tol': 0.8193360324369175, 'C': 213.4113082076215, 'fit_intercept': True, 'max_iter': 932778662.5772946}. Best is trial 28 with value: 0.7818714915797915.\u001b[0m\n",
      "\u001b[32m[I 2021-12-06 11:06:32,116]\u001b[0m Trial 49 finished with value: 0.7286329838671635 and parameters: {'solver': 'sag', 'tol': 0.9112080575511, 'C': 1.2038967485579109e-05, 'fit_intercept': False, 'max_iter': 351465671.7968064}. Best is trial 28 with value: 0.7818714915797915.\u001b[0m\n",
      "\u001b[32m[I 2021-12-06 11:06:32,155]\u001b[0m Trial 50 finished with value: 0.7596598011698664 and parameters: {'solver': 'liblinear', 'tol': 0.9860991709303074, 'C': 534675046.86551017, 'fit_intercept': False, 'max_iter': 790392150.3145655}. Best is trial 28 with value: 0.7818714915797915.\u001b[0m\n",
      "\u001b[32m[I 2021-12-06 11:06:34,022]\u001b[0m Trial 51 finished with value: 0.7813145667248454 and parameters: {'solver': 'newton-cg', 'tol': 0.90599956172314, 'C': 13055360.863442417, 'fit_intercept': False, 'max_iter': 950644571.3686353}. Best is trial 28 with value: 0.7818714915797915.\u001b[0m\n",
      "\u001b[32m[I 2021-12-06 11:06:35,903]\u001b[0m Trial 52 finished with value: 0.78137987051276 and parameters: {'solver': 'newton-cg', 'tol': 0.7830321230274775, 'C': 0.1754288595405285, 'fit_intercept': False, 'max_iter': 871646388.7319883}. Best is trial 28 with value: 0.7818714915797915.\u001b[0m\n",
      "\u001b[32m[I 2021-12-06 11:06:37,637]\u001b[0m Trial 53 finished with value: 0.7813781015613944 and parameters: {'solver': 'newton-cg', 'tol': 0.6330462643814568, 'C': 0.14828004072994078, 'fit_intercept': False, 'max_iter': 891337731.0438949}. Best is trial 28 with value: 0.7818714915797915.\u001b[0m\n",
      "\u001b[32m[I 2021-12-06 11:06:39,050]\u001b[0m Trial 54 finished with value: 0.7813017418274447 and parameters: {'solver': 'newton-cg', 'tol': 0.7840106240732296, 'C': 0.08594472818680898, 'fit_intercept': False, 'max_iter': 897105147.4624407}. Best is trial 28 with value: 0.7818714915797915.\u001b[0m\n",
      "\u001b[32m[I 2021-12-06 11:06:39,660]\u001b[0m Trial 55 finished with value: 0.7773723111939242 and parameters: {'solver': 'lbfgs', 'tol': 0.727027660962903, 'C': 399324.8259108258, 'fit_intercept': False, 'max_iter': 999852674.724845}. Best is trial 28 with value: 0.7818714915797915.\u001b[0m\n",
      "\u001b[32m[I 2021-12-06 11:06:40,838]\u001b[0m Trial 56 finished with value: 0.7795115630454267 and parameters: {'solver': 'newton-cg', 'tol': 0.6830302266392576, 'C': 0.00885068957849169, 'fit_intercept': False, 'max_iter': 864613944.3725934}. Best is trial 28 with value: 0.7818714915797915.\u001b[0m\n",
      "\u001b[32m[I 2021-12-06 11:06:43,138]\u001b[0m Trial 57 finished with value: 0.781282873012878 and parameters: {'solver': 'newton-cg', 'tol': 0.6286623003464731, 'C': 5.22198529743998, 'fit_intercept': False, 'max_iter': 900689021.7254694}. Best is trial 28 with value: 0.7818714915797915.\u001b[0m\n"
     ]
    },
    {
     "name": "stderr",
     "output_type": "stream",
     "text": [
      "\u001b[32m[I 2021-12-06 11:06:44,719]\u001b[0m Trial 58 finished with value: 0.7813517147035238 and parameters: {'solver': 'newton-cg', 'tol': 0.7611854713101491, 'C': 0.11317400026810032, 'fit_intercept': False, 'max_iter': 143665838.37743264}. Best is trial 28 with value: 0.7818714915797915.\u001b[0m\n",
      "\u001b[32m[I 2021-12-06 11:06:46,901]\u001b[0m Trial 59 finished with value: 0.7812696058776358 and parameters: {'solver': 'newton-cg', 'tol': 0.8107578700496779, 'C': 78.88907553114663, 'fit_intercept': False, 'max_iter': 841117498.5027235}. Best is trial 28 with value: 0.7818714915797915.\u001b[0m\n",
      "\u001b[32m[I 2021-12-06 11:06:46,953]\u001b[0m Trial 60 finished with value: 0.49869584060568894 and parameters: {'solver': 'saga', 'tol': 0.6573704203394913, 'C': 0.0020284351040474892, 'fit_intercept': True, 'max_iter': 955100171.3478187}. Best is trial 28 with value: 0.7818714915797915.\u001b[0m\n",
      "\u001b[32m[I 2021-12-06 11:06:48,402]\u001b[0m Trial 61 finished with value: 0.7812939289589131 and parameters: {'solver': 'newton-cg', 'tol': 0.7767626218359255, 'C': 0.09148518015679573, 'fit_intercept': False, 'max_iter': 139869920.0264406}. Best is trial 28 with value: 0.7818714915797915.\u001b[0m\n",
      "\u001b[32m[I 2021-12-06 11:06:49,879]\u001b[0m Trial 62 finished with value: 0.7813893049200433 and parameters: {'solver': 'newton-cg', 'tol': 0.7509131912817593, 'C': 0.1559257636695037, 'fit_intercept': False, 'max_iter': 249145535.13105762}. Best is trial 28 with value: 0.7818714915797915.\u001b[0m\n",
      "\u001b[32m[I 2021-12-06 11:06:50,922]\u001b[0m Trial 63 finished with value: 0.7786723430350488 and parameters: {'solver': 'newton-cg', 'tol': 0.7114885180921174, 'C': 0.004545265968677578, 'fit_intercept': False, 'max_iter': 3526261.6856763065}. Best is trial 28 with value: 0.7818714915797915.\u001b[0m\n",
      "\u001b[32m[I 2021-12-06 11:06:52,623]\u001b[0m Trial 64 finished with value: 0.7812968772111893 and parameters: {'solver': 'newton-cg', 'tol': 0.7423320457925051, 'C': 6.534855768089168, 'fit_intercept': False, 'max_iter': 290661246.59224534}. Best is trial 28 with value: 0.7818714915797915.\u001b[0m\n",
      "\u001b[32m[I 2021-12-06 11:06:53,349]\u001b[0m Trial 65 finished with value: 0.7773190952403415 and parameters: {'solver': 'lbfgs', 'tol': 0.8374471942444796, 'C': 584918107.9405607, 'fit_intercept': False, 'max_iter': 77322771.34496266}. Best is trial 28 with value: 0.7818714915797915.\u001b[0m\n",
      "\u001b[32m[I 2021-12-06 11:06:54,951]\u001b[0m Trial 66 finished with value: 0.7813183994528043 and parameters: {'solver': 'newton-cg', 'tol': 0.9476572346421563, 'C': 572.5272022658548, 'fit_intercept': False, 'max_iter': 527328369.98696953}. Best is trial 28 with value: 0.7818714915797915.\u001b[0m\n",
      "\u001b[32m[I 2021-12-06 11:06:56,669]\u001b[0m Trial 67 finished with value: 0.7813735317703665 and parameters: {'solver': 'newton-cg', 'tol': 0.5509805515559439, 'C': 0.19169803595176227, 'fit_intercept': False, 'max_iter': 717890408.96394}. Best is trial 28 with value: 0.7818714915797915.\u001b[0m\n",
      "\u001b[32m[I 2021-12-06 11:06:58,446]\u001b[0m Trial 68 finished with value: 0.7813060167932451 and parameters: {'solver': 'newton-cg', 'tol': 0.8938151872475018, 'C': 7767915.321283988, 'fit_intercept': False, 'max_iter': 193664807.30763566}. Best is trial 28 with value: 0.7818714915797915.\u001b[0m\n",
      "\u001b[32m[I 2021-12-06 11:06:58,483]\u001b[0m Trial 69 finished with value: 0.7596598011698664 and parameters: {'solver': 'liblinear', 'tol': 0.6860369069641931, 'C': 1.5351003001982675, 'fit_intercept': False, 'max_iter': 921941379.412614}. Best is trial 28 with value: 0.7818714915797915.\u001b[0m\n",
      "\u001b[32m[I 2021-12-06 11:06:59,959]\u001b[0m Trial 70 finished with value: 0.7806084603047313 and parameters: {'solver': 'newton-cg', 'tol': 0.6270766704911336, 'C': 0.02612565712426332, 'fit_intercept': False, 'max_iter': 644335960.2464107}. Best is trial 28 with value: 0.7818714915797915.\u001b[0m\n",
      "\u001b[32m[I 2021-12-06 11:07:01,694]\u001b[0m Trial 71 finished with value: 0.7813727947072975 and parameters: {'solver': 'newton-cg', 'tol': 0.5777383120496018, 'C': 0.18720797344222356, 'fit_intercept': False, 'max_iter': 740717737.6151695}. Best is trial 28 with value: 0.7818714915797915.\u001b[0m\n",
      "\u001b[32m[I 2021-12-06 11:07:02,308]\u001b[0m Trial 72 finished with value: 0.7654323317137601 and parameters: {'solver': 'newton-cg', 'tol': 0.5326947981600594, 'C': 0.00043982058561936783, 'fit_intercept': False, 'max_iter': 883213572.1598539}. Best is trial 28 with value: 0.7818714915797915.\u001b[0m\n",
      "\u001b[32m[I 2021-12-06 11:07:05,058]\u001b[0m Trial 73 finished with value: 0.7813024788905137 and parameters: {'solver': 'newton-cg', 'tol': 0.4905869340729302, 'C': 42.53996933646713, 'fit_intercept': False, 'max_iter': 827824347.002229}. Best is trial 28 with value: 0.7818714915797915.\u001b[0m\n",
      "\u001b[32m[I 2021-12-06 11:07:06,971]\u001b[0m Trial 74 finished with value: 0.7812727015425256 and parameters: {'solver': 'newton-cg', 'tol': 0.6472558651081306, 'C': 4.1494355191067, 'fit_intercept': False, 'max_iter': 713901266.7723565}. Best is trial 28 with value: 0.7818714915797915.\u001b[0m\n",
      "\u001b[32m[I 2021-12-06 11:07:09,160]\u001b[0m Trial 75 finished with value: 0.7816216271993962 and parameters: {'solver': 'newton-cg', 'tol': 0.741997483602277, 'C': 576905.8963603565, 'fit_intercept': False, 'max_iter': 775047804.5165119}. Best is trial 28 with value: 0.7818714915797915.\u001b[0m\n",
      "\u001b[32m[I 2021-12-06 11:07:11,102]\u001b[0m Trial 76 finished with value: 0.781265625737063 and parameters: {'solver': 'newton-cg', 'tol': 0.8116968290385376, 'C': 551634.8436021344, 'fit_intercept': False, 'max_iter': 861923477.0904076}. Best is trial 28 with value: 0.7818714915797915.\u001b[0m\n",
      "\u001b[32m[I 2021-12-06 11:07:11,164]\u001b[0m Trial 77 finished with value: 0.437859834190292 and parameters: {'solver': 'sag', 'tol': 0.7496732954033329, 'C': 4989.901547209617, 'fit_intercept': True, 'max_iter': 785928529.4453969}. Best is trial 28 with value: 0.7818714915797915.\u001b[0m\n",
      "\u001b[32m[I 2021-12-06 11:07:13,325]\u001b[0m Trial 78 finished with value: 0.7821241567998491 and parameters: {'solver': 'newton-cg', 'tol': 0.7204074237124687, 'C': 168759819.99739462, 'fit_intercept': False, 'max_iter': 829752162.7129506}. Best is trial 78 with value: 0.7821241567998491.\u001b[0m\n",
      "\u001b[32m[I 2021-12-06 11:07:13,376]\u001b[0m Trial 79 finished with value: 0.437533610075947 and parameters: {'solver': 'saga', 'tol': 0.8276110615717793, 'C': 47750.46634243337, 'fit_intercept': False, 'max_iter': 368945983.2944827}. Best is trial 78 with value: 0.7821241567998491.\u001b[0m\n",
      "\u001b[32m[I 2021-12-06 11:07:13,999]\u001b[0m Trial 80 finished with value: 0.7773684784659654 and parameters: {'solver': 'lbfgs', 'tol': 0.8693720385746827, 'C': 227359397.84328192, 'fit_intercept': False, 'max_iter': 969721200.15274}. Best is trial 78 with value: 0.7821241567998491.\u001b[0m\n",
      "\u001b[32m[I 2021-12-06 11:07:16,989]\u001b[0m Trial 81 finished with value: 0.7819123248738148 and parameters: {'solver': 'newton-cg', 'tol': 0.719094559603485, 'C': 125024172.04520376, 'fit_intercept': False, 'max_iter': 762702282.467452}. Best is trial 78 with value: 0.7821241567998491.\u001b[0m\n",
      "\u001b[32m[I 2021-12-06 11:07:18,867]\u001b[0m Trial 82 finished with value: 0.781285084202085 and parameters: {'solver': 'newton-cg', 'tol': 0.7247001361953587, 'C': 2688943540.8877, 'fit_intercept': False, 'max_iter': 768604200.608408}. Best is trial 78 with value: 0.7821241567998491.\u001b[0m\n",
      "\u001b[32m[I 2021-12-06 11:07:21,112]\u001b[0m Trial 83 finished with value: 0.7822305887070145 and parameters: {'solver': 'newton-cg', 'tol': 0.7947335558949004, 'C': 35394736.96757007, 'fit_intercept': False, 'max_iter': 823112059.758329}. Best is trial 83 with value: 0.7822305887070145.\u001b[0m\n",
      "\u001b[32m[I 2021-12-06 11:07:23,421]\u001b[0m Trial 84 finished with value: 0.7817077161658568 and parameters: {'solver': 'newton-cg', 'tol': 0.6856860160106919, 'C': 39981378.35909701, 'fit_intercept': False, 'max_iter': 681511915.8603499}. Best is trial 83 with value: 0.7822305887070145.\u001b[0m\n",
      "\u001b[32m[I 2021-12-06 11:07:25,847]\u001b[0m Trial 85 finished with value: 0.7818284470965612 and parameters: {'solver': 'newton-cg', 'tol': 0.6890017850408119, 'C': 67354005.84450462, 'fit_intercept': False, 'max_iter': 756616972.4556724}. Best is trial 83 with value: 0.7822305887070145.\u001b[0m\n",
      "\u001b[32m[I 2021-12-06 11:07:28,019]\u001b[0m Trial 86 finished with value: 0.781297024623803 and parameters: {'solver': 'newton-cg', 'tol': 0.68551304329428, 'C': 102537515.2987595, 'fit_intercept': False, 'max_iter': 676114637.2982439}. Best is trial 83 with value: 0.7822305887070145.\u001b[0m\n"
     ]
    },
    {
     "name": "stderr",
     "output_type": "stream",
     "text": [
      "\u001b[32m[I 2021-12-06 11:07:30,051]\u001b[0m Trial 87 finished with value: 0.7812625300721732 and parameters: {'solver': 'newton-cg', 'tol': 0.6644941891236849, 'C': 2892725.21704334, 'fit_intercept': False, 'max_iter': 823651468.4051005}. Best is trial 83 with value: 0.7822305887070145.\u001b[0m\n",
      "\u001b[32m[I 2021-12-06 11:07:33,696]\u001b[0m Trial 88 finished with value: 0.7828031392990235 and parameters: {'solver': 'newton-cg', 'tol': 0.2035448773691365, 'C': 31715635.012897335, 'fit_intercept': False, 'max_iter': 630214510.9167277}. Best is trial 88 with value: 0.7828031392990235.\u001b[0m\n",
      "\u001b[32m[I 2021-12-06 11:07:33,734]\u001b[0m Trial 89 finished with value: 0.7596598011698664 and parameters: {'solver': 'liblinear', 'tol': 0.21067070962577725, 'C': 1725455872.3413181, 'fit_intercept': False, 'max_iter': 628325667.7996421}. Best is trial 88 with value: 0.7828031392990235.\u001b[0m\n",
      "\u001b[32m[I 2021-12-06 11:07:38,988]\u001b[0m Trial 90 finished with value: 0.7828766981933111 and parameters: {'solver': 'newton-cg', 'tol': 0.08606803458041667, 'C': 25366335.292285394, 'fit_intercept': True, 'max_iter': 753920880.0791123}. Best is trial 90 with value: 0.7828766981933111.\u001b[0m\n",
      "\u001b[32m[I 2021-12-06 11:07:43,751]\u001b[0m Trial 91 finished with value: 0.7828951247700363 and parameters: {'solver': 'newton-cg', 'tol': 0.13502382057043233, 'C': 14185390.694001006, 'fit_intercept': True, 'max_iter': 681013325.7307504}. Best is trial 91 with value: 0.7828951247700363.\u001b[0m\n",
      "\u001b[32m[I 2021-12-06 11:07:48,547]\u001b[0m Trial 92 finished with value: 0.7828960092457191 and parameters: {'solver': 'newton-cg', 'tol': 0.0999369148164245, 'C': 26068105.624739207, 'fit_intercept': True, 'max_iter': 744784852.0377718}. Best is trial 92 with value: 0.7828960092457191.\u001b[0m\n",
      "\u001b[32m[I 2021-12-06 11:07:53,443]\u001b[0m Trial 93 finished with value: 0.7828996945610641 and parameters: {'solver': 'newton-cg', 'tol': 0.08084852922397959, 'C': 24286740.35029844, 'fit_intercept': True, 'max_iter': 684166448.3904073}. Best is trial 93 with value: 0.7828996945610641.\u001b[0m\n",
      "\u001b[32m[I 2021-12-06 11:07:57,485]\u001b[0m Trial 94 finished with value: 0.7828032867116373 and parameters: {'solver': 'newton-cg', 'tol': 0.10599868993054187, 'C': 18154127.62416165, 'fit_intercept': True, 'max_iter': 734709557.4367712}. Best is trial 93 with value: 0.7828996945610641.\u001b[0m\n",
      "\u001b[32m[I 2021-12-06 11:08:03,118]\u001b[0m Trial 95 finished with value: 0.7829092763809613 and parameters: {'solver': 'newton-cg', 'tol': 0.08028970985963821, 'C': 12870103.17261841, 'fit_intercept': True, 'max_iter': 559438183.6199837}. Best is trial 95 with value: 0.7829092763809613.\u001b[0m\n",
      "\u001b[32m[I 2021-12-06 11:08:07,393]\u001b[0m Trial 96 finished with value: 0.7828287890938251 and parameters: {'solver': 'newton-cg', 'tol': 0.06807642893401342, 'C': 17510786.878560066, 'fit_intercept': True, 'max_iter': 567945568.1260343}. Best is trial 95 with value: 0.7829092763809613.\u001b[0m\n",
      "\u001b[32m[I 2021-12-06 11:08:07,604]\u001b[0m Trial 97 finished with value: 0.6549969927826784 and parameters: {'solver': 'sag', 'tol': 0.07461822379730754, 'C': 15042048.8898116, 'fit_intercept': True, 'max_iter': 569321465.9681419}. Best is trial 95 with value: 0.7829092763809613.\u001b[0m\n",
      "\u001b[32m[I 2021-12-06 11:08:11,350]\u001b[0m Trial 98 finished with value: 0.7828143426576725 and parameters: {'solver': 'newton-cg', 'tol': 0.13732569442043221, 'C': 1092311.6358795052, 'fit_intercept': True, 'max_iter': 475402246.3408726}. Best is trial 95 with value: 0.7829092763809613.\u001b[0m\n",
      "\u001b[32m[I 2021-12-06 11:08:16,121]\u001b[0m Trial 99 finished with value: 0.7827362139723572 and parameters: {'solver': 'newton-cg', 'tol': 0.15426256728030519, 'C': 1552630.255965666, 'fit_intercept': True, 'max_iter': 474678355.63529354}. Best is trial 95 with value: 0.7829092763809613.\u001b[0m\n",
      "\u001b[32m[I 2021-12-06 11:08:20,363]\u001b[0m Trial 100 finished with value: 0.7828982204349262 and parameters: {'solver': 'newton-cg', 'tol': 0.15186734227612958, 'C': 1712867.2554948954, 'fit_intercept': True, 'max_iter': 489236879.4309342}. Best is trial 95 with value: 0.7829092763809613.\u001b[0m\n",
      "\u001b[32m[I 2021-12-06 11:08:25,335]\u001b[0m Trial 101 finished with value: 0.7828217132883626 and parameters: {'solver': 'newton-cg', 'tol': 0.15143287330972982, 'C': 1264257.1849318154, 'fit_intercept': True, 'max_iter': 534588526.5651434}. Best is trial 95 with value: 0.7829092763809613.\u001b[0m\n",
      "\u001b[32m[I 2021-12-06 11:08:32,451]\u001b[0m Trial 102 finished with value: 0.782935073588377 and parameters: {'solver': 'newton-cg', 'tol': 0.03362311355999483, 'C': 232775.2882940547, 'fit_intercept': True, 'max_iter': 540246627.6188254}. Best is trial 102 with value: 0.782935073588377.\u001b[0m\n",
      "\u001b[32m[I 2021-12-06 11:08:39,047]\u001b[0m Trial 103 finished with value: 0.782944655408274 and parameters: {'solver': 'newton-cg', 'tol': 0.006494808827201631, 'C': 5271683.871472437, 'fit_intercept': True, 'max_iter': 543869277.6010993}. Best is trial 103 with value: 0.782944655408274.\u001b[0m\n",
      "\u001b[32m[I 2021-12-06 11:08:45,437]\u001b[0m Trial 104 finished with value: 0.7829495200245293 and parameters: {'solver': 'newton-cg', 'tol': 0.0020762650145149802, 'C': 192775.65741699637, 'fit_intercept': True, 'max_iter': 540343950.9021621}. Best is trial 104 with value: 0.7829495200245293.\u001b[0m\n",
      "\u001b[32m[I 2021-12-06 11:08:50,892]\u001b[0m Trial 105 finished with value: 0.7829310934478041 and parameters: {'solver': 'newton-cg', 'tol': 0.031747917910058494, 'C': 178294.88223304448, 'fit_intercept': True, 'max_iter': 514791584.8753587}. Best is trial 104 with value: 0.7829495200245293.\u001b[0m\n",
      "\u001b[32m[I 2021-12-06 11:08:57,078]\u001b[0m Trial 106 finished with value: 0.7829498148497571 and parameters: {'solver': 'newton-cg', 'tol': 0.006306369819491029, 'C': 254270.26950193782, 'fit_intercept': True, 'max_iter': 505592275.56429666}. Best is trial 106 with value: 0.7829498148497571.\u001b[0m\n",
      "\u001b[32m[I 2021-12-06 11:08:58,312]\u001b[0m Trial 107 finished with value: 0.701371379546205 and parameters: {'solver': 'saga', 'tol': 0.011930961955067765, 'C': 175330.06367844765, 'fit_intercept': True, 'max_iter': 503721477.7895036}. Best is trial 106 with value: 0.7829498148497571.\u001b[0m\n",
      "\u001b[32m[I 2021-12-06 11:09:04,114]\u001b[0m Trial 108 finished with value: 0.7829365477145148 and parameters: {'solver': 'newton-cg', 'tol': 0.027436066859187147, 'C': 193666.9317950645, 'fit_intercept': True, 'max_iter': 601451724.0447683}. Best is trial 106 with value: 0.7829498148497571.\u001b[0m\n",
      "\u001b[32m[I 2021-12-06 11:09:04,601]\u001b[0m Trial 109 finished with value: 0.7773755542714278 and parameters: {'solver': 'lbfgs', 'tol': 0.03584812295116363, 'C': 157885.6712657891, 'fit_intercept': True, 'max_iter': 602025838.842634}. Best is trial 106 with value: 0.7829498148497571.\u001b[0m\n",
      "\u001b[32m[I 2021-12-06 11:09:09,404]\u001b[0m Trial 110 finished with value: 0.7828901127411669 and parameters: {'solver': 'newton-cg', 'tol': 0.04956076564294273, 'C': 26170.428188300077, 'fit_intercept': True, 'max_iter': 424210004.4095094}. Best is trial 106 with value: 0.7829498148497571.\u001b[0m\n",
      "\u001b[32m[I 2021-12-06 11:09:14,699]\u001b[0m Trial 111 finished with value: 0.7829162047738101 and parameters: {'solver': 'newton-cg', 'tol': 0.04234958409089222, 'C': 4359765.848337248, 'fit_intercept': True, 'max_iter': 429299462.3921463}. Best is trial 106 with value: 0.7829498148497571.\u001b[0m\n",
      "\u001b[32m[I 2021-12-06 11:09:24,569]\u001b[0m Trial 112 finished with value: 0.7829560061795369 and parameters: {'solver': 'newton-cg', 'tol': 0.0035325378251575956, 'C': 246255.68989910668, 'fit_intercept': True, 'max_iter': 548232232.0856581}. Best is trial 112 with value: 0.7829560061795369.\u001b[0m\n",
      "\u001b[32m[I 2021-12-06 11:09:30,495]\u001b[0m Trial 113 finished with value: 0.7829448028208879 and parameters: {'solver': 'newton-cg', 'tol': 0.012110775752848586, 'C': 5126767.492311969, 'fit_intercept': True, 'max_iter': 532823615.04985857}. Best is trial 112 with value: 0.7829560061795369.\u001b[0m\n",
      "\u001b[32m[I 2021-12-06 11:09:38,854]\u001b[0m Trial 114 finished with value: 0.7829565958299919 and parameters: {'solver': 'newton-cg', 'tol': 0.002133592517101157, 'C': 5707957.685061929, 'fit_intercept': True, 'max_iter': 541126835.587771}. Best is trial 114 with value: 0.7829565958299919.\u001b[0m\n",
      "\u001b[32m[I 2021-12-06 11:09:47,189]\u001b[0m Trial 115 finished with value: 0.7829450976461153 and parameters: {'solver': 'newton-cg', 'tol': 0.0012496340161614883, 'C': 50575.91739093976, 'fit_intercept': True, 'max_iter': 542602335.5820608}. Best is trial 114 with value: 0.7829565958299919.\u001b[0m\n"
     ]
    },
    {
     "name": "stderr",
     "output_type": "stream",
     "text": [
      "\u001b[32m[I 2021-12-06 11:09:53,750]\u001b[0m Trial 116 finished with value: 0.7829346313505353 and parameters: {'solver': 'newton-cg', 'tol': 0.011773788662898837, 'C': 18973.014418750117, 'fit_intercept': True, 'max_iter': 546976988.7121094}. Best is trial 114 with value: 0.7829565958299919.\u001b[0m\n",
      "\u001b[32m[I 2021-12-06 11:10:00,202]\u001b[0m Trial 117 finished with value: 0.7829362528892873 and parameters: {'solver': 'newton-cg', 'tol': 0.02114832527651797, 'C': 15192.707566090414, 'fit_intercept': True, 'max_iter': 540220008.6554308}. Best is trial 114 with value: 0.7829565958299919.\u001b[0m\n",
      "\u001b[32m[I 2021-12-06 11:10:07,017]\u001b[0m Trial 118 finished with value: 0.782948340723619 and parameters: {'solver': 'newton-cg', 'tol': 0.003380063491188851, 'C': 21369.244997529324, 'fit_intercept': True, 'max_iter': 537861531.1630704}. Best is trial 114 with value: 0.7829565958299919.\u001b[0m\n",
      "\u001b[32m[I 2021-12-06 11:10:07,072]\u001b[0m Trial 119 finished with value: 0.4345455563941696 and parameters: {'solver': 'liblinear', 'tol': 0.00609896749323303, 'C': 17143.806183922756, 'fit_intercept': True, 'max_iter': 539529645.2215706}. Best is trial 114 with value: 0.7829565958299919.\u001b[0m\n",
      "\u001b[32m[I 2021-12-06 11:10:11,867]\u001b[0m Trial 120 finished with value: 0.7829368425397425 and parameters: {'solver': 'newton-cg', 'tol': 0.023312760749638287, 'C': 47837.85914636986, 'fit_intercept': True, 'max_iter': 593549814.009578}. Best is trial 114 with value: 0.7829565958299919.\u001b[0m\n",
      "\u001b[32m[I 2021-12-06 11:10:19,904]\u001b[0m Trial 121 finished with value: 0.7829079496674372 and parameters: {'solver': 'newton-cg', 'tol': 0.018677634082061023, 'C': 2075.3068003846192, 'fit_intercept': True, 'max_iter': 585333650.5920259}. Best is trial 114 with value: 0.7829565958299919.\u001b[0m\n",
      "\u001b[32m[I 2021-12-06 11:10:29,290]\u001b[0m Trial 122 finished with value: 0.78294760366055 and parameters: {'solver': 'newton-cg', 'tol': 0.0003454928732772411, 'C': 43199.80500234684, 'fit_intercept': True, 'max_iter': 545341526.9071816}. Best is trial 114 with value: 0.7829565958299919.\u001b[0m\n",
      "\u001b[32m[I 2021-12-06 11:10:34,170]\u001b[0m Trial 123 finished with value: 0.7828985152601537 and parameters: {'solver': 'newton-cg', 'tol': 0.06328177876202443, 'C': 41730.42131984907, 'fit_intercept': True, 'max_iter': 521769482.71211827}. Best is trial 114 with value: 0.7829565958299919.\u001b[0m\n",
      "\u001b[32m[I 2021-12-06 11:10:41,232]\u001b[0m Trial 124 finished with value: 0.782956595829992 and parameters: {'solver': 'newton-cg', 'tol': 0.0002763045746113418, 'C': 337575.0101898529, 'fit_intercept': True, 'max_iter': 453371555.42800844}. Best is trial 124 with value: 0.782956595829992.\u001b[0m\n",
      "\u001b[32m[I 2021-12-06 11:10:45,828]\u001b[0m Trial 125 finished with value: 0.7828818576347941 and parameters: {'solver': 'newton-cg', 'tol': 0.046943542962370736, 'C': 2030.3944687944388, 'fit_intercept': True, 'max_iter': 495762333.8377801}. Best is trial 124 with value: 0.782956595829992.\u001b[0m\n",
      "\u001b[32m[I 2021-12-06 11:12:13,718]\u001b[0m Trial 126 finished with value: 0.7737082232652484 and parameters: {'solver': 'sag', 'tol': 0.0001015809993028605, 'C': 63943.22973715708, 'fit_intercept': True, 'max_iter': 595809859.0214987}. Best is trial 124 with value: 0.782956595829992.\u001b[0m\n",
      "\u001b[32m[I 2021-12-06 11:12:20,066]\u001b[0m Trial 127 finished with value: 0.7829271133072314 and parameters: {'solver': 'newton-cg', 'tol': 0.026211606049439604, 'C': 10663.565450051534, 'fit_intercept': True, 'max_iter': 614580095.9974859}. Best is trial 124 with value: 0.782956595829992.\u001b[0m\n",
      "\u001b[32m[I 2021-12-06 11:12:24,933]\u001b[0m Trial 128 finished with value: 0.782923722817114 and parameters: {'solver': 'newton-cg', 'tol': 0.05525539905848602, 'C': 463319.52475675597, 'fit_intercept': True, 'max_iter': 458105363.18455297}. Best is trial 124 with value: 0.782956595829992.\u001b[0m\n",
      "\u001b[32m[I 2021-12-06 11:12:29,488]\u001b[0m Trial 129 finished with value: 0.7828805309212699 and parameters: {'solver': 'newton-cg', 'tol': 0.10518144763313349, 'C': 66172.30273889739, 'fit_intercept': True, 'max_iter': 582913360.0149304}. Best is trial 124 with value: 0.782956595829992.\u001b[0m\n",
      "\u001b[32m[I 2021-12-06 11:12:39,512]\u001b[0m Trial 130 finished with value: 0.7829518786263503 and parameters: {'solver': 'newton-cg', 'tol': 0.0027771045917403987, 'C': 790.8569779636595, 'fit_intercept': True, 'max_iter': 407594564.8972561}. Best is trial 124 with value: 0.782956595829992.\u001b[0m\n",
      "\u001b[32m[I 2021-12-06 11:12:48,492]\u001b[0m Trial 131 finished with value: 0.7829476036605499 and parameters: {'solver': 'newton-cg', 'tol': 0.00245701112660645, 'C': 990.7747034570172, 'fit_intercept': True, 'max_iter': 396027478.7464251}. Best is trial 124 with value: 0.782956595829992.\u001b[0m\n",
      "\u001b[32m[I 2021-12-06 11:12:57,709]\u001b[0m Trial 132 finished with value: 0.7829481933110052 and parameters: {'solver': 'newton-cg', 'tol': 0.0015963292667605464, 'C': 345.2290392826239, 'fit_intercept': True, 'max_iter': 393707946.1450684}. Best is trial 124 with value: 0.782956595829992.\u001b[0m\n",
      "\u001b[32m[I 2021-12-06 11:13:03,550]\u001b[0m Trial 133 finished with value: 0.7829178263125618 and parameters: {'solver': 'newton-cg', 'tol': 0.0028873463120872526, 'C': 536.5810396259353, 'fit_intercept': True, 'max_iter': 392751139.0088752}. Best is trial 124 with value: 0.782956595829992.\u001b[0m\n",
      "\u001b[32m[I 2021-12-06 11:13:08,345]\u001b[0m Trial 134 finished with value: 0.7826657507429595 and parameters: {'solver': 'newton-cg', 'tol': 0.05208470465818514, 'C': 91.25873538658213, 'fit_intercept': True, 'max_iter': 388934483.1626472}. Best is trial 124 with value: 0.782956595829992.\u001b[0m\n",
      "\u001b[32m[I 2021-12-06 11:13:19,316]\u001b[0m Trial 135 finished with value: 0.7829478984857776 and parameters: {'solver': 'newton-cg', 'tol': 0.00475649432978298, 'C': 4471.378008707395, 'fit_intercept': True, 'max_iter': 313160964.2703038}. Best is trial 124 with value: 0.782956595829992.\u001b[0m\n",
      "\u001b[32m[I 2021-12-06 11:13:31,415]\u001b[0m Trial 136 finished with value: 0.7829450976461154 and parameters: {'solver': 'newton-cg', 'tol': 0.002093711943878955, 'C': 2884.7367504964514, 'fit_intercept': True, 'max_iter': 324154387.2540901}. Best is trial 124 with value: 0.782956595829992.\u001b[0m\n",
      "\u001b[32m[I 2021-12-06 11:13:31,730]\u001b[0m Trial 137 finished with value: 0.6485577149865559 and parameters: {'solver': 'saga', 'tol': 0.04972070491589868, 'C': 1194.4543263941403, 'fit_intercept': True, 'max_iter': 287695783.69260097}. Best is trial 124 with value: 0.782956595829992.\u001b[0m\n",
      "\u001b[32m[I 2021-12-06 11:13:32,262]\u001b[0m Trial 138 finished with value: 0.7773712793056277 and parameters: {'solver': 'lbfgs', 'tol': 0.0002760370206232551, 'C': 305.3590981412665, 'fit_intercept': True, 'max_iter': 342141633.4100654}. Best is trial 124 with value: 0.782956595829992.\u001b[0m\n",
      "\u001b[32m[I 2021-12-06 11:13:36,677]\u001b[0m Trial 139 finished with value: 0.7828128685315345 and parameters: {'solver': 'newton-cg', 'tol': 0.0651740491114543, 'C': 4592.214175443246, 'fit_intercept': True, 'max_iter': 315689924.5135417}. Best is trial 124 with value: 0.782956595829992.\u001b[0m\n",
      "\u001b[32m[I 2021-12-06 11:13:40,376]\u001b[0m Trial 140 finished with value: 0.7826112080758527 and parameters: {'solver': 'newton-cg', 'tol': 0.3218128715274053, 'C': 1354.1682657926642, 'fit_intercept': True, 'max_iter': 366862868.74390745}. Best is trial 124 with value: 0.782956595829992.\u001b[0m\n",
      "\u001b[32m[I 2021-12-06 11:13:49,561]\u001b[0m Trial 141 finished with value: 0.7829330098117835 and parameters: {'solver': 'newton-cg', 'tol': 0.0010495910641075091, 'C': 3707.40884771133, 'fit_intercept': True, 'max_iter': 454811534.74076825}. Best is trial 124 with value: 0.782956595829992.\u001b[0m\n",
      "\u001b[32m[I 2021-12-06 11:13:54,775]\u001b[0m Trial 142 finished with value: 0.7828416139912261 and parameters: {'solver': 'newton-cg', 'tol': 0.03452601174336843, 'C': 114.53900307912203, 'fit_intercept': True, 'max_iter': 413150875.0127171}. Best is trial 124 with value: 0.782956595829992.\u001b[0m\n",
      "\u001b[32m[I 2021-12-06 11:14:00,058]\u001b[0m Trial 143 finished with value: 0.7829204797396103 and parameters: {'solver': 'newton-cg', 'tol': 0.02113083799616039, 'C': 578488.2097632875, 'fit_intercept': True, 'max_iter': 438518072.1687931}. Best is trial 124 with value: 0.782956595829992.\u001b[0m\n",
      "\u001b[32m[I 2021-12-06 11:14:05,138]\u001b[0m Trial 144 finished with value: 0.7829163521864239 and parameters: {'solver': 'newton-cg', 'tol': 0.038393067820546904, 'C': 7057.02161919774, 'fit_intercept': True, 'max_iter': 488824562.1226757}. Best is trial 124 with value: 0.782956595829992.\u001b[0m\n"
     ]
    },
    {
     "name": "stderr",
     "output_type": "stream",
     "text": [
      "\u001b[32m[I 2021-12-06 11:14:10,393]\u001b[0m Trial 145 finished with value: 0.7828146374829001 and parameters: {'solver': 'newton-cg', 'tol': 0.09727912578770377, 'C': 303.9863766938979, 'fit_intercept': True, 'max_iter': 509747307.0868944}. Best is trial 124 with value: 0.782956595829992.\u001b[0m\n",
      "\u001b[32m[I 2021-12-06 11:14:17,122]\u001b[0m Trial 146 finished with value: 0.7829496674371432 and parameters: {'solver': 'newton-cg', 'tol': 0.0012428536514577536, 'C': 4245524.676988629, 'fit_intercept': True, 'max_iter': 319365209.21667635}. Best is trial 124 with value: 0.782956595829992.\u001b[0m\n",
      "\u001b[32m[I 2021-12-06 11:14:22,020]\u001b[0m Trial 147 finished with value: 0.7827506604085098 and parameters: {'solver': 'newton-cg', 'tol': 0.06671125027703934, 'C': 770.1097433803589, 'fit_intercept': True, 'max_iter': 315690282.2884595}. Best is trial 124 with value: 0.782956595829992.\u001b[0m\n",
      "\u001b[32m[I 2021-12-06 11:14:22,077]\u001b[0m Trial 148 finished with value: 0.4345455563941696 and parameters: {'solver': 'liblinear', 'tol': 0.024216939483174466, 'C': 836330.7628688364, 'fit_intercept': True, 'max_iter': 258098674.25116172}. Best is trial 124 with value: 0.782956595829992.\u001b[0m\n",
      "\u001b[32m[I 2021-12-06 11:14:32,298]\u001b[0m Trial 149 finished with value: 0.7829504045002124 and parameters: {'solver': 'newton-cg', 'tol': 0.0005954966167049259, 'C': 30849.262546331825, 'fit_intercept': True, 'max_iter': 321217714.18406135}. Best is trial 124 with value: 0.782956595829992.\u001b[0m\n",
      "\u001b[32m[I 2021-12-06 11:14:36,969]\u001b[0m Trial 150 finished with value: 0.7829019057502713 and parameters: {'solver': 'newton-cg', 'tol': 0.050894252772828455, 'C': 10995.754675466473, 'fit_intercept': True, 'max_iter': 319269170.479817}. Best is trial 124 with value: 0.782956595829992.\u001b[0m\n",
      "\u001b[32m[I 2021-12-06 11:14:44,485]\u001b[0m Trial 151 finished with value: 0.7829474562479362 and parameters: {'solver': 'newton-cg', 'tol': 0.0028066598625587774, 'C': 97573.69529686989, 'fit_intercept': True, 'max_iter': 370347788.31454057}. Best is trial 124 with value: 0.782956595829992.\u001b[0m\n",
      "\u001b[32m[I 2021-12-06 11:14:52,252]\u001b[0m Trial 152 finished with value: 0.7829515838011227 and parameters: {'solver': 'newton-cg', 'tol': 0.000596425611869276, 'C': 92931.38582133017, 'fit_intercept': True, 'max_iter': 374584062.9555048}. Best is trial 124 with value: 0.782956595829992.\u001b[0m\n",
      "\u001b[32m[I 2021-12-06 11:14:56,941]\u001b[0m Trial 153 finished with value: 0.782926818482004 and parameters: {'solver': 'newton-cg', 'tol': 0.03807003792860011, 'C': 104318.60062944388, 'fit_intercept': True, 'max_iter': 365881887.6000961}. Best is trial 124 with value: 0.782956595829992.\u001b[0m\n",
      "\u001b[32m[I 2021-12-06 11:15:03,697]\u001b[0m Trial 154 finished with value: 0.7829492251993018 and parameters: {'solver': 'newton-cg', 'tol': 0.0005976643718014099, 'C': 440756.91619409964, 'fit_intercept': True, 'max_iter': 283908552.3910086}. Best is trial 124 with value: 0.782956595829992.\u001b[0m\n",
      "\u001b[32m[I 2021-12-06 11:15:08,465]\u001b[0m Trial 155 finished with value: 0.7828643155337516 and parameters: {'solver': 'newton-cg', 'tol': 0.06479444428729529, 'C': 414236.99799867196, 'fit_intercept': True, 'max_iter': 291426362.3485116}. Best is trial 124 with value: 0.782956595829992.\u001b[0m\n",
      "\u001b[32m[I 2021-12-06 11:15:14,240]\u001b[0m Trial 156 finished with value: 0.7829221012783623 and parameters: {'solver': 'newton-cg', 'tol': 0.026147341505850165, 'C': 23388.3365701923, 'fit_intercept': True, 'max_iter': 383067897.33773816}. Best is trial 124 with value: 0.782956595829992.\u001b[0m\n",
      "\u001b[32m[I 2021-12-06 11:15:14,570]\u001b[0m Trial 157 finished with value: 0.6769788669276853 and parameters: {'solver': 'sag', 'tol': 0.04425668291604317, 'C': 273144.96217224456, 'fit_intercept': True, 'max_iter': 226259581.17881274}. Best is trial 124 with value: 0.782956595829992.\u001b[0m\n",
      "\u001b[32m[I 2021-12-06 11:15:18,813]\u001b[0m Trial 158 finished with value: 0.7829104556818718 and parameters: {'solver': 'newton-cg', 'tol': 0.11789089863094265, 'C': 2157172.6582849356, 'fit_intercept': True, 'max_iter': 408240698.8763737}. Best is trial 124 with value: 0.782956595829992.\u001b[0m\n",
      "\u001b[32m[I 2021-12-06 11:15:23,427]\u001b[0m Trial 159 finished with value: 0.7829246072927969 and parameters: {'solver': 'newton-cg', 'tol': 0.07899485454792783, 'C': 64119.66095686615, 'fit_intercept': True, 'max_iter': 352246815.13900167}. Best is trial 124 with value: 0.782956595829992.\u001b[0m\n",
      "\u001b[32m[I 2021-12-06 11:15:28,692]\u001b[0m Trial 160 finished with value: 0.7829330098117835 and parameters: {'solver': 'newton-cg', 'tol': 0.025487420580853758, 'C': 270385.0359523521, 'fit_intercept': True, 'max_iter': 276684866.6332941}. Best is trial 124 with value: 0.782956595829992.\u001b[0m\n",
      "\u001b[32m[I 2021-12-06 11:15:42,201]\u001b[0m Trial 161 finished with value: 0.782944655408274 and parameters: {'solver': 'newton-cg', 'tol': 0.00020148208614231443, 'C': 2367.9674849609205, 'fit_intercept': True, 'max_iter': 323496737.7418553}. Best is trial 124 with value: 0.782956595829992.\u001b[0m\n",
      "\u001b[32m[I 2021-12-06 11:15:48,919]\u001b[0m Trial 162 finished with value: 0.7829390537289496 and parameters: {'solver': 'newton-cg', 'tol': 0.01609895320529504, 'C': 6726.64971161764, 'fit_intercept': True, 'max_iter': 335765072.63325727}. Best is trial 124 with value: 0.782956595829992.\u001b[0m\n",
      "\u001b[32m[I 2021-12-06 11:15:54,524]\u001b[0m Trial 163 finished with value: 0.7829445079956601 and parameters: {'solver': 'newton-cg', 'tol': 0.00042793003708641313, 'C': 99223.95358081914, 'fit_intercept': True, 'max_iter': 369703294.0825821}. Best is trial 124 with value: 0.782956595829992.\u001b[0m\n",
      "\u001b[32m[I 2021-12-06 11:15:59,063]\u001b[0m Trial 164 finished with value: 0.7829111927449408 and parameters: {'solver': 'newton-cg', 'tol': 0.04795474537224911, 'C': 22203.749719162108, 'fit_intercept': True, 'max_iter': 238795458.17370266}. Best is trial 124 with value: 0.782956595829992.\u001b[0m\n",
      "\u001b[32m[I 2021-12-06 11:16:00,001]\u001b[0m Trial 165 finished with value: 0.7526134782301052 and parameters: {'solver': 'newton-cg', 'tol': 0.39493498306744435, 'C': 6.914773303573381e-09, 'fit_intercept': True, 'max_iter': 302593602.94915175}. Best is trial 124 with value: 0.782956595829992.\u001b[0m\n",
      "\u001b[32m[I 2021-12-06 11:16:04,973]\u001b[0m Trial 166 finished with value: 0.7829425916316808 and parameters: {'solver': 'newton-cg', 'tol': 0.02223148923716675, 'C': 1209603.1933804255, 'fit_intercept': True, 'max_iter': 408204117.23814166}. Best is trial 124 with value: 0.782956595829992.\u001b[0m\n",
      "\u001b[32m[I 2021-12-06 11:16:12,788]\u001b[0m Trial 167 finished with value: 0.7829470140100948 and parameters: {'solver': 'newton-cg', 'tol': 0.0002464345921295277, 'C': 130526.9435126944, 'fit_intercept': True, 'max_iter': 343453798.71770394}. Best is trial 124 with value: 0.782956595829992.\u001b[0m\n",
      "\u001b[32m[I 2021-12-06 11:16:17,866]\u001b[0m Trial 168 finished with value: 0.782946129534412 and parameters: {'solver': 'newton-cg', 'tol': 0.036191544070047085, 'C': 135439.00732837274, 'fit_intercept': True, 'max_iter': 445813911.1094973}. Best is trial 124 with value: 0.782956595829992.\u001b[0m\n",
      "\u001b[32m[I 2021-12-06 11:16:18,347]\u001b[0m Trial 169 finished with value: 0.7773522630784471 and parameters: {'solver': 'lbfgs', 'tol': 0.061880181179434314, 'C': 743606.847845838, 'fit_intercept': True, 'max_iter': 471967031.3878392}. Best is trial 124 with value: 0.782956595829992.\u001b[0m\n",
      "\u001b[32m[I 2021-12-06 11:16:18,403]\u001b[0m Trial 170 finished with value: 0.4368524163875655 and parameters: {'solver': 'saga', 'tol': 0.25582797644758615, 'C': 32824.675077205, 'fit_intercept': True, 'max_iter': 269716567.2267504}. Best is trial 124 with value: 0.782956595829992.\u001b[0m\n",
      "\u001b[32m[I 2021-12-06 11:16:22,977]\u001b[0m Trial 171 finished with value: 0.7829366951271288 and parameters: {'solver': 'newton-cg', 'tol': 0.030915681713325753, 'C': 100834.42121407382, 'fit_intercept': True, 'max_iter': 354097506.72383475}. Best is trial 124 with value: 0.782956595829992.\u001b[0m\n",
      "\u001b[32m[I 2021-12-06 11:16:28,489]\u001b[0m Trial 172 finished with value: 0.7829313882730318 and parameters: {'solver': 'newton-cg', 'tol': 0.020531498262103376, 'C': 202529.32672819044, 'fit_intercept': True, 'max_iter': 442002592.46680915}. Best is trial 124 with value: 0.782956595829992.\u001b[0m\n",
      "\u001b[32m[I 2021-12-06 11:16:34,201]\u001b[0m Trial 173 finished with value: 0.7829331572243974 and parameters: {'solver': 'newton-cg', 'tol': 0.04254489486003733, 'C': 3047831.731106125, 'fit_intercept': True, 'max_iter': 342979675.77899915}. Best is trial 124 with value: 0.782956595829992.\u001b[0m\n"
     ]
    },
    {
     "name": "stderr",
     "output_type": "stream",
     "text": [
      "\u001b[32m[I 2021-12-06 11:16:41,146]\u001b[0m Trial 174 finished with value: 0.7829442131704326 and parameters: {'solver': 'newton-cg', 'tol': 0.01439944841034551, 'C': 10324.687606807174, 'fit_intercept': True, 'max_iter': 384316503.3409279}. Best is trial 124 with value: 0.782956595829992.\u001b[0m\n",
      "\u001b[32m[I 2021-12-06 11:16:45,716]\u001b[0m Trial 175 finished with value: 0.7829306512099627 and parameters: {'solver': 'newton-cg', 'tol': 0.037039586056328296, 'C': 86537.04840950429, 'fit_intercept': True, 'max_iter': 402000885.2851994}. Best is trial 124 with value: 0.782956595829992.\u001b[0m\n",
      "\u001b[32m[I 2021-12-06 11:16:52,311]\u001b[0m Trial 176 finished with value: 0.782944655408274 and parameters: {'solver': 'newton-cg', 'tol': 0.0002706550028059619, 'C': 405052.7573903542, 'fit_intercept': True, 'max_iter': 423968446.08791375}. Best is trial 124 with value: 0.782956595829992.\u001b[0m\n",
      "\u001b[32m[I 2021-12-06 11:16:57,374]\u001b[0m Trial 177 finished with value: 0.7829167944242652 and parameters: {'solver': 'newton-cg', 'tol': 0.05378391928325003, 'C': 38155.84349404335, 'fit_intercept': True, 'max_iter': 446246834.3895735}. Best is trial 124 with value: 0.782956595829992.\u001b[0m\n",
      "\u001b[32m[I 2021-12-06 11:17:02,198]\u001b[0m Trial 178 finished with value: 0.7829300615595075 and parameters: {'solver': 'newton-cg', 'tol': 0.01993686652662822, 'C': 238348.7564676406, 'fit_intercept': True, 'max_iter': 479163028.0902319}. Best is trial 124 with value: 0.782956595829992.\u001b[0m\n",
      "\u001b[32m[I 2021-12-06 11:17:06,384]\u001b[0m Trial 179 finished with value: 0.7828790567951318 and parameters: {'solver': 'newton-cg', 'tol': 0.07947441654764992, 'C': 830034.4707750344, 'fit_intercept': True, 'max_iter': 563893012.8050742}. Best is trial 124 with value: 0.782956595829992.\u001b[0m\n",
      "\u001b[32m[I 2021-12-06 11:17:11,596]\u001b[0m Trial 180 finished with value: 0.7829305037973489 and parameters: {'solver': 'newton-cg', 'tol': 0.0336172002466376, 'C': 2457919.046464366, 'fit_intercept': True, 'max_iter': 510315396.6544994}. Best is trial 124 with value: 0.782956595829992.\u001b[0m\n",
      "\u001b[32m[I 2021-12-06 11:17:19,641]\u001b[0m Trial 181 finished with value: 0.7829333046370112 and parameters: {'solver': 'newton-cg', 'tol': 0.00794251454389457, 'C': 5875.723221127727, 'fit_intercept': True, 'max_iter': 331509822.9500581}. Best is trial 124 with value: 0.782956595829992.\u001b[0m\n",
      "\u001b[32m[I 2021-12-06 11:17:29,846]\u001b[0m Trial 182 finished with value: 0.7829495200245294 and parameters: {'solver': 'newton-cg', 'tol': 0.0024013277347132503, 'C': 751.8792589469983, 'fit_intercept': True, 'max_iter': 306777746.7958405}. Best is trial 124 with value: 0.782956595829992.\u001b[0m\n",
      "\u001b[32m[I 2021-12-06 11:17:38,904]\u001b[0m Trial 183 finished with value: 0.7829611656210199 and parameters: {'solver': 'newton-cg', 'tol': 0.0008277202205329588, 'C': 260.1137240949292, 'fit_intercept': True, 'max_iter': 377082730.0029908}. Best is trial 183 with value: 0.7829611656210199.\u001b[0m\n",
      "\u001b[32m[I 2021-12-06 11:17:51,663]\u001b[0m Trial 184 finished with value: 0.782936400301901 and parameters: {'solver': 'newton-cg', 'tol': 0.0008484957461725748, 'C': 42.11029797473259, 'fit_intercept': True, 'max_iter': 306826533.90438545}. Best is trial 183 with value: 0.7829611656210199.\u001b[0m\n",
      "\u001b[32m[I 2021-12-06 11:17:57,379]\u001b[0m Trial 185 finished with value: 0.7829004316241333 and parameters: {'solver': 'newton-cg', 'tol': 0.01851925152908376, 'C': 166.69029405112317, 'fit_intercept': True, 'max_iter': 374807556.72541076}. Best is trial 183 with value: 0.7829611656210199.\u001b[0m\n",
      "\u001b[32m[I 2021-12-06 11:18:03,046]\u001b[0m Trial 186 finished with value: 0.7828870170762772 and parameters: {'solver': 'newton-cg', 'tol': 0.05196372117700595, 'C': 473.4944490116056, 'fit_intercept': True, 'max_iter': 348057639.8753011}. Best is trial 183 with value: 0.7829611656210199.\u001b[0m\n",
      "\u001b[32m[I 2021-12-06 11:18:03,101]\u001b[0m Trial 187 finished with value: 0.4345455563941696 and parameters: {'solver': 'liblinear', 'tol': 0.02067098185949581, 'C': 935.2240780756473, 'fit_intercept': True, 'max_iter': 302256332.0358499}. Best is trial 183 with value: 0.7829611656210199.\u001b[0m\n",
      "\u001b[32m[I 2021-12-06 11:18:13,293]\u001b[0m Trial 188 finished with value: 0.7829598389074955 and parameters: {'solver': 'newton-cg', 'tol': 0.0006045001605696618, 'C': 21835.515936409287, 'fit_intercept': True, 'max_iter': 400210080.1236753}. Best is trial 183 with value: 0.7829611656210199.\u001b[0m\n",
      "\u001b[32m[I 2021-12-06 11:18:18,748]\u001b[0m Trial 189 finished with value: 0.7828722758148969 and parameters: {'solver': 'newton-cg', 'tol': 0.06506027880718905, 'C': 1617.0305522780277, 'fit_intercept': True, 'max_iter': 401329985.3129674}. Best is trial 183 with value: 0.7829611656210199.\u001b[0m\n",
      "\u001b[32m[I 2021-12-06 11:18:23,792]\u001b[0m Trial 190 finished with value: 0.7829216590405207 and parameters: {'solver': 'newton-cg', 'tol': 0.03131543246848342, 'C': 12633.592903265013, 'fit_intercept': True, 'max_iter': 389574906.8510115}. Best is trial 183 with value: 0.7829611656210199.\u001b[0m\n",
      "\u001b[32m[I 2021-12-06 11:18:30,678]\u001b[0m Trial 191 finished with value: 0.7829471614227086 and parameters: {'solver': 'newton-cg', 'tol': 0.0015780223309968108, 'C': 33500.0860783332, 'fit_intercept': True, 'max_iter': 360488183.66202205}. Best is trial 183 with value: 0.7829611656210199.\u001b[0m\n",
      "\u001b[32m[I 2021-12-06 11:18:36,424]\u001b[0m Trial 192 finished with value: 0.7829299141468937 and parameters: {'solver': 'newton-cg', 'tol': 0.02037300928878474, 'C': 30241.463138643772, 'fit_intercept': True, 'max_iter': 364214932.64716595}. Best is trial 183 with value: 0.7829611656210199.\u001b[0m\n",
      "\u001b[32m[I 2021-12-06 11:18:46,113]\u001b[0m Trial 193 finished with value: 0.7829459821217981 and parameters: {'solver': 'newton-cg', 'tol': 0.002521126335864538, 'C': 3317.4954082383942, 'fit_intercept': True, 'max_iter': 415326131.6950151}. Best is trial 183 with value: 0.7829611656210199.\u001b[0m\n",
      "\u001b[32m[I 2021-12-06 11:19:00,231]\u001b[0m Trial 194 finished with value: 0.7829170892494929 and parameters: {'solver': 'newton-cg', 'tol': 0.0003875182888644559, 'C': 16.757798924965375, 'fit_intercept': True, 'max_iter': 279290803.81087875}. Best is trial 183 with value: 0.7829611656210199.\u001b[0m\n",
      "\u001b[32m[I 2021-12-06 11:19:06,613]\u001b[0m Trial 195 finished with value: 0.7828562078399924 and parameters: {'solver': 'newton-cg', 'tol': 0.04161083650275094, 'C': 187.46157584052844, 'fit_intercept': True, 'max_iter': 385420557.3572274}. Best is trial 183 with value: 0.7829611656210199.\u001b[0m\n",
      "\u001b[32m[I 2021-12-06 11:19:07,186]\u001b[0m Trial 196 finished with value: 0.7028692391150525 and parameters: {'solver': 'sag', 'tol': 0.022927671515102145, 'C': 16618.46013700858, 'fit_intercept': True, 'max_iter': 525355331.55604196}. Best is trial 183 with value: 0.7829611656210199.\u001b[0m\n",
      "\u001b[32m[I 2021-12-06 11:19:11,495]\u001b[0m Trial 197 finished with value: 0.7827723300627389 and parameters: {'solver': 'newton-cg', 'tol': 0.05585640554721594, 'C': 886.6664608484659, 'fit_intercept': True, 'max_iter': 559110273.0178815}. Best is trial 183 with value: 0.7829611656210199.\u001b[0m\n",
      "\u001b[32m[I 2021-12-06 11:19:25,923]\u001b[0m Trial 198 finished with value: 0.7829449502335015 and parameters: {'solver': 'newton-cg', 'tol': 0.0004460607699950126, 'C': 6679.331840507162, 'fit_intercept': True, 'max_iter': 363736319.1444419}. Best is trial 183 with value: 0.7829611656210199.\u001b[0m\n",
      "\u001b[32m[I 2021-12-06 11:19:31,542]\u001b[0m Trial 199 finished with value: 0.7829352210009906 and parameters: {'solver': 'newton-cg', 'tol': 0.03913931990746199, 'C': 31537.56998132106, 'fit_intercept': True, 'max_iter': 333528052.3086087}. Best is trial 183 with value: 0.7829611656210199.\u001b[0m\n"
     ]
    },
    {
     "name": "stdout",
     "output_type": "stream",
     "text": [
      "Number of finished trials: 200\n",
      "Best trial: {'solver': 'newton-cg', 'tol': 0.0008277202205329588, 'C': 260.1137240949292, 'fit_intercept': True, 'max_iter': 377082730.0029908}\n"
     ]
    }
   ],
   "source": [
    "logreg_params = study_model(objective_logreg)"
   ]
  },
  {
   "cell_type": "code",
   "execution_count": 138,
   "metadata": {},
   "outputs": [
    {
     "data": {
      "text/plain": [
       "{'solver': 'newton-cg',\n",
       " 'tol': 0.0008277202205329588,\n",
       " 'C': 260.1137240949292,\n",
       " 'fit_intercept': True,\n",
       " 'max_iter': 377082730.0029908}"
      ]
     },
     "execution_count": 138,
     "metadata": {},
     "output_type": "execute_result"
    }
   ],
   "source": [
    "logreg_params"
   ]
  },
  {
   "cell_type": "markdown",
   "metadata": {},
   "source": [
    "## Optuna Study for Random Forest Classifier "
   ]
  },
  {
   "cell_type": "code",
   "execution_count": 139,
   "metadata": {},
   "outputs": [],
   "source": [
    "def objective_rfc(trial):\n",
    "    param = {\n",
    "        'n_jobs' : -1,\n",
    "        'n_estimators': trial.suggest_int('n_estimators', 10, 1000),\n",
    "        'criterion': trial.suggest_categorical('criterion', ['gini', 'entropy']),\n",
    "        'max_depth': trial.suggest_int('max_depth', 1, 1000),\n",
    "        'min_samples_split':trial.suggest_int('min_samples_split', 2, 1000),\n",
    "        'min_samples_leaf':trial.suggest_int('min_samples_leaf', 1, 1000),\n",
    "        'max_leaf_nodes': trial.suggest_int('max_leaf_nodes', 2, 1000),\n",
    "        'bootstrap': trial.suggest_categorical('bootstrap', [True, False])\n",
    "    }\n",
    "    model = RandomForestClassifier(**param)\n",
    "    \n",
    "    model.fit(X_train, y_train)\n",
    "    y_pred = model.predict_proba(X_val)[:,1]\n",
    "    \n",
    "    score = roc_auc_score(y_val, y_pred)\n",
    "    return score "
   ]
  },
  {
   "cell_type": "code",
   "execution_count": 140,
   "metadata": {
    "scrolled": true
   },
   "outputs": [
    {
     "name": "stderr",
     "output_type": "stream",
     "text": [
      "\u001b[32m[I 2021-12-06 11:19:31,597]\u001b[0m A new study created in memory with name: no-name-90431584-fcb0-4af4-9f41-3b7f963d4c5f\u001b[0m\n",
      "\u001b[32m[I 2021-12-06 11:19:33,831]\u001b[0m Trial 0 finished with value: 0.7777364203500166 and parameters: {'n_estimators': 830, 'criterion': 'gini', 'max_depth': 411, 'min_samples_split': 929, 'min_samples_leaf': 473, 'max_leaf_nodes': 494, 'bootstrap': True}. Best is trial 0 with value: 0.7777364203500166.\u001b[0m\n",
      "\u001b[32m[I 2021-12-06 11:19:35,304]\u001b[0m Trial 1 finished with value: 0.7777984810604274 and parameters: {'n_estimators': 570, 'criterion': 'gini', 'max_depth': 589, 'min_samples_split': 866, 'min_samples_leaf': 737, 'max_leaf_nodes': 848, 'bootstrap': False}. Best is trial 1 with value: 0.7777984810604274.\u001b[0m\n",
      "\u001b[32m[I 2021-12-06 11:19:35,653]\u001b[0m Trial 2 finished with value: 0.7757603542619935 and parameters: {'n_estimators': 113, 'criterion': 'gini', 'max_depth': 401, 'min_samples_split': 312, 'min_samples_leaf': 899, 'max_leaf_nodes': 597, 'bootstrap': False}. Best is trial 1 with value: 0.7777984810604274.\u001b[0m\n",
      "\u001b[32m[I 2021-12-06 11:19:36,979]\u001b[0m Trial 3 finished with value: 0.7778071046983348 and parameters: {'n_estimators': 504, 'criterion': 'gini', 'max_depth': 408, 'min_samples_split': 994, 'min_samples_leaf': 760, 'max_leaf_nodes': 446, 'bootstrap': False}. Best is trial 3 with value: 0.7778071046983348.\u001b[0m\n",
      "\u001b[32m[I 2021-12-06 11:19:37,060]\u001b[0m Trial 4 finished with value: 0.7788961153828011 and parameters: {'n_estimators': 19, 'criterion': 'entropy', 'max_depth': 400, 'min_samples_split': 139, 'min_samples_leaf': 699, 'max_leaf_nodes': 41, 'bootstrap': False}. Best is trial 4 with value: 0.7788961153828011.\u001b[0m\n",
      "\u001b[32m[I 2021-12-06 11:19:37,921]\u001b[0m Trial 5 finished with value: 0.78093055686589 and parameters: {'n_estimators': 292, 'criterion': 'entropy', 'max_depth': 183, 'min_samples_split': 247, 'min_samples_leaf': 406, 'max_leaf_nodes': 683, 'bootstrap': False}. Best is trial 5 with value: 0.78093055686589.\u001b[0m\n",
      "\u001b[32m[I 2021-12-06 11:19:38,697]\u001b[0m Trial 6 finished with value: 0.7713481473182697 and parameters: {'n_estimators': 308, 'criterion': 'entropy', 'max_depth': 488, 'min_samples_split': 401, 'min_samples_leaf': 668, 'max_leaf_nodes': 505, 'bootstrap': True}. Best is trial 5 with value: 0.78093055686589.\u001b[0m\n",
      "\u001b[32m[I 2021-12-06 11:19:39,241]\u001b[0m Trial 7 finished with value: 0.7746831365866315 and parameters: {'n_estimators': 214, 'criterion': 'entropy', 'max_depth': 368, 'min_samples_split': 212, 'min_samples_leaf': 889, 'max_leaf_nodes': 219, 'bootstrap': False}. Best is trial 5 with value: 0.78093055686589.\u001b[0m\n",
      "\u001b[32m[I 2021-12-06 11:19:40,028]\u001b[0m Trial 8 finished with value: 0.7789799194537479 and parameters: {'n_estimators': 285, 'criterion': 'entropy', 'max_depth': 212, 'min_samples_split': 67, 'min_samples_leaf': 504, 'max_leaf_nodes': 173, 'bootstrap': False}. Best is trial 5 with value: 0.78093055686589.\u001b[0m\n",
      "\u001b[32m[I 2021-12-06 11:19:42,424]\u001b[0m Trial 9 finished with value: 0.7697911015849804 and parameters: {'n_estimators': 951, 'criterion': 'entropy', 'max_depth': 719, 'min_samples_split': 274, 'min_samples_leaf': 754, 'max_leaf_nodes': 593, 'bootstrap': True}. Best is trial 5 with value: 0.78093055686589.\u001b[0m\n",
      "\u001b[32m[I 2021-12-06 11:19:43,805]\u001b[0m Trial 10 finished with value: 0.7842586914477098 and parameters: {'n_estimators': 504, 'criterion': 'entropy', 'max_depth': 7, 'min_samples_split': 695, 'min_samples_leaf': 52, 'max_leaf_nodes': 999, 'bootstrap': True}. Best is trial 10 with value: 0.7842586914477098.\u001b[0m\n",
      "\u001b[32m[I 2021-12-06 11:19:45,332]\u001b[0m Trial 11 finished with value: 0.7870173711024104 and parameters: {'n_estimators': 522, 'criterion': 'entropy', 'max_depth': 19, 'min_samples_split': 650, 'min_samples_leaf': 65, 'max_leaf_nodes': 975, 'bootstrap': True}. Best is trial 11 with value: 0.7870173711024104.\u001b[0m\n",
      "\u001b[32m[I 2021-12-06 11:19:46,745]\u001b[0m Trial 12 finished with value: 0.7660934035803576 and parameters: {'n_estimators': 598, 'criterion': 'entropy', 'max_depth': 1, 'min_samples_split': 659, 'min_samples_leaf': 21, 'max_leaf_nodes': 984, 'bootstrap': True}. Best is trial 11 with value: 0.7870173711024104.\u001b[0m\n",
      "\u001b[32m[I 2021-12-06 11:19:48,820]\u001b[0m Trial 13 finished with value: 0.7882672826548422 and parameters: {'n_estimators': 724, 'criterion': 'entropy', 'max_depth': 981, 'min_samples_split': 643, 'min_samples_leaf': 42, 'max_leaf_nodes': 988, 'bootstrap': True}. Best is trial 13 with value: 0.7882672826548422.\u001b[0m\n",
      "\u001b[32m[I 2021-12-06 11:19:50,899]\u001b[0m Trial 14 finished with value: 0.7816754328034341 and parameters: {'n_estimators': 749, 'criterion': 'entropy', 'max_depth': 991, 'min_samples_split': 603, 'min_samples_leaf': 209, 'max_leaf_nodes': 831, 'bootstrap': True}. Best is trial 13 with value: 0.7882672826548422.\u001b[0m\n",
      "\u001b[32m[I 2021-12-06 11:19:52,750]\u001b[0m Trial 15 finished with value: 0.7817112540685882 and parameters: {'n_estimators': 675, 'criterion': 'entropy', 'max_depth': 883, 'min_samples_split': 776, 'min_samples_leaf': 209, 'max_leaf_nodes': 848, 'bootstrap': True}. Best is trial 13 with value: 0.7882672826548422.\u001b[0m\n",
      "\u001b[32m[I 2021-12-06 11:19:53,978]\u001b[0m Trial 16 finished with value: 0.7830126126232371 and parameters: {'n_estimators': 446, 'criterion': 'entropy', 'max_depth': 723, 'min_samples_split': 514, 'min_samples_leaf': 170, 'max_leaf_nodes': 754, 'bootstrap': True}. Best is trial 13 with value: 0.7882672826548422.\u001b[0m\n",
      "\u001b[32m[I 2021-12-06 11:19:56,214]\u001b[0m Trial 17 finished with value: 0.7780300662767111 and parameters: {'n_estimators': 844, 'criterion': 'entropy', 'max_depth': 199, 'min_samples_split': 513, 'min_samples_leaf': 359, 'max_leaf_nodes': 920, 'bootstrap': True}. Best is trial 13 with value: 0.7882672826548422.\u001b[0m\n",
      "\u001b[32m[I 2021-12-06 11:19:58,249]\u001b[0m Trial 18 finished with value: 0.7847988849709893 and parameters: {'n_estimators': 703, 'criterion': 'gini', 'max_depth': 760, 'min_samples_split': 826, 'min_samples_leaf': 117, 'max_leaf_nodes': 722, 'bootstrap': True}. Best is trial 13 with value: 0.7882672826548422.\u001b[0m\n",
      "\u001b[32m[I 2021-12-06 11:19:59,329]\u001b[0m Trial 19 finished with value: 0.7796541110429738 and parameters: {'n_estimators': 402, 'criterion': 'entropy', 'max_depth': 585, 'min_samples_split': 396, 'min_samples_leaf': 315, 'max_leaf_nodes': 333, 'bootstrap': True}. Best is trial 13 with value: 0.7882672826548422.\u001b[0m\n",
      "\u001b[32m[I 2021-12-06 11:20:02,185]\u001b[0m Trial 20 finished with value: 0.789412531251474 and parameters: {'n_estimators': 938, 'criterion': 'entropy', 'max_depth': 959, 'min_samples_split': 745, 'min_samples_leaf': 6, 'max_leaf_nodes': 923, 'bootstrap': True}. Best is trial 20 with value: 0.789412531251474.\u001b[0m\n",
      "\u001b[32m[I 2021-12-06 11:20:05,061]\u001b[0m Trial 21 finished with value: 0.789186474008208 and parameters: {'n_estimators': 954, 'criterion': 'entropy', 'max_depth': 988, 'min_samples_split': 740, 'min_samples_leaf': 14, 'max_leaf_nodes': 906, 'bootstrap': True}. Best is trial 20 with value: 0.789412531251474.\u001b[0m\n",
      "\u001b[32m[I 2021-12-06 11:20:07,950]\u001b[0m Trial 22 finished with value: 0.7892853141657626 and parameters: {'n_estimators': 948, 'criterion': 'entropy', 'max_depth': 967, 'min_samples_split': 750, 'min_samples_leaf': 1, 'max_leaf_nodes': 896, 'bootstrap': True}. Best is trial 20 with value: 0.789412531251474.\u001b[0m\n",
      "\u001b[32m[I 2021-12-06 11:20:10,722]\u001b[0m Trial 23 finished with value: 0.7812433664323788 and parameters: {'n_estimators': 996, 'criterion': 'entropy', 'max_depth': 868, 'min_samples_split': 779, 'min_samples_leaf': 240, 'max_leaf_nodes': 846, 'bootstrap': True}. Best is trial 20 with value: 0.789412531251474.\u001b[0m\n",
      "\u001b[32m[I 2021-12-06 11:20:13,216]\u001b[0m Trial 24 finished with value: 0.7839778704184159 and parameters: {'n_estimators': 898, 'criterion': 'entropy', 'max_depth': 874, 'min_samples_split': 745, 'min_samples_leaf': 152, 'max_leaf_nodes': 891, 'bootstrap': True}. Best is trial 20 with value: 0.789412531251474.\u001b[0m\n",
      "\u001b[32m[I 2021-12-06 11:20:15,455]\u001b[0m Trial 25 finished with value: 0.7801492700127365 and parameters: {'n_estimators': 834, 'criterion': 'entropy', 'max_depth': 806, 'min_samples_split': 884, 'min_samples_leaf': 276, 'max_leaf_nodes': 776, 'bootstrap': True}. Best is trial 20 with value: 0.789412531251474.\u001b[0m\n"
     ]
    },
    {
     "name": "stderr",
     "output_type": "stream",
     "text": [
      "\u001b[32m[I 2021-12-06 11:20:18,766]\u001b[0m Trial 26 finished with value: 0.7903504440067928 and parameters: {'n_estimators': 998, 'criterion': 'entropy', 'max_depth': 943, 'min_samples_split': 573, 'min_samples_leaf': 7, 'max_leaf_nodes': 636, 'bootstrap': True}. Best is trial 26 with value: 0.7903504440067928.\u001b[0m\n",
      "\u001b[32m[I 2021-12-06 11:20:21,519]\u001b[0m Trial 27 finished with value: 0.7857370925515353 and parameters: {'n_estimators': 915, 'criterion': 'gini', 'max_depth': 647, 'min_samples_split': 566, 'min_samples_leaf': 119, 'max_leaf_nodes': 649, 'bootstrap': True}. Best is trial 26 with value: 0.7903504440067928.\u001b[0m\n",
      "\u001b[32m[I 2021-12-06 11:20:24,027]\u001b[0m Trial 28 finished with value: 0.7725713034812963 and parameters: {'n_estimators': 994, 'criterion': 'entropy', 'max_depth': 910, 'min_samples_split': 456, 'min_samples_leaf': 594, 'max_leaf_nodes': 777, 'bootstrap': True}. Best is trial 26 with value: 0.7903504440067928.\u001b[0m\n",
      "\u001b[32m[I 2021-12-06 11:20:26,065]\u001b[0m Trial 29 finished with value: 0.7771639434643144 and parameters: {'n_estimators': 789, 'criterion': 'gini', 'max_depth': 811, 'min_samples_split': 563, 'min_samples_leaf': 456, 'max_leaf_nodes': 512, 'bootstrap': True}. Best is trial 26 with value: 0.7903504440067928.\u001b[0m\n",
      "\u001b[32m[I 2021-12-06 11:20:28,543]\u001b[0m Trial 30 finished with value: 0.7841050137978206 and parameters: {'n_estimators': 868, 'criterion': 'entropy', 'max_depth': 936, 'min_samples_split': 925, 'min_samples_leaf': 93, 'max_leaf_nodes': 420, 'bootstrap': True}. Best is trial 26 with value: 0.7903504440067928.\u001b[0m\n",
      "\u001b[32m[I 2021-12-06 11:20:31,344]\u001b[0m Trial 31 finished with value: 0.7890669960847211 and parameters: {'n_estimators': 936, 'criterion': 'entropy', 'max_depth': 983, 'min_samples_split': 743, 'min_samples_leaf': 5, 'max_leaf_nodes': 933, 'bootstrap': True}. Best is trial 26 with value: 0.7903504440067928.\u001b[0m\n",
      "\u001b[32m[I 2021-12-06 11:20:33,713]\u001b[0m Trial 32 finished with value: 0.7884541281428369 and parameters: {'n_estimators': 795, 'criterion': 'entropy', 'max_depth': 839, 'min_samples_split': 831, 'min_samples_leaf': 17, 'max_leaf_nodes': 900, 'bootstrap': True}. Best is trial 26 with value: 0.7903504440067928.\u001b[0m\n",
      "\u001b[32m[I 2021-12-06 11:20:36,709]\u001b[0m Trial 33 finished with value: 0.7843550992971368 and parameters: {'n_estimators': 998, 'criterion': 'entropy', 'max_depth': 942, 'min_samples_split': 693, 'min_samples_leaf': 143, 'max_leaf_nodes': 604, 'bootstrap': True}. Best is trial 26 with value: 0.7903504440067928.\u001b[0m\n",
      "\u001b[32m[I 2021-12-06 11:20:39,399]\u001b[0m Trial 34 finished with value: 0.7873489757771592 and parameters: {'n_estimators': 888, 'criterion': 'gini', 'max_depth': 773, 'min_samples_split': 978, 'min_samples_leaf': 2, 'max_leaf_nodes': 831, 'bootstrap': True}. Best is trial 26 with value: 0.7903504440067928.\u001b[0m\n",
      "\u001b[32m[I 2021-12-06 11:20:41,539]\u001b[0m Trial 35 finished with value: 0.7875886686872022 and parameters: {'n_estimators': 655, 'criterion': 'entropy', 'max_depth': 929, 'min_samples_split': 872, 'min_samples_leaf': 90, 'max_leaf_nodes': 732, 'bootstrap': False}. Best is trial 26 with value: 0.7903504440067928.\u001b[0m\n",
      "\u001b[32m[I 2021-12-06 11:20:43,432]\u001b[0m Trial 36 finished with value: 0.7654624038869757 and parameters: {'n_estimators': 796, 'criterion': 'gini', 'max_depth': 669, 'min_samples_split': 722, 'min_samples_leaf': 999, 'max_leaf_nodes': 796, 'bootstrap': True}. Best is trial 26 with value: 0.7903504440067928.\u001b[0m\n",
      "\u001b[32m[I 2021-12-06 11:20:46,610]\u001b[0m Trial 37 finished with value: 0.7856598483419028 and parameters: {'n_estimators': 953, 'criterion': 'entropy', 'max_depth': 1000, 'min_samples_split': 592, 'min_samples_leaf': 179, 'max_leaf_nodes': 684, 'bootstrap': False}. Best is trial 26 with value: 0.7903504440067928.\u001b[0m\n",
      "\u001b[32m[I 2021-12-06 11:20:48,937]\u001b[0m Trial 38 finished with value: 0.7797441801500071 and parameters: {'n_estimators': 859, 'criterion': 'entropy', 'max_depth': 842, 'min_samples_split': 814, 'min_samples_leaf': 261, 'max_leaf_nodes': 870, 'bootstrap': True}. Best is trial 26 with value: 0.7903504440067928.\u001b[0m\n",
      "\u001b[32m[I 2021-12-06 11:20:52,200]\u001b[0m Trial 39 finished with value: 0.7898236650313695 and parameters: {'n_estimators': 937, 'criterion': 'entropy', 'max_depth': 534, 'min_samples_split': 453, 'min_samples_leaf': 78, 'max_leaf_nodes': 924, 'bootstrap': False}. Best is trial 26 with value: 0.7903504440067928.\u001b[0m\n",
      "\u001b[32m[I 2021-12-06 11:20:53,978]\u001b[0m Trial 40 finished with value: 0.7865886952214727 and parameters: {'n_estimators': 612, 'criterion': 'gini', 'max_depth': 533, 'min_samples_split': 366, 'min_samples_leaf': 99, 'max_leaf_nodes': 33, 'bootstrap': False}. Best is trial 26 with value: 0.7903504440067928.\u001b[0m\n",
      "\u001b[32m[I 2021-12-06 11:20:57,386]\u001b[0m Trial 41 finished with value: 0.7910496957403652 and parameters: {'n_estimators': 941, 'criterion': 'entropy', 'max_depth': 917, 'min_samples_split': 475, 'min_samples_leaf': 57, 'max_leaf_nodes': 930, 'bootstrap': False}. Best is trial 41 with value: 0.7910496957403652.\u001b[0m\n",
      "\u001b[32m[I 2021-12-06 11:21:00,561]\u001b[0m Trial 42 finished with value: 0.7899097539978301 and parameters: {'n_estimators': 908, 'criterion': 'entropy', 'max_depth': 446, 'min_samples_split': 464, 'min_samples_leaf': 75, 'max_leaf_nodes': 943, 'bootstrap': False}. Best is trial 41 with value: 0.7910496957403652.\u001b[0m\n",
      "\u001b[32m[I 2021-12-06 11:21:03,762]\u001b[0m Trial 43 finished with value: 0.7905033845936129 and parameters: {'n_estimators': 906, 'criterion': 'entropy', 'max_depth': 353, 'min_samples_split': 460, 'min_samples_leaf': 67, 'max_leaf_nodes': 956, 'bootstrap': False}. Best is trial 41 with value: 0.7910496957403652.\u001b[0m\n",
      "\u001b[32m[I 2021-12-06 11:21:06,863]\u001b[0m Trial 44 finished with value: 0.7906353188829662 and parameters: {'n_estimators': 880, 'criterion': 'entropy', 'max_depth': 453, 'min_samples_split': 459, 'min_samples_leaf': 65, 'max_leaf_nodes': 958, 'bootstrap': False}. Best is trial 41 with value: 0.7910496957403652.\u001b[0m\n",
      "\u001b[32m[I 2021-12-06 11:21:09,365]\u001b[0m Trial 45 finished with value: 0.7853485866078589 and parameters: {'n_estimators': 768, 'criterion': 'entropy', 'max_depth': 328, 'min_samples_split': 336, 'min_samples_leaf': 196, 'max_leaf_nodes': 961, 'bootstrap': False}. Best is trial 41 with value: 0.7910496957403652.\u001b[0m\n",
      "\u001b[32m[I 2021-12-06 11:21:09,869]\u001b[0m Trial 46 finished with value: 0.7907420456153592 and parameters: {'n_estimators': 141, 'criterion': 'entropy', 'max_depth': 452, 'min_samples_split': 463, 'min_samples_leaf': 57, 'max_leaf_nodes': 998, 'bootstrap': False}. Best is trial 41 with value: 0.7910496957403652.\u001b[0m\n",
      "\u001b[32m[I 2021-12-06 11:21:10,420]\u001b[0m Trial 47 finished with value: 0.7880482275107317 and parameters: {'n_estimators': 153, 'criterion': 'entropy', 'max_depth': 303, 'min_samples_split': 172, 'min_samples_leaf': 134, 'max_leaf_nodes': 145, 'bootstrap': False}. Best is trial 41 with value: 0.7910496957403652.\u001b[0m\n",
      "\u001b[32m[I 2021-12-06 11:21:10,552]\u001b[0m Trial 48 finished with value: 0.775940566182367 and parameters: {'n_estimators': 35, 'criterion': 'entropy', 'max_depth': 272, 'min_samples_split': 422, 'min_samples_leaf': 575, 'max_leaf_nodes': 995, 'bootstrap': False}. Best is trial 41 with value: 0.7910496957403652.\u001b[0m\n",
      "\u001b[32m[I 2021-12-06 11:21:11,611]\u001b[0m Trial 49 finished with value: 0.7824269423085994 and parameters: {'n_estimators': 351, 'criterion': 'entropy', 'max_depth': 369, 'min_samples_split': 520, 'min_samples_leaf': 321, 'max_leaf_nodes': 815, 'bootstrap': False}. Best is trial 41 with value: 0.7910496957403652.\u001b[0m\n",
      "\u001b[32m[I 2021-12-06 11:21:12,505]\u001b[0m Trial 50 finished with value: 0.7922522878437662 and parameters: {'n_estimators': 240, 'criterion': 'entropy', 'max_depth': 459, 'min_samples_split': 267, 'min_samples_leaf': 54, 'max_leaf_nodes': 332, 'bootstrap': False}. Best is trial 50 with value: 0.7922522878437662.\u001b[0m\n",
      "\u001b[32m[I 2021-12-06 11:21:12,860]\u001b[0m Trial 51 finished with value: 0.7907650419831124 and parameters: {'n_estimators': 92, 'criterion': 'entropy', 'max_depth': 454, 'min_samples_split': 287, 'min_samples_leaf': 60, 'max_leaf_nodes': 303, 'bootstrap': False}. Best is trial 50 with value: 0.7922522878437662.\u001b[0m\n",
      "\u001b[32m[I 2021-12-06 11:21:13,695]\u001b[0m Trial 52 finished with value: 0.7908882789282513 and parameters: {'n_estimators': 226, 'criterion': 'entropy', 'max_depth': 473, 'min_samples_split': 267, 'min_samples_leaf': 72, 'max_leaf_nodes': 289, 'bootstrap': False}. Best is trial 50 with value: 0.7922522878437662.\u001b[0m\n"
     ]
    },
    {
     "name": "stderr",
     "output_type": "stream",
     "text": [
      "\u001b[32m[I 2021-12-06 11:21:14,503]\u001b[0m Trial 53 finished with value: 0.7870307856502665 and parameters: {'n_estimators': 223, 'criterion': 'entropy', 'max_depth': 452, 'min_samples_split': 284, 'min_samples_leaf': 153, 'max_leaf_nodes': 296, 'bootstrap': False}. Best is trial 50 with value: 0.7922522878437662.\u001b[0m\n",
      "\u001b[32m[I 2021-12-06 11:21:14,862]\u001b[0m Trial 54 finished with value: 0.7932048681541581 and parameters: {'n_estimators': 82, 'criterion': 'entropy', 'max_depth': 485, 'min_samples_split': 70, 'min_samples_leaf': 47, 'max_leaf_nodes': 290, 'bootstrap': False}. Best is trial 54 with value: 0.7932048681541581.\u001b[0m\n",
      "\u001b[32m[I 2021-12-06 11:21:15,198]\u001b[0m Trial 55 finished with value: 0.7920287366149346 and parameters: {'n_estimators': 78, 'criterion': 'entropy', 'max_depth': 502, 'min_samples_split': 11, 'min_samples_leaf': 47, 'max_leaf_nodes': 284, 'bootstrap': False}. Best is trial 54 with value: 0.7932048681541581.\u001b[0m\n",
      "\u001b[32m[I 2021-12-06 11:21:15,489]\u001b[0m Trial 56 finished with value: 0.7848775296004529 and parameters: {'n_estimators': 81, 'criterion': 'entropy', 'max_depth': 599, 'min_samples_split': 6, 'min_samples_leaf': 225, 'max_leaf_nodes': 270, 'bootstrap': False}. Best is trial 54 with value: 0.7932048681541581.\u001b[0m\n",
      "\u001b[32m[I 2021-12-06 11:21:16,060]\u001b[0m Trial 57 finished with value: 0.7758432001509505 and parameters: {'n_estimators': 213, 'criterion': 'entropy', 'max_depth': 535, 'min_samples_split': 112, 'min_samples_leaf': 835, 'max_leaf_nodes': 374, 'bootstrap': False}. Best is trial 54 with value: 0.7932048681541581.\u001b[0m\n",
      "\u001b[32m[I 2021-12-06 11:21:16,146]\u001b[0m Trial 58 finished with value: 0.7886251267748479 and parameters: {'n_estimators': 10, 'criterion': 'entropy', 'max_depth': 404, 'min_samples_split': 226, 'min_samples_leaf': 126, 'max_leaf_nodes': 90, 'bootstrap': False}. Best is trial 54 with value: 0.7932048681541581.\u001b[0m\n",
      "\u001b[32m[I 2021-12-06 11:21:16,542]\u001b[0m Trial 59 finished with value: 0.7915026209962736 and parameters: {'n_estimators': 97, 'criterion': 'entropy', 'max_depth': 91, 'min_samples_split': 55, 'min_samples_leaf': 49, 'max_leaf_nodes': 226, 'bootstrap': False}. Best is trial 54 with value: 0.7932048681541581.\u001b[0m\n",
      "\u001b[32m[I 2021-12-06 11:21:17,162]\u001b[0m Trial 60 finished with value: 0.7857395248596633 and parameters: {'n_estimators': 183, 'criterion': 'entropy', 'max_depth': 74, 'min_samples_split': 40, 'min_samples_leaf': 178, 'max_leaf_nodes': 210, 'bootstrap': False}. Best is trial 54 with value: 0.7932048681541581.\u001b[0m\n",
      "\u001b[32m[I 2021-12-06 11:21:17,466]\u001b[0m Trial 61 finished with value: 0.7906603790273126 and parameters: {'n_estimators': 72, 'criterion': 'entropy', 'max_depth': 131, 'min_samples_split': 104, 'min_samples_leaf': 59, 'max_leaf_nodes': 260, 'bootstrap': False}. Best is trial 54 with value: 0.7932048681541581.\u001b[0m\n",
      "\u001b[32m[I 2021-12-06 11:21:17,875]\u001b[0m Trial 62 finished with value: 0.7942583523986981 and parameters: {'n_estimators': 101, 'criterion': 'entropy', 'max_depth': 505, 'min_samples_split': 185, 'min_samples_leaf': 39, 'max_leaf_nodes': 342, 'bootstrap': False}. Best is trial 62 with value: 0.7942583523986981.\u001b[0m\n",
      "\u001b[32m[I 2021-12-06 11:21:18,919]\u001b[0m Trial 63 finished with value: 0.7931447238077268 and parameters: {'n_estimators': 257, 'criterion': 'entropy', 'max_depth': 507, 'min_samples_split': 178, 'min_samples_leaf': 35, 'max_leaf_nodes': 358, 'bootstrap': False}. Best is trial 62 with value: 0.7942583523986981.\u001b[0m\n",
      "\u001b[32m[I 2021-12-06 11:21:19,978]\u001b[0m Trial 64 finished with value: 0.7924724485824802 and parameters: {'n_estimators': 268, 'criterion': 'entropy', 'max_depth': 580, 'min_samples_split': 175, 'min_samples_leaf': 35, 'max_leaf_nodes': 357, 'bootstrap': False}. Best is trial 62 with value: 0.7942583523986981.\u001b[0m\n",
      "\u001b[32m[I 2021-12-06 11:21:20,980]\u001b[0m Trial 65 finished with value: 0.7926179448323034 and parameters: {'n_estimators': 254, 'criterion': 'entropy', 'max_depth': 580, 'min_samples_split': 166, 'min_samples_leaf': 38, 'max_leaf_nodes': 369, 'bootstrap': False}. Best is trial 62 with value: 0.7942583523986981.\u001b[0m\n",
      "\u001b[32m[I 2021-12-06 11:21:22,025]\u001b[0m Trial 66 finished with value: 0.7898052384546441 and parameters: {'n_estimators': 288, 'criterion': 'entropy', 'max_depth': 581, 'min_samples_split': 210, 'min_samples_leaf': 104, 'max_leaf_nodes': 366, 'bootstrap': False}. Best is trial 62 with value: 0.7942583523986981.\u001b[0m\n",
      "\u001b[32m[I 2021-12-06 11:21:22,957]\u001b[0m Trial 67 finished with value: 0.7884285520543423 and parameters: {'n_estimators': 259, 'criterion': 'gini', 'max_depth': 496, 'min_samples_split': 165, 'min_samples_leaf': 116, 'max_leaf_nodes': 430, 'bootstrap': False}. Best is trial 62 with value: 0.7942583523986981.\u001b[0m\n",
      "\u001b[32m[I 2021-12-06 11:21:24,149]\u001b[0m Trial 68 finished with value: 0.7870660909712722 and parameters: {'n_estimators': 357, 'criterion': 'entropy', 'max_depth': 614, 'min_samples_split': 110, 'min_samples_leaf': 153, 'max_leaf_nodes': 491, 'bootstrap': False}. Best is trial 62 with value: 0.7942583523986981.\u001b[0m\n",
      "\u001b[32m[I 2021-12-06 11:21:24,748]\u001b[0m Trial 69 finished with value: 0.7933982735034671 and parameters: {'n_estimators': 142, 'criterion': 'entropy', 'max_depth': 557, 'min_samples_split': 175, 'min_samples_leaf': 22, 'max_leaf_nodes': 354, 'bootstrap': False}. Best is trial 62 with value: 0.7942583523986981.\u001b[0m\n",
      "\u001b[32m[I 2021-12-06 11:21:26,041]\u001b[0m Trial 70 finished with value: 0.7938974863201094 and parameters: {'n_estimators': 323, 'criterion': 'entropy', 'max_depth': 567, 'min_samples_split': 185, 'min_samples_leaf': 31, 'max_leaf_nodes': 352, 'bootstrap': False}. Best is trial 62 with value: 0.7942583523986981.\u001b[0m\n",
      "\u001b[32m[I 2021-12-06 11:21:27,276]\u001b[0m Trial 71 finished with value: 0.7926219986791829 and parameters: {'n_estimators': 314, 'criterion': 'entropy', 'max_depth': 664, 'min_samples_split': 178, 'min_samples_leaf': 37, 'max_leaf_nodes': 375, 'bootstrap': False}. Best is trial 62 with value: 0.7942583523986981.\u001b[0m\n",
      "\u001b[32m[I 2021-12-06 11:21:28,385]\u001b[0m Trial 72 finished with value: 0.7891135047643757 and parameters: {'n_estimators': 314, 'criterion': 'entropy', 'max_depth': 678, 'min_samples_split': 164, 'min_samples_leaf': 98, 'max_leaf_nodes': 378, 'bootstrap': False}. Best is trial 62 with value: 0.7942583523986981.\u001b[0m\n",
      "\u001b[32m[I 2021-12-06 11:21:30,176]\u001b[0m Trial 73 finished with value: 0.7933553764328507 and parameters: {'n_estimators': 457, 'criterion': 'entropy', 'max_depth': 549, 'min_samples_split': 204, 'min_samples_leaf': 31, 'max_leaf_nodes': 475, 'bootstrap': False}. Best is trial 62 with value: 0.7942583523986981.\u001b[0m\n",
      "\u001b[32m[I 2021-12-06 11:21:31,813]\u001b[0m Trial 74 finished with value: 0.7930058611255248 and parameters: {'n_estimators': 419, 'criterion': 'entropy', 'max_depth': 626, 'min_samples_split': 204, 'min_samples_leaf': 33, 'max_leaf_nodes': 409, 'bootstrap': False}. Best is trial 62 with value: 0.7942583523986981.\u001b[0m\n",
      "\u001b[32m[I 2021-12-06 11:21:33,636]\u001b[0m Trial 75 finished with value: 0.7939589573800651 and parameters: {'n_estimators': 464, 'criterion': 'entropy', 'max_depth': 631, 'min_samples_split': 208, 'min_samples_leaf': 22, 'max_leaf_nodes': 472, 'bootstrap': False}. Best is trial 62 with value: 0.7942583523986981.\u001b[0m\n",
      "\u001b[32m[I 2021-12-06 11:21:35,667]\u001b[0m Trial 76 finished with value: 0.794924288881551 and parameters: {'n_estimators': 494, 'criterion': 'entropy', 'max_depth': 709, 'min_samples_split': 225, 'min_samples_leaf': 4, 'max_leaf_nodes': 528, 'bootstrap': False}. Best is trial 76 with value: 0.794924288881551.\u001b[0m\n",
      "\u001b[32m[I 2021-12-06 11:21:37,752]\u001b[0m Trial 77 finished with value: 0.7940345800509458 and parameters: {'n_estimators': 508, 'criterion': 'gini', 'max_depth': 714, 'min_samples_split': 129, 'min_samples_leaf': 16, 'max_leaf_nodes': 467, 'bootstrap': False}. Best is trial 76 with value: 0.794924288881551.\u001b[0m\n",
      "\u001b[32m[I 2021-12-06 11:21:40,080]\u001b[0m Trial 78 finished with value: 0.794522736921553 and parameters: {'n_estimators': 530, 'criterion': 'gini', 'max_depth': 711, 'min_samples_split': 137, 'min_samples_leaf': 5, 'max_leaf_nodes': 475, 'bootstrap': False}. Best is trial 76 with value: 0.794924288881551.\u001b[0m\n",
      "\u001b[32m[I 2021-12-06 11:21:42,320]\u001b[0m Trial 79 finished with value: 0.7934946813528939 and parameters: {'n_estimators': 525, 'criterion': 'gini', 'max_depth': 704, 'min_samples_split': 240, 'min_samples_leaf': 1, 'max_leaf_nodes': 549, 'bootstrap': False}. Best is trial 76 with value: 0.794924288881551.\u001b[0m\n"
     ]
    },
    {
     "name": "stderr",
     "output_type": "stream",
     "text": [
      "\u001b[32m[I 2021-12-06 11:21:44,643]\u001b[0m Trial 80 finished with value: 0.7945662973489316 and parameters: {'n_estimators': 534, 'criterion': 'gini', 'max_depth': 707, 'min_samples_split': 139, 'min_samples_leaf': 7, 'max_leaf_nodes': 576, 'bootstrap': False}. Best is trial 76 with value: 0.794924288881551.\u001b[0m\n",
      "\u001b[32m[I 2021-12-06 11:21:46,984]\u001b[0m Trial 81 finished with value: 0.7946840063210528 and parameters: {'n_estimators': 538, 'criterion': 'gini', 'max_depth': 726, 'min_samples_split': 123, 'min_samples_leaf': 9, 'max_leaf_nodes': 549, 'bootstrap': False}. Best is trial 76 with value: 0.794924288881551.\u001b[0m\n",
      "\u001b[32m[I 2021-12-06 11:21:49,226]\u001b[0m Trial 82 finished with value: 0.7943856431907166 and parameters: {'n_estimators': 533, 'criterion': 'gini', 'max_depth': 762, 'min_samples_split': 137, 'min_samples_leaf': 12, 'max_leaf_nodes': 542, 'bootstrap': False}. Best is trial 76 with value: 0.794924288881551.\u001b[0m\n",
      "\u001b[32m[I 2021-12-06 11:21:51,292]\u001b[0m Trial 83 finished with value: 0.7895041481909524 and parameters: {'n_estimators': 548, 'criterion': 'gini', 'max_depth': 746, 'min_samples_split': 132, 'min_samples_leaf': 88, 'max_leaf_nodes': 551, 'bootstrap': False}. Best is trial 76 with value: 0.794924288881551.\u001b[0m\n",
      "\u001b[32m[I 2021-12-06 11:21:53,356]\u001b[0m Trial 84 finished with value: 0.7941288504174726 and parameters: {'n_estimators': 473, 'criterion': 'gini', 'max_depth': 705, 'min_samples_split': 84, 'min_samples_leaf': 11, 'max_leaf_nodes': 531, 'bootstrap': False}. Best is trial 76 with value: 0.794924288881551.\u001b[0m\n",
      "\u001b[32m[I 2021-12-06 11:21:55,546]\u001b[0m Trial 85 finished with value: 0.7936369345252133 and parameters: {'n_estimators': 466, 'criterion': 'gini', 'max_depth': 703, 'min_samples_split': 85, 'min_samples_leaf': 3, 'max_leaf_nodes': 549, 'bootstrap': False}. Best is trial 76 with value: 0.794924288881551.\u001b[0m\n",
      "\u001b[32m[I 2021-12-06 11:21:57,270]\u001b[0m Trial 86 finished with value: 0.7773586755271475 and parameters: {'n_estimators': 584, 'criterion': 'gini', 'max_depth': 775, 'min_samples_split': 137, 'min_samples_leaf': 714, 'max_leaf_nodes': 466, 'bootstrap': False}. Best is trial 76 with value: 0.794924288881551.\u001b[0m\n",
      "\u001b[32m[I 2021-12-06 11:21:59,843]\u001b[0m Trial 87 finished with value: 0.7906066471295816 and parameters: {'n_estimators': 501, 'criterion': 'gini', 'max_depth': 724, 'min_samples_split': 136, 'min_samples_leaf': 83, 'max_leaf_nodes': 532, 'bootstrap': False}. Best is trial 76 with value: 0.794924288881551.\u001b[0m\n",
      "\u001b[32m[I 2021-12-06 11:22:02,015]\u001b[0m Trial 88 finished with value: 0.7812984987499412 and parameters: {'n_estimators': 637, 'criterion': 'gini', 'max_depth': 797, 'min_samples_split': 38, 'min_samples_leaf': 394, 'max_leaf_nodes': 591, 'bootstrap': False}. Best is trial 76 with value: 0.794924288881551.\u001b[0m\n",
      "\u001b[32m[I 2021-12-06 11:22:04,119]\u001b[0m Trial 89 finished with value: 0.7884260460399075 and parameters: {'n_estimators': 534, 'criterion': 'gini', 'max_depth': 743, 'min_samples_split': 79, 'min_samples_leaf': 111, 'max_leaf_nodes': 611, 'bootstrap': False}. Best is trial 76 with value: 0.794924288881551.\u001b[0m\n",
      "\u001b[32m[I 2021-12-06 11:22:06,211]\u001b[0m Trial 90 finished with value: 0.7934595234445021 and parameters: {'n_estimators': 499, 'criterion': 'gini', 'max_depth': 640, 'min_samples_split': 242, 'min_samples_leaf': 13, 'max_leaf_nodes': 512, 'bootstrap': False}. Best is trial 76 with value: 0.794924288881551.\u001b[0m\n",
      "\u001b[32m[I 2021-12-06 11:22:08,545]\u001b[0m Trial 91 finished with value: 0.7941869309873107 and parameters: {'n_estimators': 564, 'criterion': 'gini', 'max_depth': 689, 'min_samples_split': 143, 'min_samples_leaf': 21, 'max_leaf_nodes': 582, 'bootstrap': False}. Best is trial 76 with value: 0.794924288881551.\u001b[0m\n",
      "\u001b[32m[I 2021-12-06 11:22:11,075]\u001b[0m Trial 92 finished with value: 0.7937280355205434 and parameters: {'n_estimators': 563, 'criterion': 'gini', 'max_depth': 690, 'min_samples_split': 122, 'min_samples_leaf': 4, 'max_leaf_nodes': 581, 'bootstrap': False}. Best is trial 76 with value: 0.794924288881551.\u001b[0m\n",
      "\u001b[32m[I 2021-12-06 11:22:12,924]\u001b[0m Trial 93 finished with value: 0.7904369752110949 and parameters: {'n_estimators': 483, 'criterion': 'gini', 'max_depth': 730, 'min_samples_split': 148, 'min_samples_leaf': 77, 'max_leaf_nodes': 643, 'bootstrap': False}. Best is trial 76 with value: 0.794924288881551.\u001b[0m\n",
      "\u001b[32m[I 2021-12-06 11:22:14,364]\u001b[0m Trial 94 finished with value: 0.7878669099957546 and parameters: {'n_estimators': 413, 'criterion': 'gini', 'max_depth': 770, 'min_samples_split': 317, 'min_samples_leaf': 132, 'max_leaf_nodes': 452, 'bootstrap': False}. Best is trial 76 with value: 0.794924288881551.\u001b[0m\n",
      "\u001b[32m[I 2021-12-06 11:22:16,943]\u001b[0m Trial 95 finished with value: 0.7942509817680079 and parameters: {'n_estimators': 605, 'criterion': 'gini', 'max_depth': 826, 'min_samples_split': 98, 'min_samples_leaf': 24, 'max_leaf_nodes': 682, 'bootstrap': False}. Best is trial 76 with value: 0.794924288881551.\u001b[0m\n",
      "\u001b[32m[I 2021-12-06 11:22:18,668]\u001b[0m Trial 96 finished with value: 0.779066376951743 and parameters: {'n_estimators': 602, 'criterion': 'gini', 'max_depth': 829, 'min_samples_split': 81, 'min_samples_leaf': 512, 'max_leaf_nodes': 690, 'bootstrap': False}. Best is trial 76 with value: 0.794924288881551.\u001b[0m\n",
      "\u001b[32m[I 2021-12-06 11:22:21,131]\u001b[0m Trial 97 finished with value: 0.7895038533657249 and parameters: {'n_estimators': 627, 'criterion': 'gini', 'max_depth': 856, 'min_samples_split': 36, 'min_samples_leaf': 94, 'max_leaf_nodes': 663, 'bootstrap': False}. Best is trial 76 with value: 0.794924288881551.\u001b[0m\n",
      "\u001b[32m[I 2021-12-06 11:22:23,735]\u001b[0m Trial 98 finished with value: 0.7904617405302137 and parameters: {'n_estimators': 673, 'criterion': 'gini', 'max_depth': 797, 'min_samples_split': 106, 'min_samples_leaf': 72, 'max_leaf_nodes': 565, 'bootstrap': False}. Best is trial 76 with value: 0.794924288881551.\u001b[0m\n",
      "\u001b[32m[I 2021-12-06 11:22:26,090]\u001b[0m Trial 99 finished with value: 0.7937349639133922 and parameters: {'n_estimators': 556, 'criterion': 'gini', 'max_depth': 707, 'min_samples_split': 92, 'min_samples_leaf': 22, 'max_leaf_nodes': 513, 'bootstrap': False}. Best is trial 76 with value: 0.794924288881551.\u001b[0m\n",
      "\u001b[32m[I 2021-12-06 11:22:28,748]\u001b[0m Trial 100 finished with value: 0.7943650054247843 and parameters: {'n_estimators': 592, 'criterion': 'gini', 'max_depth': 817, 'min_samples_split': 56, 'min_samples_leaf': 1, 'max_leaf_nodes': 627, 'bootstrap': False}. Best is trial 76 with value: 0.794924288881551.\u001b[0m\n",
      "\u001b[32m[I 2021-12-06 11:22:31,450]\u001b[0m Trial 101 finished with value: 0.7941021687343743 and parameters: {'n_estimators': 590, 'criterion': 'gini', 'max_depth': 657, 'min_samples_split': 64, 'min_samples_leaf': 3, 'max_leaf_nodes': 619, 'bootstrap': False}. Best is trial 76 with value: 0.794924288881551.\u001b[0m\n",
      "\u001b[32m[I 2021-12-06 11:22:33,631]\u001b[0m Trial 102 finished with value: 0.7915906263267136 and parameters: {'n_estimators': 539, 'criterion': 'gini', 'max_depth': 747, 'min_samples_split': 59, 'min_samples_leaf': 54, 'max_leaf_nodes': 620, 'bootstrap': False}. Best is trial 76 with value: 0.794924288881551.\u001b[0m\n",
      "\u001b[32m[I 2021-12-06 11:22:36,177]\u001b[0m Trial 103 finished with value: 0.7937874428039058 and parameters: {'n_estimators': 578, 'criterion': 'gini', 'max_depth': 673, 'min_samples_split': 28, 'min_samples_leaf': 2, 'max_leaf_nodes': 705, 'bootstrap': False}. Best is trial 76 with value: 0.794924288881551.\u001b[0m\n",
      "\u001b[32m[I 2021-12-06 11:22:38,979]\u001b[0m Trial 104 finished with value: 0.7923735347186187 and parameters: {'n_estimators': 692, 'criterion': 'gini', 'max_depth': 890, 'min_samples_split': 63, 'min_samples_leaf': 46, 'max_leaf_nodes': 627, 'bootstrap': False}. Best is trial 76 with value: 0.794924288881551.\u001b[0m\n",
      "\u001b[32m[I 2021-12-06 11:22:41,450]\u001b[0m Trial 105 finished with value: 0.7901082450823151 and parameters: {'n_estimators': 619, 'criterion': 'gini', 'max_depth': 820, 'min_samples_split': 147, 'min_samples_leaf': 75, 'max_leaf_nodes': 579, 'bootstrap': False}. Best is trial 76 with value: 0.794924288881551.\u001b[0m\n",
      "\u001b[32m[I 2021-12-06 11:22:43,864]\u001b[0m Trial 106 finished with value: 0.7936862440445304 and parameters: {'n_estimators': 585, 'criterion': 'gini', 'max_depth': 654, 'min_samples_split': 153, 'min_samples_leaf': 25, 'max_leaf_nodes': 671, 'bootstrap': False}. Best is trial 76 with value: 0.794924288881551.\u001b[0m\n"
     ]
    },
    {
     "name": "stderr",
     "output_type": "stream",
     "text": [
      "\u001b[32m[I 2021-12-06 11:22:46,411]\u001b[0m Trial 107 finished with value: 0.7912103754894099 and parameters: {'n_estimators': 649, 'criterion': 'gini', 'max_depth': 786, 'min_samples_split': 97, 'min_samples_leaf': 60, 'max_leaf_nodes': 525, 'bootstrap': False}. Best is trial 76 with value: 0.794924288881551.\u001b[0m\n",
      "\u001b[32m[I 2021-12-06 11:22:48,057]\u001b[0m Trial 108 finished with value: 0.7881946819425444 and parameters: {'n_estimators': 441, 'criterion': 'gini', 'max_depth': 687, 'min_samples_split': 15, 'min_samples_leaf': 108, 'max_leaf_nodes': 654, 'bootstrap': False}. Best is trial 76 with value: 0.794924288881551.\u001b[0m\n",
      "\u001b[32m[I 2021-12-06 11:22:50,015]\u001b[0m Trial 109 finished with value: 0.7863587315439406 and parameters: {'n_estimators': 567, 'criterion': 'gini', 'max_depth': 754, 'min_samples_split': 54, 'min_samples_leaf': 159, 'max_leaf_nodes': 596, 'bootstrap': False}. Best is trial 76 with value: 0.794924288881551.\u001b[0m\n",
      "\u001b[32m[I 2021-12-06 11:22:52,018]\u001b[0m Trial 110 finished with value: 0.7781225676918722 and parameters: {'n_estimators': 728, 'criterion': 'gini', 'max_depth': 729, 'min_samples_split': 118, 'min_samples_leaf': 624, 'max_leaf_nodes': 730, 'bootstrap': False}. Best is trial 76 with value: 0.794924288881551.\u001b[0m\n",
      "\u001b[32m[I 2021-12-06 11:22:54,137]\u001b[0m Trial 111 finished with value: 0.7940240400490588 and parameters: {'n_estimators': 509, 'criterion': 'gini', 'max_depth': 609, 'min_samples_split': 123, 'min_samples_leaf': 18, 'max_leaf_nodes': 569, 'bootstrap': False}. Best is trial 76 with value: 0.794924288881551.\u001b[0m\n",
      "\u001b[32m[I 2021-12-06 11:22:56,078]\u001b[0m Trial 112 finished with value: 0.7919028462427473 and parameters: {'n_estimators': 482, 'criterion': 'gini', 'max_depth': 763, 'min_samples_split': 81, 'min_samples_leaf': 44, 'max_leaf_nodes': 535, 'bootstrap': False}. Best is trial 76 with value: 0.794924288881551.\u001b[0m\n",
      "\u001b[32m[I 2021-12-06 11:22:58,484]\u001b[0m Trial 113 finished with value: 0.7935615329732535 and parameters: {'n_estimators': 594, 'criterion': 'gini', 'max_depth': 851, 'min_samples_split': 197, 'min_samples_leaf': 23, 'max_leaf_nodes': 503, 'bootstrap': False}. Best is trial 76 with value: 0.794924288881551.\u001b[0m\n",
      "\u001b[32m[I 2021-12-06 11:23:00,739]\u001b[0m Trial 114 finished with value: 0.7944279506108779 and parameters: {'n_estimators': 515, 'criterion': 'gini', 'max_depth': 708, 'min_samples_split': 146, 'min_samples_leaf': 4, 'max_leaf_nodes': 399, 'bootstrap': False}. Best is trial 76 with value: 0.794924288881551.\u001b[0m\n",
      "\u001b[32m[I 2021-12-06 11:23:02,987]\u001b[0m Trial 115 finished with value: 0.7920838689324968 and parameters: {'n_estimators': 546, 'criterion': 'gini', 'max_depth': 657, 'min_samples_split': 100, 'min_samples_leaf': 45, 'max_leaf_nodes': 436, 'bootstrap': False}. Best is trial 76 with value: 0.794924288881551.\u001b[0m\n",
      "\u001b[32m[I 2021-12-06 11:23:04,659]\u001b[0m Trial 116 finished with value: 0.7934231862351998 and parameters: {'n_estimators': 389, 'criterion': 'gini', 'max_depth': 807, 'min_samples_split': 226, 'min_samples_leaf': 3, 'max_leaf_nodes': 416, 'bootstrap': False}. Best is trial 76 with value: 0.794924288881551.\u001b[0m\n",
      "\u001b[32m[I 2021-12-06 11:23:06,035]\u001b[0m Trial 117 finished with value: 0.7773884528751357 and parameters: {'n_estimators': 523, 'criterion': 'gini', 'max_depth': 692, 'min_samples_split': 154, 'min_samples_leaf': 783, 'max_leaf_nodes': 483, 'bootstrap': False}. Best is trial 76 with value: 0.794924288881551.\u001b[0m\n",
      "\u001b[32m[I 2021-12-06 11:23:08,348]\u001b[0m Trial 118 finished with value: 0.7905268969055145 and parameters: {'n_estimators': 609, 'criterion': 'gini', 'max_depth': 721, 'min_samples_split': 50, 'min_samples_leaf': 86, 'max_leaf_nodes': 399, 'bootstrap': False}. Best is trial 76 with value: 0.794924288881551.\u001b[0m\n",
      "\u001b[32m[I 2021-12-06 11:23:10,082]\u001b[0m Trial 119 finished with value: 0.7914277353884618 and parameters: {'n_estimators': 433, 'criterion': 'gini', 'max_depth': 785, 'min_samples_split': 25, 'min_samples_leaf': 62, 'max_leaf_nodes': 756, 'bootstrap': False}. Best is trial 76 with value: 0.794924288881551.\u001b[0m\n",
      "\u001b[32m[I 2021-12-06 11:23:12,408]\u001b[0m Trial 120 finished with value: 0.793161602552007 and parameters: {'n_estimators': 567, 'criterion': 'gini', 'max_depth': 824, 'min_samples_split': 187, 'min_samples_leaf': 34, 'max_leaf_nodes': 603, 'bootstrap': False}. Best is trial 76 with value: 0.794924288881551.\u001b[0m\n",
      "\u001b[32m[I 2021-12-06 11:23:14,704]\u001b[0m Trial 121 finished with value: 0.7934419076371527 and parameters: {'n_estimators': 518, 'criterion': 'gini', 'max_depth': 739, 'min_samples_split': 131, 'min_samples_leaf': 2, 'max_leaf_nodes': 558, 'bootstrap': False}. Best is trial 76 with value: 0.794924288881551.\u001b[0m\n",
      "\u001b[32m[I 2021-12-06 11:23:16,728]\u001b[0m Trial 122 finished with value: 0.7939324968158875 and parameters: {'n_estimators': 474, 'criterion': 'gini', 'max_depth': 705, 'min_samples_split': 69, 'min_samples_leaf': 26, 'max_leaf_nodes': 454, 'bootstrap': False}. Best is trial 76 with value: 0.794924288881551.\u001b[0m\n",
      "\u001b[32m[I 2021-12-06 11:23:18,838]\u001b[0m Trial 123 finished with value: 0.793792602245389 and parameters: {'n_estimators': 493, 'criterion': 'gini', 'max_depth': 762, 'min_samples_split': 115, 'min_samples_leaf': 18, 'max_leaf_nodes': 497, 'bootstrap': False}. Best is trial 76 with value: 0.794924288881551.\u001b[0m\n",
      "\u001b[32m[I 2021-12-06 11:23:21,406]\u001b[0m Trial 124 finished with value: 0.7909427478890514 and parameters: {'n_estimators': 663, 'criterion': 'gini', 'max_depth': 714, 'min_samples_split': 145, 'min_samples_leaf': 67, 'max_leaf_nodes': 327, 'bootstrap': False}. Best is trial 76 with value: 0.794924288881551.\u001b[0m\n",
      "\u001b[32m[I 2021-12-06 11:23:22,770]\u001b[0m Trial 125 finished with value: 0.7718441170574084 and parameters: {'n_estimators': 537, 'criterion': 'gini', 'max_depth': 677, 'min_samples_split': 96, 'min_samples_leaf': 960, 'max_leaf_nodes': 622, 'bootstrap': False}. Best is trial 76 with value: 0.794924288881551.\u001b[0m\n",
      "\u001b[32m[I 2021-12-06 11:23:24,743]\u001b[0m Trial 126 finished with value: 0.7920406770366527 and parameters: {'n_estimators': 515, 'criterion': 'gini', 'max_depth': 644, 'min_samples_split': 229, 'min_samples_leaf': 44, 'max_leaf_nodes': 531, 'bootstrap': False}. Best is trial 76 with value: 0.794924288881551.\u001b[0m\n",
      "\u001b[32m[I 2021-12-06 11:23:27,509]\u001b[0m Trial 127 finished with value: 0.7937303941223643 and parameters: {'n_estimators': 633, 'criterion': 'gini', 'max_depth': 691, 'min_samples_split': 159, 'min_samples_leaf': 2, 'max_leaf_nodes': 579, 'bootstrap': False}. Best is trial 76 with value: 0.794924288881551.\u001b[0m\n",
      "\u001b[32m[I 2021-12-06 11:23:29,809]\u001b[0m Trial 128 finished with value: 0.7895644399499977 and parameters: {'n_estimators': 591, 'criterion': 'gini', 'max_depth': 625, 'min_samples_split': 4, 'min_samples_leaf': 97, 'max_leaf_nodes': 639, 'bootstrap': False}. Best is trial 76 with value: 0.794924288881551.\u001b[0m\n",
      "\u001b[32m[I 2021-12-06 11:23:32,119]\u001b[0m Trial 129 finished with value: 0.7939157654842208 and parameters: {'n_estimators': 555, 'criterion': 'gini', 'max_depth': 732, 'min_samples_split': 130, 'min_samples_leaf': 26, 'max_leaf_nodes': 399, 'bootstrap': False}. Best is trial 76 with value: 0.794924288881551.\u001b[0m\n",
      "\u001b[32m[I 2021-12-06 11:23:33,893]\u001b[0m Trial 130 finished with value: 0.7877165491296759 and parameters: {'n_estimators': 489, 'criterion': 'gini', 'max_depth': 896, 'min_samples_split': 75, 'min_samples_leaf': 128, 'max_leaf_nodes': 543, 'bootstrap': False}. Best is trial 76 with value: 0.794924288881551.\u001b[0m\n",
      "\u001b[32m[I 2021-12-06 11:23:36,080]\u001b[0m Trial 131 finished with value: 0.7938755955469597 and parameters: {'n_estimators': 523, 'criterion': 'gini', 'max_depth': 614, 'min_samples_split': 115, 'min_samples_leaf': 18, 'max_leaf_nodes': 570, 'bootstrap': False}. Best is trial 76 with value: 0.794924288881551.\u001b[0m\n",
      "\u001b[32m[I 2021-12-06 11:23:38,083]\u001b[0m Trial 132 finished with value: 0.7919779529694796 and parameters: {'n_estimators': 508, 'criterion': 'gini', 'max_depth': 422, 'min_samples_split': 127, 'min_samples_leaf': 50, 'max_leaf_nodes': 516, 'bootstrap': False}. Best is trial 76 with value: 0.794924288881551.\u001b[0m\n",
      "\u001b[32m[I 2021-12-06 11:23:40,558]\u001b[0m Trial 133 finished with value: 0.7942027041369876 and parameters: {'n_estimators': 568, 'criterion': 'gini', 'max_depth': 663, 'min_samples_split': 92, 'min_samples_leaf': 19, 'max_leaf_nodes': 603, 'bootstrap': False}. Best is trial 76 with value: 0.794924288881551.\u001b[0m\n"
     ]
    },
    {
     "name": "stderr",
     "output_type": "stream",
     "text": [
      "\u001b[32m[I 2021-12-06 11:23:42,780]\u001b[0m Trial 134 finished with value: 0.7904602664040756 and parameters: {'n_estimators': 566, 'criterion': 'gini', 'max_depth': 672, 'min_samples_split': 194, 'min_samples_leaf': 81, 'max_leaf_nodes': 606, 'bootstrap': False}. Best is trial 76 with value: 0.794924288881551.\u001b[0m\n",
      "\u001b[32m[I 2021-12-06 11:23:45,229]\u001b[0m Trial 135 finished with value: 0.7925349515307326 and parameters: {'n_estimators': 600, 'criterion': 'gini', 'max_depth': 711, 'min_samples_split': 92, 'min_samples_leaf': 39, 'max_leaf_nodes': 496, 'bootstrap': False}. Best is trial 76 with value: 0.794924288881551.\u001b[0m\n",
      "\u001b[32m[I 2021-12-06 11:23:47,683]\u001b[0m Trial 136 finished with value: 0.7937855264399264 and parameters: {'n_estimators': 540, 'criterion': 'gini', 'max_depth': 757, 'min_samples_split': 56, 'min_samples_leaf': 1, 'max_leaf_nodes': 669, 'bootstrap': False}. Best is trial 76 with value: 0.794924288881551.\u001b[0m\n",
      "\u001b[32m[I 2021-12-06 11:23:50,050]\u001b[0m Trial 137 finished with value: 0.7912859244539836 and parameters: {'n_estimators': 621, 'criterion': 'gini', 'max_depth': 792, 'min_samples_split': 149, 'min_samples_leaf': 63, 'max_leaf_nodes': 447, 'bootstrap': False}. Best is trial 76 with value: 0.794924288881551.\u001b[0m\n",
      "\u001b[32m[I 2021-12-06 11:23:52,440]\u001b[0m Trial 138 finished with value: 0.7928412749422143 and parameters: {'n_estimators': 575, 'criterion': 'gini', 'max_depth': 653, 'min_samples_split': 258, 'min_samples_leaf': 25, 'max_leaf_nodes': 703, 'bootstrap': False}. Best is trial 76 with value: 0.794924288881551.\u001b[0m\n",
      "\u001b[32m[I 2021-12-06 11:23:53,994]\u001b[0m Trial 139 finished with value: 0.791523111349592 and parameters: {'n_estimators': 393, 'criterion': 'gini', 'max_depth': 770, 'min_samples_split': 37, 'min_samples_leaf': 53, 'max_leaf_nodes': 598, 'bootstrap': False}. Best is trial 76 with value: 0.794924288881551.\u001b[0m\n",
      "\u001b[32m[I 2021-12-06 11:23:56,045]\u001b[0m Trial 140 finished with value: 0.794034506344639 and parameters: {'n_estimators': 460, 'criterion': 'gini', 'max_depth': 692, 'min_samples_split': 168, 'min_samples_leaf': 1, 'max_leaf_nodes': 632, 'bootstrap': False}. Best is trial 76 with value: 0.794924288881551.\u001b[0m\n",
      "\u001b[32m[I 2021-12-06 11:23:58,045]\u001b[0m Trial 141 finished with value: 0.7943132635973394 and parameters: {'n_estimators': 451, 'criterion': 'gini', 'max_depth': 685, 'min_samples_split': 165, 'min_samples_leaf': 1, 'max_leaf_nodes': 648, 'bootstrap': False}. Best is trial 76 with value: 0.794924288881551.\u001b[0m\n",
      "\u001b[32m[I 2021-12-06 11:23:59,879]\u001b[0m Trial 142 finished with value: 0.7923625524788905 and parameters: {'n_estimators': 448, 'criterion': 'gini', 'max_depth': 719, 'min_samples_split': 84, 'min_samples_leaf': 32, 'max_leaf_nodes': 553, 'bootstrap': False}. Best is trial 76 with value: 0.794924288881551.\u001b[0m\n",
      "\u001b[32m[I 2021-12-06 11:24:01,995]\u001b[0m Trial 143 finished with value: 0.7941917956035662 and parameters: {'n_estimators': 497, 'criterion': 'gini', 'max_depth': 664, 'min_samples_split': 109, 'min_samples_leaf': 21, 'max_leaf_nodes': 470, 'bootstrap': False}. Best is trial 76 with value: 0.794924288881551.\u001b[0m\n",
      "\u001b[32m[I 2021-12-06 11:24:04,131]\u001b[0m Trial 144 finished with value: 0.7905914636303599 and parameters: {'n_estimators': 552, 'criterion': 'gini', 'max_depth': 636, 'min_samples_split': 188, 'min_samples_leaf': 74, 'max_leaf_nodes': 650, 'bootstrap': False}. Best is trial 76 with value: 0.794924288881551.\u001b[0m\n",
      "\u001b[32m[I 2021-12-06 11:24:06,791]\u001b[0m Trial 145 finished with value: 0.792327910514647 and parameters: {'n_estimators': 646, 'criterion': 'gini', 'max_depth': 872, 'min_samples_split': 107, 'min_samples_leaf': 44, 'max_leaf_nodes': 616, 'bootstrap': False}. Best is trial 76 with value: 0.794924288881551.\u001b[0m\n",
      "\u001b[32m[I 2021-12-06 11:24:08,821]\u001b[0m Trial 146 finished with value: 0.7931868838152744 and parameters: {'n_estimators': 475, 'criterion': 'gini', 'max_depth': 666, 'min_samples_split': 69, 'min_samples_leaf': 26, 'max_leaf_nodes': 579, 'bootstrap': False}. Best is trial 76 with value: 0.794924288881551.\u001b[0m\n",
      "\u001b[32m[I 2021-12-06 11:24:11,259]\u001b[0m Trial 147 finished with value: 0.7936406198405584 and parameters: {'n_estimators': 531, 'criterion': 'gini', 'max_depth': 599, 'min_samples_split': 143, 'min_samples_leaf': 1, 'max_leaf_nodes': 701, 'bootstrap': False}. Best is trial 76 with value: 0.794924288881551.\u001b[0m\n",
      "\u001b[32m[I 2021-12-06 11:24:13,502]\u001b[0m Trial 148 finished with value: 0.7912745736827209 and parameters: {'n_estimators': 577, 'criterion': 'gini', 'max_depth': 742, 'min_samples_split': 215, 'min_samples_leaf': 61, 'max_leaf_nodes': 522, 'bootstrap': False}. Best is trial 76 with value: 0.794924288881551.\u001b[0m\n",
      "\u001b[32m[I 2021-12-06 11:24:14,744]\u001b[0m Trial 149 finished with value: 0.7796656829331573 and parameters: {'n_estimators': 431, 'criterion': 'gini', 'max_depth': 680, 'min_samples_split': 98, 'min_samples_leaf': 476, 'max_leaf_nodes': 674, 'bootstrap': False}. Best is trial 76 with value: 0.794924288881551.\u001b[0m\n",
      "\u001b[32m[I 2021-12-06 11:24:16,877]\u001b[0m Trial 150 finished with value: 0.7931660986367282 and parameters: {'n_estimators': 492, 'criterion': 'gini', 'max_depth': 251, 'min_samples_split': 171, 'min_samples_leaf': 20, 'max_leaf_nodes': 490, 'bootstrap': False}. Best is trial 76 with value: 0.794924288881551.\u001b[0m\n",
      "\u001b[32m[I 2021-12-06 11:24:18,924]\u001b[0m Trial 151 finished with value: 0.793322282301052 and parameters: {'n_estimators': 501, 'criterion': 'gini', 'max_depth': 703, 'min_samples_split': 130, 'min_samples_leaf': 37, 'max_leaf_nodes': 469, 'bootstrap': False}. Best is trial 76 with value: 0.794924288881551.\u001b[0m\n",
      "\u001b[32m[I 2021-12-06 11:24:21,241]\u001b[0m Trial 152 finished with value: 0.7939809218595217 and parameters: {'n_estimators': 545, 'criterion': 'gini', 'max_depth': 661, 'min_samples_split': 108, 'min_samples_leaf': 16, 'max_leaf_nodes': 537, 'bootstrap': False}. Best is trial 76 with value: 0.794924288881551.\u001b[0m\n",
      "\u001b[32m[I 2021-12-06 11:24:23,907]\u001b[0m Trial 153 finished with value: 0.7940488053681778 and parameters: {'n_estimators': 609, 'criterion': 'gini', 'max_depth': 716, 'min_samples_split': 159, 'min_samples_leaf': 1, 'max_leaf_nodes': 596, 'bootstrap': False}. Best is trial 76 with value: 0.794924288881551.\u001b[0m\n",
      "\u001b[32m[I 2021-12-06 11:24:26,382]\u001b[0m Trial 154 finished with value: 0.7925834502806736 and parameters: {'n_estimators': 609, 'criterion': 'gini', 'max_depth': 733, 'min_samples_split': 153, 'min_samples_leaf': 45, 'max_leaf_nodes': 595, 'bootstrap': False}. Best is trial 76 with value: 0.794924288881551.\u001b[0m\n",
      "\u001b[32m[I 2021-12-06 11:24:28,861]\u001b[0m Trial 155 finished with value: 0.7937908332940233 and parameters: {'n_estimators': 588, 'criterion': 'gini', 'max_depth': 641, 'min_samples_split': 191, 'min_samples_leaf': 19, 'max_leaf_nodes': 636, 'bootstrap': False}. Best is trial 76 with value: 0.794924288881551.\u001b[0m\n",
      "\u001b[32m[I 2021-12-06 11:24:31,867]\u001b[0m Trial 156 finished with value: 0.7947677366856928 and parameters: {'n_estimators': 688, 'criterion': 'gini', 'max_depth': 695, 'min_samples_split': 45, 'min_samples_leaf': 1, 'max_leaf_nodes': 570, 'bootstrap': False}. Best is trial 76 with value: 0.794924288881551.\u001b[0m\n",
      "\u001b[32m[I 2021-12-06 11:24:33,867]\u001b[0m Trial 157 finished with value: 0.7907190492476059 and parameters: {'n_estimators': 528, 'criterion': 'gini', 'max_depth': 691, 'min_samples_split': 49, 'min_samples_leaf': 82, 'max_leaf_nodes': 566, 'bootstrap': False}. Best is trial 76 with value: 0.794924288881551.\u001b[0m\n",
      "\u001b[32m[I 2021-12-06 11:24:35,757]\u001b[0m Trial 158 finished with value: 0.7892321719184868 and parameters: {'n_estimators': 563, 'criterion': 'gini', 'max_depth': 759, 'min_samples_split': 73, 'min_samples_leaf': 55, 'max_leaf_nodes': 544, 'bootstrap': True}. Best is trial 76 with value: 0.794924288881551.\u001b[0m\n",
      "\u001b[32m[I 2021-12-06 11:24:38,971]\u001b[0m Trial 159 finished with value: 0.7929564041935939 and parameters: {'n_estimators': 751, 'criterion': 'gini', 'max_depth': 832, 'min_samples_split': 25, 'min_samples_leaf': 35, 'max_leaf_nodes': 622, 'bootstrap': False}. Best is trial 76 with value: 0.794924288881551.\u001b[0m\n",
      "\u001b[32m[I 2021-12-06 11:24:41,702]\u001b[0m Trial 160 finished with value: 0.7884334903769046 and parameters: {'n_estimators': 710, 'criterion': 'gini', 'max_depth': 783, 'min_samples_split': 45, 'min_samples_leaf': 107, 'max_leaf_nodes': 565, 'bootstrap': False}. Best is trial 76 with value: 0.794924288881551.\u001b[0m\n"
     ]
    },
    {
     "name": "stderr",
     "output_type": "stream",
     "text": [
      "\u001b[32m[I 2021-12-06 11:24:44,488]\u001b[0m Trial 161 finished with value: 0.7940496898438605 and parameters: {'n_estimators': 625, 'criterion': 'gini', 'max_depth': 719, 'min_samples_split': 88, 'min_samples_leaf': 2, 'max_leaf_nodes': 593, 'bootstrap': False}. Best is trial 76 with value: 0.794924288881551.\u001b[0m\n",
      "\u001b[32m[I 2021-12-06 11:24:47,335]\u001b[0m Trial 162 finished with value: 0.7936749669795744 and parameters: {'n_estimators': 667, 'criterion': 'gini', 'max_depth': 679, 'min_samples_split': 93, 'min_samples_leaf': 19, 'max_leaf_nodes': 588, 'bootstrap': False}. Best is trial 76 with value: 0.794924288881551.\u001b[0m\n",
      "\u001b[32m[I 2021-12-06 11:24:49,998]\u001b[0m Trial 163 finished with value: 0.7923698494032738 and parameters: {'n_estimators': 640, 'criterion': 'gini', 'max_depth': 738, 'min_samples_split': 75, 'min_samples_leaf': 38, 'max_leaf_nodes': 655, 'bootstrap': False}. Best is trial 76 with value: 0.794924288881551.\u001b[0m\n",
      "\u001b[32m[I 2021-12-06 11:24:52,442]\u001b[0m Trial 164 finished with value: 0.7945594426623896 and parameters: {'n_estimators': 588, 'criterion': 'gini', 'max_depth': 658, 'min_samples_split': 115, 'min_samples_leaf': 20, 'max_leaf_nodes': 319, 'bootstrap': False}. Best is trial 76 with value: 0.794924288881551.\u001b[0m\n",
      "\u001b[32m[I 2021-12-06 11:24:54,564]\u001b[0m Trial 165 finished with value: 0.7911066707155998 and parameters: {'n_estimators': 553, 'criterion': 'gini', 'max_depth': 654, 'min_samples_split': 116, 'min_samples_leaf': 64, 'max_leaf_nodes': 320, 'bootstrap': False}. Best is trial 76 with value: 0.794924288881551.\u001b[0m\n",
      "\u001b[32m[I 2021-12-06 11:24:56,667]\u001b[0m Trial 166 finished with value: 0.7936944991509032 and parameters: {'n_estimators': 519, 'criterion': 'gini', 'max_depth': 698, 'min_samples_split': 132, 'min_samples_leaf': 22, 'max_leaf_nodes': 254, 'bootstrap': False}. Best is trial 76 with value: 0.794924288881551.\u001b[0m\n",
      "\u001b[32m[I 2021-12-06 11:24:59,033]\u001b[0m Trial 167 finished with value: 0.7925455652389264 and parameters: {'n_estimators': 588, 'criterion': 'gini', 'max_depth': 669, 'min_samples_split': 113, 'min_samples_leaf': 45, 'max_leaf_nodes': 515, 'bootstrap': False}. Best is trial 76 with value: 0.794924288881551.\u001b[0m\n",
      "\u001b[32m[I 2021-12-06 11:25:00,820]\u001b[0m Trial 168 finished with value: 0.7917579396433795 and parameters: {'n_estimators': 474, 'criterion': 'gini', 'max_depth': 810, 'min_samples_split': 634, 'min_samples_leaf': 2, 'max_leaf_nodes': 391, 'bootstrap': False}. Best is trial 76 with value: 0.794924288881551.\u001b[0m\n",
      "\u001b[32m[I 2021-12-06 11:25:02,786]\u001b[0m Trial 169 finished with value: 0.7914014222368979 and parameters: {'n_estimators': 503, 'criterion': 'gini', 'max_depth': 638, 'min_samples_split': 66, 'min_samples_leaf': 69, 'max_leaf_nodes': 345, 'bootstrap': False}. Best is trial 76 with value: 0.794924288881551.\u001b[0m\n",
      "\u001b[32m[I 2021-12-06 11:25:05,144]\u001b[0m Trial 170 finished with value: 0.7932301494174253 and parameters: {'n_estimators': 575, 'criterion': 'gini', 'max_depth': 688, 'min_samples_split': 138, 'min_samples_leaf': 30, 'max_leaf_nodes': 305, 'bootstrap': False}. Best is trial 76 with value: 0.794924288881551.\u001b[0m\n",
      "\u001b[32m[I 2021-12-06 11:25:08,101]\u001b[0m Trial 171 finished with value: 0.7946621892542101 and parameters: {'n_estimators': 694, 'criterion': 'gini', 'max_depth': 720, 'min_samples_split': 86, 'min_samples_leaf': 15, 'max_leaf_nodes': 557, 'bootstrap': False}. Best is trial 76 with value: 0.794924288881551.\u001b[0m\n",
      "\u001b[32m[I 2021-12-06 11:25:10,972]\u001b[0m Trial 172 finished with value: 0.7935641126939951 and parameters: {'n_estimators': 683, 'criterion': 'gini', 'max_depth': 617, 'min_samples_split': 95, 'min_samples_leaf': 19, 'max_leaf_nodes': 553, 'bootstrap': False}. Best is trial 76 with value: 0.794924288881551.\u001b[0m\n",
      "\u001b[32m[I 2021-12-06 11:25:14,104]\u001b[0m Trial 173 finished with value: 0.7921220487994717 and parameters: {'n_estimators': 780, 'criterion': 'gini', 'max_depth': 742, 'min_samples_split': 52, 'min_samples_leaf': 48, 'max_leaf_nodes': 532, 'bootstrap': False}. Best is trial 76 with value: 0.794924288881551.\u001b[0m\n",
      "\u001b[32m[I 2021-12-06 11:25:16,592]\u001b[0m Trial 174 finished with value: 0.794392718996179 and parameters: {'n_estimators': 538, 'criterion': 'gini', 'max_depth': 706, 'min_samples_split': 116, 'min_samples_leaf': 2, 'max_leaf_nodes': 504, 'bootstrap': False}. Best is trial 76 with value: 0.794924288881551.\u001b[0m\n",
      "\u001b[32m[I 2021-12-06 11:25:19,491]\u001b[0m Trial 175 finished with value: 0.7943059666729563 and parameters: {'n_estimators': 698, 'criterion': 'gini', 'max_depth': 709, 'min_samples_split': 177, 'min_samples_leaf': 30, 'max_leaf_nodes': 434, 'bootstrap': False}. Best is trial 76 with value: 0.794924288881551.\u001b[0m\n",
      "\u001b[32m[I 2021-12-06 11:25:22,534]\u001b[0m Trial 176 finished with value: 0.7933458683192603 and parameters: {'n_estimators': 724, 'criterion': 'gini', 'max_depth': 769, 'min_samples_split': 174, 'min_samples_leaf': 28, 'max_leaf_nodes': 458, 'bootstrap': False}. Best is trial 76 with value: 0.794924288881551.\u001b[0m\n",
      "\u001b[32m[I 2021-12-06 11:25:24,729]\u001b[0m Trial 177 finished with value: 0.7830852870418415 and parameters: {'n_estimators': 712, 'criterion': 'gini', 'max_depth': 717, 'min_samples_split': 154, 'min_samples_leaf': 300, 'max_leaf_nodes': 486, 'bootstrap': False}. Best is trial 76 with value: 0.794924288881551.\u001b[0m\n",
      "\u001b[32m[I 2021-12-06 11:25:27,628]\u001b[0m Trial 178 finished with value: 0.7911475040096231 and parameters: {'n_estimators': 740, 'criterion': 'gini', 'max_depth': 734, 'min_samples_split': 205, 'min_samples_leaf': 57, 'max_leaf_nodes': 436, 'bootstrap': False}. Best is trial 76 with value: 0.794924288881551.\u001b[0m\n",
      "\u001b[32m[I 2021-12-06 11:25:30,281]\u001b[0m Trial 179 finished with value: 0.7897660266993727 and parameters: {'n_estimators': 697, 'criterion': 'gini', 'max_depth': 698, 'min_samples_split': 175, 'min_samples_leaf': 88, 'max_leaf_nodes': 434, 'bootstrap': False}. Best is trial 76 with value: 0.794924288881551.\u001b[0m\n",
      "\u001b[32m[I 2021-12-06 11:25:33,627]\u001b[0m Trial 180 finished with value: 0.7926870813481768 and parameters: {'n_estimators': 805, 'criterion': 'gini', 'max_depth': 754, 'min_samples_split': 124, 'min_samples_leaf': 36, 'max_leaf_nodes': 421, 'bootstrap': False}. Best is trial 76 with value: 0.794924288881551.\u001b[0m\n",
      "\u001b[32m[I 2021-12-06 11:25:36,108]\u001b[0m Trial 181 finished with value: 0.7940301576725317 and parameters: {'n_estimators': 541, 'criterion': 'gini', 'max_depth': 674, 'min_samples_split': 140, 'min_samples_leaf': 2, 'max_leaf_nodes': 512, 'bootstrap': False}. Best is trial 76 with value: 0.794924288881551.\u001b[0m\n",
      "\u001b[32m[I 2021-12-06 11:25:38,919]\u001b[0m Trial 182 finished with value: 0.7946469320486815 and parameters: {'n_estimators': 657, 'criterion': 'gini', 'max_depth': 701, 'min_samples_split': 112, 'min_samples_leaf': 19, 'max_leaf_nodes': 502, 'bootstrap': False}. Best is trial 76 with value: 0.794924288881551.\u001b[0m\n",
      "\u001b[32m[I 2021-12-06 11:25:41,800]\u001b[0m Trial 183 finished with value: 0.7934464774281805 and parameters: {'n_estimators': 678, 'criterion': 'gini', 'max_depth': 703, 'min_samples_split': 117, 'min_samples_leaf': 22, 'max_leaf_nodes': 477, 'bootstrap': False}. Best is trial 76 with value: 0.794924288881551.\u001b[0m\n",
      "\u001b[32m[I 2021-12-06 11:25:44,488]\u001b[0m Trial 184 finished with value: 0.7924302885749327 and parameters: {'n_estimators': 652, 'criterion': 'gini', 'max_depth': 683, 'min_samples_split': 145, 'min_samples_leaf': 45, 'max_leaf_nodes': 503, 'bootstrap': False}. Best is trial 76 with value: 0.794924288881551.\u001b[0m\n",
      "\u001b[32m[I 2021-12-06 11:25:47,056]\u001b[0m Trial 185 finished with value: 0.7934566488985331 and parameters: {'n_estimators': 562, 'criterion': 'gini', 'max_depth': 721, 'min_samples_split': 108, 'min_samples_leaf': 1, 'max_leaf_nodes': 564, 'bootstrap': False}. Best is trial 76 with value: 0.794924288881551.\u001b[0m\n",
      "\u001b[32m[I 2021-12-06 11:25:49,931]\u001b[0m Trial 186 finished with value: 0.7939665491296759 and parameters: {'n_estimators': 684, 'criterion': 'gini', 'max_depth': 660, 'min_samples_split': 159, 'min_samples_leaf': 22, 'max_leaf_nodes': 500, 'bootstrap': False}. Best is trial 76 with value: 0.794924288881551.\u001b[0m\n",
      "\u001b[32m[I 2021-12-06 11:25:52,684]\u001b[0m Trial 187 finished with value: 0.7903214037218738 and parameters: {'n_estimators': 706, 'criterion': 'gini', 'max_depth': 853, 'min_samples_split': 179, 'min_samples_leaf': 73, 'max_leaf_nodes': 454, 'bootstrap': False}. Best is trial 76 with value: 0.794924288881551.\u001b[0m\n"
     ]
    },
    {
     "name": "stderr",
     "output_type": "stream",
     "text": [
      "\u001b[32m[I 2021-12-06 11:25:54,497]\u001b[0m Trial 188 finished with value: 0.7900251043681306 and parameters: {'n_estimators': 532, 'criterion': 'gini', 'max_depth': 724, 'min_samples_split': 94, 'min_samples_leaf': 38, 'max_leaf_nodes': 393, 'bootstrap': True}. Best is trial 76 with value: 0.794924288881551.\u001b[0m\n",
      "\u001b[32m[I 2021-12-06 11:25:57,012]\u001b[0m Trial 189 finished with value: 0.7933667272041134 and parameters: {'n_estimators': 618, 'criterion': 'gini', 'max_depth': 752, 'min_samples_split': 222, 'min_samples_leaf': 20, 'max_leaf_nodes': 547, 'bootstrap': False}. Best is trial 76 with value: 0.794924288881551.\u001b[0m\n",
      "\u001b[32m[I 2021-12-06 11:25:59,482]\u001b[0m Trial 190 finished with value: 0.7905057431954338 and parameters: {'n_estimators': 668, 'criterion': 'gini', 'max_depth': 780, 'min_samples_split': 393, 'min_samples_leaf': 60, 'max_leaf_nodes': 482, 'bootstrap': False}. Best is trial 76 with value: 0.794924288881551.\u001b[0m\n",
      "\u001b[32m[I 2021-12-06 11:26:01,673]\u001b[0m Trial 191 finished with value: 0.7950992676541346 and parameters: {'n_estimators': 513, 'criterion': 'gini', 'max_depth': 691, 'min_samples_split': 123, 'min_samples_leaf': 17, 'max_leaf_nodes': 522, 'bootstrap': False}. Best is trial 191 with value: 0.7950992676541346.\u001b[0m\n",
      "\u001b[32m[I 2021-12-06 11:26:03,823]\u001b[0m Trial 192 finished with value: 0.794003844520968 and parameters: {'n_estimators': 512, 'criterion': 'gini', 'max_depth': 697, 'min_samples_split': 137, 'min_samples_leaf': 19, 'max_leaf_nodes': 524, 'bootstrap': False}. Best is trial 191 with value: 0.7950992676541346.\u001b[0m\n",
      "\u001b[32m[I 2021-12-06 11:26:06,051]\u001b[0m Trial 193 finished with value: 0.7920676535449785 and parameters: {'n_estimators': 546, 'criterion': 'gini', 'max_depth': 677, 'min_samples_split': 119, 'min_samples_leaf': 41, 'max_leaf_nodes': 576, 'bootstrap': False}. Best is trial 191 with value: 0.7950992676541346.\u001b[0m\n",
      "\u001b[32m[I 2021-12-06 11:26:08,221]\u001b[0m Trial 194 finished with value: 0.7942307125336102 and parameters: {'n_estimators': 517, 'criterion': 'gini', 'max_depth': 707, 'min_samples_split': 106, 'min_samples_leaf': 15, 'max_leaf_nodes': 534, 'bootstrap': False}. Best is trial 191 with value: 0.7950992676541346.\u001b[0m\n",
      "\u001b[32m[I 2021-12-06 11:26:10,394]\u001b[0m Trial 195 finished with value: 0.7940675267701307 and parameters: {'n_estimators': 502, 'criterion': 'gini', 'max_depth': 706, 'min_samples_split': 100, 'min_samples_leaf': 15, 'max_leaf_nodes': 505, 'bootstrap': False}. Best is trial 191 with value: 0.7950992676541346.\u001b[0m\n",
      "\u001b[32m[I 2021-12-06 11:26:12,482]\u001b[0m Trial 196 finished with value: 0.7937382069908958 and parameters: {'n_estimators': 456, 'criterion': 'gini', 'max_depth': 731, 'min_samples_split': 71, 'min_samples_leaf': 2, 'max_leaf_nodes': 532, 'bootstrap': False}. Best is trial 191 with value: 0.7950992676541346.\u001b[0m\n",
      "\u001b[32m[I 2021-12-06 11:26:14,605]\u001b[0m Trial 197 finished with value: 0.7922175721732158 and parameters: {'n_estimators': 526, 'criterion': 'gini', 'max_depth': 652, 'min_samples_split': 124, 'min_samples_leaf': 53, 'max_leaf_nodes': 462, 'bootstrap': False}. Best is trial 191 with value: 0.7950992676541346.\u001b[0m\n",
      "\u001b[32m[I 2021-12-06 11:26:16,726]\u001b[0m Trial 198 finished with value: 0.7928434861314213 and parameters: {'n_estimators': 492, 'criterion': 'gini', 'max_depth': 743, 'min_samples_split': 83, 'min_samples_leaf': 34, 'max_leaf_nodes': 548, 'bootstrap': False}. Best is trial 191 with value: 0.7950992676541346.\u001b[0m\n",
      "\u001b[32m[I 2021-12-06 11:26:19,035]\u001b[0m Trial 199 finished with value: 0.79350809590075 and parameters: {'n_estimators': 528, 'criterion': 'gini', 'max_depth': 711, 'min_samples_split': 108, 'min_samples_leaf': 2, 'max_leaf_nodes': 412, 'bootstrap': False}. Best is trial 191 with value: 0.7950992676541346.\u001b[0m\n"
     ]
    },
    {
     "name": "stdout",
     "output_type": "stream",
     "text": [
      "Number of finished trials: 200\n",
      "Best trial: {'n_estimators': 513, 'criterion': 'gini', 'max_depth': 691, 'min_samples_split': 123, 'min_samples_leaf': 17, 'max_leaf_nodes': 522, 'bootstrap': False}\n"
     ]
    }
   ],
   "source": [
    "rfc_params = study_model(objective_rfc)"
   ]
  },
  {
   "cell_type": "code",
   "execution_count": 141,
   "metadata": {
    "scrolled": true
   },
   "outputs": [
    {
     "data": {
      "text/plain": [
       "{'n_estimators': 513,\n",
       " 'criterion': 'gini',\n",
       " 'max_depth': 691,\n",
       " 'min_samples_split': 123,\n",
       " 'min_samples_leaf': 17,\n",
       " 'max_leaf_nodes': 522,\n",
       " 'bootstrap': False}"
      ]
     },
     "execution_count": 141,
     "metadata": {},
     "output_type": "execute_result"
    }
   ],
   "source": [
    "rfc_params"
   ]
  },
  {
   "cell_type": "markdown",
   "metadata": {},
   "source": [
    "## Optuna Study for XGB Classifier"
   ]
  },
  {
   "cell_type": "code",
   "execution_count": 142,
   "metadata": {},
   "outputs": [],
   "source": [
    "def objective_xgb(trial):\n",
    "    param = { \n",
    "        'lambda': trial.suggest_loguniform(\n",
    "            'lambda', 1e-3, 10.0\n",
    "        ),\n",
    "        'alpha': trial.suggest_loguniform(\n",
    "            'alpha', 1e-3, 10.0\n",
    "        ),\n",
    "        'colsample_bytree': trial.suggest_categorical(\n",
    "            'colsample_bytree', [0.2, 0.3, 0.4, 0.5, 0.6, 0.7, 0.8, 0.9, 1.0]\n",
    "        ),\n",
    "        'subsample': trial.suggest_categorical(\n",
    "            'subsample', [0.2, 0.3, 0.4, 0.5, 0.6, 0.7, 0.8, 0.9, 1.0]\n",
    "        ),\n",
    "        'learning_rate': trial.suggest_categorical(\n",
    "            'learning_rate', [0.0001, 0.001, 0.01, 0.1, 0.2, 0.5, 1]\n",
    "        ),\n",
    "        'n_estimators': trial.suggest_categorical(\n",
    "            \"n_estimators\", [100, 200, 300, 400, 500, 600, 700, 800, 900, 1000, 1100, 1200, 1300, 1400, 1500]\n",
    "        ),\n",
    "        'max_depth': trial.suggest_int(\n",
    "            'max_depth', 1, 31\n",
    "        ),\n",
    "        'min_child_weight': trial.suggest_int(\n",
    "            'min_child_weight', 1, 300\n",
    "        ),\n",
    "    }\n",
    "    model = XGBClassifier(**param)\n",
    "    \n",
    "    model.fit(X_train, y_train, eval_set = [(X_val, y_val)], verbose = False)\n",
    "    \n",
    "    y_pred = model.predict_proba(X_val)[:,1]\n",
    "    \n",
    "    score = roc_auc_score(y_val, y_pred)\n",
    "    return score "
   ]
  },
  {
   "cell_type": "code",
   "execution_count": 143,
   "metadata": {
    "scrolled": true
   },
   "outputs": [
    {
     "name": "stderr",
     "output_type": "stream",
     "text": [
      "\u001b[32m[I 2021-12-06 11:26:19,098]\u001b[0m A new study created in memory with name: no-name-2069e6a5-cc21-4f90-a420-e95c45500880\u001b[0m\n",
      "\u001b[32m[I 2021-12-06 11:26:23,214]\u001b[0m Trial 0 finished with value: 0.7676575251191093 and parameters: {'lambda': 0.03195484159237132, 'alpha': 0.0022436303713501446, 'colsample_bytree': 0.3, 'subsample': 0.9, 'learning_rate': 0.0001, 'n_estimators': 1100, 'max_depth': 3, 'min_child_weight': 236}. Best is trial 0 with value: 0.7676575251191093.\u001b[0m\n",
      "\u001b[32m[I 2021-12-06 11:26:30,380]\u001b[0m Trial 1 finished with value: 0.777635369003255 and parameters: {'lambda': 2.5508050997742777, 'alpha': 0.002110708270280333, 'colsample_bytree': 1.0, 'subsample': 0.7, 'learning_rate': 0.0001, 'n_estimators': 500, 'max_depth': 31, 'min_child_weight': 18}. Best is trial 1 with value: 0.777635369003255.\u001b[0m\n",
      "\u001b[32m[I 2021-12-06 11:26:40,488]\u001b[0m Trial 2 finished with value: 0.7780503355111089 and parameters: {'lambda': 3.528541451499254, 'alpha': 0.004931371782534213, 'colsample_bytree': 0.5, 'subsample': 0.4, 'learning_rate': 0.001, 'n_estimators': 1500, 'max_depth': 20, 'min_child_weight': 58}. Best is trial 2 with value: 0.7780503355111089.\u001b[0m\n",
      "\u001b[32m[I 2021-12-06 11:26:44,896]\u001b[0m Trial 3 finished with value: 0.6662792171800556 and parameters: {'lambda': 0.04125921701708112, 'alpha': 0.3499112667843711, 'colsample_bytree': 0.5, 'subsample': 0.3, 'learning_rate': 1, 'n_estimators': 600, 'max_depth': 7, 'min_child_weight': 3}. Best is trial 2 with value: 0.7780503355111089.\u001b[0m\n",
      "\u001b[32m[I 2021-12-06 11:26:48,359]\u001b[0m Trial 4 finished with value: 0.7940168905372895 and parameters: {'lambda': 0.8244781207907483, 'alpha': 0.001662537187834777, 'colsample_bytree': 0.5, 'subsample': 0.8, 'learning_rate': 0.1, 'n_estimators': 500, 'max_depth': 7, 'min_child_weight': 120}. Best is trial 4 with value: 0.7940168905372895.\u001b[0m\n",
      "\u001b[32m[I 2021-12-06 11:26:53,540]\u001b[0m Trial 5 finished with value: 0.7844802526062551 and parameters: {'lambda': 7.526276382113994, 'alpha': 0.0013805770653576525, 'colsample_bytree': 0.3, 'subsample': 0.5, 'learning_rate': 1, 'n_estimators': 1200, 'max_depth': 11, 'min_child_weight': 173}. Best is trial 4 with value: 0.7940168905372895.\u001b[0m\n",
      "\u001b[32m[I 2021-12-06 11:27:00,716]\u001b[0m Trial 6 finished with value: 0.7596670243879428 and parameters: {'lambda': 4.050094836177533, 'alpha': 0.0011044638847696924, 'colsample_bytree': 0.8, 'subsample': 0.6, 'learning_rate': 0.0001, 'n_estimators': 1100, 'max_depth': 6, 'min_child_weight': 270}. Best is trial 4 with value: 0.7940168905372895.\u001b[0m\n",
      "\u001b[32m[I 2021-12-06 11:27:08,043]\u001b[0m Trial 7 finished with value: 0.7882736213972358 and parameters: {'lambda': 0.09977861053908818, 'alpha': 2.896334722887718, 'colsample_bytree': 0.9, 'subsample': 0.6, 'learning_rate': 0.2, 'n_estimators': 1100, 'max_depth': 29, 'min_child_weight': 216}. Best is trial 4 with value: 0.7940168905372895.\u001b[0m\n",
      "\u001b[32m[I 2021-12-06 11:27:11,929]\u001b[0m Trial 8 finished with value: 0.7758475488230576 and parameters: {'lambda': 0.004730474441939201, 'alpha': 0.011360886499023434, 'colsample_bytree': 0.5, 'subsample': 0.9, 'learning_rate': 0.001, 'n_estimators': 500, 'max_depth': 25, 'min_child_weight': 258}. Best is trial 4 with value: 0.7940168905372895.\u001b[0m\n",
      "\u001b[32m[I 2021-12-06 11:27:20,114]\u001b[0m Trial 9 finished with value: 0.789285756403604 and parameters: {'lambda': 0.04453639759314667, 'alpha': 0.36876827384768734, 'colsample_bytree': 0.9, 'subsample': 0.2, 'learning_rate': 0.01, 'n_estimators': 900, 'max_depth': 14, 'min_child_weight': 20}. Best is trial 4 with value: 0.7940168905372895.\u001b[0m\n",
      "\u001b[32m[I 2021-12-06 11:27:23,936]\u001b[0m Trial 10 finished with value: 0.7931966867540923 and parameters: {'lambda': 0.5468650463441617, 'alpha': 0.03269657016654991, 'colsample_bytree': 0.7, 'subsample': 0.8, 'learning_rate': 0.1, 'n_estimators': 400, 'max_depth': 19, 'min_child_weight': 97}. Best is trial 4 with value: 0.7940168905372895.\u001b[0m\n",
      "\u001b[32m[I 2021-12-06 11:27:27,644]\u001b[0m Trial 11 finished with value: 0.7943100205198358 and parameters: {'lambda': 0.5634653346433894, 'alpha': 0.02917565120927428, 'colsample_bytree': 0.7, 'subsample': 0.8, 'learning_rate': 0.1, 'n_estimators': 400, 'max_depth': 19, 'min_child_weight': 104}. Best is trial 11 with value: 0.7943100205198358.\u001b[0m\n",
      "\u001b[32m[I 2021-12-06 11:27:28,658]\u001b[0m Trial 12 finished with value: 0.7872742375819615 and parameters: {'lambda': 0.5510591657284962, 'alpha': 0.04876489012505562, 'colsample_bytree': 0.2, 'subsample': 0.8, 'learning_rate': 0.1, 'n_estimators': 200, 'max_depth': 13, 'min_child_weight': 121}. Best is trial 11 with value: 0.7943100205198358.\u001b[0m\n",
      "\u001b[32m[I 2021-12-06 11:27:29,940]\u001b[0m Trial 13 finished with value: 0.7907247246332375 and parameters: {'lambda': 0.4965034857154642, 'alpha': 0.01287354244376531, 'colsample_bytree': 0.7, 'subsample': 0.8, 'learning_rate': 0.5, 'n_estimators': 400, 'max_depth': 1, 'min_child_weight': 168}. Best is trial 11 with value: 0.7943100205198358.\u001b[0m\n",
      "\u001b[32m[I 2021-12-06 11:27:41,190]\u001b[0m Trial 14 finished with value: 0.7901008744516251 and parameters: {'lambda': 0.9597009364441221, 'alpha': 0.2189069439005115, 'colsample_bytree': 0.6, 'subsample': 0.8, 'learning_rate': 0.1, 'n_estimators': 1300, 'max_depth': 20, 'min_child_weight': 90}. Best is trial 11 with value: 0.7943100205198358.\u001b[0m\n",
      "\u001b[32m[I 2021-12-06 11:27:48,889]\u001b[0m Trial 15 finished with value: 0.7953481738525402 and parameters: {'lambda': 0.19111106895129032, 'alpha': 4.554239455630456, 'colsample_bytree': 0.4, 'subsample': 0.8, 'learning_rate': 0.1, 'n_estimators': 1400, 'max_depth': 9, 'min_child_weight': 142}. Best is trial 15 with value: 0.7953481738525402.\u001b[0m\n",
      "\u001b[32m[I 2021-12-06 11:27:54,202]\u001b[0m Trial 16 finished with value: 0.7942942473701589 and parameters: {'lambda': 0.009077929803548674, 'alpha': 9.962396915037658, 'colsample_bytree': 0.7, 'subsample': 1.0, 'learning_rate': 0.1, 'n_estimators': 1400, 'max_depth': 24, 'min_child_weight': 191}. Best is trial 15 with value: 0.7953481738525402.\u001b[0m\n",
      "\u001b[32m[I 2021-12-06 11:27:58,482]\u001b[0m Trial 17 finished with value: 0.7769218182461436 and parameters: {'lambda': 0.13980540160442168, 'alpha': 2.413916362430141, 'colsample_bytree': 0.4, 'subsample': 0.2, 'learning_rate': 0.2, 'n_estimators': 1400, 'max_depth': 10, 'min_child_weight': 141}. Best is trial 15 with value: 0.7953481738525402.\u001b[0m\n",
      "\u001b[32m[I 2021-12-06 11:28:04,160]\u001b[0m Trial 18 finished with value: 0.7929471171989244 and parameters: {'lambda': 0.17573815074332158, 'alpha': 1.3149394772340053, 'colsample_bytree': 0.4, 'subsample': 1.0, 'learning_rate': 0.01, 'n_estimators': 800, 'max_depth': 17, 'min_child_weight': 59}. Best is trial 15 with value: 0.7953481738525402.\u001b[0m\n",
      "\u001b[32m[I 2021-12-06 11:28:06,575]\u001b[0m Trial 19 finished with value: 0.7744750636822492 and parameters: {'lambda': 0.009859279932996222, 'alpha': 0.1046047960730997, 'colsample_bytree': 0.4, 'subsample': 0.4, 'learning_rate': 0.5, 'n_estimators': 700, 'max_depth': 23, 'min_child_weight': 294}. Best is trial 15 with value: 0.7953481738525402.\u001b[0m\n",
      "\u001b[32m[I 2021-12-06 11:28:09,848]\u001b[0m Trial 20 finished with value: 0.7929747570640124 and parameters: {'lambda': 0.0015269247687974123, 'alpha': 6.531215184714709, 'colsample_bytree': 1.0, 'subsample': 0.7, 'learning_rate': 0.1, 'n_estimators': 300, 'max_depth': 15, 'min_child_weight': 82}. Best is trial 15 with value: 0.7953481738525402.\u001b[0m\n",
      "\u001b[32m[I 2021-12-06 11:28:15,838]\u001b[0m Trial 21 finished with value: 0.7949410939195245 and parameters: {'lambda': 0.010387028220129515, 'alpha': 9.232946518967651, 'colsample_bytree': 0.7, 'subsample': 1.0, 'learning_rate': 0.1, 'n_estimators': 1400, 'max_depth': 23, 'min_child_weight': 206}. Best is trial 15 with value: 0.7953481738525402.\u001b[0m\n",
      "\u001b[32m[I 2021-12-06 11:28:16,542]\u001b[0m Trial 22 finished with value: 0.7875309566488986 and parameters: {'lambda': 0.2526751787253011, 'alpha': 0.9384351655077464, 'colsample_bytree': 0.7, 'subsample': 1.0, 'learning_rate': 0.1, 'n_estimators': 100, 'max_depth': 27, 'min_child_weight': 200}. Best is trial 15 with value: 0.7953481738525402.\u001b[0m\n",
      "\u001b[32m[I 2021-12-06 11:28:23,126]\u001b[0m Trial 23 finished with value: 0.7817176665172885 and parameters: {'lambda': 0.0011652521470143216, 'alpha': 4.188416077150002, 'colsample_bytree': 0.7, 'subsample': 0.3, 'learning_rate': 0.1, 'n_estimators': 1400, 'max_depth': 22, 'min_child_weight': 147}. Best is trial 15 with value: 0.7953481738525402.\u001b[0m\n"
     ]
    },
    {
     "name": "stderr",
     "output_type": "stream",
     "text": [
      "\u001b[32m[I 2021-12-06 11:28:30,872]\u001b[0m Trial 24 finished with value: 0.793057234421435 and parameters: {'lambda': 0.01992177768978913, 'alpha': 0.8461697356929442, 'colsample_bytree': 0.6, 'subsample': 1.0, 'learning_rate': 0.1, 'n_estimators': 1000, 'max_depth': 11, 'min_child_weight': 126}. Best is trial 15 with value: 0.7953481738525402.\u001b[0m\n",
      "\u001b[32m[I 2021-12-06 11:28:40,468]\u001b[0m Trial 25 finished with value: 0.7920406033303456 and parameters: {'lambda': 0.07513357031225941, 'alpha': 0.040076637101787514, 'colsample_bytree': 0.8, 'subsample': 0.5, 'learning_rate': 0.1, 'n_estimators': 1400, 'max_depth': 17, 'min_child_weight': 158}. Best is trial 15 with value: 0.7953481738525402.\u001b[0m\n",
      "\u001b[32m[I 2021-12-06 11:28:42,095]\u001b[0m Trial 26 finished with value: 0.7865485989905184 and parameters: {'lambda': 0.25696023839576737, 'alpha': 0.1331406905155269, 'colsample_bytree': 0.2, 'subsample': 0.8, 'learning_rate': 0.1, 'n_estimators': 400, 'max_depth': 26, 'min_child_weight': 222}. Best is trial 15 with value: 0.7953481738525402.\u001b[0m\n",
      "\u001b[32m[I 2021-12-06 11:28:49,462]\u001b[0m Trial 27 finished with value: 0.7862637241143451 and parameters: {'lambda': 1.8683409434373661, 'alpha': 1.6960908415958025, 'colsample_bytree': 0.4, 'subsample': 0.8, 'learning_rate': 0.01, 'n_estimators': 1400, 'max_depth': 21, 'min_child_weight': 187}. Best is trial 15 with value: 0.7953481738525402.\u001b[0m\n",
      "\u001b[32m[I 2021-12-06 11:28:52,953]\u001b[0m Trial 28 finished with value: 0.7936431995613001 and parameters: {'lambda': 0.002799211994689661, 'alpha': 5.122655546210864, 'colsample_bytree': 0.7, 'subsample': 1.0, 'learning_rate': 0.2, 'n_estimators': 600, 'max_depth': 18, 'min_child_weight': 60}. Best is trial 15 with value: 0.7953481738525402.\u001b[0m\n",
      "\u001b[32m[I 2021-12-06 11:28:55,758]\u001b[0m Trial 29 finished with value: 0.7941578169960848 and parameters: {'lambda': 0.019553832163580167, 'alpha': 9.966005639629829, 'colsample_bytree': 0.3, 'subsample': 0.9, 'learning_rate': 1, 'n_estimators': 700, 'max_depth': 4, 'min_child_weight': 233}. Best is trial 15 with value: 0.7953481738525402.\u001b[0m\n",
      "\u001b[32m[I 2021-12-06 11:28:56,889]\u001b[0m Trial 30 finished with value: 0.7829145095287514 and parameters: {'lambda': 0.07479543686292399, 'alpha': 0.005237466135725475, 'colsample_bytree': 0.7, 'subsample': 0.8, 'learning_rate': 0.001, 'n_estimators': 100, 'max_depth': 9, 'min_child_weight': 112}. Best is trial 15 with value: 0.7953481738525402.\u001b[0m\n",
      "\u001b[32m[I 2021-12-06 11:29:02,780]\u001b[0m Trial 31 finished with value: 0.7940723913863862 and parameters: {'lambda': 0.009911169022764727, 'alpha': 9.00380245037006, 'colsample_bytree': 0.7, 'subsample': 1.0, 'learning_rate': 0.1, 'n_estimators': 1400, 'max_depth': 22, 'min_child_weight': 200}. Best is trial 15 with value: 0.7953481738525402.\u001b[0m\n",
      "\u001b[32m[I 2021-12-06 11:29:09,884]\u001b[0m Trial 32 finished with value: 0.773638423392613 and parameters: {'lambda': 0.009594177491546967, 'alpha': 3.739103596206744, 'colsample_bytree': 0.7, 'subsample': 1.0, 'learning_rate': 0.0001, 'n_estimators': 1400, 'max_depth': 25, 'min_child_weight': 181}. Best is trial 15 with value: 0.7953481738525402.\u001b[0m\n",
      "\u001b[32m[I 2021-12-06 11:29:19,765]\u001b[0m Trial 33 finished with value: 0.7881321789942921 and parameters: {'lambda': 0.004820384608051762, 'alpha': 0.5363910709848541, 'colsample_bytree': 1.0, 'subsample': 0.7, 'learning_rate': 0.1, 'n_estimators': 1400, 'max_depth': 27, 'min_child_weight': 255}. Best is trial 15 with value: 0.7953481738525402.\u001b[0m\n",
      "\u001b[32m[I 2021-12-06 11:29:21,252]\u001b[0m Trial 34 finished with value: 0.7937281092268503 and parameters: {'lambda': 0.026828399155371115, 'alpha': 2.1143481084614657, 'colsample_bytree': 0.7, 'subsample': 1.0, 'learning_rate': 0.1, 'n_estimators': 200, 'max_depth': 23, 'min_child_weight': 141}. Best is trial 15 with value: 0.7953481738525402.\u001b[0m\n",
      "\u001b[32m[I 2021-12-06 11:29:27,167]\u001b[0m Trial 35 finished with value: 0.7776200380914193 and parameters: {'lambda': 0.29340047003112624, 'alpha': 0.01996155879175518, 'colsample_bytree': 0.4, 'subsample': 0.4, 'learning_rate': 0.5, 'n_estimators': 1500, 'max_depth': 28, 'min_child_weight': 203}. Best is trial 15 with value: 0.7953481738525402.\u001b[0m\n",
      "\u001b[32m[I 2021-12-06 11:29:32,925]\u001b[0m Trial 36 finished with value: 0.780636394995047 and parameters: {'lambda': 1.35875333489893, 'alpha': 6.130826485259432, 'colsample_bytree': 0.7, 'subsample': 0.3, 'learning_rate': 0.1, 'n_estimators': 1300, 'max_depth': 31, 'min_child_weight': 165}. Best is trial 15 with value: 0.7953481738525402.\u001b[0m\n",
      "\u001b[32m[I 2021-12-06 11:29:46,160]\u001b[0m Trial 37 finished with value: 0.7823217634086513 and parameters: {'lambda': 0.032846871965523494, 'alpha': 0.06457113512642984, 'colsample_bytree': 0.8, 'subsample': 0.5, 'learning_rate': 0.0001, 'n_estimators': 1000, 'max_depth': 24, 'min_child_weight': 72}. Best is trial 15 with value: 0.7953481738525402.\u001b[0m\n",
      "\u001b[32m[I 2021-12-06 11:29:52,587]\u001b[0m Trial 38 finished with value: 0.7689047095381858 and parameters: {'lambda': 0.05590953270948534, 'alpha': 0.003150532700146027, 'colsample_bytree': 0.3, 'subsample': 0.6, 'learning_rate': 1, 'n_estimators': 1200, 'max_depth': 20, 'min_child_weight': 105}. Best is trial 15 with value: 0.7953481738525402.\u001b[0m\n",
      "\u001b[32m[I 2021-12-06 11:29:59,878]\u001b[0m Trial 39 finished with value: 0.7822313994763903 and parameters: {'lambda': 0.0038269659801852558, 'alpha': 2.929964109348775, 'colsample_bytree': 0.9, 'subsample': 1.0, 'learning_rate': 0.001, 'n_estimators': 800, 'max_depth': 16, 'min_child_weight': 29}. Best is trial 15 with value: 0.7953481738525402.\u001b[0m\n",
      "\u001b[32m[I 2021-12-06 11:30:06,021]\u001b[0m Trial 40 finished with value: 0.7955110647907919 and parameters: {'lambda': 4.1456542798651785, 'alpha': 0.1985189220613207, 'colsample_bytree': 0.5, 'subsample': 0.9, 'learning_rate': 0.1, 'n_estimators': 900, 'max_depth': 29, 'min_child_weight': 134}. Best is trial 40 with value: 0.7955110647907919.\u001b[0m\n",
      "\u001b[32m[I 2021-12-06 11:30:12,112]\u001b[0m Trial 41 finished with value: 0.795556615288457 and parameters: {'lambda': 2.2514939747499962, 'alpha': 0.18196943355937406, 'colsample_bytree': 0.5, 'subsample': 0.9, 'learning_rate': 0.1, 'n_estimators': 900, 'max_depth': 29, 'min_child_weight': 136}. Best is trial 41 with value: 0.795556615288457.\u001b[0m\n",
      "\u001b[32m[I 2021-12-06 11:30:18,591]\u001b[0m Trial 42 finished with value: 0.7955742310958064 and parameters: {'lambda': 5.056979717335232, 'alpha': 0.16715255355987194, 'colsample_bytree': 0.5, 'subsample': 0.9, 'learning_rate': 0.1, 'n_estimators': 900, 'max_depth': 30, 'min_child_weight': 122}. Best is trial 42 with value: 0.7955742310958064.\u001b[0m\n",
      "\u001b[32m[I 2021-12-06 11:30:24,638]\u001b[0m Trial 43 finished with value: 0.795425934006321 and parameters: {'lambda': 6.497796023767228, 'alpha': 0.1985495884661362, 'colsample_bytree': 0.5, 'subsample': 0.9, 'learning_rate': 0.1, 'n_estimators': 900, 'max_depth': 29, 'min_child_weight': 137}. Best is trial 42 with value: 0.7955742310958064.\u001b[0m\n",
      "\u001b[32m[I 2021-12-06 11:30:30,804]\u001b[0m Trial 44 finished with value: 0.7949814112693995 and parameters: {'lambda': 9.284178186224452, 'alpha': 0.1988702654460782, 'colsample_bytree': 0.5, 'subsample': 0.9, 'learning_rate': 0.1, 'n_estimators': 900, 'max_depth': 29, 'min_child_weight': 131}. Best is trial 42 with value: 0.7955742310958064.\u001b[0m\n",
      "\u001b[32m[I 2021-12-06 11:30:36,571]\u001b[0m Trial 45 finished with value: 0.795811123166187 and parameters: {'lambda': 4.661487409923693, 'alpha': 0.36035817999041714, 'colsample_bytree': 0.5, 'subsample': 0.9, 'learning_rate': 0.1, 'n_estimators': 900, 'max_depth': 31, 'min_child_weight': 154}. Best is trial 45 with value: 0.795811123166187.\u001b[0m\n",
      "\u001b[32m[I 2021-12-06 11:30:43,830]\u001b[0m Trial 46 finished with value: 0.7954173840747205 and parameters: {'lambda': 4.803703775506096, 'alpha': 0.34140680454089906, 'colsample_bytree': 0.5, 'subsample': 0.9, 'learning_rate': 0.1, 'n_estimators': 900, 'max_depth': 30, 'min_child_weight': 113}. Best is trial 45 with value: 0.795811123166187.\u001b[0m\n",
      "\u001b[32m[I 2021-12-06 11:30:49,807]\u001b[0m Trial 47 finished with value: 0.7941574484645504 and parameters: {'lambda': 5.883419088823109, 'alpha': 0.16653664941359544, 'colsample_bytree': 0.5, 'subsample': 0.9, 'learning_rate': 0.2, 'n_estimators': 900, 'max_depth': 31, 'min_child_weight': 155}. Best is trial 45 with value: 0.795811123166187.\u001b[0m\n"
     ]
    },
    {
     "name": "stderr",
     "output_type": "stream",
     "text": [
      "\u001b[32m[I 2021-12-06 11:30:54,897]\u001b[0m Trial 48 finished with value: 0.7788794577574415 and parameters: {'lambda': 2.9270473307472393, 'alpha': 0.06845921149983383, 'colsample_bytree': 0.5, 'subsample': 0.9, 'learning_rate': 0.0001, 'n_estimators': 900, 'max_depth': 29, 'min_child_weight': 128}. Best is trial 45 with value: 0.795811123166187.\u001b[0m\n",
      "\u001b[32m[I 2021-12-06 11:31:00,162]\u001b[0m Trial 49 finished with value: 0.7790343884145478 and parameters: {'lambda': 1.8461492308554992, 'alpha': 0.32436205670427776, 'colsample_bytree': 0.5, 'subsample': 0.9, 'learning_rate': 1, 'n_estimators': 900, 'max_depth': 28, 'min_child_weight': 176}. Best is trial 45 with value: 0.795811123166187.\u001b[0m\n",
      "\u001b[32m[I 2021-12-06 11:31:06,912]\u001b[0m Trial 50 finished with value: 0.7905954437709326 and parameters: {'lambda': 4.2332728592408895, 'alpha': 0.5180539721140263, 'colsample_bytree': 0.5, 'subsample': 0.9, 'learning_rate': 0.01, 'n_estimators': 900, 'max_depth': 31, 'min_child_weight': 99}. Best is trial 45 with value: 0.795811123166187.\u001b[0m\n",
      "\u001b[32m[I 2021-12-06 11:31:13,465]\u001b[0m Trial 51 finished with value: 0.7946057302231238 and parameters: {'lambda': 5.661752559633556, 'alpha': 0.2861328597814984, 'colsample_bytree': 0.5, 'subsample': 0.9, 'learning_rate': 0.1, 'n_estimators': 900, 'max_depth': 30, 'min_child_weight': 115}. Best is trial 45 with value: 0.795811123166187.\u001b[0m\n",
      "\u001b[32m[I 2021-12-06 11:31:19,772]\u001b[0m Trial 52 finished with value: 0.7946780361101938 and parameters: {'lambda': 4.322630194941226, 'alpha': 0.552010151432599, 'colsample_bytree': 0.5, 'subsample': 0.9, 'learning_rate': 0.1, 'n_estimators': 900, 'max_depth': 30, 'min_child_weight': 131}. Best is trial 45 with value: 0.795811123166187.\u001b[0m\n",
      "\u001b[32m[I 2021-12-06 11:31:27,140]\u001b[0m Trial 53 finished with value: 0.7931916747252229 and parameters: {'lambda': 9.483408924947545, 'alpha': 0.10488477967091864, 'colsample_bytree': 0.5, 'subsample': 0.9, 'learning_rate': 0.1, 'n_estimators': 900, 'max_depth': 27, 'min_child_weight': 85}. Best is trial 45 with value: 0.795811123166187.\u001b[0m\n",
      "\u001b[32m[I 2021-12-06 11:31:32,853]\u001b[0m Trial 54 finished with value: 0.795667101042502 and parameters: {'lambda': 2.895426781829016, 'alpha': 0.14666898564701839, 'colsample_bytree': 0.5, 'subsample': 0.9, 'learning_rate': 0.1, 'n_estimators': 900, 'max_depth': 30, 'min_child_weight': 159}. Best is trial 45 with value: 0.795811123166187.\u001b[0m\n",
      "\u001b[32m[I 2021-12-06 11:31:36,019]\u001b[0m Trial 55 finished with value: 0.7959426889240059 and parameters: {'lambda': 2.3879157436257796, 'alpha': 0.06629220392034711, 'colsample_bytree': 0.5, 'subsample': 0.9, 'learning_rate': 0.1, 'n_estimators': 500, 'max_depth': 28, 'min_child_weight': 163}. Best is trial 55 with value: 0.7959426889240059.\u001b[0m\n",
      "\u001b[32m[I 2021-12-06 11:31:39,151]\u001b[0m Trial 56 finished with value: 0.7922822863106749 and parameters: {'lambda': 2.347029939305438, 'alpha': 0.0667186839716903, 'colsample_bytree': 0.5, 'subsample': 0.9, 'learning_rate': 0.5, 'n_estimators': 500, 'max_depth': 26, 'min_child_weight': 163}. Best is trial 55 with value: 0.7959426889240059.\u001b[0m\n",
      "\u001b[32m[I 2021-12-06 11:31:40,828]\u001b[0m Trial 57 finished with value: 0.7712810745789895 and parameters: {'lambda': 1.2725356609156826, 'alpha': 0.14370861381681632, 'colsample_bytree': 0.5, 'subsample': 0.2, 'learning_rate': 0.1, 'n_estimators': 500, 'max_depth': 28, 'min_child_weight': 150}. Best is trial 55 with value: 0.7959426889240059.\u001b[0m\n",
      "\u001b[32m[I 2021-12-06 11:31:47,249]\u001b[0m Trial 58 finished with value: 0.7766342162366149 and parameters: {'lambda': 3.1110706301760396, 'alpha': 0.024706430356087727, 'colsample_bytree': 0.5, 'subsample': 0.9, 'learning_rate': 0.001, 'n_estimators': 1100, 'max_depth': 26, 'min_child_weight': 172}. Best is trial 55 with value: 0.7959426889240059.\u001b[0m\n",
      "\u001b[32m[I 2021-12-06 11:31:49,176]\u001b[0m Trial 59 finished with value: 0.7941753590971272 and parameters: {'lambda': 0.895444206338635, 'alpha': 0.08447691454016246, 'colsample_bytree': 0.5, 'subsample': 0.9, 'learning_rate': 0.1, 'n_estimators': 300, 'max_depth': 31, 'min_child_weight': 156}. Best is trial 55 with value: 0.7959426889240059.\u001b[0m\n",
      "\u001b[32m[I 2021-12-06 11:31:51,439]\u001b[0m Trial 60 finished with value: 0.7904875377376293 and parameters: {'lambda': 2.502603638058436, 'alpha': 0.2712146969009861, 'colsample_bytree': 0.2, 'subsample': 0.6, 'learning_rate': 0.1, 'n_estimators': 500, 'max_depth': 30, 'min_child_weight': 121}. Best is trial 55 with value: 0.7959426889240059.\u001b[0m\n",
      "\u001b[32m[I 2021-12-06 11:31:57,673]\u001b[0m Trial 61 finished with value: 0.795685011675079 and parameters: {'lambda': 6.8986192378317845, 'alpha': 0.20532777864475835, 'colsample_bytree': 0.5, 'subsample': 0.9, 'learning_rate': 0.1, 'n_estimators': 900, 'max_depth': 29, 'min_child_weight': 138}. Best is trial 55 with value: 0.7959426889240059.\u001b[0m\n",
      "\u001b[32m[I 2021-12-06 11:32:03,590]\u001b[0m Trial 62 finished with value: 0.7949079260814189 and parameters: {'lambda': 7.499840542570407, 'alpha': 0.1278565425144093, 'colsample_bytree': 0.5, 'subsample': 0.9, 'learning_rate': 0.1, 'n_estimators': 900, 'max_depth': 28, 'min_child_weight': 149}. Best is trial 55 with value: 0.7959426889240059.\u001b[0m\n",
      "\u001b[32m[I 2021-12-06 11:32:09,436]\u001b[0m Trial 63 finished with value: 0.7956354810368413 and parameters: {'lambda': 1.62242957051924, 'alpha': 0.048517216822364505, 'colsample_bytree': 0.6, 'subsample': 0.9, 'learning_rate': 0.1, 'n_estimators': 900, 'max_depth': 29, 'min_child_weight': 188}. Best is trial 55 with value: 0.7959426889240059.\u001b[0m\n",
      "\u001b[32m[I 2021-12-06 11:32:17,341]\u001b[0m Trial 64 finished with value: 0.7941895844143592 and parameters: {'lambda': 1.6881618128862719, 'alpha': 0.04822241931318658, 'colsample_bytree': 0.6, 'subsample': 0.9, 'learning_rate': 0.1, 'n_estimators': 1200, 'max_depth': 25, 'min_child_weight': 192}. Best is trial 55 with value: 0.7959426889240059.\u001b[0m\n",
      "\u001b[32m[I 2021-12-06 11:32:21,560]\u001b[0m Trial 65 finished with value: 0.7949632795179018 and parameters: {'lambda': 1.2926329803713754, 'alpha': 0.438095883798299, 'colsample_bytree': 0.6, 'subsample': 0.9, 'learning_rate': 0.1, 'n_estimators': 600, 'max_depth': 27, 'min_child_weight': 175}. Best is trial 55 with value: 0.7959426889240059.\u001b[0m\n",
      "\u001b[32m[I 2021-12-06 11:32:31,459]\u001b[0m Trial 66 finished with value: 0.7933949567196567 and parameters: {'lambda': 0.649893402241901, 'alpha': 0.09882471311569256, 'colsample_bytree': 0.6, 'subsample': 0.9, 'learning_rate': 0.2, 'n_estimators': 1500, 'max_depth': 30, 'min_child_weight': 185}. Best is trial 55 with value: 0.7959426889240059.\u001b[0m\n",
      "\u001b[32m[I 2021-12-06 11:32:38,435]\u001b[0m Trial 67 finished with value: 0.7908626291334497 and parameters: {'lambda': 3.3057212087964274, 'alpha': 0.03833192527787676, 'colsample_bytree': 1.0, 'subsample': 0.7, 'learning_rate': 0.1, 'n_estimators': 900, 'max_depth': 28, 'min_child_weight': 212}. Best is trial 55 with value: 0.7959426889240059.\u001b[0m\n",
      "\u001b[32m[I 2021-12-06 11:32:39,839]\u001b[0m Trial 68 finished with value: 0.7729012866172933 and parameters: {'lambda': 1.0609039386374721, 'alpha': 0.9231107071180297, 'colsample_bytree': 0.9, 'subsample': 0.4, 'learning_rate': 0.01, 'n_estimators': 200, 'max_depth': 31, 'min_child_weight': 163}. Best is trial 55 with value: 0.7959426889240059.\u001b[0m\n",
      "\u001b[32m[I 2021-12-06 11:32:42,971]\u001b[0m Trial 69 finished with value: 0.7745499492900608 and parameters: {'lambda': 2.0308064324207553, 'alpha': 0.7461191575566374, 'colsample_bytree': 0.6, 'subsample': 0.2, 'learning_rate': 0.1, 'n_estimators': 900, 'max_depth': 26, 'min_child_weight': 142}. Best is trial 55 with value: 0.7959426889240059.\u001b[0m\n",
      "\u001b[32m[I 2021-12-06 11:32:45,308]\u001b[0m Trial 70 finished with value: 0.7774245689655173 and parameters: {'lambda': 0.42618014619164674, 'alpha': 0.012623083007776613, 'colsample_bytree': 0.8, 'subsample': 0.3, 'learning_rate': 0.1, 'n_estimators': 500, 'max_depth': 29, 'min_child_weight': 192}. Best is trial 55 with value: 0.7959426889240059.\u001b[0m\n",
      "\u001b[32m[I 2021-12-06 11:32:51,395]\u001b[0m Trial 71 finished with value: 0.7960970299306571 and parameters: {'lambda': 4.029963011247288, 'alpha': 0.22757188385991006, 'colsample_bytree': 0.5, 'subsample': 0.9, 'learning_rate': 0.1, 'n_estimators': 900, 'max_depth': 29, 'min_child_weight': 136}. Best is trial 71 with value: 0.7960970299306571.\u001b[0m\n"
     ]
    },
    {
     "name": "stderr",
     "output_type": "stream",
     "text": [
      "\u001b[32m[I 2021-12-06 11:32:57,287]\u001b[0m Trial 72 finished with value: 0.7950783350629748 and parameters: {'lambda': 3.523032894925789, 'alpha': 0.23585537985114524, 'colsample_bytree': 0.5, 'subsample': 0.9, 'learning_rate': 0.1, 'n_estimators': 900, 'max_depth': 27, 'min_child_weight': 147}. Best is trial 71 with value: 0.7960970299306571.\u001b[0m\n",
      "\u001b[32m[I 2021-12-06 11:33:02,609]\u001b[0m Trial 73 finished with value: 0.7930517064484174 and parameters: {'lambda': 5.596556139262492, 'alpha': 0.08362615608394401, 'colsample_bytree': 0.5, 'subsample': 0.9, 'learning_rate': 0.1, 'n_estimators': 700, 'max_depth': 30, 'min_child_weight': 105}. Best is trial 71 with value: 0.7960970299306571.\u001b[0m\n",
      "\u001b[32m[I 2021-12-06 11:33:10,108]\u001b[0m Trial 74 finished with value: 0.7833684666729563 and parameters: {'lambda': 2.6030497162189206, 'alpha': 0.054699165982594396, 'colsample_bytree': 0.5, 'subsample': 0.5, 'learning_rate': 0.5, 'n_estimators': 1300, 'max_depth': 25, 'min_child_weight': 121}. Best is trial 71 with value: 0.7960970299306571.\u001b[0m\n",
      "\u001b[32m[I 2021-12-06 11:33:10,682]\u001b[0m Trial 75 finished with value: 0.7854323169724987 and parameters: {'lambda': 7.231740148052133, 'alpha': 0.16460244910586716, 'colsample_bytree': 0.3, 'subsample': 0.9, 'learning_rate': 0.1, 'n_estimators': 100, 'max_depth': 28, 'min_child_weight': 167}. Best is trial 71 with value: 0.7960970299306571.\u001b[0m\n",
      "\u001b[32m[I 2021-12-06 11:33:14,520]\u001b[0m Trial 76 finished with value: 0.7940495424312467 and parameters: {'lambda': 9.419000555351873, 'alpha': 0.12086680232203699, 'colsample_bytree': 0.2, 'subsample': 0.9, 'learning_rate': 0.1, 'n_estimators': 900, 'max_depth': 29, 'min_child_weight': 178}. Best is trial 71 with value: 0.7960970299306571.\u001b[0m\n",
      "\u001b[32m[I 2021-12-06 11:33:19,536]\u001b[0m Trial 77 finished with value: 0.7785421776970611 and parameters: {'lambda': 1.6211398991979538, 'alpha': 0.38794361206551997, 'colsample_bytree': 0.5, 'subsample': 0.9, 'learning_rate': 1, 'n_estimators': 800, 'max_depth': 31, 'min_child_weight': 155}. Best is trial 71 with value: 0.7960970299306571.\u001b[0m\n",
      "\u001b[32m[I 2021-12-06 11:33:25,158]\u001b[0m Trial 78 finished with value: 0.7777893414783716 and parameters: {'lambda': 5.181990727467852, 'alpha': 0.020591805124068795, 'colsample_bytree': 0.5, 'subsample': 0.9, 'learning_rate': 0.0001, 'n_estimators': 1000, 'max_depth': 27, 'min_child_weight': 137}. Best is trial 71 with value: 0.7960970299306571.\u001b[0m\n",
      "\u001b[32m[I 2021-12-06 11:33:30,312]\u001b[0m Trial 79 finished with value: 0.7681139145714421 and parameters: {'lambda': 3.639398796678313, 'alpha': 0.2597232245852067, 'colsample_bytree': 0.6, 'subsample': 0.4, 'learning_rate': 0.001, 'n_estimators': 900, 'max_depth': 24, 'min_child_weight': 125}. Best is trial 71 with value: 0.7960970299306571.\u001b[0m\n",
      "\u001b[32m[I 2021-12-06 11:33:32,713]\u001b[0m Trial 80 finished with value: 0.7920322745176659 and parameters: {'lambda': 2.545625138616777, 'alpha': 0.16355663506264537, 'colsample_bytree': 0.5, 'subsample': 0.6, 'learning_rate': 0.1, 'n_estimators': 300, 'max_depth': 30, 'min_child_weight': 95}. Best is trial 71 with value: 0.7960970299306571.\u001b[0m\n",
      "\u001b[32m[I 2021-12-06 11:33:38,962]\u001b[0m Trial 81 finished with value: 0.7953922502240672 and parameters: {'lambda': 4.02289760526863, 'alpha': 0.20975193504348222, 'colsample_bytree': 0.5, 'subsample': 0.9, 'learning_rate': 0.1, 'n_estimators': 900, 'max_depth': 29, 'min_child_weight': 134}. Best is trial 71 with value: 0.7960970299306571.\u001b[0m\n",
      "\u001b[32m[I 2021-12-06 11:33:45,651]\u001b[0m Trial 82 finished with value: 0.7947873425633284 and parameters: {'lambda': 0.7276658091951445, 'alpha': 0.08483022647117167, 'colsample_bytree': 0.5, 'subsample': 0.9, 'learning_rate': 0.1, 'n_estimators': 900, 'max_depth': 29, 'min_child_weight': 144}. Best is trial 71 with value: 0.7960970299306571.\u001b[0m\n",
      "\u001b[32m[I 2021-12-06 11:33:48,440]\u001b[0m Trial 83 finished with value: 0.7954822456247936 and parameters: {'lambda': 7.17043820457155, 'alpha': 0.18997276959353876, 'colsample_bytree': 0.5, 'subsample': 0.9, 'learning_rate': 0.1, 'n_estimators': 400, 'max_depth': 30, 'min_child_weight': 160}. Best is trial 71 with value: 0.7960970299306571.\u001b[0m\n",
      "\u001b[32m[I 2021-12-06 11:33:57,516]\u001b[0m Trial 84 finished with value: 0.7943823264069059 and parameters: {'lambda': 2.072726804200227, 'alpha': 0.729526513858364, 'colsample_bytree': 0.9, 'subsample': 0.7, 'learning_rate': 0.1, 'n_estimators': 1100, 'max_depth': 28, 'min_child_weight': 170}. Best is trial 71 with value: 0.7960970299306571.\u001b[0m\n",
      "\u001b[32m[I 2021-12-06 11:34:04,280]\u001b[0m Trial 85 finished with value: 0.793452963583188 and parameters: {'lambda': 4.554125723921047, 'alpha': 0.031097012937049476, 'colsample_bytree': 0.5, 'subsample': 0.9, 'learning_rate': 0.1, 'n_estimators': 900, 'max_depth': 31, 'min_child_weight': 111}. Best is trial 71 with value: 0.7960970299306571.\u001b[0m\n",
      "\u001b[32m[I 2021-12-06 11:34:13,835]\u001b[0m Trial 86 finished with value: 0.7924361850794849 and parameters: {'lambda': 3.0962352638057693, 'alpha': 0.4114086635116544, 'colsample_bytree': 1.0, 'subsample': 0.9, 'learning_rate': 0.1, 'n_estimators': 900, 'max_depth': 26, 'min_child_weight': 136}. Best is trial 71 with value: 0.7960970299306571.\u001b[0m\n",
      "\u001b[32m[I 2021-12-06 11:34:17,687]\u001b[0m Trial 87 finished with value: 0.7848436246992783 and parameters: {'lambda': 1.5447055466131563, 'alpha': 1.1939185907686904, 'colsample_bytree': 0.5, 'subsample': 0.3, 'learning_rate': 0.2, 'n_estimators': 900, 'max_depth': 29, 'min_child_weight': 153}. Best is trial 71 with value: 0.7960970299306571.\u001b[0m\n",
      "\u001b[32m[I 2021-12-06 11:34:24,505]\u001b[0m Trial 88 finished with value: 0.7844574773574224 and parameters: {'lambda': 6.125415528604489, 'alpha': 0.30792370190752705, 'colsample_bytree': 0.8, 'subsample': 0.9, 'learning_rate': 0.01, 'n_estimators': 900, 'max_depth': 30, 'min_child_weight': 223}. Best is trial 71 with value: 0.7960970299306571.\u001b[0m\n",
      "\u001b[32m[I 2021-12-06 11:34:28,916]\u001b[0m Trial 89 finished with value: 0.7942417684796452 and parameters: {'lambda': 1.1171473327628354, 'alpha': 0.11468779147300147, 'colsample_bytree': 0.5, 'subsample': 0.9, 'learning_rate': 0.1, 'n_estimators': 600, 'max_depth': 12, 'min_child_weight': 117}. Best is trial 71 with value: 0.7960970299306571.\u001b[0m\n",
      "\u001b[32m[I 2021-12-06 11:34:37,412]\u001b[0m Trial 90 finished with value: 0.7941675462285956 and parameters: {'lambda': 3.8639852477328294, 'alpha': 0.15176370790303953, 'colsample_bytree': 0.3, 'subsample': 0.9, 'learning_rate': 0.1, 'n_estimators': 1500, 'max_depth': 28, 'min_child_weight': 126}. Best is trial 71 with value: 0.7960970299306571.\u001b[0m\n",
      "\u001b[32m[I 2021-12-06 11:34:39,909]\u001b[0m Trial 91 finished with value: 0.7952473436246993 and parameters: {'lambda': 6.139504101964194, 'alpha': 0.20534720268993992, 'colsample_bytree': 0.5, 'subsample': 0.9, 'learning_rate': 0.1, 'n_estimators': 400, 'max_depth': 30, 'min_child_weight': 163}. Best is trial 71 with value: 0.7960970299306571.\u001b[0m\n",
      "\u001b[32m[I 2021-12-06 11:34:42,076]\u001b[0m Trial 92 finished with value: 0.7883614793150621 and parameters: {'lambda': 7.199321212379357, 'alpha': 0.19054479435719934, 'colsample_bytree': 0.5, 'subsample': 0.5, 'learning_rate': 0.1, 'n_estimators': 400, 'max_depth': 31, 'min_child_weight': 160}. Best is trial 71 with value: 0.7960970299306571.\u001b[0m\n",
      "\u001b[32m[I 2021-12-06 11:34:44,458]\u001b[0m Trial 93 finished with value: 0.7943655950752394 and parameters: {'lambda': 7.941718056166515, 'alpha': 0.08990087989612136, 'colsample_bytree': 0.5, 'subsample': 0.9, 'learning_rate': 0.1, 'n_estimators': 400, 'max_depth': 29, 'min_child_weight': 181}. Best is trial 71 with value: 0.7960970299306571.\u001b[0m\n",
      "\u001b[32m[I 2021-12-06 11:34:46,099]\u001b[0m Trial 94 finished with value: 0.7804471171989245 and parameters: {'lambda': 4.516198500501966, 'alpha': 0.24528723431498492, 'colsample_bytree': 0.5, 'subsample': 0.9, 'learning_rate': 0.1, 'n_estimators': 500, 'max_depth': 1, 'min_child_weight': 144}. Best is trial 71 with value: 0.7960970299306571.\u001b[0m\n",
      "\u001b[32m[I 2021-12-06 11:34:51,263]\u001b[0m Trial 95 finished with value: 0.7965804695976224 and parameters: {'lambda': 2.8297247497269917, 'alpha': 0.058613028692490014, 'colsample_bytree': 0.4, 'subsample': 0.9, 'learning_rate': 0.1, 'n_estimators': 900, 'max_depth': 27, 'min_child_weight': 152}. Best is trial 95 with value: 0.7965804695976224.\u001b[0m\n"
     ]
    },
    {
     "name": "stderr",
     "output_type": "stream",
     "text": [
      "\u001b[32m[I 2021-12-06 11:34:54,070]\u001b[0m Trial 96 finished with value: 0.7732344391244872 and parameters: {'lambda': 2.2494966494346, 'alpha': 0.05399827684143482, 'colsample_bytree': 0.4, 'subsample': 0.2, 'learning_rate': 0.5, 'n_estimators': 900, 'max_depth': 27, 'min_child_weight': 131}. Best is trial 95 with value: 0.7965804695976224.\u001b[0m\n",
      "\u001b[32m[I 2021-12-06 11:34:59,188]\u001b[0m Trial 97 finished with value: 0.7959334019293363 and parameters: {'lambda': 2.849402838666765, 'alpha': 0.06962304151699744, 'colsample_bytree': 0.4, 'subsample': 0.9, 'learning_rate': 0.1, 'n_estimators': 900, 'max_depth': 7, 'min_child_weight': 152}. Best is trial 95 with value: 0.7965804695976224.\u001b[0m\n",
      "\u001b[32m[I 2021-12-06 11:35:03,165]\u001b[0m Trial 98 finished with value: 0.7736833842398225 and parameters: {'lambda': 2.7891940079097837, 'alpha': 0.04041659977634245, 'colsample_bytree': 0.4, 'subsample': 0.9, 'learning_rate': 0.0001, 'n_estimators': 900, 'max_depth': 4, 'min_child_weight': 150}. Best is trial 95 with value: 0.7965804695976224.\u001b[0m\n",
      "\u001b[32m[I 2021-12-06 11:35:06,151]\u001b[0m Trial 99 finished with value: 0.794401711165621 and parameters: {'lambda': 1.4841295604060636, 'alpha': 0.07173889882481074, 'colsample_bytree': 0.4, 'subsample': 0.9, 'learning_rate': 1, 'n_estimators': 900, 'max_depth': 2, 'min_child_weight': 197}. Best is trial 95 with value: 0.7965804695976224.\u001b[0m\n",
      "\u001b[32m[I 2021-12-06 11:35:09,886]\u001b[0m Trial 100 finished with value: 0.7937763868578707 and parameters: {'lambda': 2.076646846809194, 'alpha': 0.016099305575955507, 'colsample_bytree': 0.4, 'subsample': 0.8, 'learning_rate': 0.1, 'n_estimators': 700, 'max_depth': 6, 'min_child_weight': 170}. Best is trial 95 with value: 0.7965804695976224.\u001b[0m\n",
      "\u001b[32m[I 2021-12-06 11:35:15,178]\u001b[0m Trial 101 finished with value: 0.7964500831407142 and parameters: {'lambda': 3.0775681136825055, 'alpha': 0.13576046739120545, 'colsample_bytree': 0.4, 'subsample': 0.9, 'learning_rate': 0.1, 'n_estimators': 900, 'max_depth': 14, 'min_child_weight': 142}. Best is trial 95 with value: 0.7965804695976224.\u001b[0m\n",
      "\u001b[32m[I 2021-12-06 11:35:20,594]\u001b[0m Trial 102 finished with value: 0.7944849255861125 and parameters: {'lambda': 3.081606469201465, 'alpha': 0.13390451294288344, 'colsample_bytree': 0.4, 'subsample': 0.9, 'learning_rate': 0.1, 'n_estimators': 900, 'max_depth': 8, 'min_child_weight': 139}. Best is trial 95 with value: 0.7965804695976224.\u001b[0m\n",
      "\u001b[32m[I 2021-12-06 11:35:28,102]\u001b[0m Trial 103 finished with value: 0.795823800650974 and parameters: {'lambda': 4.958869880636958, 'alpha': 0.04257529903284942, 'colsample_bytree': 0.4, 'subsample': 0.9, 'learning_rate': 0.1, 'n_estimators': 1200, 'max_depth': 14, 'min_child_weight': 152}. Best is trial 95 with value: 0.7965804695976224.\u001b[0m\n",
      "\u001b[32m[I 2021-12-06 11:35:34,416]\u001b[0m Trial 104 finished with value: 0.7970753337421577 and parameters: {'lambda': 5.067425131255616, 'alpha': 0.044514633324731975, 'colsample_bytree': 0.4, 'subsample': 0.9, 'learning_rate': 0.1, 'n_estimators': 1200, 'max_depth': 15, 'min_child_weight': 184}. Best is trial 104 with value: 0.7970753337421577.\u001b[0m\n",
      "\u001b[32m[I 2021-12-06 11:35:40,726]\u001b[0m Trial 105 finished with value: 0.7966729710127836 and parameters: {'lambda': 3.59399344251642, 'alpha': 0.04383519066092029, 'colsample_bytree': 0.4, 'subsample': 0.9, 'learning_rate': 0.1, 'n_estimators': 1200, 'max_depth': 14, 'min_child_weight': 186}. Best is trial 104 with value: 0.7970753337421577.\u001b[0m\n",
      "\u001b[32m[I 2021-12-06 11:35:46,741]\u001b[0m Trial 106 finished with value: 0.7923254782065192 and parameters: {'lambda': 4.950814599313069, 'alpha': 0.025335979230162342, 'colsample_bytree': 0.4, 'subsample': 0.6, 'learning_rate': 0.1, 'n_estimators': 1200, 'max_depth': 14, 'min_child_weight': 181}. Best is trial 104 with value: 0.7970753337421577.\u001b[0m\n",
      "\u001b[32m[I 2021-12-06 11:35:52,974]\u001b[0m Trial 107 finished with value: 0.7793055539176377 and parameters: {'lambda': 3.558611616724602, 'alpha': 0.0378884139696426, 'colsample_bytree': 0.4, 'subsample': 0.9, 'learning_rate': 0.001, 'n_estimators': 1200, 'max_depth': 15, 'min_child_weight': 154}. Best is trial 104 with value: 0.7970753337421577.\u001b[0m\n",
      "\u001b[32m[I 2021-12-06 11:35:59,556]\u001b[0m Trial 108 finished with value: 0.7964856095806406 and parameters: {'lambda': 8.716505489369556, 'alpha': 0.06118620470781098, 'colsample_bytree': 0.4, 'subsample': 0.9, 'learning_rate': 0.1, 'n_estimators': 1200, 'max_depth': 14, 'min_child_weight': 174}. Best is trial 104 with value: 0.7970753337421577.\u001b[0m\n",
      "\u001b[32m[I 2021-12-06 11:36:05,380]\u001b[0m Trial 109 finished with value: 0.7928844668380584 and parameters: {'lambda': 8.036826901561659, 'alpha': 0.033384169571426626, 'colsample_bytree': 0.4, 'subsample': 0.7, 'learning_rate': 0.1, 'n_estimators': 1200, 'max_depth': 13, 'min_child_weight': 205}. Best is trial 104 with value: 0.7970753337421577.\u001b[0m\n",
      "\u001b[32m[I 2021-12-06 11:36:10,394]\u001b[0m Trial 110 finished with value: 0.7835706430727865 and parameters: {'lambda': 9.406905461333716, 'alpha': 0.05966216867608534, 'colsample_bytree': 0.4, 'subsample': 0.4, 'learning_rate': 0.1, 'n_estimators': 1200, 'max_depth': 16, 'min_child_weight': 174}. Best is trial 104 with value: 0.7970753337421577.\u001b[0m\n",
      "\u001b[32m[I 2021-12-06 11:36:17,050]\u001b[0m Trial 111 finished with value: 0.7958443647105995 and parameters: {'lambda': 5.4208256353702735, 'alpha': 0.02666443798012812, 'colsample_bytree': 0.4, 'subsample': 0.9, 'learning_rate': 0.1, 'n_estimators': 1200, 'max_depth': 14, 'min_child_weight': 166}. Best is trial 104 with value: 0.7970753337421577.\u001b[0m\n",
      "\u001b[32m[I 2021-12-06 11:36:24,233]\u001b[0m Trial 112 finished with value: 0.7948902365677626 and parameters: {'lambda': 5.5202243295030184, 'alpha': 0.04129852369905836, 'colsample_bytree': 0.4, 'subsample': 0.9, 'learning_rate': 0.1, 'n_estimators': 1200, 'max_depth': 14, 'min_child_weight': 148}. Best is trial 104 with value: 0.7970753337421577.\u001b[0m\n",
      "\u001b[32m[I 2021-12-06 11:36:32,778]\u001b[0m Trial 113 finished with value: 0.7964018792160008 and parameters: {'lambda': 6.133509527376313, 'alpha': 0.07163317576577613, 'colsample_bytree': 0.4, 'subsample': 0.9, 'learning_rate': 0.1, 'n_estimators': 1200, 'max_depth': 12, 'min_child_weight': 167}. Best is trial 104 with value: 0.7970753337421577.\u001b[0m\n",
      "\u001b[32m[I 2021-12-06 11:36:40,303]\u001b[0m Trial 114 finished with value: 0.7969342598707486 and parameters: {'lambda': 4.000568212077917, 'alpha': 0.026036552383201336, 'colsample_bytree': 0.4, 'subsample': 0.9, 'learning_rate': 0.1, 'n_estimators': 1200, 'max_depth': 15, 'min_child_weight': 185}. Best is trial 104 with value: 0.7970753337421577.\u001b[0m\n",
      "\u001b[32m[I 2021-12-06 11:36:46,601]\u001b[0m Trial 115 finished with value: 0.7957480305674796 and parameters: {'lambda': 3.910525944131408, 'alpha': 0.02562035341730895, 'colsample_bytree': 0.4, 'subsample': 0.9, 'learning_rate': 0.1, 'n_estimators': 1200, 'max_depth': 15, 'min_child_weight': 194}. Best is trial 104 with value: 0.7970753337421577.\u001b[0m\n",
      "\u001b[32m[I 2021-12-06 11:36:53,200]\u001b[0m Trial 116 finished with value: 0.7971968754422379 and parameters: {'lambda': 8.211619841411274, 'alpha': 0.007220600354351453, 'colsample_bytree': 0.4, 'subsample': 0.9, 'learning_rate': 0.1, 'n_estimators': 1200, 'max_depth': 12, 'min_child_weight': 183}. Best is trial 116 with value: 0.7971968754422379.\u001b[0m\n",
      "\u001b[32m[I 2021-12-06 11:36:57,584]\u001b[0m Trial 117 finished with value: 0.7770279553280816 and parameters: {'lambda': 8.77015977899038, 'alpha': 0.07427292385293104, 'colsample_bytree': 0.4, 'subsample': 0.3, 'learning_rate': 0.2, 'n_estimators': 1200, 'max_depth': 11, 'min_child_weight': 186}. Best is trial 116 with value: 0.7971968754422379.\u001b[0m\n",
      "\u001b[32m[I 2021-12-06 11:37:03,642]\u001b[0m Trial 118 finished with value: 0.79578274623803 and parameters: {'lambda': 5.96457619603621, 'alpha': 0.007462312839516588, 'colsample_bytree': 0.4, 'subsample': 0.9, 'learning_rate': 0.1, 'n_estimators': 1200, 'max_depth': 17, 'min_child_weight': 210}. Best is trial 116 with value: 0.7971968754422379.\u001b[0m\n",
      "\u001b[32m[I 2021-12-06 11:37:09,532]\u001b[0m Trial 119 finished with value: 0.7812906858814095 and parameters: {'lambda': 3.3032012816941045, 'alpha': 0.0018942292745244822, 'colsample_bytree': 0.4, 'subsample': 0.5, 'learning_rate': 0.01, 'n_estimators': 1200, 'max_depth': 12, 'min_child_weight': 168}. Best is trial 116 with value: 0.7971968754422379.\u001b[0m\n"
     ]
    },
    {
     "name": "stderr",
     "output_type": "stream",
     "text": [
      "\u001b[32m[I 2021-12-06 11:37:15,787]\u001b[0m Trial 120 finished with value: 0.7956975417472523 and parameters: {'lambda': 2.537191531705447, 'alpha': 0.003918231275102375, 'colsample_bytree': 0.4, 'subsample': 0.9, 'learning_rate': 0.1, 'n_estimators': 1200, 'max_depth': 13, 'min_child_weight': 199}. Best is trial 116 with value: 0.7971968754422379.\u001b[0m\n",
      "\u001b[32m[I 2021-12-06 11:37:22,644]\u001b[0m Trial 121 finished with value: 0.7965522400820794 and parameters: {'lambda': 5.122091285887156, 'alpha': 0.0069471024130010805, 'colsample_bytree': 0.4, 'subsample': 0.9, 'learning_rate': 0.1, 'n_estimators': 1200, 'max_depth': 14, 'min_child_weight': 175}. Best is trial 116 with value: 0.7971968754422379.\u001b[0m\n",
      "\u001b[32m[I 2021-12-06 11:37:29,302]\u001b[0m Trial 122 finished with value: 0.7971454284400208 and parameters: {'lambda': 9.840689429428183, 'alpha': 0.00855805609666354, 'colsample_bytree': 0.4, 'subsample': 0.9, 'learning_rate': 0.1, 'n_estimators': 1200, 'max_depth': 10, 'min_child_weight': 183}. Best is trial 116 with value: 0.7971968754422379.\u001b[0m\n",
      "\u001b[32m[I 2021-12-06 11:37:35,648]\u001b[0m Trial 123 finished with value: 0.7970619929006085 and parameters: {'lambda': 6.866105570988912, 'alpha': 0.008855465386146386, 'colsample_bytree': 0.4, 'subsample': 0.9, 'learning_rate': 0.1, 'n_estimators': 1200, 'max_depth': 10, 'min_child_weight': 183}. Best is trial 116 with value: 0.7971968754422379.\u001b[0m\n",
      "\u001b[32m[I 2021-12-06 11:37:42,712]\u001b[0m Trial 124 finished with value: 0.7971029736072457 and parameters: {'lambda': 8.132613414094143, 'alpha': 0.006996407214599698, 'colsample_bytree': 0.4, 'subsample': 0.9, 'learning_rate': 0.1, 'n_estimators': 1200, 'max_depth': 10, 'min_child_weight': 182}. Best is trial 116 with value: 0.7971968754422379.\u001b[0m\n",
      "\u001b[32m[I 2021-12-06 11:37:50,050]\u001b[0m Trial 125 finished with value: 0.7968736732864757 and parameters: {'lambda': 9.826327681462804, 'alpha': 0.006930036194685132, 'colsample_bytree': 0.4, 'subsample': 0.9, 'learning_rate': 0.1, 'n_estimators': 1200, 'max_depth': 10, 'min_child_weight': 189}. Best is trial 116 with value: 0.7971968754422379.\u001b[0m\n",
      "\u001b[32m[I 2021-12-06 11:37:57,238]\u001b[0m Trial 126 finished with value: 0.7971446176706448 and parameters: {'lambda': 9.825113835115422, 'alpha': 0.008590234526275406, 'colsample_bytree': 0.4, 'subsample': 0.9, 'learning_rate': 0.1, 'n_estimators': 1200, 'max_depth': 10, 'min_child_weight': 183}. Best is trial 116 with value: 0.7971968754422379.\u001b[0m\n",
      "\u001b[32m[I 2021-12-06 11:38:03,943]\u001b[0m Trial 127 finished with value: 0.7954522471578848 and parameters: {'lambda': 9.973292533992963, 'alpha': 0.008570173506354516, 'colsample_bytree': 0.4, 'subsample': 0.9, 'learning_rate': 0.1, 'n_estimators': 1200, 'max_depth': 10, 'min_child_weight': 218}. Best is trial 116 with value: 0.7971968754422379.\u001b[0m\n",
      "\u001b[32m[I 2021-12-06 11:38:08,822]\u001b[0m Trial 128 finished with value: 0.7608231078116893 and parameters: {'lambda': 7.756404896162837, 'alpha': 0.005879615977183266, 'colsample_bytree': 0.4, 'subsample': 0.2, 'learning_rate': 0.5, 'n_estimators': 1200, 'max_depth': 10, 'min_child_weight': 186}. Best is trial 116 with value: 0.7971968754422379.\u001b[0m\n",
      "\u001b[32m[I 2021-12-06 11:38:15,250]\u001b[0m Trial 129 finished with value: 0.7970567597528184 and parameters: {'lambda': 8.425732338080595, 'alpha': 0.009666915676996944, 'colsample_bytree': 0.4, 'subsample': 0.9, 'learning_rate': 0.1, 'n_estimators': 1200, 'max_depth': 10, 'min_child_weight': 179}. Best is trial 116 with value: 0.7971968754422379.\u001b[0m\n",
      "\u001b[32m[I 2021-12-06 11:38:21,674]\u001b[0m Trial 130 finished with value: 0.778565468890042 and parameters: {'lambda': 8.239685014042786, 'alpha': 0.008864236387060399, 'colsample_bytree': 0.4, 'subsample': 0.8, 'learning_rate': 1, 'n_estimators': 1200, 'max_depth': 9, 'min_child_weight': 180}. Best is trial 116 with value: 0.7971968754422379.\u001b[0m\n",
      "\u001b[32m[I 2021-12-06 11:38:27,952]\u001b[0m Trial 131 finished with value: 0.7954882895419595 and parameters: {'lambda': 9.751768478340598, 'alpha': 0.010160432424005257, 'colsample_bytree': 0.4, 'subsample': 0.9, 'learning_rate': 0.1, 'n_estimators': 1200, 'max_depth': 11, 'min_child_weight': 191}. Best is trial 116 with value: 0.7971968754422379.\u001b[0m\n",
      "\u001b[32m[I 2021-12-06 11:38:34,153]\u001b[0m Trial 132 finished with value: 0.7950201807868297 and parameters: {'lambda': 6.561989174718023, 'alpha': 0.0055846398682734945, 'colsample_bytree': 0.4, 'subsample': 0.9, 'learning_rate': 0.1, 'n_estimators': 1200, 'max_depth': 10, 'min_child_weight': 202}. Best is trial 116 with value: 0.7971968754422379.\u001b[0m\n",
      "\u001b[32m[I 2021-12-06 11:38:40,691]\u001b[0m Trial 133 finished with value: 0.7962168763856786 and parameters: {'lambda': 7.08269701416388, 'alpha': 0.006744373346397898, 'colsample_bytree': 0.4, 'subsample': 0.9, 'learning_rate': 0.1, 'n_estimators': 1200, 'max_depth': 15, 'min_child_weight': 175}. Best is trial 116 with value: 0.7971968754422379.\u001b[0m\n",
      "\u001b[32m[I 2021-12-06 11:38:47,153]\u001b[0m Trial 134 finished with value: 0.797312373225152 and parameters: {'lambda': 8.183617974409664, 'alpha': 0.0027635851343865165, 'colsample_bytree': 0.4, 'subsample': 0.9, 'learning_rate': 0.1, 'n_estimators': 1200, 'max_depth': 13, 'min_child_weight': 184}. Best is trial 134 with value: 0.797312373225152.\u001b[0m\n",
      "\u001b[32m[I 2021-12-06 11:38:53,486]\u001b[0m Trial 135 finished with value: 0.797000448134346 and parameters: {'lambda': 9.993536031029453, 'alpha': 0.002523553474559171, 'colsample_bytree': 0.4, 'subsample': 0.9, 'learning_rate': 0.1, 'n_estimators': 1200, 'max_depth': 13, 'min_child_weight': 184}. Best is trial 134 with value: 0.797312373225152.\u001b[0m\n",
      "\u001b[32m[I 2021-12-06 11:38:58,904]\u001b[0m Trial 136 finished with value: 0.7755581041558565 and parameters: {'lambda': 9.969682936340954, 'alpha': 0.0026371962305953597, 'colsample_bytree': 0.4, 'subsample': 0.9, 'learning_rate': 0.0001, 'n_estimators': 1200, 'max_depth': 8, 'min_child_weight': 185}. Best is trial 134 with value: 0.797312373225152.\u001b[0m\n",
      "\u001b[32m[I 2021-12-06 11:39:04,406]\u001b[0m Trial 137 finished with value: 0.7951853566205953 and parameters: {'lambda': 6.778139833511978, 'alpha': 0.004319511107613656, 'colsample_bytree': 0.4, 'subsample': 1.0, 'learning_rate': 0.1, 'n_estimators': 1200, 'max_depth': 13, 'min_child_weight': 196}. Best is trial 134 with value: 0.797312373225152.\u001b[0m\n",
      "\u001b[32m[I 2021-12-06 11:39:10,053]\u001b[0m Trial 138 finished with value: 0.7750363372093022 and parameters: {'lambda': 8.037418186032394, 'alpha': 0.0012418473337802356, 'colsample_bytree': 0.4, 'subsample': 0.9, 'learning_rate': 0.001, 'n_estimators': 1200, 'max_depth': 9, 'min_child_weight': 208}. Best is trial 134 with value: 0.797312373225152.\u001b[0m\n",
      "\u001b[32m[I 2021-12-06 11:39:11,146]\u001b[0m Trial 139 finished with value: 0.789909827704137 and parameters: {'lambda': 5.340599843795394, 'alpha': 0.014574818235199943, 'colsample_bytree': 0.4, 'subsample': 0.9, 'learning_rate': 0.1, 'n_estimators': 200, 'max_depth': 16, 'min_child_weight': 189}. Best is trial 134 with value: 0.797312373225152.\u001b[0m\n",
      "\u001b[32m[I 2021-12-06 11:39:17,087]\u001b[0m Trial 140 finished with value: 0.7919980747912636 and parameters: {'lambda': 6.83133965106699, 'alpha': 0.0033474518368174977, 'colsample_bytree': 0.4, 'subsample': 0.6, 'learning_rate': 0.1, 'n_estimators': 1200, 'max_depth': 11, 'min_child_weight': 181}. Best is trial 134 with value: 0.797312373225152.\u001b[0m\n",
      "\u001b[32m[I 2021-12-06 11:39:23,658]\u001b[0m Trial 141 finished with value: 0.7964561270578802 and parameters: {'lambda': 8.38979234841862, 'alpha': 0.010720369342877173, 'colsample_bytree': 0.4, 'subsample': 0.9, 'learning_rate': 0.1, 'n_estimators': 1200, 'max_depth': 12, 'min_child_weight': 175}. Best is trial 134 with value: 0.797312373225152.\u001b[0m\n",
      "\u001b[32m[I 2021-12-06 11:39:29,878]\u001b[0m Trial 142 finished with value: 0.795258841808576 and parameters: {'lambda': 8.264205022582779, 'alpha': 0.0015806277789056702, 'colsample_bytree': 0.4, 'subsample': 0.9, 'learning_rate': 0.1, 'n_estimators': 1200, 'max_depth': 8, 'min_child_weight': 194}. Best is trial 134 with value: 0.797312373225152.\u001b[0m\n",
      "\u001b[32m[I 2021-12-06 11:39:36,227]\u001b[0m Trial 143 finished with value: 0.7970845470305203 and parameters: {'lambda': 4.570484447774085, 'alpha': 0.0024017674110657443, 'colsample_bytree': 0.4, 'subsample': 0.9, 'learning_rate': 0.1, 'n_estimators': 1200, 'max_depth': 13, 'min_child_weight': 183}. Best is trial 134 with value: 0.797312373225152.\u001b[0m\n"
     ]
    },
    {
     "name": "stderr",
     "output_type": "stream",
     "text": [
      "\u001b[32m[I 2021-12-06 11:39:36,703]\u001b[0m Trial 144 finished with value: 0.78318427461201 and parameters: {'lambda': 4.383447938430462, 'alpha': 0.006462449069046957, 'colsample_bytree': 0.2, 'subsample': 0.9, 'learning_rate': 0.1, 'n_estimators': 100, 'max_depth': 13, 'min_child_weight': 186}. Best is trial 134 with value: 0.797312373225152.\u001b[0m\n",
      "\u001b[32m[I 2021-12-06 11:39:42,957]\u001b[0m Trial 145 finished with value: 0.7950484840086798 and parameters: {'lambda': 6.131410748665464, 'alpha': 0.00243593616408898, 'colsample_bytree': 0.4, 'subsample': 0.9, 'learning_rate': 0.1, 'n_estimators': 1200, 'max_depth': 11, 'min_child_weight': 201}. Best is trial 134 with value: 0.797312373225152.\u001b[0m\n",
      "\u001b[32m[I 2021-12-06 11:39:47,268]\u001b[0m Trial 146 finished with value: 0.7968117599886787 and parameters: {'lambda': 4.546894363242863, 'alpha': 0.004304342530468186, 'colsample_bytree': 0.4, 'subsample': 0.9, 'learning_rate': 0.1, 'n_estimators': 800, 'max_depth': 10, 'min_child_weight': 180}. Best is trial 134 with value: 0.797312373225152.\u001b[0m\n",
      "\u001b[32m[I 2021-12-06 11:39:50,388]\u001b[0m Trial 147 finished with value: 0.7814838701117977 and parameters: {'lambda': 9.815348597270683, 'alpha': 0.003511028553438697, 'colsample_bytree': 0.4, 'subsample': 0.4, 'learning_rate': 0.1, 'n_estimators': 800, 'max_depth': 9, 'min_child_weight': 215}. Best is trial 134 with value: 0.797312373225152.\u001b[0m\n",
      "\u001b[32m[I 2021-12-06 11:39:54,441]\u001b[0m Trial 148 finished with value: 0.793617844591726 and parameters: {'lambda': 6.900755749001052, 'alpha': 0.004967331842716288, 'colsample_bytree': 0.4, 'subsample': 0.7, 'learning_rate': 0.1, 'n_estimators': 800, 'max_depth': 10, 'min_child_weight': 182}. Best is trial 134 with value: 0.797312373225152.\u001b[0m\n",
      "\u001b[32m[I 2021-12-06 11:40:05,527]\u001b[0m Trial 149 finished with value: 0.7919013721166093 and parameters: {'lambda': 4.202924459108989, 'alpha': 0.0045006143195854015, 'colsample_bytree': 1.0, 'subsample': 0.9, 'learning_rate': 0.2, 'n_estimators': 1300, 'max_depth': 11, 'min_child_weight': 195}. Best is trial 134 with value: 0.797312373225152.\u001b[0m\n",
      "\u001b[32m[I 2021-12-06 11:40:11,899]\u001b[0m Trial 150 finished with value: 0.7956107157177225 and parameters: {'lambda': 5.853345913612077, 'alpha': 0.0028687422806264176, 'colsample_bytree': 0.9, 'subsample': 0.9, 'learning_rate': 0.1, 'n_estimators': 800, 'max_depth': 12, 'min_child_weight': 191}. Best is trial 134 with value: 0.797312373225152.\u001b[0m\n",
      "\u001b[32m[I 2021-12-06 11:40:18,361]\u001b[0m Trial 151 finished with value: 0.7961069065757818 and parameters: {'lambda': 4.929291992519493, 'alpha': 0.0020747743900562587, 'colsample_bytree': 0.4, 'subsample': 0.9, 'learning_rate': 0.1, 'n_estimators': 1200, 'max_depth': 13, 'min_child_weight': 178}. Best is trial 134 with value: 0.797312373225152.\u001b[0m\n",
      "\u001b[32m[I 2021-12-06 11:40:23,702]\u001b[0m Trial 152 finished with value: 0.7959631055710176 and parameters: {'lambda': 7.604484869473117, 'alpha': 0.007928433089590042, 'colsample_bytree': 0.4, 'subsample': 0.9, 'learning_rate': 0.1, 'n_estimators': 1000, 'max_depth': 18, 'min_child_weight': 184}. Best is trial 134 with value: 0.797312373225152.\u001b[0m\n",
      "\u001b[32m[I 2021-12-06 11:40:30,302]\u001b[0m Trial 153 finished with value: 0.7950092722534082 and parameters: {'lambda': 0.1231238960272303, 'alpha': 0.009867946088963088, 'colsample_bytree': 0.4, 'subsample': 0.9, 'learning_rate': 0.1, 'n_estimators': 1200, 'max_depth': 10, 'min_child_weight': 171}. Best is trial 134 with value: 0.797312373225152.\u001b[0m\n",
      "\u001b[32m[I 2021-12-06 11:40:36,090]\u001b[0m Trial 154 finished with value: 0.7962593312184536 and parameters: {'lambda': 5.037264229520249, 'alpha': 0.00683268617140516, 'colsample_bytree': 0.4, 'subsample': 0.9, 'learning_rate': 0.1, 'n_estimators': 1100, 'max_depth': 12, 'min_child_weight': 189}. Best is trial 134 with value: 0.797312373225152.\u001b[0m\n",
      "\u001b[32m[I 2021-12-06 11:40:42,190]\u001b[0m Trial 155 finished with value: 0.795449004080381 and parameters: {'lambda': 5.943878320810642, 'alpha': 0.013987616625344262, 'colsample_bytree': 0.4, 'subsample': 0.9, 'learning_rate': 0.1, 'n_estimators': 1200, 'max_depth': 15, 'min_child_weight': 205}. Best is trial 134 with value: 0.797312373225152.\u001b[0m\n",
      "\u001b[32m[I 2021-12-06 11:40:43,795]\u001b[0m Trial 156 finished with value: 0.7705855081607622 and parameters: {'lambda': 7.912135894622489, 'alpha': 0.018017110689974105, 'colsample_bytree': 0.8, 'subsample': 0.3, 'learning_rate': 0.01, 'n_estimators': 300, 'max_depth': 13, 'min_child_weight': 176}. Best is trial 134 with value: 0.797312373225152.\u001b[0m\n",
      "\u001b[32m[I 2021-12-06 11:40:50,039]\u001b[0m Trial 157 finished with value: 0.7952693818104628 and parameters: {'lambda': 4.566360711972118, 'alpha': 0.005165054636644641, 'colsample_bytree': 0.4, 'subsample': 0.9, 'learning_rate': 0.1, 'n_estimators': 1200, 'max_depth': 9, 'min_child_weight': 198}. Best is trial 134 with value: 0.797312373225152.\u001b[0m\n",
      "\u001b[32m[I 2021-12-06 11:40:55,990]\u001b[0m Trial 158 finished with value: 0.7951420910184442 and parameters: {'lambda': 3.536965911309164, 'alpha': 0.003946979188596231, 'colsample_bytree': 0.3, 'subsample': 0.9, 'learning_rate': 0.1, 'n_estimators': 1200, 'max_depth': 11, 'min_child_weight': 181}. Best is trial 134 with value: 0.797312373225152.\u001b[0m\n",
      "\u001b[32m[I 2021-12-06 11:40:58,750]\u001b[0m Trial 159 finished with value: 0.785567199514128 and parameters: {'lambda': 6.781985759827557, 'alpha': 0.011489150295766297, 'colsample_bytree': 0.4, 'subsample': 0.5, 'learning_rate': 0.1, 'n_estimators': 600, 'max_depth': 10, 'min_child_weight': 190}. Best is trial 134 with value: 0.797312373225152.\u001b[0m\n",
      "\u001b[32m[I 2021-12-06 11:41:05,266]\u001b[0m Trial 160 finished with value: 0.7963734285815369 and parameters: {'lambda': 9.70781603788452, 'alpha': 0.008135359222130666, 'colsample_bytree': 0.4, 'subsample': 0.9, 'learning_rate': 0.1, 'n_estimators': 1200, 'max_depth': 8, 'min_child_weight': 171}. Best is trial 134 with value: 0.797312373225152.\u001b[0m\n",
      "\u001b[32m[I 2021-12-06 11:41:11,695]\u001b[0m Trial 161 finished with value: 0.7961035897919713 and parameters: {'lambda': 8.367588573525696, 'alpha': 0.0059368971300908634, 'colsample_bytree': 0.4, 'subsample': 0.9, 'learning_rate': 0.1, 'n_estimators': 1200, 'max_depth': 16, 'min_child_weight': 177}. Best is trial 134 with value: 0.797312373225152.\u001b[0m\n",
      "\u001b[32m[I 2021-12-06 11:41:16,997]\u001b[0m Trial 162 finished with value: 0.7897610146705033 and parameters: {'lambda': 8.457273776799155, 'alpha': 0.0032452545065071044, 'colsample_bytree': 0.4, 'subsample': 0.9, 'learning_rate': 0.1, 'n_estimators': 1200, 'max_depth': 14, 'min_child_weight': 285}. Best is trial 134 with value: 0.797312373225152.\u001b[0m\n",
      "\u001b[32m[I 2021-12-06 11:41:23,606]\u001b[0m Trial 163 finished with value: 0.7963971620123591 and parameters: {'lambda': 5.571590922067175, 'alpha': 0.001004473746929865, 'colsample_bytree': 0.4, 'subsample': 0.9, 'learning_rate': 0.1, 'n_estimators': 1200, 'max_depth': 15, 'min_child_weight': 173}. Best is trial 134 with value: 0.797312373225152.\u001b[0m\n",
      "\u001b[32m[I 2021-12-06 11:41:31,524]\u001b[0m Trial 164 finished with value: 0.7971539783716213 and parameters: {'lambda': 9.820348635315533, 'alpha': 0.001596704732668733, 'colsample_bytree': 0.4, 'subsample': 0.9, 'learning_rate': 0.1, 'n_estimators': 1500, 'max_depth': 13, 'min_child_weight': 184}. Best is trial 134 with value: 0.797312373225152.\u001b[0m\n",
      "\u001b[32m[I 2021-12-06 11:41:39,441]\u001b[0m Trial 165 finished with value: 0.7963164536063021 and parameters: {'lambda': 6.782293761525488, 'alpha': 0.0020332791778831976, 'colsample_bytree': 0.4, 'subsample': 0.9, 'learning_rate': 0.1, 'n_estimators': 1500, 'max_depth': 12, 'min_child_weight': 185}. Best is trial 134 with value: 0.797312373225152.\u001b[0m\n",
      "\u001b[32m[I 2021-12-06 11:41:50,634]\u001b[0m Trial 166 finished with value: 0.7017329089815558 and parameters: {'lambda': 3.8979833926355054, 'alpha': 0.0015856482700543236, 'colsample_bytree': 0.4, 'subsample': 0.2, 'learning_rate': 0.5, 'n_estimators': 1500, 'max_depth': 13, 'min_child_weight': 5}. Best is trial 134 with value: 0.797312373225152.\u001b[0m\n",
      "\u001b[32m[I 2021-12-06 11:41:58,515]\u001b[0m Trial 167 finished with value: 0.7965661705740836 and parameters: {'lambda': 4.903580370873253, 'alpha': 0.009599950496053512, 'colsample_bytree': 0.4, 'subsample': 0.9, 'learning_rate': 0.1, 'n_estimators': 1500, 'max_depth': 11, 'min_child_weight': 196}. Best is trial 134 with value: 0.797312373225152.\u001b[0m\n"
     ]
    },
    {
     "name": "stderr",
     "output_type": "stream",
     "text": [
      "\u001b[32m[I 2021-12-06 11:42:05,631]\u001b[0m Trial 168 finished with value: 0.7877646793480824 and parameters: {'lambda': 9.830463241721374, 'alpha': 0.009098988882396832, 'colsample_bytree': 0.4, 'subsample': 0.9, 'learning_rate': 1, 'n_estimators': 1500, 'max_depth': 11, 'min_child_weight': 228}. Best is trial 134 with value: 0.797312373225152.\u001b[0m\n",
      "\u001b[32m[I 2021-12-06 11:42:12,597]\u001b[0m Trial 169 finished with value: 0.773410670904288 and parameters: {'lambda': 7.140129295402083, 'alpha': 0.011846375631375652, 'colsample_bytree': 0.4, 'subsample': 0.8, 'learning_rate': 0.0001, 'n_estimators': 1500, 'max_depth': 12, 'min_child_weight': 201}. Best is trial 134 with value: 0.797312373225152.\u001b[0m\n",
      "\u001b[32m[I 2021-12-06 11:42:20,360]\u001b[0m Trial 170 finished with value: 0.7956140325015331 and parameters: {'lambda': 6.353187192069437, 'alpha': 0.020042061663500584, 'colsample_bytree': 0.4, 'subsample': 0.9, 'learning_rate': 0.1, 'n_estimators': 1500, 'max_depth': 10, 'min_child_weight': 194}. Best is trial 134 with value: 0.797312373225152.\u001b[0m\n",
      "\u001b[32m[I 2021-12-06 11:42:24,683]\u001b[0m Trial 171 finished with value: 0.7961293132930798 and parameters: {'lambda': 4.801840957217947, 'alpha': 0.007637497144616831, 'colsample_bytree': 0.4, 'subsample': 0.9, 'learning_rate': 0.1, 'n_estimators': 800, 'max_depth': 9, 'min_child_weight': 181}. Best is trial 134 with value: 0.797312373225152.\u001b[0m\n",
      "\u001b[32m[I 2021-12-06 11:42:30,964]\u001b[0m Trial 172 finished with value: 0.7967359161988773 and parameters: {'lambda': 5.229977321267888, 'alpha': 0.002339953860515175, 'colsample_bytree': 0.4, 'subsample': 0.9, 'learning_rate': 0.1, 'n_estimators': 1200, 'max_depth': 10, 'min_child_weight': 189}. Best is trial 134 with value: 0.797312373225152.\u001b[0m\n",
      "\u001b[32m[I 2021-12-06 11:42:34,618]\u001b[0m Trial 173 finished with value: 0.795402053162885 and parameters: {'lambda': 9.990392924568425, 'alpha': 0.0025781193456467606, 'colsample_bytree': 0.4, 'subsample': 0.9, 'learning_rate': 0.1, 'n_estimators': 700, 'max_depth': 10, 'min_child_weight': 189}. Best is trial 134 with value: 0.797312373225152.\u001b[0m\n",
      "\u001b[32m[I 2021-12-06 11:42:40,681]\u001b[0m Trial 174 finished with value: 0.7939075103778479 and parameters: {'lambda': 7.803183419559659, 'alpha': 0.001296496539691308, 'colsample_bytree': 0.2, 'subsample': 0.9, 'learning_rate': 0.1, 'n_estimators': 1500, 'max_depth': 11, 'min_child_weight': 208}. Best is trial 134 with value: 0.797312373225152.\u001b[0m\n",
      "\u001b[32m[I 2021-12-06 11:42:46,461]\u001b[0m Trial 175 finished with value: 0.7958623490494835 and parameters: {'lambda': 4.022713950828548, 'alpha': 0.0022572130228929277, 'colsample_bytree': 0.4, 'subsample': 1.0, 'learning_rate': 0.1, 'n_estimators': 1200, 'max_depth': 10, 'min_child_weight': 197}. Best is trial 134 with value: 0.797312373225152.\u001b[0m\n",
      "\u001b[32m[I 2021-12-06 11:42:55,984]\u001b[0m Trial 176 finished with value: 0.7958268226095571 and parameters: {'lambda': 5.69391701281664, 'alpha': 0.0016434806198688673, 'colsample_bytree': 0.7, 'subsample': 0.9, 'learning_rate': 0.1, 'n_estimators': 1200, 'max_depth': 12, 'min_child_weight': 185}. Best is trial 134 with value: 0.797312373225152.\u001b[0m\n",
      "\u001b[32m[I 2021-12-06 11:42:57,114]\u001b[0m Trial 177 finished with value: 0.7907335693900656 and parameters: {'lambda': 7.862567388572803, 'alpha': 0.004728253817883086, 'colsample_bytree': 0.4, 'subsample': 0.9, 'learning_rate': 0.1, 'n_estimators': 200, 'max_depth': 9, 'min_child_weight': 166}. Best is trial 134 with value: 0.797312373225152.\u001b[0m\n",
      "\u001b[32m[I 2021-12-06 11:43:04,417]\u001b[0m Trial 178 finished with value: 0.7968993230812773 and parameters: {'lambda': 6.241293414487698, 'alpha': 0.0027400195774908054, 'colsample_bytree': 0.4, 'subsample': 0.9, 'learning_rate': 0.1, 'n_estimators': 1400, 'max_depth': 11, 'min_child_weight': 190}. Best is trial 134 with value: 0.797312373225152.\u001b[0m\n",
      "\u001b[32m[I 2021-12-06 11:43:13,503]\u001b[0m Trial 179 finished with value: 0.7798395561111373 and parameters: {'lambda': 0.4205057822704936, 'alpha': 0.003012524740159778, 'colsample_bytree': 0.4, 'subsample': 0.9, 'learning_rate': 0.001, 'n_estimators': 1400, 'max_depth': 13, 'min_child_weight': 179}. Best is trial 134 with value: 0.797312373225152.\u001b[0m\n",
      "\u001b[32m[I 2021-12-06 11:43:24,564]\u001b[0m Trial 180 finished with value: 0.7909352298457473 and parameters: {'lambda': 6.615878271534797, 'alpha': 0.0034789130849191873, 'colsample_bytree': 1.0, 'subsample': 0.6, 'learning_rate': 0.1, 'n_estimators': 1400, 'max_depth': 10, 'min_child_weight': 190}. Best is trial 134 with value: 0.797312373225152.\u001b[0m\n",
      "\u001b[32m[I 2021-12-06 11:43:31,869]\u001b[0m Trial 181 finished with value: 0.7953110995801689 and parameters: {'lambda': 4.6140922286474195, 'alpha': 0.0018585011870838693, 'colsample_bytree': 0.4, 'subsample': 0.9, 'learning_rate': 0.1, 'n_estimators': 1400, 'max_depth': 11, 'min_child_weight': 194}. Best is trial 134 with value: 0.797312373225152.\u001b[0m\n",
      "\u001b[32m[I 2021-12-06 11:43:32,460]\u001b[0m Trial 182 finished with value: 0.7861450569602341 and parameters: {'lambda': 5.464248786595673, 'alpha': 0.002330152903115922, 'colsample_bytree': 0.4, 'subsample': 0.9, 'learning_rate': 0.1, 'n_estimators': 100, 'max_depth': 12, 'min_child_weight': 186}. Best is trial 134 with value: 0.797312373225152.\u001b[0m\n",
      "\u001b[32m[I 2021-12-06 11:43:38,524]\u001b[0m Trial 183 finished with value: 0.7950570339402802 and parameters: {'lambda': 8.284726827681663, 'alpha': 0.00391401591418171, 'colsample_bytree': 0.4, 'subsample': 0.9, 'learning_rate': 0.1, 'n_estimators': 1200, 'max_depth': 11, 'min_child_weight': 202}. Best is trial 134 with value: 0.797312373225152.\u001b[0m\n",
      "\u001b[32m[I 2021-12-06 11:43:45,542]\u001b[0m Trial 184 finished with value: 0.7969413356762112 and parameters: {'lambda': 6.423615297491036, 'alpha': 0.010054185875892416, 'colsample_bytree': 0.4, 'subsample': 0.9, 'learning_rate': 0.1, 'n_estimators': 1300, 'max_depth': 9, 'min_child_weight': 181}. Best is trial 134 with value: 0.797312373225152.\u001b[0m\n",
      "\u001b[32m[I 2021-12-06 11:43:52,538]\u001b[0m Trial 185 finished with value: 0.7968133078211236 and parameters: {'lambda': 6.620272854257354, 'alpha': 0.0053514846179190485, 'colsample_bytree': 0.4, 'subsample': 0.9, 'learning_rate': 0.1, 'n_estimators': 1300, 'max_depth': 9, 'min_child_weight': 179}. Best is trial 134 with value: 0.797312373225152.\u001b[0m\n",
      "\u001b[32m[I 2021-12-06 11:43:59,385]\u001b[0m Trial 186 finished with value: 0.797019832893061 and parameters: {'lambda': 9.988674063142106, 'alpha': 0.00589930579108897, 'colsample_bytree': 0.4, 'subsample': 0.9, 'learning_rate': 0.1, 'n_estimators': 1300, 'max_depth': 7, 'min_child_weight': 180}. Best is trial 134 with value: 0.797312373225152.\u001b[0m\n",
      "\u001b[32m[I 2021-12-06 11:44:10,117]\u001b[0m Trial 187 finished with value: 0.7942017459549979 and parameters: {'lambda': 9.83715063380182, 'alpha': 0.005721772343709567, 'colsample_bytree': 0.9, 'subsample': 0.9, 'learning_rate': 0.1, 'n_estimators': 1300, 'max_depth': 7, 'min_child_weight': 179}. Best is trial 134 with value: 0.797312373225152.\u001b[0m\n",
      "\u001b[32m[I 2021-12-06 11:44:16,853]\u001b[0m Trial 188 finished with value: 0.7941743272088306 and parameters: {'lambda': 7.164657003890216, 'alpha': 0.00458179738964511, 'colsample_bytree': 0.4, 'subsample': 0.7, 'learning_rate': 0.1, 'n_estimators': 1300, 'max_depth': 8, 'min_child_weight': 171}. Best is trial 134 with value: 0.797312373225152.\u001b[0m\n",
      "\u001b[32m[I 2021-12-06 11:44:27,635]\u001b[0m Trial 189 finished with value: 0.7911908433180811 and parameters: {'lambda': 8.628655411086479, 'alpha': 0.0028019992256259193, 'colsample_bytree': 0.8, 'subsample': 0.9, 'learning_rate': 0.2, 'n_estimators': 1300, 'max_depth': 7, 'min_child_weight': 161}. Best is trial 134 with value: 0.797312373225152.\u001b[0m\n",
      "\u001b[32m[I 2021-12-06 11:44:32,965]\u001b[0m Trial 190 finished with value: 0.7823722522288787 and parameters: {'lambda': 6.312373498204219, 'alpha': 0.006931996160264435, 'colsample_bytree': 0.4, 'subsample': 0.4, 'learning_rate': 0.1, 'n_estimators': 1300, 'max_depth': 6, 'min_child_weight': 181}. Best is trial 134 with value: 0.797312373225152.\u001b[0m\n",
      "\u001b[32m[I 2021-12-06 11:44:39,775]\u001b[0m Trial 191 finished with value: 0.7957657200811359 and parameters: {'lambda': 7.829111737184804, 'alpha': 0.005355359748046853, 'colsample_bytree': 0.4, 'subsample': 0.9, 'learning_rate': 0.1, 'n_estimators': 1300, 'max_depth': 9, 'min_child_weight': 187}. Best is trial 134 with value: 0.797312373225152.\u001b[0m\n"
     ]
    },
    {
     "name": "stderr",
     "output_type": "stream",
     "text": [
      "\u001b[32m[I 2021-12-06 11:44:46,666]\u001b[0m Trial 192 finished with value: 0.7967125512995896 and parameters: {'lambda': 6.048152909207283, 'alpha': 0.012589152752454723, 'colsample_bytree': 0.4, 'subsample': 0.9, 'learning_rate': 0.1, 'n_estimators': 1300, 'max_depth': 9, 'min_child_weight': 184}. Best is trial 134 with value: 0.797312373225152.\u001b[0m\n",
      "\u001b[32m[I 2021-12-06 11:44:53,680]\u001b[0m Trial 193 finished with value: 0.7964733006273881 and parameters: {'lambda': 0.007081627470790544, 'alpha': 0.012095762646303255, 'colsample_bytree': 0.4, 'subsample': 0.9, 'learning_rate': 0.1, 'n_estimators': 1300, 'max_depth': 9, 'min_child_weight': 177}. Best is trial 134 with value: 0.797312373225152.\u001b[0m\n",
      "\u001b[32m[I 2021-12-06 11:45:02,109]\u001b[0m Trial 194 finished with value: 0.7964923905608754 and parameters: {'lambda': 9.79159584746845, 'alpha': 0.008759350725389959, 'colsample_bytree': 0.4, 'subsample': 0.9, 'learning_rate': 0.1, 'n_estimators': 1300, 'max_depth': 8, 'min_child_weight': 169}. Best is trial 134 with value: 0.797312373225152.\u001b[0m\n",
      "\u001b[32m[I 2021-12-06 11:45:09,618]\u001b[0m Trial 195 finished with value: 0.7959121008066418 and parameters: {'lambda': 6.303463921751573, 'alpha': 0.016494936852463577, 'colsample_bytree': 0.4, 'subsample': 0.9, 'learning_rate': 0.1, 'n_estimators': 1300, 'max_depth': 9, 'min_child_weight': 191}. Best is trial 134 with value: 0.797312373225152.\u001b[0m\n",
      "\u001b[32m[I 2021-12-06 11:45:15,752]\u001b[0m Trial 196 finished with value: 0.7863083164300202 and parameters: {'lambda': 7.312468730372031, 'alpha': 0.013124605624226803, 'colsample_bytree': 0.3, 'subsample': 0.9, 'learning_rate': 0.01, 'n_estimators': 1300, 'max_depth': 5, 'min_child_weight': 183}. Best is trial 134 with value: 0.797312373225152.\u001b[0m\n",
      "\u001b[32m[I 2021-12-06 11:45:22,721]\u001b[0m Trial 197 finished with value: 0.7977840198830134 and parameters: {'lambda': 8.49395838886118, 'alpha': 0.0064863432673352575, 'colsample_bytree': 0.4, 'subsample': 0.9, 'learning_rate': 0.1, 'n_estimators': 1300, 'max_depth': 10, 'min_child_weight': 180}. Best is trial 197 with value: 0.7977840198830134.\u001b[0m\n",
      "\u001b[32m[I 2021-12-06 11:45:29,748]\u001b[0m Trial 198 finished with value: 0.79691163203453 and parameters: {'lambda': 7.833656670881419, 'alpha': 0.006062524356174548, 'colsample_bytree': 0.4, 'subsample': 0.9, 'learning_rate': 0.1, 'n_estimators': 1300, 'max_depth': 10, 'min_child_weight': 173}. Best is trial 197 with value: 0.7977840198830134.\u001b[0m\n",
      "\u001b[32m[I 2021-12-06 11:45:34,348]\u001b[0m Trial 199 finished with value: 0.7793238330817491 and parameters: {'lambda': 7.94430799192613, 'alpha': 0.006153116242567966, 'colsample_bytree': 0.4, 'subsample': 0.3, 'learning_rate': 0.1, 'n_estimators': 1300, 'max_depth': 10, 'min_child_weight': 176}. Best is trial 197 with value: 0.7977840198830134.\u001b[0m\n"
     ]
    },
    {
     "name": "stdout",
     "output_type": "stream",
     "text": [
      "Number of finished trials: 200\n",
      "Best trial: {'lambda': 8.49395838886118, 'alpha': 0.0064863432673352575, 'colsample_bytree': 0.4, 'subsample': 0.9, 'learning_rate': 0.1, 'n_estimators': 1300, 'max_depth': 10, 'min_child_weight': 180}\n"
     ]
    }
   ],
   "source": [
    "xgb_params = study_model(objective_xgb)"
   ]
  },
  {
   "cell_type": "code",
   "execution_count": 144,
   "metadata": {
    "scrolled": true
   },
   "outputs": [
    {
     "data": {
      "text/plain": [
       "{'lambda': 8.49395838886118,\n",
       " 'alpha': 0.0064863432673352575,\n",
       " 'colsample_bytree': 0.4,\n",
       " 'subsample': 0.9,\n",
       " 'learning_rate': 0.1,\n",
       " 'n_estimators': 1300,\n",
       " 'max_depth': 10,\n",
       " 'min_child_weight': 180}"
      ]
     },
     "execution_count": 144,
     "metadata": {},
     "output_type": "execute_result"
    }
   ],
   "source": [
    "xgb_params "
   ]
  },
  {
   "cell_type": "code",
   "execution_count": 145,
   "metadata": {},
   "outputs": [],
   "source": [
    "def objective_cbc(trial):\n",
    "    param = {\n",
    "        'logging_level': 'Silent',\n",
    "        'reg_lambda': trial.suggest_loguniform(\n",
    "            'reg_lambda', 1e-3, 10.0\n",
    "        ),\n",
    "        'colsample_bylevel': trial.suggest_categorical(\n",
    "            'colsample_bylevel', [0.2, 0.3, 0.4, 0.5, 0.6, 0.7, 0.8, 0.9, 1.0]\n",
    "        ),\n",
    "        'subsample': trial.suggest_categorical(\n",
    "            'subsample', [0.2, 0.3, 0.4, 0.5, 0.6, 0.7, 0.8, 0.9, 1.0]\n",
    "        ),\n",
    "        'learning_rate': trial.suggest_categorical(\n",
    "            'learning_rate', [0.0001, 0.001, 0.01, 0.1, 0.2, 0.5, 1]\n",
    "        ),\n",
    "        'n_estimators': trial.suggest_categorical(\n",
    "            \"n_estimators\", [100, 200, 300, 400, 500, 600, 700, 800, 900, 1000, 1100, 1200, 1300, 1400, 1500]\n",
    "        ),\n",
    "        'max_depth': trial.suggest_int(\n",
    "            'max_depth', 1, 16\n",
    "        ),\n",
    "    }\n",
    "    model = CatBoostClassifier(**param)\n",
    "    \n",
    "    model.fit(X_train, y_train, eval_set = [(X_val, y_val)], verbose = False)\n",
    "    \n",
    "    y_pred = model.predict_proba(X_val)[:,1]\n",
    "    \n",
    "    score = roc_auc_score(y_val, y_pred)\n",
    "    return score "
   ]
  },
  {
   "cell_type": "code",
   "execution_count": 146,
   "metadata": {
    "scrolled": true
   },
   "outputs": [
    {
     "name": "stderr",
     "output_type": "stream",
     "text": [
      "\u001b[32m[I 2021-12-06 11:45:34,424]\u001b[0m A new study created in memory with name: no-name-5c9ee543-61ab-43f9-8202-55b324ebcfba\u001b[0m\n",
      "\u001b[32m[I 2021-12-06 11:45:38,312]\u001b[0m Trial 0 finished with value: 0.7877817792112835 and parameters: {'reg_lambda': 0.2704803789339791, 'colsample_bylevel': 0.5, 'subsample': 0.2, 'learning_rate': 0.01, 'n_estimators': 900, 'max_depth': 5}. Best is trial 0 with value: 0.7877817792112835.\u001b[0m\n",
      "\u001b[32m[I 2021-12-06 11:45:43,092]\u001b[0m Trial 1 finished with value: 0.782979739610359 and parameters: {'reg_lambda': 0.15281478774643015, 'colsample_bylevel': 0.5, 'subsample': 1.0, 'learning_rate': 0.0001, 'n_estimators': 300, 'max_depth': 10}. Best is trial 0 with value: 0.7877817792112835.\u001b[0m\n",
      "\u001b[32m[I 2021-12-06 11:48:19,617]\u001b[0m Trial 2 finished with value: 0.7858009959196187 and parameters: {'reg_lambda': 0.03557167226790998, 'colsample_bylevel': 1.0, 'subsample': 0.8, 'learning_rate': 0.01, 'n_estimators': 1300, 'max_depth': 13}. Best is trial 0 with value: 0.7877817792112835.\u001b[0m\n",
      "\u001b[32m[I 2021-12-06 11:48:48,784]\u001b[0m Trial 3 finished with value: 0.7091316954809189 and parameters: {'reg_lambda': 0.6545825294447222, 'colsample_bylevel': 0.6, 'subsample': 0.4, 'learning_rate': 1, 'n_estimators': 600, 'max_depth': 12}. Best is trial 0 with value: 0.7877817792112835.\u001b[0m\n",
      "\u001b[32m[I 2021-12-06 11:48:55,512]\u001b[0m Trial 4 finished with value: 0.7819400384452098 and parameters: {'reg_lambda': 2.6526980869908092, 'colsample_bylevel': 0.7, 'subsample': 0.3, 'learning_rate': 0.001, 'n_estimators': 1300, 'max_depth': 6}. Best is trial 0 with value: 0.7877817792112835.\u001b[0m\n",
      "\u001b[32m[I 2021-12-06 11:48:58,485]\u001b[0m Trial 5 finished with value: 0.7804320811123165 and parameters: {'reg_lambda': 0.009155575783900635, 'colsample_bylevel': 0.8, 'subsample': 0.6, 'learning_rate': 0.0001, 'n_estimators': 300, 'max_depth': 7}. Best is trial 0 with value: 0.7877817792112835.\u001b[0m\n",
      "\u001b[32m[I 2021-12-06 11:49:03,159]\u001b[0m Trial 6 finished with value: 0.792191259021652 and parameters: {'reg_lambda': 5.28935211083879, 'colsample_bylevel': 0.8, 'subsample': 1.0, 'learning_rate': 0.2, 'n_estimators': 1200, 'max_depth': 4}. Best is trial 6 with value: 0.792191259021652.\u001b[0m\n",
      "\u001b[32m[I 2021-12-06 11:49:20,310]\u001b[0m Trial 7 finished with value: 0.7836540049058918 and parameters: {'reg_lambda': 0.232806091991672, 'colsample_bylevel': 0.4, 'subsample': 0.6, 'learning_rate': 0.5, 'n_estimators': 1300, 'max_depth': 8}. Best is trial 6 with value: 0.792191259021652.\u001b[0m\n",
      "\u001b[32m[I 2021-12-06 11:49:30,371]\u001b[0m Trial 8 finished with value: 0.7828507535732818 and parameters: {'reg_lambda': 0.02045349838193106, 'colsample_bylevel': 0.2, 'subsample': 0.5, 'learning_rate': 0.001, 'n_estimators': 1200, 'max_depth': 7}. Best is trial 6 with value: 0.792191259021652.\u001b[0m\n",
      "\u001b[32m[I 2021-12-06 11:49:38,948]\u001b[0m Trial 9 finished with value: 0.7839698364309637 and parameters: {'reg_lambda': 0.00468442863904739, 'colsample_bylevel': 0.4, 'subsample': 0.7, 'learning_rate': 0.1, 'n_estimators': 900, 'max_depth': 7}. Best is trial 6 with value: 0.792191259021652.\u001b[0m\n",
      "\u001b[32m[I 2021-12-06 11:49:41,233]\u001b[0m Trial 10 finished with value: 0.7878425132081702 and parameters: {'reg_lambda': 9.561200849003669, 'colsample_bylevel': 0.8, 'subsample': 1.0, 'learning_rate': 0.2, 'n_estimators': 800, 'max_depth': 1}. Best is trial 6 with value: 0.792191259021652.\u001b[0m\n",
      "\u001b[32m[I 2021-12-06 11:49:43,470]\u001b[0m Trial 11 finished with value: 0.7876168982027454 and parameters: {'reg_lambda': 3.8020482481046747, 'colsample_bylevel': 0.8, 'subsample': 1.0, 'learning_rate': 0.2, 'n_estimators': 800, 'max_depth': 1}. Best is trial 6 with value: 0.792191259021652.\u001b[0m\n",
      "\u001b[32m[I 2021-12-06 11:49:45,723]\u001b[0m Trial 12 finished with value: 0.7876600163922827 and parameters: {'reg_lambda': 9.665658522333423, 'colsample_bylevel': 0.3, 'subsample': 1.0, 'learning_rate': 0.2, 'n_estimators': 800, 'max_depth': 1}. Best is trial 6 with value: 0.792191259021652.\u001b[0m\n",
      "\u001b[32m[I 2021-12-06 11:49:50,290]\u001b[0m Trial 13 finished with value: 0.7868650201660455 and parameters: {'reg_lambda': 0.0011186402865629227, 'colsample_bylevel': 0.8, 'subsample': 0.9, 'learning_rate': 0.2, 'n_estimators': 1200, 'max_depth': 4}. Best is trial 6 with value: 0.792191259021652.\u001b[0m\n",
      "\u001b[32m[I 2021-12-06 11:49:52,466]\u001b[0m Trial 14 finished with value: 0.7911817774423322 and parameters: {'reg_lambda': 1.1619985816211145, 'colsample_bylevel': 0.9, 'subsample': 1.0, 'learning_rate': 0.2, 'n_estimators': 500, 'max_depth': 3}. Best is trial 6 with value: 0.792191259021652.\u001b[0m\n",
      "\u001b[32m[I 2021-12-06 12:02:39,056]\u001b[0m Trial 15 finished with value: 0.7792681848200387 and parameters: {'reg_lambda': 1.3565669365833897, 'colsample_bylevel': 0.9, 'subsample': 1.0, 'learning_rate': 0.2, 'n_estimators': 500, 'max_depth': 16}. Best is trial 6 with value: 0.792191259021652.\u001b[0m\n",
      "\u001b[32m[I 2021-12-06 12:02:44,075]\u001b[0m Trial 16 finished with value: 0.7875822562385018 and parameters: {'reg_lambda': 0.7124663345053862, 'colsample_bylevel': 0.9, 'subsample': 0.2, 'learning_rate': 0.5, 'n_estimators': 1500, 'max_depth': 4}. Best is trial 6 with value: 0.792191259021652.\u001b[0m\n",
      "\u001b[32m[I 2021-12-06 12:02:46,173]\u001b[0m Trial 17 finished with value: 0.7905530626444643 and parameters: {'reg_lambda': 1.9685840316828198, 'colsample_bylevel': 0.9, 'subsample': 0.3, 'learning_rate': 0.1, 'n_estimators': 500, 'max_depth': 3}. Best is trial 6 with value: 0.792191259021652.\u001b[0m\n",
      "\u001b[32m[I 2021-12-06 12:02:48,679]\u001b[0m Trial 18 finished with value: 0.7778549400915138 and parameters: {'reg_lambda': 0.06032889868821173, 'colsample_bylevel': 0.2, 'subsample': 0.5, 'learning_rate': 1, 'n_estimators': 700, 'max_depth': 3}. Best is trial 6 with value: 0.792191259021652.\u001b[0m\n",
      "\u001b[32m[I 2021-12-06 12:02:52,597]\u001b[0m Trial 19 finished with value: 0.78628620453795 and parameters: {'reg_lambda': 0.5487082452363439, 'colsample_bylevel': 0.7, 'subsample': 0.4, 'learning_rate': 0.2, 'n_estimators': 200, 'max_depth': 10}. Best is trial 6 with value: 0.792191259021652.\u001b[0m\n",
      "\u001b[32m[I 2021-12-06 12:02:54,201]\u001b[0m Trial 20 finished with value: 0.7918623077739516 and parameters: {'reg_lambda': 4.773560007964942, 'colsample_bylevel': 1.0, 'subsample': 0.7, 'learning_rate': 0.2, 'n_estimators': 400, 'max_depth': 2}. Best is trial 6 with value: 0.792191259021652.\u001b[0m\n",
      "\u001b[32m[I 2021-12-06 12:02:56,011]\u001b[0m Trial 21 finished with value: 0.7930769140053776 and parameters: {'reg_lambda': 4.714263743232235, 'colsample_bylevel': 1.0, 'subsample': 0.7, 'learning_rate': 0.2, 'n_estimators': 400, 'max_depth': 3}. Best is trial 21 with value: 0.7930769140053776.\u001b[0m\n",
      "\u001b[32m[I 2021-12-06 12:02:57,630]\u001b[0m Trial 22 finished with value: 0.7923657218500872 and parameters: {'reg_lambda': 5.608080425102838, 'colsample_bylevel': 1.0, 'subsample': 0.7, 'learning_rate': 0.2, 'n_estimators': 400, 'max_depth': 2}. Best is trial 21 with value: 0.7930769140053776.\u001b[0m\n",
      "\u001b[32m[I 2021-12-06 12:02:59,785]\u001b[0m Trial 23 finished with value: 0.7909039783716213 and parameters: {'reg_lambda': 3.820475092181488, 'colsample_bylevel': 1.0, 'subsample': 0.7, 'learning_rate': 0.2, 'n_estimators': 400, 'max_depth': 5}. Best is trial 21 with value: 0.7930769140053776.\u001b[0m\n",
      "\u001b[32m[I 2021-12-06 12:03:05,332]\u001b[0m Trial 24 finished with value: 0.7930465470069343 and parameters: {'reg_lambda': 7.489309253484275, 'colsample_bylevel': 1.0, 'subsample': 0.7, 'learning_rate': 0.2, 'n_estimators': 1400, 'max_depth': 5}. Best is trial 21 with value: 0.7930769140053776.\u001b[0m\n",
      "\u001b[32m[I 2021-12-06 12:03:09,543]\u001b[0m Trial 25 finished with value: 0.7926721926741828 and parameters: {'reg_lambda': 7.566181473564176, 'colsample_bylevel': 1.0, 'subsample': 0.7, 'learning_rate': 0.2, 'n_estimators': 1400, 'max_depth': 2}. Best is trial 21 with value: 0.7930769140053776.\u001b[0m\n",
      "\u001b[32m[I 2021-12-06 12:03:15,328]\u001b[0m Trial 26 finished with value: 0.7903935621963301 and parameters: {'reg_lambda': 1.7503800488713106, 'colsample_bylevel': 1.0, 'subsample': 0.7, 'learning_rate': 0.01, 'n_estimators': 1400, 'max_depth': 5}. Best is trial 21 with value: 0.7930769140053776.\u001b[0m\n",
      "\u001b[32m[I 2021-12-06 12:03:28,535]\u001b[0m Trial 27 finished with value: 0.7791935940374545 and parameters: {'reg_lambda': 9.774751035882952, 'colsample_bylevel': 1.0, 'subsample': 0.7, 'learning_rate': 1, 'n_estimators': 1400, 'max_depth': 9}. Best is trial 21 with value: 0.7930769140053776.\u001b[0m\n"
     ]
    },
    {
     "name": "stderr",
     "output_type": "stream",
     "text": [
      "\u001b[32m[I 2021-12-06 12:03:31,738]\u001b[0m Trial 28 finished with value: 0.7939252735978112 and parameters: {'reg_lambda': 0.3426358420921248, 'colsample_bylevel': 1.0, 'subsample': 0.7, 'learning_rate': 0.5, 'n_estimators': 1000, 'max_depth': 2}. Best is trial 28 with value: 0.7939252735978112.\u001b[0m\n",
      "\u001b[32m[I 2021-12-06 12:03:39,320]\u001b[0m Trial 29 finished with value: 0.7854786045332327 and parameters: {'reg_lambda': 0.3068827321805796, 'colsample_bylevel': 0.3, 'subsample': 0.8, 'learning_rate': 0.5, 'n_estimators': 1000, 'max_depth': 6}. Best is trial 28 with value: 0.7939252735978112.\u001b[0m\n",
      "\u001b[32m[I 2021-12-06 12:03:40,440]\u001b[0m Trial 30 finished with value: 0.7819372376055473 and parameters: {'reg_lambda': 0.1075891078811203, 'colsample_bylevel': 0.6, 'subsample': 0.9, 'learning_rate': 0.5, 'n_estimators': 100, 'max_depth': 5}. Best is trial 28 with value: 0.7939252735978112.\u001b[0m\n",
      "\u001b[32m[I 2021-12-06 12:03:43,762]\u001b[0m Trial 31 finished with value: 0.7898870524553044 and parameters: {'reg_lambda': 0.9798126461473402, 'colsample_bylevel': 1.0, 'subsample': 0.7, 'learning_rate': 0.5, 'n_estimators': 1100, 'max_depth': 2}. Best is trial 28 with value: 0.7939252735978112.\u001b[0m\n",
      "\u001b[32m[I 2021-12-06 12:03:46,966]\u001b[0m Trial 32 finished with value: 0.7780842404122836 and parameters: {'reg_lambda': 0.3638444282213918, 'colsample_bylevel': 1.0, 'subsample': 0.7, 'learning_rate': 0.001, 'n_estimators': 1000, 'max_depth': 3}. Best is trial 28 with value: 0.7939252735978112.\u001b[0m\n",
      "\u001b[32m[I 2021-12-06 12:03:51,130]\u001b[0m Trial 33 finished with value: 0.7717586914477097 and parameters: {'reg_lambda': 2.2738789620306963, 'colsample_bylevel': 0.5, 'subsample': 0.7, 'learning_rate': 0.0001, 'n_estimators': 1400, 'max_depth': 2}. Best is trial 28 with value: 0.7939252735978112.\u001b[0m\n",
      "\u001b[32m[I 2021-12-06 12:03:56,163]\u001b[0m Trial 34 finished with value: 0.7881163321383083 and parameters: {'reg_lambda': 3.1150445695527944, 'colsample_bylevel': 1.0, 'subsample': 0.2, 'learning_rate': 0.01, 'n_estimators': 1400, 'max_depth': 4}. Best is trial 28 with value: 0.7939252735978112.\u001b[0m\n",
      "\u001b[32m[I 2021-12-06 12:03:59,063]\u001b[0m Trial 35 finished with value: 0.7863501079060333 and parameters: {'reg_lambda': 6.430795458869598, 'colsample_bylevel': 1.0, 'subsample': 0.7, 'learning_rate': 0.1, 'n_estimators': 1000, 'max_depth': 1}. Best is trial 28 with value: 0.7939252735978112.\u001b[0m\n",
      "\u001b[32m[I 2021-12-06 12:04:04,477]\u001b[0m Trial 36 finished with value: 0.7806021952686447 and parameters: {'reg_lambda': 0.16877060594961957, 'colsample_bylevel': 0.5, 'subsample': 0.8, 'learning_rate': 0.0001, 'n_estimators': 600, 'max_depth': 6}. Best is trial 28 with value: 0.7939252735978112.\u001b[0m\n",
      "\u001b[32m[I 2021-12-06 12:05:06,613]\u001b[0m Trial 37 finished with value: 0.7708293286239918 and parameters: {'reg_lambda': 0.044337605180267296, 'colsample_bylevel': 1.0, 'subsample': 0.7, 'learning_rate': 0.5, 'n_estimators': 1400, 'max_depth': 12}. Best is trial 28 with value: 0.7939252735978112.\u001b[0m\n",
      "\u001b[32m[I 2021-12-06 12:05:11,324]\u001b[0m Trial 38 finished with value: 0.7943907289258927 and parameters: {'reg_lambda': 2.7834026113558537, 'colsample_bylevel': 1.0, 'subsample': 0.6, 'learning_rate': 0.2, 'n_estimators': 1500, 'max_depth': 3}. Best is trial 38 with value: 0.7943907289258927.\u001b[0m\n",
      "\u001b[32m[I 2021-12-06 12:05:23,612]\u001b[0m Trial 39 finished with value: 0.7914042230765603 and parameters: {'reg_lambda': 0.5151359382295305, 'colsample_bylevel': 0.6, 'subsample': 0.6, 'learning_rate': 0.01, 'n_estimators': 1500, 'max_depth': 6}. Best is trial 38 with value: 0.7943907289258927.\u001b[0m\n",
      "\u001b[32m[I 2021-12-06 12:05:28,854]\u001b[0m Trial 40 finished with value: 0.7796597127222983 and parameters: {'reg_lambda': 2.9771132515200334, 'colsample_bylevel': 0.4, 'subsample': 0.6, 'learning_rate': 0.001, 'n_estimators': 1500, 'max_depth': 4}. Best is trial 38 with value: 0.7943907289258927.\u001b[0m\n",
      "\u001b[32m[I 2021-12-06 12:05:30,433]\u001b[0m Trial 41 finished with value: 0.7915177307891882 and parameters: {'reg_lambda': 6.601259765479181, 'colsample_bylevel': 1.0, 'subsample': 0.6, 'learning_rate': 0.2, 'n_estimators': 300, 'max_depth': 3}. Best is trial 38 with value: 0.7943907289258927.\u001b[0m\n",
      "\u001b[32m[I 2021-12-06 12:05:33,664]\u001b[0m Trial 42 finished with value: 0.7923904134628993 and parameters: {'reg_lambda': 1.9205450295096764, 'colsample_bylevel': 1.0, 'subsample': 0.4, 'learning_rate': 0.2, 'n_estimators': 1100, 'max_depth': 2}. Best is trial 38 with value: 0.7943907289258927.\u001b[0m\n",
      "\u001b[32m[I 2021-12-06 12:05:36,185]\u001b[0m Trial 43 finished with value: 0.7868526375064862 and parameters: {'reg_lambda': 0.9710634003559128, 'colsample_bylevel': 0.7, 'subsample': 0.3, 'learning_rate': 0.2, 'n_estimators': 900, 'max_depth': 1}. Best is trial 38 with value: 0.7943907289258927.\u001b[0m\n",
      "\u001b[32m[I 2021-12-06 12:05:37,149]\u001b[0m Trial 44 finished with value: 0.7891368696636635 and parameters: {'reg_lambda': 6.272184122291579, 'colsample_bylevel': 1.0, 'subsample': 0.7, 'learning_rate': 0.2, 'n_estimators': 100, 'max_depth': 5}. Best is trial 38 with value: 0.7943907289258927.\u001b[0m\n",
      "\u001b[32m[I 2021-12-06 12:05:56,155]\u001b[0m Trial 45 finished with value: 0.7891297201518939 and parameters: {'reg_lambda': 3.6126149528654374, 'colsample_bylevel': 0.2, 'subsample': 0.6, 'learning_rate': 0.2, 'n_estimators': 1300, 'max_depth': 8}. Best is trial 38 with value: 0.7943907289258927.\u001b[0m\n",
      "\u001b[32m[I 2021-12-06 12:05:57,276]\u001b[0m Trial 46 finished with value: 0.788693599933959 and parameters: {'reg_lambda': 0.022300152280001168, 'colsample_bylevel': 1.0, 'subsample': 0.5, 'learning_rate': 1, 'n_estimators': 200, 'max_depth': 3}. Best is trial 38 with value: 0.7943907289258927.\u001b[0m\n",
      "\u001b[32m[I 2021-12-06 12:06:01,720]\u001b[0m Trial 47 finished with value: 0.7912801753620453 and parameters: {'reg_lambda': 8.181882346548802, 'colsample_bylevel': 0.3, 'subsample': 0.7, 'learning_rate': 0.2, 'n_estimators': 1500, 'max_depth': 2}. Best is trial 38 with value: 0.7943907289258927.\u001b[0m\n",
      "\u001b[32m[I 2021-12-06 12:06:04,540]\u001b[0m Trial 48 finished with value: 0.7788104686541819 and parameters: {'reg_lambda': 1.421116169039385, 'colsample_bylevel': 1.0, 'subsample': 0.9, 'learning_rate': 0.0001, 'n_estimators': 700, 'max_depth': 4}. Best is trial 38 with value: 0.7943907289258927.\u001b[0m\n",
      "\u001b[32m[I 2021-12-06 12:11:49,393]\u001b[0m Trial 49 finished with value: 0.7215140602151046 and parameters: {'reg_lambda': 0.004934049361956104, 'colsample_bylevel': 0.4, 'subsample': 0.2, 'learning_rate': 0.5, 'n_estimators': 1000, 'max_depth': 15}. Best is trial 38 with value: 0.7943907289258927.\u001b[0m\n",
      "\u001b[32m[I 2021-12-06 12:11:52,099]\u001b[0m Trial 50 finished with value: 0.7898240335629039 and parameters: {'reg_lambda': 4.502158268929506, 'colsample_bylevel': 1.0, 'subsample': 0.7, 'learning_rate': 0.1, 'n_estimators': 400, 'max_depth': 7}. Best is trial 38 with value: 0.7943907289258927.\u001b[0m\n",
      "\u001b[32m[I 2021-12-06 12:11:55,419]\u001b[0m Trial 51 finished with value: 0.7930248773527053 and parameters: {'reg_lambda': 2.1481941310677364, 'colsample_bylevel': 1.0, 'subsample': 0.4, 'learning_rate': 0.2, 'n_estimators': 1100, 'max_depth': 2}. Best is trial 38 with value: 0.7943907289258927.\u001b[0m\n",
      "\u001b[32m[I 2021-12-06 12:11:58,326]\u001b[0m Trial 52 finished with value: 0.7878821672012831 and parameters: {'reg_lambda': 2.5761956096142438, 'colsample_bylevel': 1.0, 'subsample': 0.4, 'learning_rate': 0.2, 'n_estimators': 1100, 'max_depth': 1}. Best is trial 38 with value: 0.7943907289258927.\u001b[0m\n",
      "\u001b[32m[I 2021-12-06 12:12:01,723]\u001b[0m Trial 53 finished with value: 0.7901434766970139 and parameters: {'reg_lambda': 0.8045469378361771, 'colsample_bylevel': 1.0, 'subsample': 0.4, 'learning_rate': 0.2, 'n_estimators': 1100, 'max_depth': 3}. Best is trial 38 with value: 0.7943907289258927.\u001b[0m\n",
      "\u001b[32m[I 2021-12-06 12:12:03,823]\u001b[0m Trial 54 finished with value: 0.7932403945940847 and parameters: {'reg_lambda': 4.718992182010309, 'colsample_bylevel': 1.0, 'subsample': 0.4, 'learning_rate': 0.2, 'n_estimators': 600, 'max_depth': 2}. Best is trial 38 with value: 0.7943907289258927.\u001b[0m\n",
      "\u001b[32m[I 2021-12-06 12:12:05,481]\u001b[0m Trial 55 finished with value: 0.7863306494410114 and parameters: {'reg_lambda': 1.3146939387592962, 'colsample_bylevel': 0.8, 'subsample': 0.4, 'learning_rate': 0.2, 'n_estimators': 600, 'max_depth': 1}. Best is trial 38 with value: 0.7943907289258927.\u001b[0m\n"
     ]
    },
    {
     "name": "stderr",
     "output_type": "stream",
     "text": [
      "\u001b[32m[I 2021-12-06 12:12:09,078]\u001b[0m Trial 56 finished with value: 0.791291673545922 and parameters: {'reg_lambda': 4.5601962903200475, 'colsample_bylevel': 0.5, 'subsample': 0.4, 'learning_rate': 0.2, 'n_estimators': 600, 'max_depth': 4}. Best is trial 38 with value: 0.7943907289258927.\u001b[0m\n",
      "\u001b[32m[I 2021-12-06 12:12:20,170]\u001b[0m Trial 57 finished with value: 0.7787456071041086 and parameters: {'reg_lambda': 2.503349621758085, 'colsample_bylevel': 0.7, 'subsample': 0.4, 'learning_rate': 0.001, 'n_estimators': 1200, 'max_depth': 3}. Best is trial 38 with value: 0.7943907289258927.\u001b[0m\n",
      "\u001b[32m[I 2021-12-06 12:12:22,455]\u001b[0m Trial 58 finished with value: 0.7877141168215482 and parameters: {'reg_lambda': 0.49897301821620105, 'colsample_bylevel': 0.2, 'subsample': 0.3, 'learning_rate': 0.2, 'n_estimators': 600, 'max_depth': 2}. Best is trial 38 with value: 0.7943907289258927.\u001b[0m\n",
      "\u001b[32m[I 2021-12-06 12:12:24,676]\u001b[0m Trial 59 finished with value: 0.7906521239209396 and parameters: {'reg_lambda': 1.951507305537867, 'colsample_bylevel': 1.0, 'subsample': 0.4, 'learning_rate': 0.2, 'n_estimators': 400, 'max_depth': 4}. Best is trial 38 with value: 0.7943907289258927.\u001b[0m\n",
      "\u001b[32m[I 2021-12-06 12:12:27,641]\u001b[0m Trial 60 finished with value: 0.7892897365441767 and parameters: {'reg_lambda': 3.4177841354596104, 'colsample_bylevel': 0.6, 'subsample': 0.6, 'learning_rate': 0.5, 'n_estimators': 800, 'max_depth': 1}. Best is trial 38 with value: 0.7943907289258927.\u001b[0m\n",
      "\u001b[32m[I 2021-12-06 12:12:31,955]\u001b[0m Trial 61 finished with value: 0.7934461088966461 and parameters: {'reg_lambda': 7.595717578919711, 'colsample_bylevel': 1.0, 'subsample': 0.5, 'learning_rate': 0.2, 'n_estimators': 1400, 'max_depth': 2}. Best is trial 38 with value: 0.7943907289258927.\u001b[0m\n",
      "\u001b[32m[I 2021-12-06 12:12:33,244]\u001b[0m Trial 62 finished with value: 0.7927210599556582 and parameters: {'reg_lambda': 4.366116362479232, 'colsample_bylevel': 1.0, 'subsample': 0.5, 'learning_rate': 0.2, 'n_estimators': 300, 'max_depth': 2}. Best is trial 38 with value: 0.7943907289258927.\u001b[0m\n",
      "\u001b[32m[I 2021-12-06 12:12:36,316]\u001b[0m Trial 63 finished with value: 0.7910119581112317 and parameters: {'reg_lambda': 8.595416111071737, 'colsample_bylevel': 1.0, 'subsample': 0.5, 'learning_rate': 0.2, 'n_estimators': 900, 'max_depth': 3}. Best is trial 38 with value: 0.7943907289258927.\u001b[0m\n",
      "\u001b[32m[I 2021-12-06 12:12:49,056]\u001b[0m Trial 64 finished with value: 0.7908836354309167 and parameters: {'reg_lambda': 5.598750493157933, 'colsample_bylevel': 0.9, 'subsample': 0.5, 'learning_rate': 0.2, 'n_estimators': 1400, 'max_depth': 3}. Best is trial 38 with value: 0.7943907289258927.\u001b[0m\n",
      "\u001b[32m[I 2021-12-06 12:12:54,447]\u001b[0m Trial 65 finished with value: 0.7831018709608943 and parameters: {'reg_lambda': 9.89059279256702, 'colsample_bylevel': 1.0, 'subsample': 0.5, 'learning_rate': 1, 'n_estimators': 1500, 'max_depth': 5}. Best is trial 38 with value: 0.7943907289258927.\u001b[0m\n",
      "\u001b[32m[I 2021-12-06 12:12:57,250]\u001b[0m Trial 66 finished with value: 0.7931309407283362 and parameters: {'reg_lambda': 1.6001267330195215, 'colsample_bylevel': 1.0, 'subsample': 1.0, 'learning_rate': 0.2, 'n_estimators': 1000, 'max_depth': 2}. Best is trial 38 with value: 0.7943907289258927.\u001b[0m\n",
      "\u001b[32m[I 2021-12-06 12:12:59,683]\u001b[0m Trial 67 finished with value: 0.7759222133119488 and parameters: {'reg_lambda': 0.2421554343197459, 'colsample_bylevel': 0.3, 'subsample': 1.0, 'learning_rate': 0.01, 'n_estimators': 1000, 'max_depth': 1}. Best is trial 38 with value: 0.7943907289258927.\u001b[0m\n",
      "\u001b[32m[I 2021-12-06 12:13:01,289]\u001b[0m Trial 68 finished with value: 0.7925636232841172 and parameters: {'reg_lambda': 0.1445945039499626, 'colsample_bylevel': 1.0, 'subsample': 1.0, 'learning_rate': 0.1, 'n_estimators': 500, 'max_depth': 2}. Best is trial 38 with value: 0.7943907289258927.\u001b[0m\n",
      "\u001b[32m[I 2021-12-06 12:13:06,984]\u001b[0m Trial 69 finished with value: 0.7925784382518043 and parameters: {'reg_lambda': 5.549546940635053, 'colsample_bylevel': 0.8, 'subsample': 1.0, 'learning_rate': 0.2, 'n_estimators': 1000, 'max_depth': 4}. Best is trial 38 with value: 0.7943907289258927.\u001b[0m\n",
      "\u001b[32m[I 2021-12-06 12:13:10,308]\u001b[0m Trial 70 finished with value: 0.7950052921128355 and parameters: {'reg_lambda': 1.5819766699614215, 'colsample_bylevel': 1.0, 'subsample': 0.8, 'learning_rate': 0.5, 'n_estimators': 1000, 'max_depth': 3}. Best is trial 70 with value: 0.7950052921128355.\u001b[0m\n",
      "\u001b[32m[I 2021-12-06 12:13:13,694]\u001b[0m Trial 71 finished with value: 0.7875395802868059 and parameters: {'reg_lambda': 3.3120176240626837, 'colsample_bylevel': 1.0, 'subsample': 0.8, 'learning_rate': 0.5, 'n_estimators': 1000, 'max_depth': 3}. Best is trial 70 with value: 0.7950052921128355.\u001b[0m\n",
      "\u001b[32m[I 2021-12-06 12:13:16,494]\u001b[0m Trial 72 finished with value: 0.7920787831973206 and parameters: {'reg_lambda': 1.4462286240090831, 'colsample_bylevel': 1.0, 'subsample': 0.8, 'learning_rate': 0.5, 'n_estimators': 1000, 'max_depth': 2}. Best is trial 70 with value: 0.7950052921128355.\u001b[0m\n",
      "\u001b[32m[I 2021-12-06 12:13:46,259]\u001b[0m Trial 73 finished with value: 0.7887035502853909 and parameters: {'reg_lambda': 1.6492055955258489, 'colsample_bylevel': 1.0, 'subsample': 0.8, 'learning_rate': 0.5, 'n_estimators': 1000, 'max_depth': 11}. Best is trial 70 with value: 0.7950052921128355.\u001b[0m\n",
      "\u001b[32m[I 2021-12-06 12:13:51,158]\u001b[0m Trial 74 finished with value: 0.78908866573895 and parameters: {'reg_lambda': 1.0772099877332617, 'colsample_bylevel': 1.0, 'subsample': 0.8, 'learning_rate': 0.5, 'n_estimators': 1400, 'max_depth': 4}. Best is trial 70 with value: 0.7950052921128355.\u001b[0m\n",
      "\u001b[32m[I 2021-12-06 12:13:58,209]\u001b[0m Trial 75 finished with value: 0.7737646822963348 and parameters: {'reg_lambda': 0.723036590508009, 'colsample_bylevel': 0.4, 'subsample': 0.9, 'learning_rate': 0.0001, 'n_estimators': 700, 'max_depth': 3}. Best is trial 70 with value: 0.7950052921128355.\u001b[0m\n",
      "\u001b[32m[I 2021-12-06 12:13:59,599]\u001b[0m Trial 76 finished with value: 0.7854149959903769 and parameters: {'reg_lambda': 2.7108662248866766, 'colsample_bylevel': 1.0, 'subsample': 1.0, 'learning_rate': 0.2, 'n_estimators': 400, 'max_depth': 1}. Best is trial 70 with value: 0.7950052921128355.\u001b[0m\n",
      "\u001b[32m[I 2021-12-06 12:14:03,076]\u001b[0m Trial 77 finished with value: 0.7923278368083401 and parameters: {'reg_lambda': 0.376443679542714, 'colsample_bylevel': 1.0, 'subsample': 0.7, 'learning_rate': 0.2, 'n_estimators': 1300, 'max_depth': 2}. Best is trial 70 with value: 0.7950052921128355.\u001b[0m\n",
      "\u001b[32m[I 2021-12-06 12:14:04,949]\u001b[0m Trial 78 finished with value: 0.7796042118732016 and parameters: {'reg_lambda': 7.117109474013304, 'colsample_bylevel': 0.7, 'subsample': 0.6, 'learning_rate': 0.001, 'n_estimators': 200, 'max_depth': 6}. Best is trial 70 with value: 0.7950052921128355.\u001b[0m\n",
      "\u001b[32m[I 2021-12-06 12:14:06,595]\u001b[0m Trial 79 finished with value: 0.7854629050898627 and parameters: {'reg_lambda': 3.983112337100455, 'colsample_bylevel': 0.9, 'subsample': 0.7, 'learning_rate': 0.5, 'n_estimators': 100, 'max_depth': 3}. Best is trial 70 with value: 0.7950052921128355.\u001b[0m\n",
      "\u001b[32m[I 2021-12-06 12:14:12,876]\u001b[0m Trial 80 finished with value: 0.7922356302184066 and parameters: {'reg_lambda': 6.932543493395538, 'colsample_bylevel': 0.5, 'subsample': 0.3, 'learning_rate': 0.2, 'n_estimators': 1400, 'max_depth': 5}. Best is trial 70 with value: 0.7950052921128355.\u001b[0m\n",
      "\u001b[32m[I 2021-12-06 12:14:15,926]\u001b[0m Trial 81 finished with value: 0.790115099768857 and parameters: {'reg_lambda': 2.0245409313107205, 'colsample_bylevel': 1.0, 'subsample': 0.2, 'learning_rate': 0.2, 'n_estimators': 1100, 'max_depth': 2}. Best is trial 70 with value: 0.7950052921128355.\u001b[0m\n",
      "\u001b[32m[I 2021-12-06 12:14:18,868]\u001b[0m Trial 82 finished with value: 0.7915731579319779 and parameters: {'reg_lambda': 5.0959581601409125, 'colsample_bylevel': 1.0, 'subsample': 0.4, 'learning_rate': 0.2, 'n_estimators': 1000, 'max_depth': 2}. Best is trial 70 with value: 0.7950052921128355.\u001b[0m\n",
      "\u001b[32m[I 2021-12-06 12:14:22,285]\u001b[0m Trial 83 finished with value: 0.7889489185810652 and parameters: {'reg_lambda': 0.0016230967498486867, 'colsample_bylevel': 1.0, 'subsample': 0.7, 'learning_rate': 0.2, 'n_estimators': 1500, 'max_depth': 1}. Best is trial 70 with value: 0.7950052921128355.\u001b[0m\n"
     ]
    },
    {
     "name": "stderr",
     "output_type": "stream",
     "text": [
      "\u001b[32m[I 2021-12-06 12:14:24,949]\u001b[0m Trial 84 finished with value: 0.7907387288315486 and parameters: {'reg_lambda': 2.277220120290381, 'colsample_bylevel': 1.0, 'subsample': 0.8, 'learning_rate': 0.2, 'n_estimators': 600, 'max_depth': 4}. Best is trial 70 with value: 0.7950052921128355.\u001b[0m\n",
      "\u001b[32m[I 2021-12-06 12:14:38,529]\u001b[0m Trial 85 finished with value: 0.7886717828671164 and parameters: {'reg_lambda': 0.06457329472319934, 'colsample_bylevel': 0.6, 'subsample': 0.4, 'learning_rate': 1, 'n_estimators': 1200, 'max_depth': 3}. Best is trial 70 with value: 0.7950052921128355.\u001b[0m\n",
      "\u001b[32m[I 2021-12-06 12:14:41,084]\u001b[0m Trial 86 finished with value: 0.787918799235813 and parameters: {'reg_lambda': 3.372125980119358, 'colsample_bylevel': 1.0, 'subsample': 0.5, 'learning_rate': 0.2, 'n_estimators': 1000, 'max_depth': 1}. Best is trial 70 with value: 0.7950052921128355.\u001b[0m\n",
      "\u001b[32m[I 2021-12-06 12:14:56,676]\u001b[0m Trial 87 finished with value: 0.7902465918203687 and parameters: {'reg_lambda': 1.7245931335589562, 'colsample_bylevel': 0.2, 'subsample': 0.6, 'learning_rate': 0.01, 'n_estimators': 800, 'max_depth': 9}. Best is trial 70 with value: 0.7950052921128355.\u001b[0m\n",
      "\u001b[32m[I 2021-12-06 12:15:00,606]\u001b[0m Trial 88 finished with value: 0.7936972999905656 and parameters: {'reg_lambda': 1.2140008249801095, 'colsample_bylevel': 1.0, 'subsample': 0.7, 'learning_rate': 0.2, 'n_estimators': 1400, 'max_depth': 2}. Best is trial 70 with value: 0.7950052921128355.\u001b[0m\n",
      "\u001b[32m[I 2021-12-06 12:15:04,250]\u001b[0m Trial 89 finished with value: 0.791414836784754 and parameters: {'reg_lambda': 1.2163070642204084, 'colsample_bylevel': 1.0, 'subsample': 0.7, 'learning_rate': 0.5, 'n_estimators': 1400, 'max_depth': 2}. Best is trial 70 with value: 0.7950052921128355.\u001b[0m\n",
      "\u001b[32m[I 2021-12-06 12:15:08,556]\u001b[0m Trial 90 finished with value: 0.7919229680645313 and parameters: {'reg_lambda': 0.552896933581614, 'colsample_bylevel': 1.0, 'subsample': 0.7, 'learning_rate': 0.1, 'n_estimators': 1400, 'max_depth': 3}. Best is trial 70 with value: 0.7950052921128355.\u001b[0m\n",
      "\u001b[32m[I 2021-12-06 12:15:12,372]\u001b[0m Trial 91 finished with value: 0.7922710829520261 and parameters: {'reg_lambda': 0.8712738028473355, 'colsample_bylevel': 1.0, 'subsample': 0.7, 'learning_rate': 0.2, 'n_estimators': 1400, 'max_depth': 2}. Best is trial 70 with value: 0.7950052921128355.\u001b[0m\n",
      "\u001b[32m[I 2021-12-06 12:15:13,536]\u001b[0m Trial 92 finished with value: 0.783373920939667 and parameters: {'reg_lambda': 2.6839876603853847, 'colsample_bylevel': 1.0, 'subsample': 0.7, 'learning_rate': 0.2, 'n_estimators': 300, 'max_depth': 1}. Best is trial 70 with value: 0.7950052921128355.\u001b[0m\n",
      "\u001b[32m[I 2021-12-06 12:15:15,036]\u001b[0m Trial 93 finished with value: 0.7929221307608849 and parameters: {'reg_lambda': 4.3596800687283235, 'colsample_bylevel': 1.0, 'subsample': 0.4, 'learning_rate': 0.2, 'n_estimators': 400, 'max_depth': 2}. Best is trial 70 with value: 0.7950052921128355.\u001b[0m\n",
      "\u001b[32m[I 2021-12-06 12:15:18,637]\u001b[0m Trial 94 finished with value: 0.7903721136610218 and parameters: {'reg_lambda': 8.093092481378896, 'colsample_bylevel': 1.0, 'subsample': 1.0, 'learning_rate': 0.2, 'n_estimators': 1100, 'max_depth': 3}. Best is trial 70 with value: 0.7950052921128355.\u001b[0m\n",
      "\u001b[32m[I 2021-12-06 12:15:22,384]\u001b[0m Trial 95 finished with value: 0.7953070457332893 and parameters: {'reg_lambda': 1.5459580298999436, 'colsample_bylevel': 0.3, 'subsample': 0.7, 'learning_rate': 0.2, 'n_estimators': 1400, 'max_depth': 2}. Best is trial 95 with value: 0.7953070457332893.\u001b[0m\n",
      "\u001b[32m[I 2021-12-06 12:15:25,903]\u001b[0m Trial 96 finished with value: 0.7889286493466672 and parameters: {'reg_lambda': 1.507926535730067, 'colsample_bylevel': 0.4, 'subsample': 0.7, 'learning_rate': 0.2, 'n_estimators': 1400, 'max_depth': 1}. Best is trial 95 with value: 0.7953070457332893.\u001b[0m\n",
      "\u001b[32m[I 2021-12-06 12:15:32,046]\u001b[0m Trial 97 finished with value: 0.7770196265154017 and parameters: {'reg_lambda': 0.9919043474732439, 'colsample_bylevel': 0.3, 'subsample': 0.7, 'learning_rate': 0.0001, 'n_estimators': 1400, 'max_depth': 4}. Best is trial 95 with value: 0.7953070457332893.\u001b[0m\n",
      "\u001b[32m[I 2021-12-06 12:15:36,011]\u001b[0m Trial 98 finished with value: 0.7913033191424124 and parameters: {'reg_lambda': 0.6425389105492896, 'colsample_bylevel': 0.3, 'subsample': 0.7, 'learning_rate': 0.2, 'n_estimators': 1400, 'max_depth': 2}. Best is trial 95 with value: 0.7953070457332893.\u001b[0m\n",
      "\u001b[32m[I 2021-12-06 12:15:52,392]\u001b[0m Trial 99 finished with value: 0.7896871609509881 and parameters: {'reg_lambda': 6.368919620764642, 'colsample_bylevel': 0.3, 'subsample': 0.9, 'learning_rate': 0.5, 'n_estimators': 1500, 'max_depth': 3}. Best is trial 95 with value: 0.7953070457332893.\u001b[0m\n",
      "\u001b[32m[I 2021-12-06 12:16:00,585]\u001b[0m Trial 100 finished with value: 0.7907368124675692 and parameters: {'reg_lambda': 0.3865146392235999, 'colsample_bylevel': 0.3, 'subsample': 0.7, 'learning_rate': 0.2, 'n_estimators': 900, 'max_depth': 3}. Best is trial 95 with value: 0.7953070457332893.\u001b[0m\n",
      "\u001b[32m[I 2021-12-06 12:16:02,521]\u001b[0m Trial 101 finished with value: 0.7943592563328459 and parameters: {'reg_lambda': 2.1963475654595777, 'colsample_bylevel': 1.0, 'subsample': 0.6, 'learning_rate': 0.2, 'n_estimators': 500, 'max_depth': 2}. Best is trial 95 with value: 0.7953070457332893.\u001b[0m\n",
      "\u001b[32m[I 2021-12-06 12:16:04,269]\u001b[0m Trial 102 finished with value: 0.7930634994575216 and parameters: {'reg_lambda': 3.1078566847699403, 'colsample_bylevel': 1.0, 'subsample': 0.6, 'learning_rate': 0.2, 'n_estimators': 500, 'max_depth': 2}. Best is trial 95 with value: 0.7953070457332893.\u001b[0m\n",
      "\u001b[32m[I 2021-12-06 12:16:05,962]\u001b[0m Trial 103 finished with value: 0.7866199466955988 and parameters: {'reg_lambda': 2.8909604112073306, 'colsample_bylevel': 1.0, 'subsample': 0.6, 'learning_rate': 0.2, 'n_estimators': 500, 'max_depth': 1}. Best is trial 95 with value: 0.7953070457332893.\u001b[0m\n",
      "\u001b[32m[I 2021-12-06 12:16:07,659]\u001b[0m Trial 104 finished with value: 0.79268700764187 and parameters: {'reg_lambda': 1.7667949338056979, 'colsample_bylevel': 1.0, 'subsample': 0.6, 'learning_rate': 0.2, 'n_estimators': 500, 'max_depth': 2}. Best is trial 95 with value: 0.7953070457332893.\u001b[0m\n",
      "\u001b[32m[I 2021-12-06 12:16:09,495]\u001b[0m Trial 105 finished with value: 0.7726799465776688 and parameters: {'reg_lambda': 1.2759130190603976, 'colsample_bylevel': 1.0, 'subsample': 0.6, 'learning_rate': 0.001, 'n_estimators': 500, 'max_depth': 2}. Best is trial 95 with value: 0.7953070457332893.\u001b[0m\n",
      "\u001b[32m[I 2021-12-06 12:17:18,476]\u001b[0m Trial 106 finished with value: 0.7831408615972453 and parameters: {'reg_lambda': 2.266461509640913, 'colsample_bylevel': 0.8, 'subsample': 0.6, 'learning_rate': 0.2, 'n_estimators': 500, 'max_depth': 13}. Best is trial 95 with value: 0.7953070457332893.\u001b[0m\n",
      "\u001b[32m[I 2021-12-06 12:17:20,440]\u001b[0m Trial 107 finished with value: 0.7860745200245294 and parameters: {'reg_lambda': 3.5671328933824147, 'colsample_bylevel': 0.7, 'subsample': 0.6, 'learning_rate': 0.2, 'n_estimators': 500, 'max_depth': 1}. Best is trial 95 with value: 0.7953070457332893.\u001b[0m\n",
      "\u001b[32m[I 2021-12-06 12:17:27,558]\u001b[0m Trial 108 finished with value: 0.7900718341667059 and parameters: {'reg_lambda': 5.309653728586317, 'colsample_bylevel': 0.5, 'subsample': 0.6, 'learning_rate': 0.2, 'n_estimators': 600, 'max_depth': 3}. Best is trial 95 with value: 0.7953070457332893.\u001b[0m\n",
      "\u001b[32m[I 2021-12-06 12:17:30,748]\u001b[0m Trial 109 finished with value: 0.7857104845747441 and parameters: {'reg_lambda': 3.006625448657625, 'colsample_bylevel': 1.0, 'subsample': 0.2, 'learning_rate': 1, 'n_estimators': 1000, 'max_depth': 2}. Best is trial 95 with value: 0.7953070457332893.\u001b[0m\n",
      "\u001b[32m[I 2021-12-06 12:17:32,619]\u001b[0m Trial 110 finished with value: 0.788119648922119 and parameters: {'reg_lambda': 1.1239405930575161, 'colsample_bylevel': 0.9, 'subsample': 0.5, 'learning_rate': 0.5, 'n_estimators': 500, 'max_depth': 1}. Best is trial 95 with value: 0.7953070457332893.\u001b[0m\n",
      "\u001b[32m[I 2021-12-06 12:17:36,835]\u001b[0m Trial 111 finished with value: 0.7929397465682343 and parameters: {'reg_lambda': 4.361802217443745, 'colsample_bylevel': 1.0, 'subsample': 0.6, 'learning_rate': 0.2, 'n_estimators': 1300, 'max_depth': 2}. Best is trial 95 with value: 0.7953070457332893.\u001b[0m\n"
     ]
    },
    {
     "name": "stderr",
     "output_type": "stream",
     "text": [
      "\u001b[32m[I 2021-12-06 12:17:41,753]\u001b[0m Trial 112 finished with value: 0.7917860217463089 and parameters: {'reg_lambda': 8.427017112317579, 'colsample_bylevel': 1.0, 'subsample': 0.7, 'learning_rate': 0.2, 'n_estimators': 1400, 'max_depth': 3}. Best is trial 95 with value: 0.7953070457332893.\u001b[0m\n",
      "\u001b[32m[I 2021-12-06 12:17:44,890]\u001b[0m Trial 113 finished with value: 0.791278111585452 and parameters: {'reg_lambda': 2.456833787624135, 'colsample_bylevel': 1.0, 'subsample': 0.8, 'learning_rate': 0.2, 'n_estimators': 700, 'max_depth': 4}. Best is trial 95 with value: 0.7953070457332893.\u001b[0m\n",
      "\u001b[32m[I 2021-12-06 12:17:46,763]\u001b[0m Trial 114 finished with value: 0.7937756497948016 and parameters: {'reg_lambda': 5.857782609995247, 'colsample_bylevel': 0.6, 'subsample': 1.0, 'learning_rate': 0.2, 'n_estimators': 400, 'max_depth': 2}. Best is trial 95 with value: 0.7953070457332893.\u001b[0m\n",
      "\u001b[32m[I 2021-12-06 12:17:48,334]\u001b[0m Trial 115 finished with value: 0.7898589703523751 and parameters: {'reg_lambda': 1.5836029924253294, 'colsample_bylevel': 0.6, 'subsample': 0.3, 'learning_rate': 0.2, 'n_estimators': 400, 'max_depth': 2}. Best is trial 95 with value: 0.7953070457332893.\u001b[0m\n",
      "\u001b[32m[I 2021-12-06 12:17:49,913]\u001b[0m Trial 116 finished with value: 0.7851586454549744 and parameters: {'reg_lambda': 3.8022984534212263, 'colsample_bylevel': 0.6, 'subsample': 1.0, 'learning_rate': 0.2, 'n_estimators': 400, 'max_depth': 1}. Best is trial 95 with value: 0.7953070457332893.\u001b[0m\n",
      "\u001b[32m[I 2021-12-06 12:17:51,539]\u001b[0m Trial 117 finished with value: 0.7913941253125149 and parameters: {'reg_lambda': 1.9765888961952076, 'colsample_bylevel': 0.6, 'subsample': 1.0, 'learning_rate': 0.1, 'n_estimators': 400, 'max_depth': 2}. Best is trial 95 with value: 0.7953070457332893.\u001b[0m\n",
      "\u001b[32m[I 2021-12-06 12:17:53,772]\u001b[0m Trial 118 finished with value: 0.7778232463795463 and parameters: {'reg_lambda': 5.537299895871703, 'colsample_bylevel': 0.2, 'subsample': 1.0, 'learning_rate': 0.01, 'n_estimators': 200, 'max_depth': 3}. Best is trial 95 with value: 0.7953070457332893.\u001b[0m\n",
      "\u001b[32m[I 2021-12-06 12:17:56,932]\u001b[0m Trial 119 finished with value: 0.7926258314071418 and parameters: {'reg_lambda': 0.7854816524508804, 'colsample_bylevel': 0.6, 'subsample': 1.0, 'learning_rate': 0.2, 'n_estimators': 1000, 'max_depth': 2}. Best is trial 95 with value: 0.7953070457332893.\u001b[0m\n",
      "\u001b[32m[I 2021-12-06 12:18:01,984]\u001b[0m Trial 120 finished with value: 0.7935103070899571 and parameters: {'reg_lambda': 3.224582940568232, 'colsample_bylevel': 0.3, 'subsample': 0.6, 'learning_rate': 0.5, 'n_estimators': 1500, 'max_depth': 2}. Best is trial 95 with value: 0.7953070457332893.\u001b[0m\n",
      "\u001b[32m[I 2021-12-06 12:18:07,156]\u001b[0m Trial 121 finished with value: 0.790564560828341 and parameters: {'reg_lambda': 2.995424296525336, 'colsample_bylevel': 0.3, 'subsample': 0.6, 'learning_rate': 0.5, 'n_estimators': 1500, 'max_depth': 2}. Best is trial 95 with value: 0.7953070457332893.\u001b[0m\n",
      "\u001b[32m[I 2021-12-06 12:18:10,529]\u001b[0m Trial 122 finished with value: 0.790485473961036 and parameters: {'reg_lambda': 4.6076303499173346, 'colsample_bylevel': 0.3, 'subsample': 0.6, 'learning_rate': 0.5, 'n_estimators': 400, 'max_depth': 3}. Best is trial 95 with value: 0.7953070457332893.\u001b[0m\n",
      "\u001b[32m[I 2021-12-06 12:18:15,746]\u001b[0m Trial 123 finished with value: 0.797061624369074 and parameters: {'reg_lambda': 3.8518164561295754, 'colsample_bylevel': 0.3, 'subsample': 0.6, 'learning_rate': 0.5, 'n_estimators': 1500, 'max_depth': 2}. Best is trial 123 with value: 0.797061624369074.\u001b[0m\n",
      "\u001b[32m[I 2021-12-06 12:18:20,186]\u001b[0m Trial 124 finished with value: 0.7890337545403086 and parameters: {'reg_lambda': 3.9659647622229195, 'colsample_bylevel': 0.3, 'subsample': 0.5, 'learning_rate': 0.5, 'n_estimators': 1500, 'max_depth': 1}. Best is trial 123 with value: 0.797061624369074.\u001b[0m\n",
      "\u001b[32m[I 2021-12-06 12:18:34,852]\u001b[0m Trial 125 finished with value: 0.7905956648898533 and parameters: {'reg_lambda': 2.287772944087654, 'colsample_bylevel': 0.3, 'subsample': 0.6, 'learning_rate': 0.5, 'n_estimators': 1500, 'max_depth': 3}. Best is trial 123 with value: 0.797061624369074.\u001b[0m\n",
      "\u001b[32m[I 2021-12-06 12:18:40,361]\u001b[0m Trial 126 finished with value: 0.7899158716213028 and parameters: {'reg_lambda': 5.766521360917807, 'colsample_bylevel': 0.3, 'subsample': 0.8, 'learning_rate': 0.5, 'n_estimators': 1500, 'max_depth': 2}. Best is trial 123 with value: 0.797061624369074.\u001b[0m\n",
      "\u001b[32m[I 2021-12-06 12:18:55,479]\u001b[0m Trial 127 finished with value: 0.788801284848342 and parameters: {'reg_lambda': 9.931141897970399, 'colsample_bylevel': 0.3, 'subsample': 1.0, 'learning_rate': 0.5, 'n_estimators': 1500, 'max_depth': 3}. Best is trial 123 with value: 0.797061624369074.\u001b[0m\n",
      "\u001b[32m[I 2021-12-06 12:18:57,570]\u001b[0m Trial 128 finished with value: 0.7882253437662154 and parameters: {'reg_lambda': 1.4585051608327428, 'colsample_bylevel': 0.3, 'subsample': 0.6, 'learning_rate': 0.5, 'n_estimators': 600, 'max_depth': 1}. Best is trial 123 with value: 0.797061624369074.\u001b[0m\n",
      "\u001b[32m[I 2021-12-06 12:19:01,825]\u001b[0m Trial 129 finished with value: 0.7934424235813009 and parameters: {'reg_lambda': 6.756600977633887, 'colsample_bylevel': 0.8, 'subsample': 0.9, 'learning_rate': 0.5, 'n_estimators': 1200, 'max_depth': 2}. Best is trial 123 with value: 0.797061624369074.\u001b[0m\n",
      "\u001b[32m[I 2021-12-06 12:19:06,034]\u001b[0m Trial 130 finished with value: 0.7927747918533893 and parameters: {'reg_lambda': 7.201923638288598, 'colsample_bylevel': 0.8, 'subsample': 0.9, 'learning_rate': 0.5, 'n_estimators': 1200, 'max_depth': 2}. Best is trial 123 with value: 0.797061624369074.\u001b[0m\n",
      "\u001b[32m[I 2021-12-06 12:19:10,190]\u001b[0m Trial 131 finished with value: 0.7893213565498374 and parameters: {'reg_lambda': 5.092032114357377, 'colsample_bylevel': 0.8, 'subsample': 0.9, 'learning_rate': 0.5, 'n_estimators': 1200, 'max_depth': 2}. Best is trial 123 with value: 0.797061624369074.\u001b[0m\n",
      "\u001b[32m[I 2021-12-06 12:19:11,674]\u001b[0m Trial 132 finished with value: 0.786885657931978 and parameters: {'reg_lambda': 6.692543744292268, 'colsample_bylevel': 0.4, 'subsample': 0.9, 'learning_rate': 0.5, 'n_estimators': 100, 'max_depth': 3}. Best is trial 123 with value: 0.797061624369074.\u001b[0m\n",
      "\u001b[32m[I 2021-12-06 12:19:15,465]\u001b[0m Trial 133 finished with value: 0.791145366526723 and parameters: {'reg_lambda': 3.738916215620242, 'colsample_bylevel': 0.8, 'subsample': 0.2, 'learning_rate': 0.5, 'n_estimators': 1200, 'max_depth': 2}. Best is trial 123 with value: 0.797061624369074.\u001b[0m\n",
      "\u001b[32m[I 2021-12-06 12:19:32,193]\u001b[0m Trial 134 finished with value: 0.7812927496580027 and parameters: {'reg_lambda': 1.862010805460487, 'colsample_bylevel': 0.8, 'subsample': 0.9, 'learning_rate': 0.0001, 'n_estimators': 1000, 'max_depth': 8}. Best is trial 123 with value: 0.797061624369074.\u001b[0m\n",
      "\u001b[32m[I 2021-12-06 12:19:35,133]\u001b[0m Trial 135 finished with value: 0.7888910591301477 and parameters: {'reg_lambda': 0.19217330109875572, 'colsample_bylevel': 0.3, 'subsample': 0.7, 'learning_rate': 0.5, 'n_estimators': 800, 'max_depth': 1}. Best is trial 123 with value: 0.797061624369074.\u001b[0m\n",
      "\u001b[32m[I 2021-12-06 12:19:40,449]\u001b[0m Trial 136 finished with value: 0.7875764334402566 and parameters: {'reg_lambda': 0.1016051052770672, 'colsample_bylevel': 1.0, 'subsample': 0.5, 'learning_rate': 0.5, 'n_estimators': 1500, 'max_depth': 3}. Best is trial 123 with value: 0.797061624369074.\u001b[0m\n",
      "\u001b[32m[I 2021-12-06 12:19:42,221]\u001b[0m Trial 137 finished with value: 0.7919775844379452 and parameters: {'reg_lambda': 2.773534693073217, 'colsample_bylevel': 0.6, 'subsample': 0.6, 'learning_rate': 0.2, 'n_estimators': 300, 'max_depth': 2}. Best is trial 123 with value: 0.797061624369074.\u001b[0m\n",
      "\u001b[32m[I 2021-12-06 12:19:45,382]\u001b[0m Trial 138 finished with value: 0.7903558982735034 and parameters: {'reg_lambda': 7.969842162475499, 'colsample_bylevel': 1.0, 'subsample': 1.0, 'learning_rate': 1, 'n_estimators': 1000, 'max_depth': 1}. Best is trial 123 with value: 0.797061624369074.\u001b[0m\n",
      "\u001b[32m[I 2021-12-06 12:39:56,203]\u001b[0m Trial 139 finished with value: 0.7844139906363508 and parameters: {'reg_lambda': 4.896156878876035, 'colsample_bylevel': 0.5, 'subsample': 0.8, 'learning_rate': 0.2, 'n_estimators': 1500, 'max_depth': 15}. Best is trial 123 with value: 0.797061624369074.\u001b[0m\n"
     ]
    },
    {
     "name": "stderr",
     "output_type": "stream",
     "text": [
      "\u001b[32m[I 2021-12-06 12:40:02,987]\u001b[0m Trial 140 finished with value: 0.7798765566772018 and parameters: {'reg_lambda': 0.9772113771794659, 'colsample_bylevel': 0.7, 'subsample': 0.7, 'learning_rate': 0.001, 'n_estimators': 900, 'max_depth': 4}. Best is trial 123 with value: 0.797061624369074.\u001b[0m\n",
      "\u001b[32m[I 2021-12-06 12:40:05,395]\u001b[0m Trial 141 finished with value: 0.7940627358601821 and parameters: {'reg_lambda': 3.1927485139893776, 'colsample_bylevel': 1.0, 'subsample': 0.6, 'learning_rate': 0.2, 'n_estimators': 500, 'max_depth': 2}. Best is trial 123 with value: 0.797061624369074.\u001b[0m\n",
      "\u001b[32m[I 2021-12-06 12:40:10,086]\u001b[0m Trial 142 finished with value: 0.7927882064012453 and parameters: {'reg_lambda': 3.488011451209645, 'colsample_bylevel': 1.0, 'subsample': 0.6, 'learning_rate': 0.2, 'n_estimators': 1200, 'max_depth': 2}. Best is trial 123 with value: 0.797061624369074.\u001b[0m\n",
      "\u001b[32m[I 2021-12-06 12:40:12,213]\u001b[0m Trial 143 finished with value: 0.792923604887023 and parameters: {'reg_lambda': 6.010405188597156, 'colsample_bylevel': 1.0, 'subsample': 0.6, 'learning_rate': 0.2, 'n_estimators': 400, 'max_depth': 2}. Best is trial 123 with value: 0.797061624369074.\u001b[0m\n",
      "\u001b[32m[I 2021-12-06 12:40:17,900]\u001b[0m Trial 144 finished with value: 0.7908776652200575 and parameters: {'reg_lambda': 2.1010010184756904, 'colsample_bylevel': 1.0, 'subsample': 0.6, 'learning_rate': 0.2, 'n_estimators': 1400, 'max_depth': 3}. Best is trial 123 with value: 0.797061624369074.\u001b[0m\n",
      "\u001b[32m[I 2021-12-06 12:40:20,499]\u001b[0m Trial 145 finished with value: 0.791790370418416 and parameters: {'reg_lambda': 2.6567138630615905, 'colsample_bylevel': 1.0, 'subsample': 0.3, 'learning_rate': 0.2, 'n_estimators': 600, 'max_depth': 2}. Best is trial 123 with value: 0.797061624369074.\u001b[0m\n",
      "\u001b[32m[I 2021-12-06 12:40:24,845]\u001b[0m Trial 146 finished with value: 0.7867426676965894 and parameters: {'reg_lambda': 4.255277975688889, 'colsample_bylevel': 1.0, 'subsample': 0.6, 'learning_rate': 0.01, 'n_estimators': 1000, 'max_depth': 3}. Best is trial 123 with value: 0.797061624369074.\u001b[0m\n",
      "\u001b[32m[I 2021-12-06 12:40:27,111]\u001b[0m Trial 147 finished with value: 0.78623387306005 and parameters: {'reg_lambda': 1.352166201485958, 'colsample_bylevel': 0.9, 'subsample': 0.7, 'learning_rate': 0.2, 'n_estimators': 500, 'max_depth': 1}. Best is trial 123 with value: 0.797061624369074.\u001b[0m\n",
      "\u001b[32m[I 2021-12-06 12:40:31,866]\u001b[0m Trial 148 finished with value: 0.794742086890891 and parameters: {'reg_lambda': 1.7033067893341631, 'colsample_bylevel': 0.3, 'subsample': 0.4, 'learning_rate': 0.5, 'n_estimators': 1300, 'max_depth': 2}. Best is trial 123 with value: 0.797061624369074.\u001b[0m\n",
      "\u001b[32m[I 2021-12-06 12:40:34,987]\u001b[0m Trial 149 finished with value: 0.7879797543516203 and parameters: {'reg_lambda': 1.6694005709625142, 'colsample_bylevel': 0.3, 'subsample': 0.4, 'learning_rate': 0.5, 'n_estimators': 700, 'max_depth': 2}. Best is trial 123 with value: 0.797061624369074.\u001b[0m\n",
      "\u001b[32m[I 2021-12-06 12:40:39,498]\u001b[0m Trial 150 finished with value: 0.7888909117175337 and parameters: {'reg_lambda': 2.450978441836588, 'colsample_bylevel': 0.3, 'subsample': 0.4, 'learning_rate': 0.5, 'n_estimators': 1300, 'max_depth': 1}. Best is trial 123 with value: 0.797061624369074.\u001b[0m\n",
      "\u001b[32m[I 2021-12-06 12:40:44,462]\u001b[0m Trial 151 finished with value: 0.7902914789612718 and parameters: {'reg_lambda': 2.0071436559183216, 'colsample_bylevel': 0.3, 'subsample': 0.4, 'learning_rate': 0.5, 'n_estimators': 1300, 'max_depth': 2}. Best is trial 123 with value: 0.797061624369074.\u001b[0m\n",
      "\u001b[32m[I 2021-12-06 12:40:49,825]\u001b[0m Trial 152 finished with value: 0.7890667012594934 and parameters: {'reg_lambda': 3.2240352884534507, 'colsample_bylevel': 0.3, 'subsample': 0.4, 'learning_rate': 0.5, 'n_estimators': 1400, 'max_depth': 2}. Best is trial 123 with value: 0.797061624369074.\u001b[0m\n",
      "\u001b[32m[I 2021-12-06 12:40:56,094]\u001b[0m Trial 153 finished with value: 0.7926714556111137 and parameters: {'reg_lambda': 1.288551215169485, 'colsample_bylevel': 1.0, 'subsample': 0.6, 'learning_rate': 0.1, 'n_estimators': 1500, 'max_depth': 3}. Best is trial 123 with value: 0.797061624369074.\u001b[0m\n",
      "\u001b[32m[I 2021-12-06 12:41:01,437]\u001b[0m Trial 154 finished with value: 0.7927186276475306 and parameters: {'reg_lambda': 4.879818251922639, 'colsample_bylevel': 1.0, 'subsample': 0.9, 'learning_rate': 0.2, 'n_estimators': 1300, 'max_depth': 2}. Best is trial 123 with value: 0.797061624369074.\u001b[0m\n",
      "\u001b[32m[I 2021-12-06 12:41:04,723]\u001b[0m Trial 155 finished with value: 0.7878937390914665 and parameters: {'reg_lambda': 0.12882875066708754, 'colsample_bylevel': 0.2, 'subsample': 1.0, 'learning_rate': 0.5, 'n_estimators': 1000, 'max_depth': 1}. Best is trial 123 with value: 0.797061624369074.\u001b[0m\n",
      "\u001b[32m[I 2021-12-06 12:41:07,910]\u001b[0m Trial 156 finished with value: 0.7897718494976178 and parameters: {'reg_lambda': 6.509921384646296, 'colsample_bylevel': 0.8, 'subsample': 0.7, 'learning_rate': 0.2, 'n_estimators': 200, 'max_depth': 3}. Best is trial 123 with value: 0.797061624369074.\u001b[0m\n",
      "\u001b[32m[I 2021-12-06 12:41:09,755]\u001b[0m Trial 157 finished with value: 0.7897144322845417 and parameters: {'reg_lambda': 0.008546323134442795, 'colsample_bylevel': 1.0, 'subsample': 0.5, 'learning_rate': 0.2, 'n_estimators': 400, 'max_depth': 2}. Best is trial 123 with value: 0.797061624369074.\u001b[0m\n",
      "\u001b[32m[I 2021-12-06 12:41:10,818]\u001b[0m Trial 158 finished with value: 0.7881673369026841 and parameters: {'reg_lambda': 3.6545735890654094, 'colsample_bylevel': 0.3, 'subsample': 0.6, 'learning_rate': 0.5, 'n_estimators': 100, 'max_depth': 2}. Best is trial 123 with value: 0.797061624369074.\u001b[0m\n",
      "\u001b[32m[I 2021-12-06 12:41:13,270]\u001b[0m Trial 159 finished with value: 0.7759972463323741 and parameters: {'reg_lambda': 2.2835558570175802, 'colsample_bylevel': 1.0, 'subsample': 0.8, 'learning_rate': 0.0001, 'n_estimators': 500, 'max_depth': 3}. Best is trial 123 with value: 0.797061624369074.\u001b[0m\n",
      "\u001b[32m[I 2021-12-06 12:41:18,265]\u001b[0m Trial 160 finished with value: 0.7884209603047313 and parameters: {'reg_lambda': 1.7351557304566, 'colsample_bylevel': 0.6, 'subsample': 0.4, 'learning_rate': 0.2, 'n_estimators': 1400, 'max_depth': 1}. Best is trial 123 with value: 0.797061624369074.\u001b[0m\n",
      "\u001b[32m[I 2021-12-06 12:41:20,620]\u001b[0m Trial 161 finished with value: 0.7930045344120007 and parameters: {'reg_lambda': 3.0589802685090177, 'colsample_bylevel': 1.0, 'subsample': 0.6, 'learning_rate': 0.2, 'n_estimators': 500, 'max_depth': 2}. Best is trial 123 with value: 0.797061624369074.\u001b[0m\n",
      "\u001b[32m[I 2021-12-06 12:41:23,124]\u001b[0m Trial 162 finished with value: 0.7932909571206189 and parameters: {'reg_lambda': 1.1078284385432846, 'colsample_bylevel': 1.0, 'subsample': 0.6, 'learning_rate': 0.2, 'n_estimators': 500, 'max_depth': 2}. Best is trial 123 with value: 0.797061624369074.\u001b[0m\n",
      "\u001b[32m[I 2021-12-06 12:41:25,515]\u001b[0m Trial 163 finished with value: 0.7935027153403462 and parameters: {'reg_lambda': 1.1778059867454405, 'colsample_bylevel': 1.0, 'subsample': 0.6, 'learning_rate': 0.2, 'n_estimators': 500, 'max_depth': 2}. Best is trial 123 with value: 0.797061624369074.\u001b[0m\n",
      "\u001b[32m[I 2021-12-06 12:41:28,009]\u001b[0m Trial 164 finished with value: 0.7937385018161234 and parameters: {'reg_lambda': 0.6447590955795598, 'colsample_bylevel': 1.0, 'subsample': 0.6, 'learning_rate': 0.2, 'n_estimators': 500, 'max_depth': 2}. Best is trial 123 with value: 0.797061624369074.\u001b[0m\n",
      "\u001b[32m[I 2021-12-06 12:41:30,276]\u001b[0m Trial 165 finished with value: 0.7931858519269777 and parameters: {'reg_lambda': 0.6334026450098691, 'colsample_bylevel': 1.0, 'subsample': 0.6, 'learning_rate': 0.2, 'n_estimators': 500, 'max_depth': 2}. Best is trial 123 with value: 0.797061624369074.\u001b[0m\n",
      "\u001b[32m[I 2021-12-06 12:41:32,597]\u001b[0m Trial 166 finished with value: 0.78571439100901 and parameters: {'reg_lambda': 1.1096953498307502, 'colsample_bylevel': 1.0, 'subsample': 0.6, 'learning_rate': 0.2, 'n_estimators': 500, 'max_depth': 1}. Best is trial 123 with value: 0.797061624369074.\u001b[0m\n",
      "\u001b[32m[I 2021-12-06 12:41:35,073]\u001b[0m Trial 167 finished with value: 0.7920781198405584 and parameters: {'reg_lambda': 1.0042273692555996, 'colsample_bylevel': 1.0, 'subsample': 0.6, 'learning_rate': 0.2, 'n_estimators': 500, 'max_depth': 2}. Best is trial 123 with value: 0.797061624369074.\u001b[0m\n"
     ]
    },
    {
     "name": "stderr",
     "output_type": "stream",
     "text": [
      "\u001b[32m[I 2021-12-06 12:41:37,527]\u001b[0m Trial 168 finished with value: 0.7940413610311807 and parameters: {'reg_lambda': 0.8362684469240093, 'colsample_bylevel': 0.3, 'subsample': 0.6, 'learning_rate': 0.5, 'n_estimators': 500, 'max_depth': 2}. Best is trial 123 with value: 0.797061624369074.\u001b[0m\n",
      "\u001b[32m[I 2021-12-06 12:41:43,080]\u001b[0m Trial 169 finished with value: 0.7780790072644936 and parameters: {'reg_lambda': 0.8337249095414799, 'colsample_bylevel': 0.3, 'subsample': 0.6, 'learning_rate': 0.5, 'n_estimators': 500, 'max_depth': 7}. Best is trial 123 with value: 0.797061624369074.\u001b[0m\n",
      "\u001b[32m[I 2021-12-06 12:41:45,348]\u001b[0m Trial 170 finished with value: 0.7887423935091278 and parameters: {'reg_lambda': 0.5438648063235877, 'colsample_bylevel': 0.3, 'subsample': 0.6, 'learning_rate': 0.5, 'n_estimators': 500, 'max_depth': 2}. Best is trial 123 with value: 0.797061624369074.\u001b[0m\n",
      "\u001b[32m[I 2021-12-06 12:41:47,961]\u001b[0m Trial 171 finished with value: 0.7862239227086183 and parameters: {'reg_lambda': 0.7141402318138792, 'colsample_bylevel': 0.3, 'subsample': 0.6, 'learning_rate': 0.5, 'n_estimators': 500, 'max_depth': 2}. Best is trial 123 with value: 0.797061624369074.\u001b[0m\n",
      "\u001b[32m[I 2021-12-06 12:41:50,357]\u001b[0m Trial 172 finished with value: 0.7937190433511014 and parameters: {'reg_lambda': 0.4795639191538918, 'colsample_bylevel': 0.3, 'subsample': 0.6, 'learning_rate': 0.5, 'n_estimators': 500, 'max_depth': 2}. Best is trial 123 with value: 0.797061624369074.\u001b[0m\n",
      "\u001b[32m[I 2021-12-06 12:41:52,952]\u001b[0m Trial 173 finished with value: 0.7876248584838907 and parameters: {'reg_lambda': 0.5011839764057097, 'colsample_bylevel': 0.3, 'subsample': 0.6, 'learning_rate': 0.5, 'n_estimators': 500, 'max_depth': 2}. Best is trial 123 with value: 0.797061624369074.\u001b[0m\n",
      "\u001b[32m[I 2021-12-06 12:41:55,057]\u001b[0m Trial 174 finished with value: 0.7879454809189113 and parameters: {'reg_lambda': 0.2993371202019083, 'colsample_bylevel': 0.3, 'subsample': 0.6, 'learning_rate': 0.5, 'n_estimators': 500, 'max_depth': 1}. Best is trial 123 with value: 0.797061624369074.\u001b[0m\n",
      "\u001b[32m[I 2021-12-06 12:41:57,272]\u001b[0m Trial 175 finished with value: 0.7893603471861881 and parameters: {'reg_lambda': 0.8761665095057445, 'colsample_bylevel': 0.3, 'subsample': 0.6, 'learning_rate': 0.5, 'n_estimators': 500, 'max_depth': 2}. Best is trial 123 with value: 0.797061624369074.\u001b[0m\n",
      "\u001b[32m[I 2021-12-06 12:42:03,717]\u001b[0m Trial 176 finished with value: 0.7885823034105381 and parameters: {'reg_lambda': 0.3881471250553784, 'colsample_bylevel': 0.3, 'subsample': 0.6, 'learning_rate': 0.5, 'n_estimators': 500, 'max_depth': 3}. Best is trial 123 with value: 0.797061624369074.\u001b[0m\n",
      "\u001b[32m[I 2021-12-06 12:42:05,910]\u001b[0m Trial 177 finished with value: 0.7882428121609509 and parameters: {'reg_lambda': 0.43588813592326836, 'colsample_bylevel': 0.3, 'subsample': 0.6, 'learning_rate': 0.5, 'n_estimators': 500, 'max_depth': 1}. Best is trial 123 with value: 0.797061624369074.\u001b[0m\n",
      "\u001b[32m[I 2021-12-06 12:42:08,492]\u001b[0m Trial 178 finished with value: 0.7730220912543044 and parameters: {'reg_lambda': 1.1871431515232145, 'colsample_bylevel': 0.4, 'subsample': 0.6, 'learning_rate': 0.001, 'n_estimators': 500, 'max_depth': 2}. Best is trial 123 with value: 0.797061624369074.\u001b[0m\n",
      "\u001b[32m[I 2021-12-06 12:42:13,894]\u001b[0m Trial 179 finished with value: 0.7866870931411858 and parameters: {'reg_lambda': 0.6647594774087281, 'colsample_bylevel': 0.3, 'subsample': 0.6, 'learning_rate': 0.5, 'n_estimators': 1500, 'max_depth': 2}. Best is trial 123 with value: 0.797061624369074.\u001b[0m\n",
      "\u001b[32m[I 2021-12-06 12:42:31,396]\u001b[0m Trial 180 finished with value: 0.7856812231709043 and parameters: {'reg_lambda': 1.41060930966192, 'colsample_bylevel': 0.8, 'subsample': 0.6, 'learning_rate': 1, 'n_estimators': 1300, 'max_depth': 3}. Best is trial 123 with value: 0.797061624369074.\u001b[0m\n",
      "\u001b[32m[I 2021-12-06 12:42:34,026]\u001b[0m Trial 181 finished with value: 0.7928394322845418 and parameters: {'reg_lambda': 1.108120105499644, 'colsample_bylevel': 1.0, 'subsample': 0.6, 'learning_rate': 0.2, 'n_estimators': 600, 'max_depth': 2}. Best is trial 123 with value: 0.797061624369074.\u001b[0m\n",
      "\u001b[32m[I 2021-12-06 12:43:24,419]\u001b[0m Trial 182 finished with value: 0.7801252417566866 and parameters: {'reg_lambda': 0.618332795429593, 'colsample_bylevel': 1.0, 'subsample': 0.6, 'learning_rate': 0.2, 'n_estimators': 1200, 'max_depth': 11}. Best is trial 123 with value: 0.797061624369074.\u001b[0m\n",
      "\u001b[32m[I 2021-12-06 12:43:26,754]\u001b[0m Trial 183 finished with value: 0.7897279205387046 and parameters: {'reg_lambda': 1.4113253499166079, 'colsample_bylevel': 1.0, 'subsample': 0.2, 'learning_rate': 0.2, 'n_estimators': 500, 'max_depth': 2}. Best is trial 123 with value: 0.797061624369074.\u001b[0m\n",
      "\u001b[32m[I 2021-12-06 12:43:32,764]\u001b[0m Trial 184 finished with value: 0.790260669724987 and parameters: {'reg_lambda': 0.9631202707140679, 'colsample_bylevel': 0.7, 'subsample': 0.6, 'learning_rate': 0.5, 'n_estimators': 1400, 'max_depth': 1}. Best is trial 123 with value: 0.797061624369074.\u001b[0m\n",
      "\u001b[32m[I 2021-12-06 12:43:36,145]\u001b[0m Trial 185 finished with value: 0.7915437491155244 and parameters: {'reg_lambda': 0.8428138895378172, 'colsample_bylevel': 0.5, 'subsample': 0.5, 'learning_rate': 0.2, 'n_estimators': 800, 'max_depth': 2}. Best is trial 123 with value: 0.797061624369074.\u001b[0m\n",
      "\u001b[32m[I 2021-12-06 12:43:38,030]\u001b[0m Trial 186 finished with value: 0.7900342439501864 and parameters: {'reg_lambda': 1.8741016115679758, 'colsample_bylevel': 1.0, 'subsample': 0.9, 'learning_rate': 0.5, 'n_estimators': 300, 'max_depth': 2}. Best is trial 123 with value: 0.797061624369074.\u001b[0m\n",
      "\u001b[32m[I 2021-12-06 12:43:58,583]\u001b[0m Trial 187 finished with value: 0.7927296835935658 and parameters: {'reg_lambda': 1.24027216555108, 'colsample_bylevel': 0.6, 'subsample': 0.6, 'learning_rate': 0.2, 'n_estimators': 1500, 'max_depth': 3}. Best is trial 123 with value: 0.797061624369074.\u001b[0m\n",
      "\u001b[32m[I 2021-12-06 12:44:00,986]\u001b[0m Trial 188 finished with value: 0.7817220888957027 and parameters: {'reg_lambda': 0.45155344517908547, 'colsample_bylevel': 0.9, 'subsample': 0.4, 'learning_rate': 0.01, 'n_estimators': 500, 'max_depth': 2}. Best is trial 123 with value: 0.797061624369074.\u001b[0m\n",
      "\u001b[32m[I 2021-12-06 12:44:04,927]\u001b[0m Trial 189 finished with value: 0.7885077126279542 and parameters: {'reg_lambda': 0.025498204195124753, 'colsample_bylevel': 1.0, 'subsample': 0.8, 'learning_rate': 0.1, 'n_estimators': 900, 'max_depth': 3}. Best is trial 123 with value: 0.797061624369074.\u001b[0m\n",
      "\u001b[32m[I 2021-12-06 12:44:07,310]\u001b[0m Trial 190 finished with value: 0.7856481290391056 and parameters: {'reg_lambda': 0.06665066148707105, 'colsample_bylevel': 0.3, 'subsample': 0.6, 'learning_rate': 0.2, 'n_estimators': 500, 'max_depth': 1}. Best is trial 123 with value: 0.797061624369074.\u001b[0m\n",
      "\u001b[32m[I 2021-12-06 12:44:09,738]\u001b[0m Trial 191 finished with value: 0.792029178852776 and parameters: {'reg_lambda': 0.5919871732091534, 'colsample_bylevel': 1.0, 'subsample': 0.6, 'learning_rate': 0.2, 'n_estimators': 500, 'max_depth': 2}. Best is trial 123 with value: 0.797061624369074.\u001b[0m\n",
      "\u001b[32m[I 2021-12-06 12:44:12,252]\u001b[0m Trial 192 finished with value: 0.7938339514835606 and parameters: {'reg_lambda': 0.7575343473262345, 'colsample_bylevel': 1.0, 'subsample': 0.6, 'learning_rate': 0.2, 'n_estimators': 500, 'max_depth': 2}. Best is trial 123 with value: 0.797061624369074.\u001b[0m\n",
      "\u001b[32m[I 2021-12-06 12:44:14,615]\u001b[0m Trial 193 finished with value: 0.7934938705835181 and parameters: {'reg_lambda': 1.5626888819163305, 'colsample_bylevel': 1.0, 'subsample': 0.6, 'learning_rate': 0.2, 'n_estimators': 500, 'max_depth': 2}. Best is trial 123 with value: 0.797061624369074.\u001b[0m\n",
      "\u001b[32m[I 2021-12-06 12:44:17,161]\u001b[0m Trial 194 finished with value: 0.7938996975093164 and parameters: {'reg_lambda': 1.5872808677094556, 'colsample_bylevel': 1.0, 'subsample': 0.6, 'learning_rate': 0.2, 'n_estimators': 500, 'max_depth': 2}. Best is trial 123 with value: 0.797061624369074.\u001b[0m\n",
      "\u001b[32m[I 2021-12-06 12:44:19,523]\u001b[0m Trial 195 finished with value: 0.7925902312609086 and parameters: {'reg_lambda': 1.632571757308124, 'colsample_bylevel': 1.0, 'subsample': 0.6, 'learning_rate': 0.2, 'n_estimators': 500, 'max_depth': 2}. Best is trial 123 with value: 0.797061624369074.\u001b[0m\n"
     ]
    },
    {
     "name": "stderr",
     "output_type": "stream",
     "text": [
      "\u001b[32m[I 2021-12-06 12:44:21,638]\u001b[0m Trial 196 finished with value: 0.788548103684136 and parameters: {'reg_lambda': 1.5618518889629922, 'colsample_bylevel': 1.0, 'subsample': 0.6, 'learning_rate': 0.5, 'n_estimators': 500, 'max_depth': 1}. Best is trial 123 with value: 0.797061624369074.\u001b[0m\n",
      "\u001b[32m[I 2021-12-06 12:44:24,268]\u001b[0m Trial 197 finished with value: 0.7897439885136092 and parameters: {'reg_lambda': 0.7494899406820782, 'colsample_bylevel': 0.2, 'subsample': 0.6, 'learning_rate': 0.2, 'n_estimators': 500, 'max_depth': 2}. Best is trial 123 with value: 0.797061624369074.\u001b[0m\n",
      "\u001b[32m[I 2021-12-06 12:44:29,795]\u001b[0m Trial 198 finished with value: 0.7934638721166092 and parameters: {'reg_lambda': 2.22097482050904, 'colsample_bylevel': 1.0, 'subsample': 0.3, 'learning_rate': 0.2, 'n_estimators': 1400, 'max_depth': 3}. Best is trial 123 with value: 0.797061624369074.\u001b[0m\n",
      "\u001b[32m[I 2021-12-06 12:44:35,339]\u001b[0m Trial 199 finished with value: 0.7912016781451956 and parameters: {'reg_lambda': 2.5404764674851044, 'colsample_bylevel': 1.0, 'subsample': 0.3, 'learning_rate': 0.2, 'n_estimators': 1400, 'max_depth': 3}. Best is trial 123 with value: 0.797061624369074.\u001b[0m\n"
     ]
    },
    {
     "name": "stdout",
     "output_type": "stream",
     "text": [
      "Number of finished trials: 200\n",
      "Best trial: {'reg_lambda': 3.8518164561295754, 'colsample_bylevel': 0.3, 'subsample': 0.6, 'learning_rate': 0.5, 'n_estimators': 1500, 'max_depth': 2}\n"
     ]
    }
   ],
   "source": [
    "cbc_params = study_model(objective_cbc)"
   ]
  },
  {
   "cell_type": "code",
   "execution_count": 147,
   "metadata": {},
   "outputs": [
    {
     "data": {
      "text/plain": [
       "{'reg_lambda': 3.8518164561295754,\n",
       " 'colsample_bylevel': 0.3,\n",
       " 'subsample': 0.6,\n",
       " 'learning_rate': 0.5,\n",
       " 'n_estimators': 1500,\n",
       " 'max_depth': 2}"
      ]
     },
     "execution_count": 147,
     "metadata": {},
     "output_type": "execute_result"
    }
   ],
   "source": [
    "cbc_params"
   ]
  },
  {
   "cell_type": "markdown",
   "metadata": {},
   "source": [
    "## Round 2 of model training \n",
    "\n",
    "Let us use the trained parameters for our models!"
   ]
  },
  {
   "cell_type": "code",
   "execution_count": 148,
   "metadata": {},
   "outputs": [],
   "source": [
    "logreg = LogisticRegression(**logreg_params)"
   ]
  },
  {
   "cell_type": "code",
   "execution_count": 149,
   "metadata": {},
   "outputs": [],
   "source": [
    "rfc = RandomForestClassifier(**rfc_params)"
   ]
  },
  {
   "cell_type": "code",
   "execution_count": 18,
   "metadata": {},
   "outputs": [],
   "source": [
    "xgb = XGBClassifier(**xgb_params) "
   ]
  },
  {
   "cell_type": "code",
   "execution_count": 151,
   "metadata": {},
   "outputs": [],
   "source": [
    "cbc = CatBoostClassifier(**cbc_params, logging_level = 'Silent')"
   ]
  },
  {
   "cell_type": "code",
   "execution_count": 152,
   "metadata": {},
   "outputs": [],
   "source": [
    "data_full_train, data_test = train_test_split(data, random_state = 40, test_size = 0.2, shuffle = True, stratify = data['target'])\n",
    "data_train, data_val = train_test_split(data_full_train, random_state = 40, test_size = 0.25, shuffle = True, stratify = data_full_train['target'])"
   ]
  },
  {
   "cell_type": "code",
   "execution_count": 153,
   "metadata": {},
   "outputs": [],
   "source": [
    "data_train = data_train.reset_index(drop = True)\n",
    "data_val = data_val.reset_index(drop = True)\n",
    "\n",
    "y_train = data_train['target']\n",
    "y_val = data_val['target']\n",
    "\n",
    "del data_train['target']\n",
    "del data_val['target']"
   ]
  },
  {
   "cell_type": "code",
   "execution_count": 154,
   "metadata": {},
   "outputs": [],
   "source": [
    "def train(data_train, y_train, model):\n",
    "    dicts = data_train.to_dict(orient = 'records')\n",
    "    \n",
    "    dv = DictVectorizer(sparse = False)\n",
    "    X_train = dv.fit_transform(dicts)\n",
    "    \n",
    "    model.fit(X_train, y_train)\n",
    "    return dv, model"
   ]
  },
  {
   "cell_type": "code",
   "execution_count": 155,
   "metadata": {},
   "outputs": [],
   "source": [
    "def predict(data_val, y_val, model):\n",
    "    dicts = data_val.to_dict(orient = 'records')\n",
    "    \n",
    "    X_val = dv.transform(dicts)\n",
    "    \n",
    "    y_pred = model.predict_proba(X_val)[:,1]\n",
    "    return y_pred"
   ]
  },
  {
   "cell_type": "code",
   "execution_count": 156,
   "metadata": {},
   "outputs": [],
   "source": [
    "import warnings\n",
    "warnings.filterwarnings('ignore')"
   ]
  },
  {
   "cell_type": "code",
   "execution_count": 26,
   "metadata": {},
   "outputs": [],
   "source": [
    "from sklearn.metrics import roc_auc_score"
   ]
  },
  {
   "cell_type": "code",
   "execution_count": 158,
   "metadata": {
    "scrolled": true
   },
   "outputs": [
    {
     "name": "stdout",
     "output_type": "stream",
     "text": [
      "For model Logistic Regression, the ROC AUC score is: 0.782961166\n",
      "For model Random Forest Classifier, the ROC AUC score is: 0.794939472\n",
      "For model XGB Classifier, the ROC AUC score is: 0.797784020\n",
      "For model CatBoost Classifier, the ROC AUC score is: 0.779635169\n"
     ]
    }
   ],
   "source": [
    "models = [logreg, rfc, xgb, cbc]\n",
    "count = 0\n",
    "names = ['Logistic Regression', 'Random Forest Classifier', 'XGB Classifier', 'CatBoost Classifier']\n",
    "\n",
    "for model in models: \n",
    "    dv, model_trained = train(data_train, y_train, model)\n",
    "    y_pred = predict(data_val, dv, model_trained)\n",
    "    score = roc_auc_score(y_val, y_pred)\n",
    "    print('For model %s, the ROC AUC score is: %.9f' % (names[count], score))\n",
    "    count += 1"
   ]
  },
  {
   "cell_type": "markdown",
   "metadata": {},
   "source": [
    "Interestingly, the CatBoost Classifier doesn't do as well with the hyperparameter tuning. \n",
    "\n",
    "Since the XGB Classifier has the best results, therefore we will be using XGB instead! "
   ]
  },
  {
   "cell_type": "code",
   "execution_count": 159,
   "metadata": {},
   "outputs": [],
   "source": [
    "dv, model_trained = train(data_train, y_train, xgb)\n",
    "y_pred = predict(data_val, dv, model_trained)"
   ]
  },
  {
   "cell_type": "code",
   "execution_count": 160,
   "metadata": {},
   "outputs": [],
   "source": [
    "thresholds = np.linspace(0,1,101)\n",
    "\n",
    "scores = []\n",
    "\n",
    "for t in thresholds:\n",
    "    actual_positive = (y_val == 1)\n",
    "    actual_negative = (y_val == 0)\n",
    "\n",
    "    pred_positive = (y_pred >= t)\n",
    "    pred_negative = (y_pred < t)\n",
    "\n",
    "    tp = (actual_positive & pred_positive).sum()\n",
    "    tn = (actual_negative & pred_negative).sum()\n",
    "    fp = (pred_positive & actual_negative).sum()\n",
    "    fn = (pred_negative & actual_positive).sum()\n",
    "\n",
    "    scores.append((t, tp, fp, fn, tn))\n",
    "    \n",
    "columns = ['threshold', 'tp', 'fp', 'fn', 'tn']\n",
    "scores_data = pd.DataFrame(scores, columns = columns)"
   ]
  },
  {
   "cell_type": "code",
   "execution_count": 161,
   "metadata": {
    "scrolled": true
   },
   "outputs": [],
   "source": [
    "scores_data['tpr'] = scores_data.tp / (scores_data.tp + scores_data.fn)\n",
    "scores_data['fpr'] = scores_data.fp / (scores_data.fp + scores_data.tn)"
   ]
  },
  {
   "cell_type": "code",
   "execution_count": 162,
   "metadata": {
    "scrolled": true
   },
   "outputs": [
    {
     "data": {
      "text/plain": [
       "<matplotlib.legend.Legend at 0x1d956924e50>"
      ]
     },
     "execution_count": 162,
     "metadata": {},
     "output_type": "execute_result"
    },
    {
     "data": {
      "image/png": "[encoded data removed]",
      "text/plain": [
       "<Figure size 432x288 with 1 Axes>"
      ]
     },
     "metadata": {
      "needs_background": "light"
     },
     "output_type": "display_data"
    }
   ],
   "source": [
    "plt.plot(scores_data.threshold, scores_data.tpr, label = 'tpr')\n",
    "plt.plot(scores_data.threshold, scores_data.fpr, label = 'fpr')\n",
    "plt.legend()"
   ]
  },
  {
   "cell_type": "markdown",
   "metadata": {},
   "source": [
    "## Precision vs Recall - which to choose?\n",
    "\n",
    "If you recall (pun intended) these two terms, Precision refers to the fraction of positive predictions that are correct while recall refers to the fraction of correctly identified positive predictions. \n",
    "\n",
    "While it would be great to optimise both, that is often not the case and we will have to decide on which metric is better.\n",
    "In this case, let us think in terms of what the bank seeks to optimise. \n",
    "\n",
    "Ultimately, the bank seeks to maximize its profit, and the cost of someone not opening a term deposit is more than the cost of sending an email out to a customer. Therefore, we seek to optimize the number of false positives, and therefore we should be going with precision instead of recall. "
   ]
  },
  {
   "cell_type": "code",
   "execution_count": 163,
   "metadata": {},
   "outputs": [],
   "source": [
    "scores_data['precision'] = scores_data.tp / (scores_data.tp + scores_data.fp)\n",
    "scores_data['recall'] = scores_data.tp / (scores_data.tp + scores_data.fn)"
   ]
  },
  {
   "cell_type": "code",
   "execution_count": 164,
   "metadata": {},
   "outputs": [
    {
     "data": {
      "text/plain": [
       "<matplotlib.legend.Legend at 0x1d956935820>"
      ]
     },
     "execution_count": 164,
     "metadata": {},
     "output_type": "execute_result"
    },
    {
     "data": {
      "image/png": "[encoded data removed]",
      "text/plain": [
       "<Figure size 432x288 with 1 Axes>"
      ]
     },
     "metadata": {
      "needs_background": "light"
     },
     "output_type": "display_data"
    }
   ],
   "source": [
    "plt.plot(scores_data.threshold, scores_data.precision, label = 'precision')\n",
    "plt.plot(scores_data.threshold, scores_data.recall, label = 'recall')\n",
    "plt.legend()"
   ]
  },
  {
   "cell_type": "markdown",
   "metadata": {},
   "source": [
    "Weirdly enough, at around 0.9, the precision sharply drops before it becomes goes up again and disappears after that. Let us explore why!"
   ]
  },
  {
   "cell_type": "code",
   "execution_count": 165,
   "metadata": {
    "scrolled": true
   },
   "outputs": [
    {
     "data": {
      "text/html": [
       "<div>\n",
       "<style scoped>\n",
       "    .dataframe tbody tr th:only-of-type {\n",
       "        vertical-align: middle;\n",
       "    }\n",
       "\n",
       "    .dataframe tbody tr th {\n",
       "        vertical-align: top;\n",
       "    }\n",
       "\n",
       "    .dataframe thead th {\n",
       "        text-align: right;\n",
       "    }\n",
       "</style>\n",
       "<table border=\"1\" class=\"dataframe\">\n",
       "  <thead>\n",
       "    <tr style=\"text-align: right;\">\n",
       "      <th></th>\n",
       "      <th>threshold</th>\n",
       "      <th>tp</th>\n",
       "      <th>fp</th>\n",
       "      <th>fn</th>\n",
       "      <th>tn</th>\n",
       "      <th>tpr</th>\n",
       "      <th>fpr</th>\n",
       "      <th>precision</th>\n",
       "      <th>recall</th>\n",
       "    </tr>\n",
       "  </thead>\n",
       "  <tbody>\n",
       "    <tr>\n",
       "      <th>90</th>\n",
       "      <td>0.90</td>\n",
       "      <td>2</td>\n",
       "      <td>0</td>\n",
       "      <td>926</td>\n",
       "      <td>7310</td>\n",
       "      <td>0.002155</td>\n",
       "      <td>0.0</td>\n",
       "      <td>1.0</td>\n",
       "      <td>0.002155</td>\n",
       "    </tr>\n",
       "    <tr>\n",
       "      <th>91</th>\n",
       "      <td>0.91</td>\n",
       "      <td>1</td>\n",
       "      <td>0</td>\n",
       "      <td>927</td>\n",
       "      <td>7310</td>\n",
       "      <td>0.001078</td>\n",
       "      <td>0.0</td>\n",
       "      <td>1.0</td>\n",
       "      <td>0.001078</td>\n",
       "    </tr>\n",
       "    <tr>\n",
       "      <th>92</th>\n",
       "      <td>0.92</td>\n",
       "      <td>1</td>\n",
       "      <td>0</td>\n",
       "      <td>927</td>\n",
       "      <td>7310</td>\n",
       "      <td>0.001078</td>\n",
       "      <td>0.0</td>\n",
       "      <td>1.0</td>\n",
       "      <td>0.001078</td>\n",
       "    </tr>\n",
       "    <tr>\n",
       "      <th>93</th>\n",
       "      <td>0.93</td>\n",
       "      <td>0</td>\n",
       "      <td>0</td>\n",
       "      <td>928</td>\n",
       "      <td>7310</td>\n",
       "      <td>0.000000</td>\n",
       "      <td>0.0</td>\n",
       "      <td>NaN</td>\n",
       "      <td>0.000000</td>\n",
       "    </tr>\n",
       "    <tr>\n",
       "      <th>94</th>\n",
       "      <td>0.94</td>\n",
       "      <td>0</td>\n",
       "      <td>0</td>\n",
       "      <td>928</td>\n",
       "      <td>7310</td>\n",
       "      <td>0.000000</td>\n",
       "      <td>0.0</td>\n",
       "      <td>NaN</td>\n",
       "      <td>0.000000</td>\n",
       "    </tr>\n",
       "    <tr>\n",
       "      <th>95</th>\n",
       "      <td>0.95</td>\n",
       "      <td>0</td>\n",
       "      <td>0</td>\n",
       "      <td>928</td>\n",
       "      <td>7310</td>\n",
       "      <td>0.000000</td>\n",
       "      <td>0.0</td>\n",
       "      <td>NaN</td>\n",
       "      <td>0.000000</td>\n",
       "    </tr>\n",
       "    <tr>\n",
       "      <th>96</th>\n",
       "      <td>0.96</td>\n",
       "      <td>0</td>\n",
       "      <td>0</td>\n",
       "      <td>928</td>\n",
       "      <td>7310</td>\n",
       "      <td>0.000000</td>\n",
       "      <td>0.0</td>\n",
       "      <td>NaN</td>\n",
       "      <td>0.000000</td>\n",
       "    </tr>\n",
       "    <tr>\n",
       "      <th>97</th>\n",
       "      <td>0.97</td>\n",
       "      <td>0</td>\n",
       "      <td>0</td>\n",
       "      <td>928</td>\n",
       "      <td>7310</td>\n",
       "      <td>0.000000</td>\n",
       "      <td>0.0</td>\n",
       "      <td>NaN</td>\n",
       "      <td>0.000000</td>\n",
       "    </tr>\n",
       "    <tr>\n",
       "      <th>98</th>\n",
       "      <td>0.98</td>\n",
       "      <td>0</td>\n",
       "      <td>0</td>\n",
       "      <td>928</td>\n",
       "      <td>7310</td>\n",
       "      <td>0.000000</td>\n",
       "      <td>0.0</td>\n",
       "      <td>NaN</td>\n",
       "      <td>0.000000</td>\n",
       "    </tr>\n",
       "    <tr>\n",
       "      <th>99</th>\n",
       "      <td>0.99</td>\n",
       "      <td>0</td>\n",
       "      <td>0</td>\n",
       "      <td>928</td>\n",
       "      <td>7310</td>\n",
       "      <td>0.000000</td>\n",
       "      <td>0.0</td>\n",
       "      <td>NaN</td>\n",
       "      <td>0.000000</td>\n",
       "    </tr>\n",
       "    <tr>\n",
       "      <th>100</th>\n",
       "      <td>1.00</td>\n",
       "      <td>0</td>\n",
       "      <td>0</td>\n",
       "      <td>928</td>\n",
       "      <td>7310</td>\n",
       "      <td>0.000000</td>\n",
       "      <td>0.0</td>\n",
       "      <td>NaN</td>\n",
       "      <td>0.000000</td>\n",
       "    </tr>\n",
       "  </tbody>\n",
       "</table>\n",
       "</div>"
      ],
      "text/plain": [
       "     threshold  tp  fp   fn    tn       tpr  fpr  precision    recall\n",
       "90        0.90   2   0  926  7310  0.002155  0.0        1.0  0.002155\n",
       "91        0.91   1   0  927  7310  0.001078  0.0        1.0  0.001078\n",
       "92        0.92   1   0  927  7310  0.001078  0.0        1.0  0.001078\n",
       "93        0.93   0   0  928  7310  0.000000  0.0        NaN  0.000000\n",
       "94        0.94   0   0  928  7310  0.000000  0.0        NaN  0.000000\n",
       "95        0.95   0   0  928  7310  0.000000  0.0        NaN  0.000000\n",
       "96        0.96   0   0  928  7310  0.000000  0.0        NaN  0.000000\n",
       "97        0.97   0   0  928  7310  0.000000  0.0        NaN  0.000000\n",
       "98        0.98   0   0  928  7310  0.000000  0.0        NaN  0.000000\n",
       "99        0.99   0   0  928  7310  0.000000  0.0        NaN  0.000000\n",
       "100       1.00   0   0  928  7310  0.000000  0.0        NaN  0.000000"
      ]
     },
     "execution_count": 165,
     "metadata": {},
     "output_type": "execute_result"
    }
   ],
   "source": [
    "scores_data[90:]"
   ]
  },
  {
   "cell_type": "markdown",
   "metadata": {},
   "source": [
    "At 0.9, there is only 1 true positive. From there, the true and false positive becomes 0, and therefore the denominator of 'precision' becomes 0. Therefore, these values are undefined and therefore the above phenomena occurs! "
   ]
  },
  {
   "cell_type": "code",
   "execution_count": 166,
   "metadata": {},
   "outputs": [],
   "source": [
    "# diff = difference between precision and recall\n",
    "# however we will be using the absolute value of the differences so that we find the smallest difference between both\n",
    "scores_data['diff'] = abs(scores_data['precision'] - scores_data['recall'])"
   ]
  },
  {
   "cell_type": "code",
   "execution_count": 167,
   "metadata": {
    "scrolled": true
   },
   "outputs": [
    {
     "data": {
      "text/html": [
       "<div>\n",
       "<style scoped>\n",
       "    .dataframe tbody tr th:only-of-type {\n",
       "        vertical-align: middle;\n",
       "    }\n",
       "\n",
       "    .dataframe tbody tr th {\n",
       "        vertical-align: top;\n",
       "    }\n",
       "\n",
       "    .dataframe thead th {\n",
       "        text-align: right;\n",
       "    }\n",
       "</style>\n",
       "<table border=\"1\" class=\"dataframe\">\n",
       "  <thead>\n",
       "    <tr style=\"text-align: right;\">\n",
       "      <th></th>\n",
       "      <th>threshold</th>\n",
       "      <th>tp</th>\n",
       "      <th>fp</th>\n",
       "      <th>fn</th>\n",
       "      <th>tn</th>\n",
       "      <th>tpr</th>\n",
       "      <th>fpr</th>\n",
       "      <th>precision</th>\n",
       "      <th>recall</th>\n",
       "      <th>diff</th>\n",
       "    </tr>\n",
       "  </thead>\n",
       "  <tbody>\n",
       "    <tr>\n",
       "      <th>29</th>\n",
       "      <td>0.29</td>\n",
       "      <td>465</td>\n",
       "      <td>456</td>\n",
       "      <td>463</td>\n",
       "      <td>6854</td>\n",
       "      <td>0.501078</td>\n",
       "      <td>0.06238</td>\n",
       "      <td>0.504886</td>\n",
       "      <td>0.501078</td>\n",
       "      <td>0.003808</td>\n",
       "    </tr>\n",
       "  </tbody>\n",
       "</table>\n",
       "</div>"
      ],
      "text/plain": [
       "    threshold   tp   fp   fn    tn       tpr      fpr  precision    recall  \\\n",
       "29       0.29  465  456  463  6854  0.501078  0.06238   0.504886  0.501078   \n",
       "\n",
       "        diff  \n",
       "29  0.003808  "
      ]
     },
     "execution_count": 167,
     "metadata": {},
     "output_type": "execute_result"
    }
   ],
   "source": [
    "diff_min = scores_data['diff'].min()\n",
    "scores_data[scores_data['diff'] == diff_min]"
   ]
  },
  {
   "cell_type": "markdown",
   "metadata": {},
   "source": [
    "We can tell that 0.29 is the threshold we're looking at since it balances precision and recall the best! "
   ]
  },
  {
   "cell_type": "markdown",
   "metadata": {},
   "source": [
    "## Models against test set "
   ]
  },
  {
   "cell_type": "code",
   "execution_count": 28,
   "metadata": {},
   "outputs": [],
   "source": [
    "data_full_train, data_test = train_test_split(data, random_state = 40, test_size = 0.2, shuffle = True, stratify = data['target'])\n",
    "\n",
    "data_full_train = data_train.reset_index(drop = True)\n",
    "data_test = data_val.reset_index(drop = True)\n",
    "\n",
    "y_full_train = data_full_train['target']\n",
    "y_test = data_test['target']\n",
    "\n",
    "del data_full_train['target']\n",
    "del data_test['target']\n"
   ]
  },
  {
   "cell_type": "code",
   "execution_count": 38,
   "metadata": {},
   "outputs": [],
   "source": [
    "import warnings\n",
    "warnings.filterwarnings(\"ignore\")"
   ]
  },
  {
   "cell_type": "code",
   "execution_count": 53,
   "metadata": {},
   "outputs": [],
   "source": [
    "xgb_params = {\n",
    "    'lambda': 8.49395838886118,\n",
    "    'alpha': 0.0064863432673352575,\n",
    "    'colsample_bytree': 0.4,\n",
    "    'subsample': 0.9,\n",
    "    'learning_rate': 0.1,\n",
    "    'n_estimators': 1300,\n",
    "    'max_depth': 10,\n",
    "    'min_child_weight': 180}"
   ]
  },
  {
   "cell_type": "code",
   "execution_count": 54,
   "metadata": {},
   "outputs": [],
   "source": [
    "def train(data_full_train, y_full_train, model):\n",
    "    dicts = data_full_train.to_dict(orient = 'records')\n",
    "    \n",
    "    dv = DictVectorizer(sparse = False)\n",
    "    X_full_train = dv.fit_transform(dicts)\n",
    "    \n",
    "    model.fit(X_full_train, y_full_train)\n",
    "    return dv, model"
   ]
  },
  {
   "cell_type": "code",
   "execution_count": 55,
   "metadata": {},
   "outputs": [],
   "source": [
    "def predict(data_test, y_test, model):\n",
    "    dicts = data_test.to_dict(orient = 'records')\n",
    "    \n",
    "    X_test = dv.transform(dicts)\n",
    "    \n",
    "    y_pred = model.predict_proba(X_test)[:,1]\n",
    "    return y_pred"
   ]
  },
  {
   "cell_type": "code",
   "execution_count": 56,
   "metadata": {
    "scrolled": false
   },
   "outputs": [
    {
     "name": "stdout",
     "output_type": "stream",
     "text": [
      "[13:20:31] WARNING: C:/Users/Administrator/workspace/xgboost-win64_release_1.4.0/src/learner.cc:1095: Starting in XGBoost 1.3.0, the default evaluation metric used with the objective 'binary:logistic' was changed from 'error' to 'logloss'. Explicitly set eval_metric if you'd like to restore the old behavior.\n",
      "For the model: the ROC AUC score is: 0.797784020\n"
     ]
    }
   ],
   "source": [
    "threshold = 0.29\n",
    "dv, model = train(data_full_train, y_full_train, xgb)\n",
    "y_pred = predict(data_test, dv, model)\n",
    "score = roc_auc_score(y_test, y_pred) \n",
    "print(\"For the model: the ROC AUC score is: %.9f\" % score)"
   ]
  },
  {
   "cell_type": "code",
   "execution_count": 61,
   "metadata": {},
   "outputs": [],
   "source": [
    "import pickle\n",
    "\n",
    "output_file = 'xgbclassifier.bin' "
   ]
  },
  {
   "cell_type": "code",
   "execution_count": 62,
   "metadata": {},
   "outputs": [
    {
     "name": "stdout",
     "output_type": "stream",
     "text": [
      "The model is saved to xgbclassifier.bin\n"
     ]
    }
   ],
   "source": [
    "with open(output_file, 'wb') as f_out:\n",
    "    pickle.dump((dv, xgb), f_out)\n",
    "\n",
    "print(f'The model is saved to {output_file}')"
   ]
  }
 ],
 "metadata": {
  "kernelspec": {
   "display_name": "Python 3",
   "language": "python",
   "name": "python3"
  },
  "language_info": {
   "codemirror_mode": {
    "name": "ipython",
    "version": 3
   },
   "file_extension": ".py",
   "mimetype": "text/x-python",
   "name": "python",
   "nbconvert_exporter": "python",
   "pygments_lexer": "ipython3",
   "version": "3.7.6"
  }
 },
 "nbformat": 4,
 "nbformat_minor": 5
}
